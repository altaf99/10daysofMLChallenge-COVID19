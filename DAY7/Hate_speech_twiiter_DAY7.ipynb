{
  "nbformat": 4,
  "nbformat_minor": 0,
  "metadata": {
    "colab": {
      "name": "Hate-speech-twiiter-DAY7.ipynb",
      "provenance": [],
      "collapsed_sections": []
    },
    "kernelspec": {
      "name": "python3",
      "display_name": "Python 3"
    },
    "accelerator": "GPU"
  },
  "cells": [
    {
      "cell_type": "markdown",
      "metadata": {
        "id": "UJyjaF_4IJ3-",
        "colab_type": "text"
      },
      "source": [
        "Topic: Natural Language Processing \n",
        "\n",
        "Concepts: \n",
        "1. Introduction to NLP: https://towardsdatascience.com/gentle-start-to-natural-language-processing-using-python-6e46c07addf3\n",
        "2. NLTK 3.5b1 documentation: https://www.nltk.org/\n",
        "3. NLP Tutorial by Sentdex- https://www.youtube.com/watch?v=FLZvOKSCkxY\n",
        "\n",
        "Task:\n",
        "For Beginners: Movie Review Sentiment Analysis\n",
        "Dataset: https://www.kaggle.com/lakshmi25npathi/sentiment-analysis-of-imdb-movie-reviews\n",
        "\n",
        "Resources\n",
        "Simple Sentiment Analysis : https://dzone.com/articles/simple-sentiment-analysis-with-nlp\n",
        "Sentiment Analysis of Movie Reviews: https://towardsdatascience.com/sentiment-analysis-a-how-to-guide-with-movie-reviews-9ae335e6bcb2\n",
        "\n",
        "\n",
        "\n",
        "Task: NLP Advanced-Twitter Sentiment Analysis\n",
        "Detect hate/racist speech in tweets\n",
        "Plotting WorldCloud for hate words\n",
        "Plot the graph for hate/racist tweets and non-racist/hate tweets\n",
        "Using extracting features from cleaned tweets- Bag-of-Words/TF-IDF\n",
        "     \n",
        "How can you proceed: \n",
        "Clean the Data \n",
        "Remove Twitter Handles @ from the data\n",
        "Remove Punctuations, Numbers, and Special Characters\n",
        "Remove Short Words\n",
        "Perform tokenization and stemming\n",
        "Understand common words  by plotting WorldcCloud\n",
        "\n",
        "\n",
        "Dataset: https://www.kaggle.com/arkhoshghalb/twitter-sentiment-analysis-hatred-speech#train.csv\n",
        "\n",
        "\n",
        "Resources: \n",
        "https://monkeylearn.com/blog/sentiment-analysis-of-twitter/\n",
        "Generating WordCloud: https://www.geeksforgeeks.org/generating-word-cloud-python/\n",
        "Twitter Sentiment Analysis tutorial: https://pythonprogramming.net/twitter-sentiment-analysis-nltk-tutorial/\n",
        "Bag of words model: https://www.geeksforgeeks.org/bag-of-words-bow-model-in-nlp/?ref=rp\n",
        "Tokenizing words and sentences- https://pythonprogramming.net/tokenizing-words-sentences-nltk-tutorial/\n",
        "Introduction to Stemming- https://www.geeksforgeeks.org/introduction-to-stemming/"
      ]
    },
    {
      "cell_type": "code",
      "metadata": {
        "id": "GS4gVaCtwyEP",
        "colab_type": "code",
        "outputId": "ef6a99d8-29e5-492e-f46b-4b2ba44cb6d8",
        "colab": {
          "base_uri": "https://localhost:8080/",
          "height": 34
        }
      },
      "source": [
        "# !pip install kaggle\n",
        "!mkdir .kaggle"
      ],
      "execution_count": 0,
      "outputs": [
        {
          "output_type": "stream",
          "text": [
            "mkdir: cannot create directory ‘.kaggle’: File exists\n"
          ],
          "name": "stdout"
        }
      ]
    },
    {
      "cell_type": "code",
      "metadata": {
        "id": "U7RqISxOwyma",
        "colab_type": "code",
        "colab": {}
      },
      "source": [
        "import json\n",
        "token = {\"username\":\"altafshaikh\",\"key\":\"e4a7d1a5b1ac792fe0a1d2f4ad2017ef\"}\n",
        "with open('.kaggle/kaggle.json', 'w') as file:\n",
        "    json.dump(token, file)"
      ],
      "execution_count": 0,
      "outputs": []
    },
    {
      "cell_type": "code",
      "metadata": {
        "id": "CdpCBj0iw4L8",
        "colab_type": "code",
        "colab": {}
      },
      "source": [
        "!cp .kaggle/kaggle.json ~/.kaggle/"
      ],
      "execution_count": 0,
      "outputs": []
    },
    {
      "cell_type": "code",
      "metadata": {
        "id": "rJTJ4ZU0xJ8j",
        "colab_type": "code",
        "outputId": "0435f97e-60be-4721-914d-afedada7d6e1",
        "colab": {
          "base_uri": "https://localhost:8080/",
          "height": 51
        }
      },
      "source": [
        "!kaggle config set -n path -v{/content}"
      ],
      "execution_count": 0,
      "outputs": [
        {
          "output_type": "stream",
          "text": [
            "Warning: Your Kaggle API key is readable by other users on this system! To fix this, you can run 'chmod 600 /root/.kaggle/kaggle.json'\n",
            "- path is now set to: {/content}\n"
          ],
          "name": "stdout"
        }
      ]
    },
    {
      "cell_type": "code",
      "metadata": {
        "id": "NbxpbholxMQ-",
        "colab_type": "code",
        "colab": {}
      },
      "source": [
        "!chmod 600 /root/.kaggle/kaggle.json"
      ],
      "execution_count": 0,
      "outputs": []
    },
    {
      "cell_type": "code",
      "metadata": {
        "id": "OoEHi14TxORO",
        "colab_type": "code",
        "outputId": "dd215327-237b-4b2d-9c71-5cde72f850e8",
        "colab": {
          "base_uri": "https://localhost:8080/",
          "height": 68
        }
      },
      "source": [
        "!kaggle datasets download -d arkhoshghalb/twitter-sentiment-analysis-hatred-speech"
      ],
      "execution_count": 0,
      "outputs": [
        {
          "output_type": "stream",
          "text": [
            "Downloading twitter-sentiment-analysis-hatred-speech.zip to {/content}/datasets/arkhoshghalb/twitter-sentiment-analysis-hatred-speech\n",
            "\r  0% 0.00/1.89M [00:00<?, ?B/s]\n",
            "\r100% 1.89M/1.89M [00:00<00:00, 63.4MB/s]\n"
          ],
          "name": "stdout"
        }
      ]
    },
    {
      "cell_type": "code",
      "metadata": {
        "id": "Bnz7dlzKxROo",
        "colab_type": "code",
        "outputId": "7cd59293-063c-4822-abc4-fa4347e47fbf",
        "colab": {
          "base_uri": "https://localhost:8080/",
          "height": 34
        }
      },
      "source": [
        "!ls {/content}/datasets/arkhoshghalb/twitter-sentiment-analysis-hatred-speech"
      ],
      "execution_count": 0,
      "outputs": [
        {
          "output_type": "stream",
          "text": [
            "twitter-sentiment-analysis-hatred-speech.zip\n"
          ],
          "name": "stdout"
        }
      ]
    },
    {
      "cell_type": "code",
      "metadata": {
        "id": "YFFdDdyFxcLk",
        "colab_type": "code",
        "outputId": "4155aac5-f451-493a-8f09-6fde05095572",
        "colab": {
          "base_uri": "https://localhost:8080/",
          "height": 68
        }
      },
      "source": [
        "!unzip {/content}/datasets/arkhoshghalb/twitter-sentiment-analysis-hatred-speech/twitter-sentiment-analysis-hatred-speech.zip"
      ],
      "execution_count": 0,
      "outputs": [
        {
          "output_type": "stream",
          "text": [
            "Archive:  {/content}/datasets/arkhoshghalb/twitter-sentiment-analysis-hatred-speech/twitter-sentiment-analysis-hatred-speech.zip\n",
            "  inflating: test.csv                \n",
            "  inflating: train.csv               \n"
          ],
          "name": "stdout"
        }
      ]
    },
    {
      "cell_type": "code",
      "metadata": {
        "id": "wzlHQeGMxiMM",
        "colab_type": "code",
        "outputId": "21d7fb22-2213-4b00-b455-340f30945191",
        "colab": {
          "base_uri": "https://localhost:8080/",
          "height": 34
        }
      },
      "source": [
        "!ls"
      ],
      "execution_count": 0,
      "outputs": [
        {
          "output_type": "stream",
          "text": [
            "'{'   sample_data   test.csv   train.csv\n"
          ],
          "name": "stdout"
        }
      ]
    },
    {
      "cell_type": "code",
      "metadata": {
        "id": "GqJX0aTxAmGB",
        "colab_type": "code",
        "colab": {}
      },
      "source": [
        "import pandas as pd"
      ],
      "execution_count": 0,
      "outputs": []
    },
    {
      "cell_type": "code",
      "metadata": {
        "id": "jTekxmgixmHZ",
        "colab_type": "code",
        "colab": {}
      },
      "source": [
        "# train and test dataframe\n",
        "df = pd.read_csv(\"train.csv\")\n",
        "test_df = pd.read_csv('test.csv')"
      ],
      "execution_count": 0,
      "outputs": []
    },
    {
      "cell_type": "code",
      "metadata": {
        "id": "9frHTQpIxw4j",
        "colab_type": "code",
        "outputId": "e69a83c7-35ac-4ccb-e9b5-6c05dcc0f10b",
        "colab": {
          "base_uri": "https://localhost:8080/",
          "height": 204
        }
      },
      "source": [
        "df.head()\n"
      ],
      "execution_count": 0,
      "outputs": [
        {
          "output_type": "execute_result",
          "data": {
            "text/html": [
              "<div>\n",
              "<style scoped>\n",
              "    .dataframe tbody tr th:only-of-type {\n",
              "        vertical-align: middle;\n",
              "    }\n",
              "\n",
              "    .dataframe tbody tr th {\n",
              "        vertical-align: top;\n",
              "    }\n",
              "\n",
              "    .dataframe thead th {\n",
              "        text-align: right;\n",
              "    }\n",
              "</style>\n",
              "<table border=\"1\" class=\"dataframe\">\n",
              "  <thead>\n",
              "    <tr style=\"text-align: right;\">\n",
              "      <th></th>\n",
              "      <th>id</th>\n",
              "      <th>label</th>\n",
              "      <th>tweet</th>\n",
              "    </tr>\n",
              "  </thead>\n",
              "  <tbody>\n",
              "    <tr>\n",
              "      <th>0</th>\n",
              "      <td>1</td>\n",
              "      <td>0</td>\n",
              "      <td>@user when a father is dysfunctional and is s...</td>\n",
              "    </tr>\n",
              "    <tr>\n",
              "      <th>1</th>\n",
              "      <td>2</td>\n",
              "      <td>0</td>\n",
              "      <td>@user @user thanks for #lyft credit i can't us...</td>\n",
              "    </tr>\n",
              "    <tr>\n",
              "      <th>2</th>\n",
              "      <td>3</td>\n",
              "      <td>0</td>\n",
              "      <td>bihday your majesty</td>\n",
              "    </tr>\n",
              "    <tr>\n",
              "      <th>3</th>\n",
              "      <td>4</td>\n",
              "      <td>0</td>\n",
              "      <td>#model   i love u take with u all the time in ...</td>\n",
              "    </tr>\n",
              "    <tr>\n",
              "      <th>4</th>\n",
              "      <td>5</td>\n",
              "      <td>0</td>\n",
              "      <td>factsguide: society now    #motivation</td>\n",
              "    </tr>\n",
              "  </tbody>\n",
              "</table>\n",
              "</div>"
            ],
            "text/plain": [
              "   id  label                                              tweet\n",
              "0   1      0   @user when a father is dysfunctional and is s...\n",
              "1   2      0  @user @user thanks for #lyft credit i can't us...\n",
              "2   3      0                                bihday your majesty\n",
              "3   4      0  #model   i love u take with u all the time in ...\n",
              "4   5      0             factsguide: society now    #motivation"
            ]
          },
          "metadata": {
            "tags": []
          },
          "execution_count": 20
        }
      ]
    },
    {
      "cell_type": "code",
      "metadata": {
        "id": "d3T6msC72pOo",
        "colab_type": "code",
        "outputId": "dec75747-7126-4b7e-a43e-0f4a62ea022d",
        "colab": {
          "base_uri": "https://localhost:8080/",
          "height": 122
        }
      },
      "source": [
        "!pip install unidecode"
      ],
      "execution_count": 0,
      "outputs": [
        {
          "output_type": "stream",
          "text": [
            "Collecting unidecode\n",
            "\u001b[?25l  Downloading https://files.pythonhosted.org/packages/d0/42/d9edfed04228bacea2d824904cae367ee9efd05e6cce7ceaaedd0b0ad964/Unidecode-1.1.1-py2.py3-none-any.whl (238kB)\n",
            "\r\u001b[K     |█▍                              | 10kB 23.3MB/s eta 0:00:01\r\u001b[K     |██▊                             | 20kB 28.3MB/s eta 0:00:01\r\u001b[K     |████▏                           | 30kB 30.7MB/s eta 0:00:01\r\u001b[K     |█████▌                          | 40kB 33.3MB/s eta 0:00:01\r\u001b[K     |██████▉                         | 51kB 35.1MB/s eta 0:00:01\r\u001b[K     |████████▎                       | 61kB 36.9MB/s eta 0:00:01\r\u001b[K     |█████████▋                      | 71kB 37.3MB/s eta 0:00:01\r\u001b[K     |███████████                     | 81kB 38.4MB/s eta 0:00:01\r\u001b[K     |████████████▍                   | 92kB 39.8MB/s eta 0:00:01\r\u001b[K     |█████████████▊                  | 102kB 41.2MB/s eta 0:00:01\r\u001b[K     |███████████████▏                | 112kB 41.2MB/s eta 0:00:01\r\u001b[K     |████████████████▌               | 122kB 41.2MB/s eta 0:00:01\r\u001b[K     |█████████████████▉              | 133kB 41.2MB/s eta 0:00:01\r\u001b[K     |███████████████████▎            | 143kB 41.2MB/s eta 0:00:01\r\u001b[K     |████████████████████▋           | 153kB 41.2MB/s eta 0:00:01\r\u001b[K     |██████████████████████          | 163kB 41.2MB/s eta 0:00:01\r\u001b[K     |███████████████████████▍        | 174kB 41.2MB/s eta 0:00:01\r\u001b[K     |████████████████████████▊       | 184kB 41.2MB/s eta 0:00:01\r\u001b[K     |██████████████████████████▏     | 194kB 41.2MB/s eta 0:00:01\r\u001b[K     |███████████████████████████▌    | 204kB 41.2MB/s eta 0:00:01\r\u001b[K     |████████████████████████████▉   | 215kB 41.2MB/s eta 0:00:01\r\u001b[K     |██████████████████████████████▎ | 225kB 41.2MB/s eta 0:00:01\r\u001b[K     |███████████████████████████████▋| 235kB 41.2MB/s eta 0:00:01\r\u001b[K     |████████████████████████████████| 245kB 41.2MB/s \n",
            "\u001b[?25hInstalling collected packages: unidecode\n",
            "Successfully installed unidecode-1.1.1\n"
          ],
          "name": "stdout"
        }
      ]
    },
    {
      "cell_type": "code",
      "metadata": {
        "id": "_3FTCg9oxzEO",
        "colab_type": "code",
        "colab": {}
      },
      "source": [
        "import pandas_profiling\n",
        "import nltk\n",
        "import numpy as np\n",
        "\n",
        "import re\n",
        "import matplotlib.pyplot as plt \n",
        "import seaborn as sb\n",
        "from nltk.corpus import stopwords\n",
        "import warnings \n",
        "warnings.filterwarnings(\"ignore\")\n",
        "import unidecode"
      ],
      "execution_count": 0,
      "outputs": []
    },
    {
      "cell_type": "code",
      "metadata": {
        "id": "Y3wnbDeRzAIw",
        "colab_type": "code",
        "outputId": "5413cf9a-b12c-455e-c860-a72c6092c617",
        "colab": {
          "base_uri": "https://localhost:8080/",
          "height": 1000
        }
      },
      "source": [
        "pandas_profiling.ProfileReport(df)\n"
      ],
      "execution_count": 0,
      "outputs": [
        {
          "output_type": "execute_result",
          "data": {
            "text/html": [
              "<meta charset=\"UTF-8\">\n",
              "\n",
              "<style>\n",
              "\n",
              "        .variablerow {\n",
              "            border: 1px solid #e1e1e8;\n",
              "            border-top: hidden;\n",
              "            padding-top: 2em;\n",
              "            padding-bottom: 2em;\n",
              "            padding-left: 1em;\n",
              "            padding-right: 1em;\n",
              "        }\n",
              "\n",
              "        .headerrow {\n",
              "            border: 1px solid #e1e1e8;\n",
              "            background-color: #f5f5f5;\n",
              "            padding: 2em;\n",
              "        }\n",
              "        .namecol {\n",
              "            margin-top: -1em;\n",
              "            overflow-x: auto;\n",
              "        }\n",
              "\n",
              "        .dl-horizontal dt {\n",
              "            text-align: left;\n",
              "            padding-right: 1em;\n",
              "            white-space: normal;\n",
              "        }\n",
              "\n",
              "        .dl-horizontal dd {\n",
              "            margin-left: 0;\n",
              "        }\n",
              "\n",
              "        .ignore {\n",
              "            opacity: 0.4;\n",
              "        }\n",
              "\n",
              "        .container.pandas-profiling {\n",
              "            max-width:975px;\n",
              "        }\n",
              "\n",
              "        .col-md-12 {\n",
              "            padding-left: 2em;\n",
              "        }\n",
              "\n",
              "        .indent {\n",
              "            margin-left: 1em;\n",
              "        }\n",
              "\n",
              "        .center-img {\n",
              "            margin-left: auto !important;\n",
              "            margin-right: auto !important;\n",
              "            display: block;\n",
              "        }\n",
              "\n",
              "        /* Table example_values */\n",
              "            table.example_values {\n",
              "                border: 0;\n",
              "            }\n",
              "\n",
              "            .example_values th {\n",
              "                border: 0;\n",
              "                padding: 0 ;\n",
              "                color: #555;\n",
              "                font-weight: 600;\n",
              "            }\n",
              "\n",
              "            .example_values tr, .example_values td{\n",
              "                border: 0;\n",
              "                padding: 0;\n",
              "                color: #555;\n",
              "            }\n",
              "\n",
              "        /* STATS */\n",
              "            table.stats {\n",
              "                border: 0;\n",
              "            }\n",
              "\n",
              "            .stats th {\n",
              "                border: 0;\n",
              "                padding: 0 2em 0 0;\n",
              "                color: #555;\n",
              "                font-weight: 600;\n",
              "            }\n",
              "\n",
              "            .stats tr {\n",
              "                border: 0;\n",
              "            }\n",
              "\n",
              "            .stats td{\n",
              "                color: #555;\n",
              "                padding: 1px;\n",
              "                border: 0;\n",
              "            }\n",
              "\n",
              "\n",
              "        /* Sample table */\n",
              "            table.sample {\n",
              "                border: 0;\n",
              "                margin-bottom: 2em;\n",
              "                margin-left:1em;\n",
              "            }\n",
              "            .sample tr {\n",
              "                border:0;\n",
              "            }\n",
              "            .sample td, .sample th{\n",
              "                padding: 0.5em;\n",
              "                white-space: nowrap;\n",
              "                border: none;\n",
              "\n",
              "            }\n",
              "\n",
              "            .sample thead {\n",
              "                border-top: 0;\n",
              "                border-bottom: 2px solid #ddd;\n",
              "            }\n",
              "\n",
              "            .sample td {\n",
              "                width:100%;\n",
              "            }\n",
              "\n",
              "\n",
              "        /* There is no good solution available to make the divs equal height and then center ... */\n",
              "            .histogram {\n",
              "                margin-top: 3em;\n",
              "            }\n",
              "        /* Freq table */\n",
              "\n",
              "            table.freq {\n",
              "                margin-bottom: 2em;\n",
              "                border: 0;\n",
              "            }\n",
              "            table.freq th, table.freq tr, table.freq td {\n",
              "                border: 0;\n",
              "                padding: 0;\n",
              "            }\n",
              "\n",
              "            .freq thead {\n",
              "                font-weight: 600;\n",
              "                white-space: nowrap;\n",
              "                overflow: hidden;\n",
              "                text-overflow: ellipsis;\n",
              "\n",
              "            }\n",
              "\n",
              "            td.fillremaining{\n",
              "                width:auto;\n",
              "                max-width: none;\n",
              "            }\n",
              "\n",
              "            td.number, th.number {\n",
              "                text-align:right ;\n",
              "            }\n",
              "\n",
              "        /* Freq mini */\n",
              "            .freq.mini td{\n",
              "                width: 50%;\n",
              "                padding: 1px;\n",
              "                font-size: 12px;\n",
              "\n",
              "            }\n",
              "            table.freq.mini {\n",
              "                 width:100%;\n",
              "            }\n",
              "            .freq.mini th {\n",
              "                overflow: hidden;\n",
              "                text-overflow: ellipsis;\n",
              "                white-space: nowrap;\n",
              "                max-width: 5em;\n",
              "                font-weight: 400;\n",
              "                text-align:right;\n",
              "                padding-right: 0.5em;\n",
              "            }\n",
              "\n",
              "            .missing {\n",
              "                color: #a94442;\n",
              "            }\n",
              "            .alert, .alert > th, .alert > td {\n",
              "                color: #a94442;\n",
              "            }\n",
              "\n",
              "\n",
              "        /* Bars in tables */\n",
              "            .freq .bar{\n",
              "                float: left;\n",
              "                width: 0;\n",
              "                height: 100%;\n",
              "                line-height: 20px;\n",
              "                color: #fff;\n",
              "                text-align: center;\n",
              "                background-color: #337ab7;\n",
              "                border-radius: 3px;\n",
              "                margin-right: 4px;\n",
              "            }\n",
              "            .other .bar {\n",
              "                background-color: #999;\n",
              "            }\n",
              "            .missing .bar{\n",
              "                background-color: #a94442;\n",
              "            }\n",
              "            .tooltip-inner {\n",
              "                width: 100%;\n",
              "                white-space: nowrap;\n",
              "                text-align:left;\n",
              "            }\n",
              "\n",
              "            .extrapadding{\n",
              "                padding: 2em;\n",
              "            }\n",
              "\n",
              "            .pp-anchor{\n",
              "\n",
              "            }\n",
              "\n",
              "</style>\n",
              "\n",
              "<div class=\"container pandas-profiling\">\n",
              "    <div class=\"row headerrow highlight\">\n",
              "        <h1>Overview</h1>\n",
              "    </div>\n",
              "    <div class=\"row variablerow\">\n",
              "    <div class=\"col-md-6 namecol\">\n",
              "        <p class=\"h4\">Dataset info</p>\n",
              "        <table class=\"stats\" style=\"margin-left: 1em;\">\n",
              "            <tbody>\n",
              "            <tr>\n",
              "                <th>Number of variables</th>\n",
              "                <td>3 </td>\n",
              "            </tr>\n",
              "            <tr>\n",
              "                <th>Number of observations</th>\n",
              "                <td>31962 </td>\n",
              "            </tr>\n",
              "            <tr>\n",
              "                <th>Total Missing (%)</th>\n",
              "                <td>0.0% </td>\n",
              "            </tr>\n",
              "            <tr>\n",
              "                <th>Total size in memory</th>\n",
              "                <td>749.2 KiB </td>\n",
              "            </tr>\n",
              "            <tr>\n",
              "                <th>Average record size in memory</th>\n",
              "                <td>24.0 B </td>\n",
              "            </tr>\n",
              "            </tbody>\n",
              "        </table>\n",
              "    </div>\n",
              "    <div class=\"col-md-6 namecol\">\n",
              "        <p class=\"h4\">Variables types</p>\n",
              "        <table class=\"stats\" style=\"margin-left: 1em;\">\n",
              "            <tbody>\n",
              "            <tr>\n",
              "                <th>Numeric</th>\n",
              "                <td>1 </td>\n",
              "            </tr>\n",
              "            <tr>\n",
              "                <th>Categorical</th>\n",
              "                <td>1 </td>\n",
              "            </tr>\n",
              "            <tr>\n",
              "                <th>Boolean</th>\n",
              "                <td>1 </td>\n",
              "            </tr>\n",
              "            <tr>\n",
              "                <th>Date</th>\n",
              "                <td>0 </td>\n",
              "            </tr>\n",
              "            <tr>\n",
              "                <th>Text (Unique)</th>\n",
              "                <td>0 </td>\n",
              "            </tr>\n",
              "            <tr>\n",
              "                <th>Rejected</th>\n",
              "                <td>0 </td>\n",
              "            </tr>\n",
              "            <tr>\n",
              "                <th>Unsupported</th>\n",
              "                <td>0 </td>\n",
              "            </tr>\n",
              "            </tbody>\n",
              "        </table>\n",
              "    </div>\n",
              "    <div class=\"col-md-12\" style=\"padding-left: 1em;\">\n",
              "        \n",
              "        <p class=\"h4\">Warnings</p>\n",
              "        <ul class=\"list-unstyled\"><li><a href=\"#pp_var_tweet\"><code>tweet</code></a> has a high cardinality: 29530 distinct values  <span class=\"label label-warning\">Warning</span></li> </ul>\n",
              "    </div>\n",
              "</div>\n",
              "    <div class=\"row headerrow highlight\">\n",
              "        <h1>Variables</h1>\n",
              "    </div>\n",
              "    <div class=\"row variablerow\">\n",
              "    <div class=\"col-md-3 namecol\">\n",
              "        <p class=\"h4 pp-anchor\" id=\"pp_var_id\">id<br/>\n",
              "            <small>Numeric</small>\n",
              "        </p>\n",
              "    </div><div class=\"col-md-6\">\n",
              "    <div class=\"row\">\n",
              "        <div class=\"col-sm-6\">\n",
              "            <table class=\"stats \">\n",
              "                <tr>\n",
              "                    <th>Distinct count</th>\n",
              "                    <td>31962</td>\n",
              "                </tr>\n",
              "                <tr>\n",
              "                    <th>Unique (%)</th>\n",
              "                    <td>100.0%</td>\n",
              "                </tr>\n",
              "                <tr class=\"ignore\">\n",
              "                    <th>Missing (%)</th>\n",
              "                    <td>0.0%</td>\n",
              "                </tr>\n",
              "                <tr class=\"ignore\">\n",
              "                    <th>Missing (n)</th>\n",
              "                    <td>0</td>\n",
              "                </tr>\n",
              "                <tr class=\"ignore\">\n",
              "                    <th>Infinite (%)</th>\n",
              "                    <td>0.0%</td>\n",
              "                </tr>\n",
              "                <tr class=\"ignore\">\n",
              "                    <th>Infinite (n)</th>\n",
              "                    <td>0</td>\n",
              "                </tr>\n",
              "            </table>\n",
              "\n",
              "        </div>\n",
              "        <div class=\"col-sm-6\">\n",
              "            <table class=\"stats \">\n",
              "\n",
              "                <tr>\n",
              "                    <th>Mean</th>\n",
              "                    <td>15982</td>\n",
              "                </tr>\n",
              "                <tr>\n",
              "                    <th>Minimum</th>\n",
              "                    <td>1</td>\n",
              "                </tr>\n",
              "                <tr>\n",
              "                    <th>Maximum</th>\n",
              "                    <td>31962</td>\n",
              "                </tr>\n",
              "                <tr class=\"ignore\">\n",
              "                    <th>Zeros (%)</th>\n",
              "                    <td>0.0%</td>\n",
              "                </tr>\n",
              "            </table>\n",
              "        </div>\n",
              "    </div>\n",
              "</div>\n",
              "<div class=\"col-md-3 collapse in\" id=\"minihistogram-6233766199013562095\">\n",
              "    <img src=\"data:image/png;base64,iVBORw0KGgoAAAANSUhEUgAAAMgAAABLCAYAAAA1fMjoAAAABHNCSVQICAgIfAhkiAAAAAlwSFlzAAAPYQAAD2EBqD%2BnaQAAADh0RVh0U29mdHdhcmUAbWF0cGxvdGxpYiB2ZXJzaW9uMy4yLjEsIGh0dHA6Ly9tYXRwbG90bGliLm9yZy%2Bj8jraAAAA%2BklEQVR4nO3VMQ1CARBEQT5BEiLwRI0nRODpqCHktUcxo2Cblz1mZk7AT%2BftAfDPLtsDvl3vz%2B0JLHo9btsTPngQCAKBIBAIAoEgEAgCgSAQCAKBIBAIAoEgEAgCgSAQCAKBIBAIAoEgEAgCgSAQCAKBIBAIAoEgEAgCgSAQCAKBIBAIAoEgEAgCgSAQCAKBIBAIAoEgEAgCgSAQCAKBIBAIAoEgEAgCgSAQCAKBIBAIAoFwzMxsj4B/5UEgCASCQCAIBIJAIAgEgkAgCASCQCAIBIJAIAgEgkAgCASCQCAIBIJAIAgEgkAgCASCQCAIBIJAIAgEgkAgvAH7AguP0bZxNQAAAABJRU5ErkJggg%3D%3D\">\n",
              "\n",
              "</div>\n",
              "<div class=\"col-md-12 text-right\">\n",
              "    <a role=\"button\" data-toggle=\"collapse\" data-target=\"#descriptives-6233766199013562095,#minihistogram-6233766199013562095\"\n",
              "       aria-expanded=\"false\" aria-controls=\"collapseExample\">\n",
              "        Toggle details\n",
              "    </a>\n",
              "</div>\n",
              "<div class=\"row collapse col-md-12\" id=\"descriptives-6233766199013562095\">\n",
              "    <ul class=\"nav nav-tabs\" role=\"tablist\">\n",
              "        <li role=\"presentation\" class=\"active\"><a href=\"#quantiles-6233766199013562095\"\n",
              "                                                  aria-controls=\"quantiles-6233766199013562095\" role=\"tab\"\n",
              "                                                  data-toggle=\"tab\">Statistics</a></li>\n",
              "        <li role=\"presentation\"><a href=\"#histogram-6233766199013562095\" aria-controls=\"histogram-6233766199013562095\"\n",
              "                                   role=\"tab\" data-toggle=\"tab\">Histogram</a></li>\n",
              "        <li role=\"presentation\"><a href=\"#common-6233766199013562095\" aria-controls=\"common-6233766199013562095\"\n",
              "                                   role=\"tab\" data-toggle=\"tab\">Common Values</a></li>\n",
              "        <li role=\"presentation\"><a href=\"#extreme-6233766199013562095\" aria-controls=\"extreme-6233766199013562095\"\n",
              "                                   role=\"tab\" data-toggle=\"tab\">Extreme Values</a></li>\n",
              "\n",
              "    </ul>\n",
              "\n",
              "    <div class=\"tab-content\">\n",
              "        <div role=\"tabpanel\" class=\"tab-pane active row\" id=\"quantiles-6233766199013562095\">\n",
              "            <div class=\"col-md-4 col-md-offset-1\">\n",
              "                <p class=\"h4\">Quantile statistics</p>\n",
              "                <table class=\"stats indent\">\n",
              "                    <tr>\n",
              "                        <th>Minimum</th>\n",
              "                        <td>1</td>\n",
              "                    </tr>\n",
              "                    <tr>\n",
              "                        <th>5-th percentile</th>\n",
              "                        <td>1599.1</td>\n",
              "                    </tr>\n",
              "                    <tr>\n",
              "                        <th>Q1</th>\n",
              "                        <td>7991.2</td>\n",
              "                    </tr>\n",
              "                    <tr>\n",
              "                        <th>Median</th>\n",
              "                        <td>15982</td>\n",
              "                    </tr>\n",
              "                    <tr>\n",
              "                        <th>Q3</th>\n",
              "                        <td>23972</td>\n",
              "                    </tr>\n",
              "                    <tr>\n",
              "                        <th>95-th percentile</th>\n",
              "                        <td>30364</td>\n",
              "                    </tr>\n",
              "                    <tr>\n",
              "                        <th>Maximum</th>\n",
              "                        <td>31962</td>\n",
              "                    </tr>\n",
              "                    <tr>\n",
              "                        <th>Range</th>\n",
              "                        <td>31961</td>\n",
              "                    </tr>\n",
              "                    <tr>\n",
              "                        <th>Interquartile range</th>\n",
              "                        <td>15980</td>\n",
              "                    </tr>\n",
              "                </table>\n",
              "            </div>\n",
              "            <div class=\"col-md-4 col-md-offset-2\">\n",
              "                <p class=\"h4\">Descriptive statistics</p>\n",
              "                <table class=\"stats indent\">\n",
              "                    <tr>\n",
              "                        <th>Standard deviation</th>\n",
              "                        <td>9226.8</td>\n",
              "                    </tr>\n",
              "                    <tr>\n",
              "                        <th>Coef of variation</th>\n",
              "                        <td>0.57734</td>\n",
              "                    </tr>\n",
              "                    <tr>\n",
              "                        <th>Kurtosis</th>\n",
              "                        <td>-1.2</td>\n",
              "                    </tr>\n",
              "                    <tr>\n",
              "                        <th>Mean</th>\n",
              "                        <td>15982</td>\n",
              "                    </tr>\n",
              "                    <tr>\n",
              "                        <th>MAD</th>\n",
              "                        <td>7990.5</td>\n",
              "                    </tr>\n",
              "                    <tr class=\"\">\n",
              "                        <th>Skewness</th>\n",
              "                        <td>0</td>\n",
              "                    </tr>\n",
              "                    <tr>\n",
              "                        <th>Sum</th>\n",
              "                        <td>510800703</td>\n",
              "                    </tr>\n",
              "                    <tr>\n",
              "                        <th>Variance</th>\n",
              "                        <td>85133000</td>\n",
              "                    </tr>\n",
              "                    <tr>\n",
              "                        <th>Memory size</th>\n",
              "                        <td>249.8 KiB</td>\n",
              "                    </tr>\n",
              "                </table>\n",
              "            </div>\n",
              "        </div>\n",
              "        <div role=\"tabpanel\" class=\"tab-pane col-md-8 col-md-offset-2\" id=\"histogram-6233766199013562095\">\n",
              "            <img src=\"data:image/png;base64,iVBORw0KGgoAAAANSUhEUgAAAlgAAAGQCAYAAAByNR6YAAAABHNCSVQICAgIfAhkiAAAAAlwSFlzAAAPYQAAD2EBqD%2BnaQAAADh0RVh0U29mdHdhcmUAbWF0cGxvdGxpYiB2ZXJzaW9uMy4yLjEsIGh0dHA6Ly9tYXRwbG90bGliLm9yZy%2Bj8jraAAAgAElEQVR4nO3de1yVVb7H8S%2BwA48iIBY2h0wcb8nNW4ihhZfUyjQzb8w05WRlRhmkqWWWVjPaUcdp1ONkl5nsymhWalpO46WabLrnBi8l6tEYDFK2CAoKrPOHx33a4YVisXd7%2B3m/XrxeudZ%2B1vNbq%2B1%2Bvj7Psx%2BCjDFGAAAAsCbY1wUAAAAEGgIWAACAZQQsAAAAywhYAAAAlhGwAAAALCNgAQAAWEbAAgAAsIyABQAAYBkBCwAAwDICFgAAgGUELAAAAMsIWAAAAJYRsAAAACwjYAEAAFhGwAIAALCMgAUAAGAZAQsAAMAyAhYAAIBlBCwAAADLCFgAAACWEbAAAAAsI2ABAABYRsACAACwjIAFAABgGQELAADAMgIWAACAZQQsAAAAywhYAAAAlhGwAAAALCNgAQAAWEbAAgAAsIyABQAAYBkBCwAAwDICFgAAgGUELAAAAMsIWAAAAJYRsAAAACwjYAEAAFhGwAIAALDM4esCzhXFxYetjxkcHKTo6CY6eLBcNTXG%2Bvj%2BhvXwxHrUxpp4Yj08sR6eAmU9LrigqU/2yxksPxYcHKSgoCAFBwf5upSfBdbDE%2BtRG2viifXwxHp4Yj3qh4AFAABgGQELAADAMgIWAACAZQQsAAAAywhYAAAAlhGwAAAALCNgAQAAWEbAAgAAsIyABQAAYBkBCwAAwDICFgAAgGUELAAAAMsIWAAAAJY5fF0A6ufSaW/5ugQAAOptbVZPX5dgFWewAAAALCNgAQAAWEbAAgAAsIyABQAAYBkBCwAAwDICFgAAgGUELAAAAMsIWAAAAJYRsAAAACwjYAEAAFhGwAIAALCMgAUAAGAZAQsAAMAyAhYAAIBlfhuwtm/frptvvlndunVTWlqasrKyVFxcLEnavHmzhg8frq5du2rQoEFauXKlx7ZLly7VwIED1bVrV2VkZCg3N9fdV1lZqYceekhXXHGFUlNTNWHCBJWUlHh1bgAAwL/5ZcA6duyYbrnlFnXv3l2bN2/W6tWrdeDAAc2YMUNFRUW68847NXr0aG3evFnTpk3T9OnT5XQ6JUnr16/XggUL9F//9V/64IMP1KdPH91xxx06cuSIJGn%2B/PnKy8tTTk6O3n77bRljdP/99/tyugAAwM/4ZcA6evSosrOzNW7cOIWGhio6Olr9%2B/fX119/rVWrVikuLk7Dhw9XWFiY0tLS1LdvXy1btkySlJOTo2HDhqlTp05q1KiRbr31VknShg0bVFVVpeXLl%2BvOO%2B/UL37xC0VFRSkrK0sbN27Ut99%2B68spAwAAP%2BLwdQE/RWRkpEaMGOH%2B865du/Taa6/p6quvVl5enuLj4z1eHx8fr7Vr10qS8vLydM0117j7goOD1bFjRzmdTnXs2FGHDx9WQkKCu79NmzZq1KiR8vLy1KJFizrVV1RU5L5ceZLD0VgxMTE/eq5nEhLil/kYAIBaHI7AOqb5ZcA6qaCgQAMHDlRVVZVGjhypCRMm6LbbbqsVhKKiotz3UblcLkVGRnr0R0ZGqqSkRC6XS5IUERHh0R8REfGj7sPKycnRwoULPdoyMzM1YcKEOo8BAMC5pFmzJr4uwSq/DlixsbFyOp36n//5Hz300EOaPHlynbYzxtSr/2xGjRqlvn37erQ5HI1VUlJer3F/iDNYAIBAYfsYeZKvgptfByxJCgoKUlxcnLKzszV69Gilp6e7z0SdVFJSoujoaElSs2bNavW7XC61a9fO/RqXy6UmTf7/f8ihQ4fUvHnzOtcUExNT63JgcfFhVVXV/Ki5AQBwrgi0Y6RfngLZvHmzBg4cqJqa//%2BfERx8YirJyckej12QpNzcXHXq1EmSlJiYqLy8PHdfdXW1tm7dqk6dOqlly5aKjIz06P/qq6907NgxJSYmNuSUAABAAPHLgJWYmKiysjLNmTNHR48e1cGDB7VgwQJdeumlysjIUEFBgZYtW6bKykpt2rRJmzZt0siRIyVJGRkZev311/XFF1/o6NGjWrx4sUJDQ9W7d2%2BFhIRo5MiR%2BvOf/6zCwkKVlJToD3/4g/r376/zzz/fx7MGAAD%2BIsjU94YjH9mxY4cee%2BwxbdmyRY0bN1aPHj00depUtWjRQh9//LEee%2Bwx5efnKzY2VhMnTtSAAQPc27700ktasmSJDhw4oKSkJM2YMUPt27eXdOIZW7NmzdKbb76pqqoq9enTRzNmzFDTpk3rVW9x8eF6bX8qDkew%2Bs99z/q4AAB429qsng0y7gUX1O/4/VP5bcDyNwQsAABOL9ACll9eIgQAAPg5I2ABAABYRsACAACwjIAFAABgGQELAADAMgIWAACAZQQsAAAAywhYAAAAlhGwAAAALCNgAQAAWEbAAgAAsIyABQAAYBkBCwAAwDICFgAAgGUELAAAAMsIWAAAAJYRsAAAACwjYAEAAFhGwAIAALCMgAUAAGAZAQsAAMAyAhYAAIBlBCwAAADLCFgAAACWEbAAAAAsI2ABAABYRsACAACwjIAFAABgGQELAADAMgIWAACAZQQsAAAAywhYAAAAlhGwAAAALCNgAQAAWEbAAgAAsIyABQAAYJnfBqyCggJlZmYqNTVVaWlpmjp1qkpLS/XNN9%2BoQ4cOSkpK8vh55pln3NuuWbNGgwcPVpcuXTRs2DC9//777r6amhrNnz9f/fr1U0pKisaOHat9%2B/b5YooAAMBP%2BW3AuuOOOxQREaH169drxYoV%2Bvrrr/X444%2B7%2B51Op8fP2LFjJUnbtm3TlClTNGnSJH344YcaM2aM7rrrLu3fv1%2BS9OKLL2rVqlVasmSJNmzYoLi4OGVmZsoY45N5AgAA/%2BOXAau0tFSJiYmaOHGimjRpogsvvFDXX3%2B9Pvnkk7Nuu2zZMqWnpys9PV1hYWEaMmSI2rdvr5UrV0qScnJyNGbMGLVp00bh4eHKzs5Wfn6%2Bvvzyy4aeFgAACBB%2BGbAiIiI0a9YsnX/%2B%2Be62wsJCxcTEuP88efJk9erVSz169NC8efN0/PhxSVJeXp7i4%2BM9xouPj5fT6VRFRYV27tzp0R8eHq5WrVrJ6XQ28KwAAECgcPi6ABucTqdeeOEFLV68WKGhoerSpYv69%2B%2Bv3/3ud9q2bZvuvvtuORwO3XPPPXK5XIqMjPTYPjIyUjt37tShQ4dkjDllf0lJSZ3rKSoqUnFxsUebw9HYIwDaEBLil/kYAIBaHI7AOqb5fcD69NNPNX78eE2cOFFpaWmSpFdeecXdn5ycrHHjxunJJ5/UPffcI0lnvZ%2Bqvvdb5eTkaOHChR5tmZmZmjBhQr3GBQAgUDVr1sTXJVjl1wFr/fr1uu%2B%2B%2BzR9%2BnQNHTr0tK%2BLjY3Vd999J2OMmjVrJpfL5dHvcrkUHR2tqKgoBQcHn7K/efPmda5r1KhR6tu3r0ebw9FYJSXldR6jLjiDBQAIFLaPkSf5Krj5bcD67LPPNGXKFD3xxBPq1auXu33z5s364osvNH78eHfbrl27FBsbq6CgICUmJio3N9djLKfTqUGDBiksLEzt2rVTXl6eunfvLunEDfV79%2B5VcnJynWuLiYmpdTmwuPiwqqpqfspUAQAIeIF2jPTLUyBVVVV68MEHNWnSJI9wJUlNmzbVokWL9MYbb%2Bj48eNyOp165plnlJGRIUkaOXKkPvjgA23cuFGVlZVavny59uzZoyFDhkiSMjIytHTpUuXn56usrExz585Vx44dlZSU5PV5AgAA/xRk/PABT5988ol%2B/etfKzQ0tFbfW2%2B9pa1bt2rhwoXas2ePmjZtqt/85je67bbbFBx8Ik%2BuW7dO8%2BbNU0FBgdq2batp06YpJSVF0on7rxYsWKBXXnlF5eXlSk1N1SOPPKILL7ywXjUXFx%2Bu1/an4nAEq//c96yPCwCAt63N6tkg415wQdMGGfds/DJg%2BSMCFgAApxdoAcsvLxECAAD8nBGwAAAALCNgAQAAWEbAAgAAsIyABQAAYBkBCwAAwDICFgAAgGUELAAAAMsIWAAAAJYRsAAAACwjYAEAAFhGwAIAALCMgAUAAGAZAQsAAMAyAhYAAIBlBCwAAADLCFgAAACWEbAAAAAsI2ABAABYRsACAACwjIAFAABgGQELAADAMgIWAACAZQQsAAAAywhYAAAAlhGwAAAALCNgAQAAWEbAAgAAsIyABQAAYBkBCwAAwDICFgAAgGUELAAAAMsIWAAAAJYRsAAAACwjYAEAAFhGwAIAALCMgAUAAGCZ3wasgoICZWZmKjU1VWlpaZo6dapKS0slSdu2bdONN96obt26acCAAXr22Wc9tl2zZo0GDx6sLl26aNiwYXr//ffdfTU1NZo/f7769eunlJQUjR07Vvv27fPq3AAAgH/z24B1xx13KCIiQuvXr9eKFSv09ddf6/HHH1dFRYXGjRunHj166L333tP8%2BfP15JNPat26dZJOhK8pU6Zo0qRJ%2BvDDDzVmzBjddddd2r9/vyTpxRdf1KpVq7RkyRJt2LBBcXFxyszMlDHGl9MFAAB%2BxOsBq2/fvlq4cKEKCwt/8hilpaVKTEzUxIkT1aRJE1144YW6/vrr9cknn2jjxo06fvy4xo8fr8aNGyshIUEjRoxQTk6OJGnZsmVKT09Xenq6wsLCNGTIELVv314rV66UJOXk5GjMmDFq06aNwsPDlZ2drfz8fH355ZdW5g8AAAKfw9s7vOGGG/Tmm29q8eLFuuyyyzRy5Ej17dtXDkfdS4mIiNCsWbM82goLCxUTE6O8vDx16NBBISEh7r74%2BHgtW7ZMkpSXl6f09HSPbePj4%2BV0OlVRUaGdO3cqPj7e3RceHq5WrVrJ6XSqc%2BfOdaqvqKhIxcXFHm0OR2PFxMTUeY51ERLitycgAQDw4HAE1jHN6wErMzNTmZmZysvL0%2BrVq/X73/9eM2fO1NChQzV8%2BHC1bt36R4/pdDr1wgsvaPHixVq7dq0iIiI8%2BqOiouRyuVRTUyOXy6XIyEiP/sjISO3cuVOHDh2SMeaU/SUlJXWuJycnRwsXLvRoy8zM1IQJE37kzAAAODc0a9bE1yVY5fWAdVJCQoISEhI0efJkrVmzRjNmzNCzzz6rtLQ03XPPPUpOTq7TOJ9%2B%2BqnGjx%2BviRMnKi0tTWvXrj3l64KCgtz/fbb7qep7v9WoUaPUt29fjzaHo7FKSsrrNe4PcQYLABAobB8jT/JVcPNZwDp%2B/Lj%2B/ve/a8WKFfrwww8VFxenu%2B%2B%2BW0VFRRozZoxmzpypwYMHn3GM9evX67777tP06dM1dOhQSVJ0dLT27Nnj8TqXy6WoqCgFBwerWbNmcrlctfqjo6PdrzlVf/Pmzes8t5iYmFqXA4uLD6uqqqbOYwAAcC4JtGOk1wNWfn6%2Bli9frtdff13l5eUaOHCgnnvuOXXr1s39mpSUFM2YMeOMAeuzzz7TlClT9MQTT6hXr17u9sTERL388suqqqpy39fldDrVqVMnd39ubq7HWE6nU4MGDVJYWJjatWunvLw8de/eXdKJG%2Br37t1b5zNqAAAAXr/GNGjQIG3cuFHjxo3Tu%2B%2B%2Bqzlz5niEK0lKT0/XwYMHTztGVVWVHnzwQU2aNMkjXJ3cNjw8XIsXL9bRo0f15Zdfavny5crIyJAkjRw5Uh988IE2btyoyspKLV%2B%2BXHv27NGQIUMkSRkZGVq6dKny8/NVVlamuXPnqmPHjkpKSrK8EgAAIFAFGS8/4Omjjz5ynx36qT755BP9%2Bte/VmhoaK2%2Bt956S%2BXl5Xr44YeVm5ur888/X7fddpt%2B9atfuV%2Bzbt06zZs3TwUFBWrbtq2mTZumlJQUSSfuv1qwYIFeeeUVlZeXKzU1VY888oguvPDCetVcXHy4XtufisMRrP5z37M%2BLgAA3rY2q2eDjHvBBU0bZNyz8XrAOnTokKZMmaLhw4fryiuvlCT99a9/1T//%2BU/NmTNHUVFR3izHawhYAACcXqAFLK9fIpw1a5YOHz6stm3butt69%2B6tmpoazZ4929vlAAAAWOf1m9zff/99rVq1Ss2aNXO3xcXFae7cubr22mu9XQ4AAIB1Xj%2BDVVFRobCwsNqFBAfr6NGj3i4HAADAOq8HrJSUFM2ePVuHDh1yt3377beaOXNmrW8TAgAA%2BCOvXyJ84IEHdMstt%2Biyyy5TeHi4ampqVF5erpYtW%2Br555/3djkAAADWeT1gtWzZUm%2B%2B%2Babeffdd7d27V8HBwWrdurV69erl8QuaAQAA/JVPflVOaGio%2BxENAAAAgcbrAWvfvn2aN2%2Bevv76a1VUVNTq/8c//uHtkgAAAKzyyT1YRUVF6tWrlxo3buzt3QMAADQ4rwes3Nxc/eMf/1B0dLS3dw0AAOAVXn9MQ/PmzTlzBQAAAprXA9a4ceO0cOFCeflXIAIAAHiN1y8Rvvvuu/rss8%2B0YsUKXXTRRQoO9sx4r7zyirdLAgAAsMrrASs8PFxXXHGFt3cLAADgNV4PWLNmzfL2LgEAALzK6/dgSdKuXbu0YMEC3X///e62zz//3BelAAAAWOf1gLV582YNGTJE69at0%2BrVqyWdePjoTTfdxENGAQBAQPB6wJo/f77uu%2B8%2BrVq1SkFBQZJO/H7C2bNna9GiRd4uBwAAwDqvB6yvvvpKGRkZkuQOWJJ01VVXKT8/39vlAAAAWOf1gNW0adNT/g7CoqIihYaGerscAAAA67wesLp27arf//73Kisrc7ft3r1bU6ZM0WWXXebtcgAAAKzz%2BmMa7r//ft18881KTU1VdXW1unbtqqNHj6pdu3aaPXu2t8sBAACwzusB68ILL9Tq1au1adMm7d69W40aNVLr1q3Vs2dPj3uyAAAA/JXXA5YknXfeebryyit9sWsAAIAG5/WA1bdv3zOeqeJZWAAAwN95PWBdc801HgGrurpau3fvltPp1M033%2BztcgAAAKzzesCaNGnSKdvffvtt/etf//JyNQAAAPb55HcRnsqVV16pN99809dlAAAA1NvPJmBt3bpVxhhflwEAAFBvXr9EOHr06FptR48eVX5%2BvgYMGODtcgAAAKzzesCKi4ur9S3CsLAwDR8%2BXCNGjPB2OQAAANZ5PWDxtHYAABDovB6wXn/99Tq/dujQoQ1YCQAAQMPwesCaNm2aampqat3QHhQU5NEWFBREwAIAAH7J6wHr6aef1rPPPqs77rhDHTp0kDFGO3bs0FNPPaUbb7xRqamp3i4JAADAKp/cg7VkyRK1aNHC3XbppZeqZcuWGjt2rFavXu3tkgAAAKzy%2BnOw9uzZo8jIyFrtERERKigo8HY5AAAA1nk9YMXGxmr27NkqKSlxt5WWlmrevHm6%2BOKLf9RY7733ntLS0pSdne3RvmLFCl1yySVKSkry%2BNmyZYskqaamRvPnz1e/fv2UkpKisWPHat%2B%2Bfe7tXS6XsrKylJaWpl69emnatGmqqKiox6wBAMC5xOuXCB944AFNnDhROTk5atKkiYKDg1VWVqZGjRpp0aJFdR7nqaee0vLly9WqVatT9qekpOj5558/Zd%2BLL76oVatW6amnnlKLFi00f/58ZWZm6o033lBQUJCmT5%2BuY8eOafXq1Tp%2B/LjuuecezZ07Vw8%2B%2BOBPmjMAADi3eD1g9erVSxs3btSmTZu0f/9%2BGWPUokULXX755WratGmdxwkLC9Py5cv1u9/9TpWVlT%2BqhpycHI0ZM0Zt2rSRJGVnZys1NVVffvmlLrroIr3zzjt67bXXFB0dLUm68847dc8992jKlCk677zzftS%2BAADAucfrAUuS/uM//kP9%2BvXT/v371bJly580xk033XTG/sLCQv32t79Vbm6uIiIiNGHCBF133XWqqKjQzp07FR8f735teHi4WrVqJafTqcOHDyskJEQdOnRw9yckJOjIkSPatWuXR/vpFBUVqbi42KPN4WismJiYHznLMwsJ%2Bdn8KkkAAOrF4QisY5rXA1ZFRYUefvhhvfnmm5Kk3NxclZaW6t5779Uf/vAHRURE1Hsf0dHRiouL07333qu2bdvq73//uyZPnqyYmBj98pe/lDGm1o32kZGRKikpUVRUlMLDwz1%2Bnc/J137/vrEzycnJ0cKFCz3aMjMzNWHChHrODACAwNSsWRNfl2CV1wPWnDlztG3bNs2dO1eTJ092t1dXV2vu3Ll65JFH6r2P3r17q3fv3u4/Dxo0SH//%2B9%2B1YsUKTZo0SZJqPej0%2B87UVxejRo1S3759PdocjsYqKSmv17g/xBksAECgsH2MPMlXwc3rAevtt9/WCy%2B8oLi4OE2ZMkXSiUc0zJo1S0OHDrUSsE4lNjZWubm5ioqKUnBwsFwul0e/y%2BVS8%2BbNFR0drbKyMlVXVyskJMTdJ0nNmzev075iYmJqXQ4sLj6sqqoaCzMBACDwBNox0uunQMrLyxUXF1erPTo6WkeOHLGyj5dffllr1qzxaMvPz1fLli0VFhamdu3aKS8vz91XWlqqvXv3Kjk5WR07dpQxRtu3b3f3O51ORUREqHXr1lbqAwAAgc3rAeviiy/Wv/71L0mel%2BLeeust/ed//qeVfRw7dkyPPvqonE6njh8/rtWrV%2Bvdd9/V6NGjJUkZGRlaunSp8vPzVVZWprlz56pjx45KSkpSdHS0Bg4cqD/%2B8Y86ePCg9u/fr0WLFmn48OFyOHzynQAAAOBnvJ4YfvWrX%2Bnuu%2B/WDTfcoJqaGv3lL39Rbm6u3n77bU2bNq3O4yQlJUmSqqqqJEnvvPOOpBNnm2666SaVl5frnnvuUXFxsS666CItWrRIiYmJkqTRo0eruLhYv/nNb1ReXq7U1FSPm9IfeeQRPfzww%2BrXr5/OO%2B88XXvttbUeZgoAAHA6Qaa%2Bd3T/BK%2B%2B%2BqpeeOEF7dq1S40aNVLr1q01ZswYXXXVVd4uxWuKiw9bH9PhCFb/ue9ZHxcAAG9bm9WzQca94IK6P2PTJq%2BfwTp48KBuuOEG3XDDDd7eNQAAgFd4/R6sfv361fsxCAAAAD9nXg9YqampWrt2rbd3CwAA4DVev0T4i1/8Qr/73e%2B0ZMkSXXzxxbV%2Bt9%2B8efO8XRIAAIBVXg9YO3fu1C9/%2BUtJdf/VMwAAAP7EawErOztb8%2BfP1/PPP%2B9uW7RokTIzM71VAgAAgFd47R6s9evX12pbsmSJt3YPAADgNV4LWKf65iDfJgQAAIHIawErKCioTm0AAAD%2BzuuPaQAAAAh0BCwAAADLvPYtwuPHj2vixIlnbeM5WAAAwN95LWB169ZNRUVFZ20DAADwd14LWN9//hUAAEAg4x4sAAAAywhYAAAAlhGwAAAALCNgAQAAWEbAAgAAsIyABQAAYBkBCwAAwDICFgAAgGUELAAAAMsIWAAAAJYRsAAAACwjYAEAAFhGwAIAALCMgAUAAGAZAQsAAMAyAhYAAIBlBCwAAADLCFgAAACWEbAAAAAsI2ABAABYRsACAACwjIAFAABgmV8HrPfee09paWnKzs6u1bdmzRoNHjxYXbp00bBhw/T%2B%2B%2B%2B7%2B2pqajR//nz169dPKSkpGjt2rPbt2%2Bfud7lcysrKUlpamnr16qVp06apoqLCK3MCAAD%2Bz28D1lNPPaXHHntMrVq1qtW3bds2TZkyRZMmTdKHH36oMWPG6K677tL%2B/fslSS%2B%2B%2BKJWrVqlJUuWaMOGDYqLi1NmZqaMMZKk6dOn6%2BjRo1q9erVeffVV5efna%2B7cuV6dHwAA8F9%2BG7DCwsK0fPnyUwasZcuWKT09Xenp6QoLC9OQIUPUvn17rVy5UpKUk5OjMWPGqE2bNgoPD1d2drby8/P15Zdf6rvvvtM777yj7OxsRUdHq0WLFrrzzjv16quv6vjx496eJgAA8EN%2BG7BuuukmNW3a9JR9eXl5io%2BP92iLj4%2BX0%2BlURUWFdu7c6dEfHh6uVq1ayel0atu2bQoJCVGHDh3c/QkJCTpy5Ih27drVMJMBAAABxeHrAhqCy%2BVSZGSkR1tkZKR27typQ4cOyRhzyv6SkhJFRUUpPDxcQUFBHn2SVFJSUqf9FxUVqbi42KPN4WismJiYnzKd0woJ8dt8DACAB4cjsI5pARmwJLnvp/op/Wfb9mxycnK0cOFCj7bMzExNmDChXuMCABComjVr4usSrArIgNWsWTO5XC6PNpfLpejoaEVFRSk4OPiU/c2bN1d0dLTKyspUXV2tkJAQd58kNW/evE77HzVqlPr27evR5nA0VklJ%2BU%2Bd0ilxBgsAEChsHyNP8lVwC8iAlZiYqNzcXI82p9OpQYMGKSwsTO3atVNeXp66d%2B8uSSotLdXevXuVnJys2NhYGWO0fft2JSQkuLeNiIhQ69at67T/mJiYWpcDi4sPq6qqxsLsAAAIPIF2jAzIUyAjR47UBx98oI0bN6qyslLLly/Xnj17NGTIEElSRkaGli5dqvz8fJWVlWnu3Lnq2LGjkpKSFB0drYEDB%2BqPf/yjDh48qP3792vRokUaPny4HI6AzKMAAMAyv00MSUlJkqSqqipJ0jvvvCPpxNmm9u3ba%2B7cuZo1a5YKCgrUtm1bPfnkk7rgggskSaNHj1ZxcbF%2B85vfqLy8XKmpqR73TD3yyCN6%2BOGH1a9fP5133nm69tprT/kwUwAAgFMJMvW9oxt1Ulx82PqYDkew%2Bs99z/q4AAB429qsng0y7gUXnPqRTg0tIC8RAgAA%2BBIBCwAAwDICFgAAgGUELAAAAMsIWAAAAJYRsAAAACwjYAEAAFhGwAIAALCMgAUAAGAZAQsAAMAyAhYAAIBlBCwAAADLCFgAAACWEbAAAAAsI2ABAABYRsACAACwjIAFAABgGQELAADAMgIWAACAZQQsAAAAywhYAAAAlhGwAAAALCNgAQAAWEbAAgAAsIyABQAAYBkBCwAAwDICFgAAgGUELAAAAMsIWAAAAJYRsAAAACwjYAEAAFhGwAIAALCMgAUAAGAZAQsAAMAyAhYAAIBlBCwAAADLCFgAAACWBWzA6tChgxITE5WUlOT%2BefTRRyVJmzdv1vDhw9W1a4jFgQUAABFuSURBVFcNGjRIK1eu9Nh26dKlGjhwoLp27aqMjAzl5ub6YgoAAMBPOXxdQEN66623dNFFF3m0FRUV6c4779S0adM0ePBgffrppxo/frxat26tpKQkrV%2B/XgsWLNDTTz%2BtDh06aOnSpbrjjju0bt06NW7c2EczAQAA/iRgz2CdzqpVqxQXF6fhw4crLCxMaWlp6tu3r5YtWyZJysnJ0bBhw9SpUyc1atRIt956qyRpw4YNviwbAAD4kYA%2BgzVv3jx9/vnnKisr09VXX62pU6cqLy9P8fHxHq%2BLj4/X2rVrJUl5eXm65ppr3H3BwcHq2LGjnE6nBg0aVKf9FhUVqbi42KPN4WismJiYes7IU0jIOZePAQAByuEIrGNawAaszp07Ky0tTY8//rj27dunrKwszZw5Uy6XSy1atPB4bVRUlEpKSiRJLpdLkZGRHv2RkZHu/rrIycnRwoULPdoyMzM1YcKEnzgbAAACW7NmTXxdglUBG7BycnLc/92mTRtNmjRJ48ePV7du3c66rTGmXvseNWqU%2Bvbt69HmcDRWSUl5vcb9Ic5gAQAChe1j5Em%2BCm4BG7B%2B6KKLLlJ1dbWCg4Plcrk8%2BkpKShQdHS1JatasWa1%2Bl8uldu3a1XlfMTExtS4HFhcfVlVVzU%2BsHgCAwBZox8iAPAWydetWzZ4926MtPz9foaGhSk9Pr/XYhdzcXHXq1EmSlJiYqLy8PHdfdXW1tm7d6u4HAAA4m4AMWM2bN1dOTo6WLFmiY8eOaffu3XriiSc0atQoXXfddSooKNCyZctUWVmpTZs2adOmTRo5cqQkKSMjQ6%2B//rq%2B%2BOILHT16VIsXL1ZoaKh69%2B7t20kBAAC/EWTqe8PRz9THH3%2BsefPmaceOHQoNDdX111%2Bv7OxshYWF6eOPP9Zjjz2m/Px8xcbGauLEiRowYIB725deeklLlizRgQMHlJSUpBkzZqh9%2B/b1qqe4%2BHB9p1SLwxGs/nPfsz4uAADetjarZ4OMe8EFTRtk3LMJ2ID1c0PAAgDg9AItYAXkJUIAAABfImABAABYRsACAACwjIAFAABgGQELAADAMgIWAACAZQQsAAAAywhYAAAAlhGwAAAALCNgAQAAWEbAAgAAsIyABQAAYBkBCwAAwDICFgAAgGUELAAAAMsIWAAAAJYRsAAAACwjYAEAAFhGwAIAALCMgAUAAGAZAQsAAMAyAhYAAIBlBCwAAADLCFgAAACWEbAAAAAsI2ABAABYRsACAACwjIAFAABgGQELAADAMgIWAACAZQQsAAAAywhYAAAAlhGwAAAALCNgAQAAWEbAAgAAsIyABQAAYBkBCwAAwDIC1ikUFBTo9ttvV2pqqvr06aM5c%2BaopqbG12UBAAA/4fB1AT9Hd999txISEvTOO%2B/owIEDGjdunM4//3z99re/9XVpAADAD3AG6wecTqe2b9%2BuSZMmqWnTpoqLi9OYMWOUk5Pj69IAAICf4AzWD%2BTl5Sk2NlaRkZHutoSEBO3evVtlZWUKDw8/6xhFRUUqLi72aHM4GismJsZqrSEh5GMAQGBwOALrmEbA%2BgGXy6WIiAiPtpNhq6SkpE4BKycnRwsXLvRou%2Buuu3T33XfbK1QngtzNF36tUaNGWQ9v/qioqEg5OTmsx/9hPWpjTTyxHp5YD0%2BsR/0EVly0xBhTr%2B1HjRqlFStWePyMGjXKUnX/r7i4WAsXLqx1tuxcxXp4Yj1qY008sR6eWA9PrEf9cAbrB6Kjo%2BVyuTzaXC6XgoKCFB0dXacxYmJiSPsAAJzDOIP1A4mJiSosLNTBgwfdbU6nU23btlWTJk18WBkAAPAXBKwfiI%2BPV1JSkubNm6eysjLl5%2BfrL3/5izIyMnxdGgAA8BMhM2bMmOHrIn5uLr/8cq1evVqPPvqo3nzzTQ0fPlxjx45VUFCQr0urpUmTJurevTtn1/4P6%2BGJ9aiNNfHEenhiPTyxHj9dkKnvHd0AAADwwCVCAAAAywhYAAAAlhGwAAAALCNgAQAAWEbAAgAAsIyABQAAYBkBCwAAwDICFgAAgGUELAAAAMsIWH6ooKBAt99%2Bu1JTU9WnTx/NmTNHNTU1vi7Lqg4dOigxMVFJSUnun0cffVSStHnzZg0fPlxdu3bVoEGDtHLlSo9tly5dqoEDB6pr167KyMhQbm6uu6%2ByslIPPfSQrrjiCqWmpmrChAkqKSnx6tzq6r333lNaWpqys7Nr9a1Zs0aDBw9Wly5dNGzYML3//vvuvpqaGs2fP1/9%2BvVTSkqKxo4dq3379rn7XS6XsrKylJaWpl69emnatGmqqKhw92/btk033nijunXrpgEDBujZZ59t2InW0enWY8WKFbrkkks83itJSUnasmWLpMBdj4KCAmVmZio1NVVpaWmaOnWqSktLJZ295oZ8//jK6dbjm2%2B%2BUYcOHWq9P5555hn3toG4HpK0fft23XzzzerWrZvS0tKUlZWl4uJiSQ37OXouHKPqxMDvXH/99ebBBx80paWlZvfu3WbAgAHm2Wef9XVZVrVv397s27evVvu3335rOnfubJYtW2YqKirMP//5T5OcnGy2bNlijDHmH//4h7n00kvNF198YY4ePWqefPJJ07NnT1NeXm6MMWbWrFlm2LBh5t///rcpKSkxd911lxk3bpxX51YXS5YsMQMGDDCjR482WVlZHn1bt241iYmJZuPGjaaiosK88cYbplOnTqawsNAYY8zSpUtNnz59zM6dO83hw4fNI488YgYPHmxqamqMMcbcdddd5vbbbzcHDhww%2B/fvN6NGjTKPPvqoMcaYo0ePmssvv9wsWLDAlJeXm9zcXNO9e3fz9ttve3cBfuBM6/Hqq6%2BaG2%2B88bTbBuJ6GGPMtddea6ZOnWrKyspMYWGhGTZsmHnggQfOWnNDvn986XTrsW/fPtO%2BffvTbheo61FZWWkuu%2Bwys3DhQlNZWWkOHDhgbrzxRnPnnXc2%2BOfouXCMqgsClp/ZsmWL6dixo3G5XO62l156yQwcONCHVdl3uoD19NNPm6FDh3q0ZWVlmenTpxtjjLn99tvN73//e3dfdXW16dmzp1m9erU5fvy46datm3nnnXfc/Tt37jQdOnQw%2B/fvb6CZ/DTPPfecKS0tNVOmTKkVKGbOnGkyMzM92kaMGGGefPJJY4wxgwYNMs8995y77/DhwyY%2BPt58/vnnpri42FxyySVm27Zt7v5NmzaZzp07m2PHjpm1a9eaHj16mKqqKnf/nDlzzC233NIQ06yzM63H2QJWIK7HoUOHzNSpU01xcbG77fnnnzcDBgw4a80N%2Bf7xlTOtx9kCViCuhzHGuFwu87e//c0cP37c3fbcc8%2BZ/v37N%2Bjn6LlyjKoLLhH6mby8PMXGxioyMtLdlpCQoN27d6usrMyHldk3b9489e7dW5deeqmmT5%2Bu8vJy5eXlKT4%2B3uN18fHx7tPXP%2BwPDg5Wx44d5XQ6tXfvXh0%2BfFgJCQnu/jZt2qhRo0bKy8vzzqTq6KabblLTpk1P2Xe6NXA6naqoqNDOnTs9%2BsPDw9WqVSs5nU5t27ZNISEh6tChg7s/ISFBR44c0a5du5SXl6cOHTooJCTEY%2BzvXx7whTOthyQVFhbqt7/9rVJSUtSvXz%2B98cYbkhSw6xEREaFZs2bp/PPPd7cVFhYqJibmrDU35PvHV860HidNnjxZvXr1Uo8ePTRv3jwdP35cUmCuhyRFRkZqxIgRcjgckqRdu3bptdde09VXX92gn6Pn0jHqbAhYfsblcikiIsKj7eQb%2Bed6L9FP0blzZ6WlpWndunXKycnRF198oZkzZ55y/lFRUe65u1wuj7/Y0on1KSkpkcvlkqRa20dERPjV2p1pjocOHZIx5oxrEB4erqCgII8%2BSe7%2BU62vy%2BX62d5DER0drbi4ON1333365z//qXvvvVcPPPCANm/efM6sh9Pp1AsvvKDx48efteaGfP/8XHx/PUJDQ9WlSxf1799fGzZs0JIlS7Ry5Ur993//t6SG/fv0c1BQUKDExERdc801SkpK0oQJExr0c/RcOUbVBQHLDxljfF1Cg8vJydGIESMUGhqqNm3aaNKkSVq9erX7X51ncrb1CYT1q88cf8r8v38A%2Bbnp3bu3nn76acXHxys0NFSDBg1S//79tWLFCvdrAnk9Pv30U40dO1YTJ05UWlraaV/3/Zq9/f7xph%2BuR0xMjF555RX1799f5513npKTkzVu3Lg6vz/O1v9zX4/Y2Fg5nU699dZb2rNnjyZPnlyn7QJ5TbyFgOVnoqOj3f%2BCOMnlcikoKEjR0dE%2BqqrhXXTRRaqurlZwcHCt%2BZeUlLjn3qxZs1OuT3R0tPs1P%2Bw/dOiQmjdv3oDV23WmOUZFRZ1yjVwul5o3b67o6GiVlZWpurrao0%2BSu/%2BH/8p0uVzucf1FbGysioqKAn491q9fr9tvv10PPPCAbrrpJkk6a80N%2Bf7xtVOtx6nExsbqu%2B%2B%2BkzEmoNfjpKCgIMXFxSk7O1urV6%2BWw%2BFosM/Rc/UYdSq%2B/4TAj5KYmKjCwkIdPHjQ3eZ0OtW2bVs1adLEh5XZs3XrVs2ePdujLT8/X6GhoUpPT691/0tubq46deok6cT6fP9%2Bqurqam3dulWdOnVSy5YtFRkZ6dH/1Vdf6dixY0pMTGzAGdmVmJhYaw2cTqc6deqksLAwtWvXzmOOpaWl2rt3r5KTk9WxY0cZY7R9%2B3aPbSMiItS6dWslJiZqx44dqqqqqjX2z9XLL7%2BsNWvWeLTl5%2BerZcuWAb0en332maZMmaInnnhCQ4cOdbefreaGfP/40unWY/PmzVq8eLHHa3ft2qXY2FgFBQUF7Hps3rxZAwcO9LiUffIfBcnJyQ32OXouHKPqzFt308OeESNGmAceeMAcPnzY7Ny50/Tt29e88MILvi7Lmv3795vOnTubJ5980lRWVppdu3aZa665xjz66KPmu%2B%2B%2BM126dDF/%2B9vfTEVFhdm4caNJTk52f4tn06ZNplu3bubzzz83R44cMQsWLDDp6enm6NGjxpgT36a6/vrrzb///W9z8OBBM27cOHP33Xf7crpndKpvze3YscMkJSWZDRs2mIqKCrNs2TLTpUsXU1RUZIw58Y2d3r17u79WPn36dHPDDTe4t8/KyjK33nqrOXDggCksLDQ33HCDmT17tjHmxFe7%2B/TpY/70pz%2BZI0eOmC%2B%2B%2BMJceumlZsOGDV6b85mcaj3%2B%2Bte/mh49epgtW7aYY8eOmVWrVpmOHTsap9NpjAnM9Th%2B/Li5%2BuqrzSuvvFKr72w1N%2BT7x1fOtB5Op9MkJCSY119/3Rw7dsxs2bLF9OzZ0/3YgEBcD2OMKS0tNWlpaWb27NnmyJEj5sCBA2bs2LHmV7/6VYN/jgb6MaquCFh%2BqLCw0Nx6660mOTnZpKWlmT/96U/uZ7IEio8%2B%2BsiMGjXKdO7c2XTv3t3MmjXLVFRUuPuGDBliEhISzIABA2o9k%2BjFF1806enpJjEx0WRkZJgdO3a4%2ByorK82MGTNMSkqK6dKli7n33ntNaWmpV%2BdWF4mJiSYxMdFccskl5pJLLnH/%2BaS3337bDBgwwCQkJJjrrrvOfPTRR%2B6%2Bmpoa88QTT5jLLrvMJCcnm9tuu839TB9jTnzwZmdnm86dO5uUlBQzc%2BZMU1lZ6e7fsWOHGT16tElMTDS9e/c2L774oncmfQZnWo%2BamhqzaNEi06dPH5OYmGiuuuoqs379eve2gbgeH3/8sWnfvr17Hb7/880335y15oZ8//jC2dZj3bp1ZsiQISY5Odn07NnT/PnPfzbV1dXu7QNtPU7avn27ufHGG01ycrLp0aOHycrKcj%2BSpiE/R8%2BFY1RdBBnD3WgAAAA2cQ8WAACAZQQsAAAAywhYAAAAlhGwAAAALCNgAQAAWEbAAgAAsIyABQAAYBkBCwAAwDICFgAAgGUELAAAAMsIWAAAAJYRsAAAACwjYAEAAFj2v4CPOLD6aLr8AAAAAElFTkSuQmCC\"/>\n",
              "        </div>\n",
              "        <div role=\"tabpanel\" class=\"tab-pane col-md-12\" id=\"common-6233766199013562095\">\n",
              "            \n",
              "<table class=\"freq table table-hover\">\n",
              "    <thead>\n",
              "    <tr>\n",
              "        <td class=\"fillremaining\">Value</td>\n",
              "        <td class=\"number\">Count</td>\n",
              "        <td class=\"number\">Frequency (%)</td>\n",
              "        <td style=\"min-width:200px\">&nbsp;</td>\n",
              "    </tr>\n",
              "    </thead>\n",
              "    <tr class=\"\">\n",
              "        <td class=\"fillremaining\">2047</td>\n",
              "        <td class=\"number\">1</td>\n",
              "        <td class=\"number\">0.0%</td>\n",
              "        <td>\n",
              "            <div class=\"bar\" style=\"width:1%\">&nbsp;</div>\n",
              "        </td>\n",
              "</tr><tr class=\"\">\n",
              "        <td class=\"fillremaining\">21824</td>\n",
              "        <td class=\"number\">1</td>\n",
              "        <td class=\"number\">0.0%</td>\n",
              "        <td>\n",
              "            <div class=\"bar\" style=\"width:1%\">&nbsp;</div>\n",
              "        </td>\n",
              "</tr><tr class=\"\">\n",
              "        <td class=\"fillremaining\">17698</td>\n",
              "        <td class=\"number\">1</td>\n",
              "        <td class=\"number\">0.0%</td>\n",
              "        <td>\n",
              "            <div class=\"bar\" style=\"width:1%\">&nbsp;</div>\n",
              "        </td>\n",
              "</tr><tr class=\"\">\n",
              "        <td class=\"fillremaining\">19747</td>\n",
              "        <td class=\"number\">1</td>\n",
              "        <td class=\"number\">0.0%</td>\n",
              "        <td>\n",
              "            <div class=\"bar\" style=\"width:1%\">&nbsp;</div>\n",
              "        </td>\n",
              "</tr><tr class=\"\">\n",
              "        <td class=\"fillremaining\">29988</td>\n",
              "        <td class=\"number\">1</td>\n",
              "        <td class=\"number\">0.0%</td>\n",
              "        <td>\n",
              "            <div class=\"bar\" style=\"width:1%\">&nbsp;</div>\n",
              "        </td>\n",
              "</tr><tr class=\"\">\n",
              "        <td class=\"fillremaining\">25894</td>\n",
              "        <td class=\"number\">1</td>\n",
              "        <td class=\"number\">0.0%</td>\n",
              "        <td>\n",
              "            <div class=\"bar\" style=\"width:1%\">&nbsp;</div>\n",
              "        </td>\n",
              "</tr><tr class=\"\">\n",
              "        <td class=\"fillremaining\">27943</td>\n",
              "        <td class=\"number\">1</td>\n",
              "        <td class=\"number\">0.0%</td>\n",
              "        <td>\n",
              "            <div class=\"bar\" style=\"width:1%\">&nbsp;</div>\n",
              "        </td>\n",
              "</tr><tr class=\"\">\n",
              "        <td class=\"fillremaining\">5416</td>\n",
              "        <td class=\"number\">1</td>\n",
              "        <td class=\"number\">0.0%</td>\n",
              "        <td>\n",
              "            <div class=\"bar\" style=\"width:1%\">&nbsp;</div>\n",
              "        </td>\n",
              "</tr><tr class=\"\">\n",
              "        <td class=\"fillremaining\">7465</td>\n",
              "        <td class=\"number\">1</td>\n",
              "        <td class=\"number\">0.0%</td>\n",
              "        <td>\n",
              "            <div class=\"bar\" style=\"width:1%\">&nbsp;</div>\n",
              "        </td>\n",
              "</tr><tr class=\"\">\n",
              "        <td class=\"fillremaining\">1322</td>\n",
              "        <td class=\"number\">1</td>\n",
              "        <td class=\"number\">0.0%</td>\n",
              "        <td>\n",
              "            <div class=\"bar\" style=\"width:1%\">&nbsp;</div>\n",
              "        </td>\n",
              "</tr><tr class=\"other\">\n",
              "        <td class=\"fillremaining\">Other values (31952)</td>\n",
              "        <td class=\"number\">31952</td>\n",
              "        <td class=\"number\">100.0%</td>\n",
              "        <td>\n",
              "            <div class=\"bar\" style=\"width:100%\">&nbsp;</div>\n",
              "        </td>\n",
              "</tr>\n",
              "</table>\n",
              "        </div>\n",
              "        <div role=\"tabpanel\" class=\"tab-pane col-md-12\"  id=\"extreme-6233766199013562095\">\n",
              "            <p class=\"h4\">Minimum 5 values</p>\n",
              "            \n",
              "<table class=\"freq table table-hover\">\n",
              "    <thead>\n",
              "    <tr>\n",
              "        <td class=\"fillremaining\">Value</td>\n",
              "        <td class=\"number\">Count</td>\n",
              "        <td class=\"number\">Frequency (%)</td>\n",
              "        <td style=\"min-width:200px\">&nbsp;</td>\n",
              "    </tr>\n",
              "    </thead>\n",
              "    <tr class=\"\">\n",
              "        <td class=\"fillremaining\">1</td>\n",
              "        <td class=\"number\">1</td>\n",
              "        <td class=\"number\">0.0%</td>\n",
              "        <td>\n",
              "            <div class=\"bar\" style=\"width:100%\">&nbsp;</div>\n",
              "        </td>\n",
              "</tr><tr class=\"\">\n",
              "        <td class=\"fillremaining\">2</td>\n",
              "        <td class=\"number\">1</td>\n",
              "        <td class=\"number\">0.0%</td>\n",
              "        <td>\n",
              "            <div class=\"bar\" style=\"width:100%\">&nbsp;</div>\n",
              "        </td>\n",
              "</tr><tr class=\"\">\n",
              "        <td class=\"fillremaining\">3</td>\n",
              "        <td class=\"number\">1</td>\n",
              "        <td class=\"number\">0.0%</td>\n",
              "        <td>\n",
              "            <div class=\"bar\" style=\"width:100%\">&nbsp;</div>\n",
              "        </td>\n",
              "</tr><tr class=\"\">\n",
              "        <td class=\"fillremaining\">4</td>\n",
              "        <td class=\"number\">1</td>\n",
              "        <td class=\"number\">0.0%</td>\n",
              "        <td>\n",
              "            <div class=\"bar\" style=\"width:100%\">&nbsp;</div>\n",
              "        </td>\n",
              "</tr><tr class=\"\">\n",
              "        <td class=\"fillremaining\">5</td>\n",
              "        <td class=\"number\">1</td>\n",
              "        <td class=\"number\">0.0%</td>\n",
              "        <td>\n",
              "            <div class=\"bar\" style=\"width:100%\">&nbsp;</div>\n",
              "        </td>\n",
              "</tr>\n",
              "</table>\n",
              "            <p class=\"h4\">Maximum 5 values</p>\n",
              "            \n",
              "<table class=\"freq table table-hover\">\n",
              "    <thead>\n",
              "    <tr>\n",
              "        <td class=\"fillremaining\">Value</td>\n",
              "        <td class=\"number\">Count</td>\n",
              "        <td class=\"number\">Frequency (%)</td>\n",
              "        <td style=\"min-width:200px\">&nbsp;</td>\n",
              "    </tr>\n",
              "    </thead>\n",
              "    <tr class=\"\">\n",
              "        <td class=\"fillremaining\">31958</td>\n",
              "        <td class=\"number\">1</td>\n",
              "        <td class=\"number\">0.0%</td>\n",
              "        <td>\n",
              "            <div class=\"bar\" style=\"width:100%\">&nbsp;</div>\n",
              "        </td>\n",
              "</tr><tr class=\"\">\n",
              "        <td class=\"fillremaining\">31959</td>\n",
              "        <td class=\"number\">1</td>\n",
              "        <td class=\"number\">0.0%</td>\n",
              "        <td>\n",
              "            <div class=\"bar\" style=\"width:100%\">&nbsp;</div>\n",
              "        </td>\n",
              "</tr><tr class=\"\">\n",
              "        <td class=\"fillremaining\">31960</td>\n",
              "        <td class=\"number\">1</td>\n",
              "        <td class=\"number\">0.0%</td>\n",
              "        <td>\n",
              "            <div class=\"bar\" style=\"width:100%\">&nbsp;</div>\n",
              "        </td>\n",
              "</tr><tr class=\"\">\n",
              "        <td class=\"fillremaining\">31961</td>\n",
              "        <td class=\"number\">1</td>\n",
              "        <td class=\"number\">0.0%</td>\n",
              "        <td>\n",
              "            <div class=\"bar\" style=\"width:100%\">&nbsp;</div>\n",
              "        </td>\n",
              "</tr><tr class=\"\">\n",
              "        <td class=\"fillremaining\">31962</td>\n",
              "        <td class=\"number\">1</td>\n",
              "        <td class=\"number\">0.0%</td>\n",
              "        <td>\n",
              "            <div class=\"bar\" style=\"width:100%\">&nbsp;</div>\n",
              "        </td>\n",
              "</tr>\n",
              "</table>\n",
              "        </div>\n",
              "    </div>\n",
              "</div>\n",
              "</div><div class=\"row variablerow\">\n",
              "    <div class=\"col-md-3 namecol\">\n",
              "        <p class=\"h4 pp-anchor\" id=\"pp_var_label\">label<br/>\n",
              "            <small>Boolean</small>\n",
              "        </p>\n",
              "    </div><div class=\"col-md-6\">\n",
              "    <div class=\"row\">\n",
              "        <div class=\"col-sm-6\">\n",
              "            <table class=\"stats \">\n",
              "                <tr class=\"\">\n",
              "                    <th>Distinct count</th>\n",
              "                    <td>2</td>\n",
              "                </tr>\n",
              "                <tr>\n",
              "                    <th>Unique (%)</th>\n",
              "                    <td>0.0%</td>\n",
              "                </tr>\n",
              "                <tr class=\"ignore\">\n",
              "                    <th>Missing (%)</th>\n",
              "                    <td>0.0%</td>\n",
              "                </tr>\n",
              "                <tr class=\"ignore\">\n",
              "                    <th>Missing (n)</th>\n",
              "                    <td>0</td>\n",
              "                </tr>\n",
              "            </table>\n",
              "        </div>\n",
              "        <div class=\"col-sm-6\">\n",
              "            <table class=\"stats \">\n",
              "                <tr>\n",
              "                    <th>Mean</th>\n",
              "                    <td>0.070146</td>\n",
              "                </tr>\n",
              "            </table>\n",
              "        </div>\n",
              "    </div>\n",
              "</div>\n",
              "<div class=\"col-md-3 collapse in\" id=\"minifreqtable-7561998089245252432\">\n",
              "    <table class=\"mini freq\">\n",
              "        <tr class=\"\">\n",
              "    <th>0</th>\n",
              "    <td>\n",
              "        <div class=\"bar\" style=\"width:100%\" data-toggle=\"tooltip\" data-placement=\"right\" data-html=\"true\"\n",
              "             data-delay=500 title=\"Percentage: 93.0%\">\n",
              "            29720\n",
              "        </div>\n",
              "        \n",
              "    </td>\n",
              "</tr><tr class=\"\">\n",
              "    <th>1</th>\n",
              "    <td>\n",
              "        <div class=\"bar\" style=\"width:8%\" data-toggle=\"tooltip\" data-placement=\"right\" data-html=\"true\"\n",
              "             data-delay=500 title=\"Percentage: 7.0%\">\n",
              "            &nbsp;\n",
              "        </div>\n",
              "        2242\n",
              "    </td>\n",
              "</tr>\n",
              "    </table>\n",
              "</div>\n",
              "<div class=\"col-md-12 text-right\">\n",
              "    <a role=\"button\" data-toggle=\"collapse\" data-target=\"#freqtable-7561998089245252432, #minifreqtable-7561998089245252432\"\n",
              "        aria-expanded=\"true\" aria-controls=\"collapseExample\">\n",
              "        Toggle details\n",
              "    </a>\n",
              "</div>\n",
              "<div class=\"col-md-12 extrapadding collapse\" id=\"freqtable-7561998089245252432\">\n",
              "    \n",
              "<table class=\"freq table table-hover\">\n",
              "    <thead>\n",
              "    <tr>\n",
              "        <td class=\"fillremaining\">Value</td>\n",
              "        <td class=\"number\">Count</td>\n",
              "        <td class=\"number\">Frequency (%)</td>\n",
              "        <td style=\"min-width:200px\">&nbsp;</td>\n",
              "    </tr>\n",
              "    </thead>\n",
              "    <tr class=\"\">\n",
              "        <td class=\"fillremaining\">0</td>\n",
              "        <td class=\"number\">29720</td>\n",
              "        <td class=\"number\">93.0%</td>\n",
              "        <td>\n",
              "            <div class=\"bar\" style=\"width:100%\">&nbsp;</div>\n",
              "        </td>\n",
              "</tr><tr class=\"\">\n",
              "        <td class=\"fillremaining\">1</td>\n",
              "        <td class=\"number\">2242</td>\n",
              "        <td class=\"number\">7.0%</td>\n",
              "        <td>\n",
              "            <div class=\"bar\" style=\"width:8%\">&nbsp;</div>\n",
              "        </td>\n",
              "</tr>\n",
              "</table>\n",
              "</div>\n",
              "</div><div class=\"row variablerow\">\n",
              "    <div class=\"col-md-3 namecol\">\n",
              "        <p class=\"h4 pp-anchor\" id=\"pp_var_tweet\">tweet<br/>\n",
              "            <small>Categorical</small>\n",
              "        </p>\n",
              "    </div><div class=\"col-md-3\">\n",
              "    <table class=\"stats \">\n",
              "        <tr class=\"alert\">\n",
              "            <th>Distinct count</th>\n",
              "            <td>29530</td>\n",
              "        </tr>\n",
              "        <tr>\n",
              "            <th>Unique (%)</th>\n",
              "            <td>92.4%</td>\n",
              "        </tr>\n",
              "        <tr class=\"ignore\">\n",
              "            <th>Missing (%)</th>\n",
              "            <td>0.0%</td>\n",
              "        </tr>\n",
              "        <tr class=\"ignore\">\n",
              "            <th>Missing (n)</th>\n",
              "            <td>0</td>\n",
              "        </tr>\n",
              "    </table>\n",
              "</div>\n",
              "<div class=\"col-md-6 collapse in\" id=\"minifreqtable6090832209746507557\">\n",
              "    <table class=\"mini freq\">\n",
              "        <tr class=\"\">\n",
              "    <th>#model   i love u take with u all the time in urð±!!! ððððð¦ð¦ð¦  </th>\n",
              "    <td>\n",
              "        <div class=\"bar\" style=\"width:2%\" data-toggle=\"tooltip\" data-placement=\"right\" data-html=\"true\"\n",
              "             data-delay=500 title=\"Percentage: 1.0%\">\n",
              "            &nbsp;\n",
              "        </div>\n",
              "        319\n",
              "    </td>\n",
              "</tr><tr class=\"\">\n",
              "    <th>i finally found a way how to delete old tweets! you might find it useful as well:    #deletetweets</th>\n",
              "    <td>\n",
              "        <div class=\"bar\" style=\"width:1%\" data-toggle=\"tooltip\" data-placement=\"right\" data-html=\"true\"\n",
              "             data-delay=500 title=\"Percentage: 0.3%\">\n",
              "            &nbsp;\n",
              "        </div>\n",
              "        82\n",
              "    </td>\n",
              "</tr><tr class=\"\">\n",
              "    <th>aww yeah it's all good bing bong bing bong   </th>\n",
              "    <td>\n",
              "        <div class=\"bar\" style=\"width:1%\" data-toggle=\"tooltip\" data-placement=\"right\" data-html=\"true\"\n",
              "             data-delay=500 title=\"Percentage: 0.2%\">\n",
              "            &nbsp;\n",
              "        </div>\n",
              "        75\n",
              "    </td>\n",
              "</tr><tr class=\"other\">\n",
              "    <th>Other values (29527)</th>\n",
              "    <td>\n",
              "        <div class=\"bar\" style=\"width:100%\" data-toggle=\"tooltip\" data-placement=\"right\" data-html=\"true\"\n",
              "             data-delay=500 title=\"Percentage: 98.5%\">\n",
              "            31486\n",
              "        </div>\n",
              "        \n",
              "    </td>\n",
              "</tr>\n",
              "    </table>\n",
              "</div>\n",
              "<div class=\"col-md-12 text-right\">\n",
              "    <a role=\"button\" data-toggle=\"collapse\" data-target=\"#freqtable6090832209746507557, #minifreqtable6090832209746507557\"\n",
              "       aria-expanded=\"true\" aria-controls=\"collapseExample\">\n",
              "        Toggle details\n",
              "    </a>\n",
              "</div>\n",
              "<div class=\"col-md-12 extrapadding collapse\" id=\"freqtable6090832209746507557\">\n",
              "    \n",
              "<table class=\"freq table table-hover\">\n",
              "    <thead>\n",
              "    <tr>\n",
              "        <td class=\"fillremaining\">Value</td>\n",
              "        <td class=\"number\">Count</td>\n",
              "        <td class=\"number\">Frequency (%)</td>\n",
              "        <td style=\"min-width:200px\">&nbsp;</td>\n",
              "    </tr>\n",
              "    </thead>\n",
              "    <tr class=\"\">\n",
              "        <td class=\"fillremaining\">#model   i love u take with u all the time in urð±!!! ððððð¦ð¦ð¦  </td>\n",
              "        <td class=\"number\">319</td>\n",
              "        <td class=\"number\">1.0%</td>\n",
              "        <td>\n",
              "            <div class=\"bar\" style=\"width:2%\">&nbsp;</div>\n",
              "        </td>\n",
              "</tr><tr class=\"\">\n",
              "        <td class=\"fillremaining\">i finally found a way how to delete old tweets! you might find it useful as well:    #deletetweets</td>\n",
              "        <td class=\"number\">82</td>\n",
              "        <td class=\"number\">0.3%</td>\n",
              "        <td>\n",
              "            <div class=\"bar\" style=\"width:1%\">&nbsp;</div>\n",
              "        </td>\n",
              "</tr><tr class=\"\">\n",
              "        <td class=\"fillremaining\">aww yeah it's all good bing bong bing bong   </td>\n",
              "        <td class=\"number\">75</td>\n",
              "        <td class=\"number\">0.2%</td>\n",
              "        <td>\n",
              "            <div class=\"bar\" style=\"width:1%\">&nbsp;</div>\n",
              "        </td>\n",
              "</tr><tr class=\"\">\n",
              "        <td class=\"fillremaining\">i'm so   and #grateful now that - #affirmations </td>\n",
              "        <td class=\"number\">56</td>\n",
              "        <td class=\"number\">0.2%</td>\n",
              "        <td>\n",
              "            <div class=\"bar\" style=\"width:1%\">&nbsp;</div>\n",
              "        </td>\n",
              "</tr><tr class=\"\">\n",
              "        <td class=\"fillremaining\">@user you might be a libtard if... #libtard  #sjw #liberal #politics </td>\n",
              "        <td class=\"number\">40</td>\n",
              "        <td class=\"number\">0.1%</td>\n",
              "        <td>\n",
              "            <div class=\"bar\" style=\"width:1%\">&nbsp;</div>\n",
              "        </td>\n",
              "</tr><tr class=\"\">\n",
              "        <td class=\"fillremaining\">you might be a libtard if... #libtard  #sjw #liberal #politics </td>\n",
              "        <td class=\"number\">32</td>\n",
              "        <td class=\"number\">0.1%</td>\n",
              "        <td>\n",
              "            <div class=\"bar\" style=\"width:1%\">&nbsp;</div>\n",
              "        </td>\n",
              "</tr><tr class=\"\">\n",
              "        <td class=\"fillremaining\">ð #love #instagood #photooftheday top.tags #tbt #cute #me #beautiful #followme   #followâ¦ </td>\n",
              "        <td class=\"number\">29</td>\n",
              "        <td class=\"number\">0.1%</td>\n",
              "        <td>\n",
              "            <div class=\"bar\" style=\"width:1%\">&nbsp;</div>\n",
              "        </td>\n",
              "</tr><tr class=\"\">\n",
              "        <td class=\"fillremaining\">have my lover stop being angry at me visit us..&gt;&gt;&gt;  #lover   #friend #astrologer #love </td>\n",
              "        <td class=\"number\">26</td>\n",
              "        <td class=\"number\">0.1%</td>\n",
              "        <td>\n",
              "            <div class=\"bar\" style=\"width:1%\">&nbsp;</div>\n",
              "        </td>\n",
              "</tr><tr class=\"\">\n",
              "        <td class=\"fillremaining\">#flagday2016   #flag #day #2016 #(30 #photos) buy things about \"flag day 2016\": â¦  </td>\n",
              "        <td class=\"number\">22</td>\n",
              "        <td class=\"number\">0.1%</td>\n",
              "        <td>\n",
              "            <div class=\"bar\" style=\"width:1%\">&nbsp;</div>\n",
              "        </td>\n",
              "</tr><tr class=\"\">\n",
              "        <td class=\"fillremaining\">get #up get   get  #enjoy #music #today #free #apps #free #music </td>\n",
              "        <td class=\"number\">21</td>\n",
              "        <td class=\"number\">0.1%</td>\n",
              "        <td>\n",
              "            <div class=\"bar\" style=\"width:1%\">&nbsp;</div>\n",
              "        </td>\n",
              "</tr><tr class=\"other\">\n",
              "        <td class=\"fillremaining\">Other values (29520)</td>\n",
              "        <td class=\"number\">31260</td>\n",
              "        <td class=\"number\">97.8%</td>\n",
              "        <td>\n",
              "            <div class=\"bar\" style=\"width:100%\">&nbsp;</div>\n",
              "        </td>\n",
              "</tr>\n",
              "</table>\n",
              "</div>\n",
              "</div>\n",
              "    <div class=\"row headerrow highlight\">\n",
              "        <h1>Correlations</h1>\n",
              "    </div>\n",
              "    <div class=\"row variablerow\">\n",
              "    <img src=\"data:image/png;base64,iVBORw0KGgoAAAANSUhEUgAAAk0AAAICCAYAAADS9PnhAAAABHNCSVQICAgIfAhkiAAAAAlwSFlzAAAPYQAAD2EBqD%2BnaQAAADh0RVh0U29mdHdhcmUAbWF0cGxvdGxpYiB2ZXJzaW9uMy4yLjEsIGh0dHA6Ly9tYXRwbG90bGliLm9yZy%2Bj8jraAAAgAElEQVR4nO3de1zW9f3/8ecFoqQIinKRIzyE4gHQqXMecqaY08yNjeXxu9LSmSmoaCvNucTZ3Bqm89DBvl9P31Wj6UpjLgtXrt9yLRP1ksADMk%2BZYHKpeOB4/f7w6zWvRP3AB7yAz%2BN%2Bu1235P058OLdTXj5fL%2BvDzaXy%2BUSAAAAbsnH2wUAAADUBTRNAAAABtA0AQAAGEDTBAAAYABNEwAAgAE0TQAAAAbQNAEAABhA0wQAAGAATRMAAIABNE0AAAAGNPB2AYDVdOzY8abH/Pz81KxZM0VHR%2BtHP/qRhg4dKpvNdgerAwDcjI3fPQfcWdeapq5duyokJMTjWFFRkY4cOaIvv/xSkjRo0CAtX75cDRs2vON1AgA80TQBd9i1pmnVqlV64IEHKjwnPT1dP//5z3Xp0iU9/vjjeuaZZ%2B5kiQCACrCnCaiFHnjgAc2ePVuS9Oabb6qoqMjLFQEA2NME1FLf//739atf/UqXL1/WF198oe7du3sc37lzp15//XXt2bNHTqdTAQEB6tSpk37yk5/oBz/4QYX3dDqdWrt2rXbs2KGjR4%2BquLhYQUFB6tq1qx577DH17t37hmtiY2N18uRJvfbaayoqKtLSpUt1/PhxrVu3Tj179pQkHTx4UGvWrNGuXbt0%2BvRpNWjQQHa7Xd/97nf105/%2BtMJ9XBcuXND69eu1fft2HT16VCUlJWrZsqV69OihCRMmKCYmxuP8EydOaPDgwZKkffv2KScnRy%2B//LIyMjLkdDplt9s1ePBgJSUlqXHjxlWacwC4FZImoJZq1qyZ%2B8/nz5/3OLZ06VJNmDBBH3zwgQICAtS7d28FBwdr586deuqppzRz5kyVlZV5XJOfn6/4%2BHi98sorOnLkiLp06aI%2BffqoYcOG%2BvDDDzV%2B/Hht2rTppvUcOXJESUlJ8vPzU58%2BfeTv7y9J%2Bte//qWf/OQnevvtt1VUVKSePXuqe/fuKiws1FtvvaVRo0Zp586dHvc6efKkfvzjH2vFihU6fPiwOnXqpD59%2BsjlciktLU2jRo3Sxo0bb1rL7t27NW7cOGVmZqpTp05q166dTp48qQ0bNigxMdHwHANApbgA3FGRkZGuyMhI1wcffHDL83Jyctzn7tu3zz3%2B/vvvuyIjI129evVyffrppx7X/Otf/3L169fPFRkZ6Vq7dq3HsUWLFrkiIyNdQ4cOdZ05c8Y9Xlpa6nr%2B%2BeddkZGRrp49e7oKCws9rhs0aJArMjLSFRsb63r55ZdvqHPkyJGuyMhI129%2B8xtXWVmZx32XLl3qioyMdI0YMcLjmnHjxrkiIyNd8fHxrtOnT7vHy8rKXCtWrHBFRka6oqOjXUeOHHEfO378uHs%2BBg4c6Fq9erWrvLzcffztt992H8/KyrrV1AJAlZA0AbXU%2B%2B%2B/L0kKCgpS586d3eMvv/yyJOmZZ57Rd7/7XY9revXqpaefflqStH79eo9jdrtdDz30kBISEtSiRQv3uK%2Bvr5KSkuTj46MLFy5oz549FdZTXl6uyZMn3zCelZUlSYqPj5ePz3%2B%2Bpfj6%2Bmr69OmaPn26HnnkERUXF0uS9u7dq127dkmSXnjhBdntdvc1Pj4%2BSkhIUFRUlIqLi/XHP/6xwlo6dOign/3sZx6PY4iLi1NwcLD7cwBAdWNPE1AL7dixQ6%2B%2B%2BqokadKkSWrQ4Opf1dOnTyszM1OSNGTIkAqvfeCBB2Sz2fTll18qNzdX7dq1kyT97Gc/u%2Bnnu%2Buuu9SiRQvl5%2BcrPz%2B/wnP69Onj0RRdExgYqDNnzmjr1q2aMWOGxzEfHx9NmzbNY%2Bzjjz%2BWdPVdhBERETf9GjIzM29Y1rumoj1bNptN4eHhOnv2rAoKCiq8DgDMoGkCvOTVV1/Vn//8Z4%2Bx4uJi/fvf/9bx48clXU1vJk2a5D5%2B8OBB95/nzJlz03s3aNBAJSUl%2Bve//%2B1umq7df8eOHdq/f7/y8vJ0/vx5uf7vqSMXLlyQdDVRqkhoaGiF4%2BPHj9eSJUv00ksv6eOPP9aIESPUt2/fmz7E8/Dhw5KupkU3c%2B%2B990q6uo%2BqIq1bt65wvFGjRpKkkpKSm94bAKqKpgnwkn379t0w5uvrq%2BbNm2vw4MEaPXq07r//fo/j586dc/95%2B/btt/0c1xohScrOzta0adN04sSJKtUbFBRU4fi1JbtXX31VDodDDodDkhQSEqJhw4Zp/PjxCg8Pv6GmwMDAm36upk2bSrra/Fy5csW96fwaHvYJwBtomgAvudXDLW/m2h4ePz8/ORwOw79i5cqVK3ryySf15Zdfqm3btpo6dar69u2r5s2by8/PT9J/Hi1wu89dkcmTJ2vMmDFKT0/Xjh079Mknnyg/P1//%2B7//q9TUVL3wwgt68MEHDX%2BdruueuVvRkiAAeANNE1CHXHsMQUlJiQoKCtwbn2/n73//u7788kvZbDatXr1abdq0ueGcK1eumKotMDBQ8fHxio%2BPV1lZmT755BOtWrVKGRkZmjdvnvr06aPmzZu7E6tvPkbheteO%2Bfv7kyoBqDX4JxxQh0RGRrr/fOjQIcPX/fvf/5Z0dS9QRQ3TsWPH9PXXX5uu7xpfX19973vf04YNGxQaGqqLFy%2B6lyOv7WW6fn/WN107dqt9TwBwp9E0AXVISEiIoqKiJElvvfVWhefk5uYqLi7O/WgC6T97hG7261hWrVrl/vM3H4p5K3v37tWzzz6rNWvWVHi8YcOGatmypaT/JFnX9mkdPHiwwsapvLzc/biF733ve4ZrAYCaRtME1DFTpkyRJKWlpWndunUe%2B3%2BOHj2q6dOnKzs7W6dOnXKPd%2BrUSZL01VdfKT093T1%2B%2BfJlLVq0SA6Hw/1rWm72jrWK%2BPr6atOmTVq%2BfLk%2B%2BuijG45/8MEHysrKkp%2Bfn3r06CFJ6tKli/r37y9JevbZZ3X27Fn3%2BaWlpfrd736nnJwcNW3aVGPGjDFcCwDUNPY0AXXM97//fU2ePFmrV6/W4sWLtWHDBt17770qKChQVlaWysrK1KVLFz311FPua7p3767%2B/fvr//2//6fExER169ZNjRo10v79%2B9WgQQOtXbtWf/nLX5SRkaENGzbowIEDevLJJ9WrV69b1hIdHa3HH39ca9as0RNPPKGwsDC1adNGPj4%2BOnHihHtZcN68eQoJCXFf9%2Btf/1rjx4%2BXw%2BFQbGysIiMj1ahRIx06dEgFBQXy9/fXkiVLbvqYAwDwBpomoA6aPXu2%2BvXrpz/84Q/as2ePdu7cqUaNGik6OlrDhw/XuHHjbthAvWzZMqWkpGj79u3av3%2B/7Ha7hg4dqilTpqh169a6%2B%2B679cUXX2j37t06dOiQ4XfmPfPMM%2BrVq5feeecd7d%2B/XxkZGSotLVVISIhGjBihn/70pzf8suHQ0FBt3LhR69at0wcffKBDhw6ptLRUoaGh%2Bv73v6%2BJEydWuPcKALzJ5ro%2B2wcAAECF2NMEAABgAE0TAACAATRNAAAABtA0AQAAr/n444/Vr18/JSUl3fK88vJyLV26VIMHD1avXr00ceJE9y83lySn06mZM2eqX79%2B6t%2B/v%2BbNm2f6Nx18E00TAADwitdee02LFi0y9G7Z119/Xe%2B%2B%2B65Wr16tDz/8UG3bttW0adPcz6qbP3%2B%2BLl%2B%2BrLS0NG3atEk5OTlKSUmp1nppmgAAQJXl5eUpMzPT45WXl2fo2kaNGmnjxo2GmqbU1FRNmDBBERERCggIUFJSknJycrR3716dOXNG6enpSkpKUnBwsEJDQzV16lRt2rRJJSUlZr9Et/r7nCaDz5iBF7VrJx06JHXoIOXmersa3Ep5ubcrAOoPb/58qoHPnbp8uVauXOkxlpCQoMTExNte%2B%2Bijjxr6HFeuXNHhw4fVpUsX91hAQIDatGkjh8OhCxcuyNfXVx07dnQfj4qK0qVLl3TkyBGPcTPqb9OE2q9ZM8nX9%2Bp/AZhns0k8eg932OjRoxUbG%2Bsxdv1vAKgO586dk8vlUlBQkMd4UFCQCgoK1KxZMwUEBHg8lPfauQUFBdVWB00TAACoMrvdLrvdfkc%2B162ex30nntVN0wQAgFX41M2tzM2aNZOPj4%2BcTqfHuNPpVIsWLRQcHKzCwkKVlZXJ19fXfUySWrRoUW111M3ZAwAAlefjU/2vO6BRo0bq0KGDMjMz3WPnz5/XsWPH1LVrV3Xu3Fkul0vZ2dnu4w6HQ4GBgWrXrl211UHTBAAAap3Tp09r2LBh7mcxjR07Vhs2bFBOTo4KCwuVkpKizp07KyYmRsHBwRo6dKiWLVums2fP6quvvtKqVav08MMPq0GD6ltUY3kOAACrqGXLczExMZKk0tJSSVJ6erqkqylRSUmJcnNzVVxcLEkaM2aM8vPz9cgjj%2BjixYvq3bu3x7v2Fi5cqOeee06DBw%2BWn5%2BfRowYcdsHZlaWzXUndk55A48cqP26d5d275Z69JAyMrxdDW6FRw7UDbx7rm7w5s%2BnRo2q/55FRdV/z1qKpAkAAKuoZUlTXUPTBACAVdA0mcLsAQAAGEDSBACAVZA0mULTBACAVdA0mcLsAQAAGEDSBACAVZA0mcLsAQAAGEDSBACAVZA0mULTBACAVdA0mcLsAQAAGEDSBACAVZA0mcLsAQAAGEDSBACAVZA0mULTBACAVdA0mcLsAQAAGEDSBACAVZA0mcLsAQAAGEDSBACAVZA0mULTBACAVdA0mcLsAQAAGEDSBACAVZA0mcLsAQAAGEDSBACAVZA0mULTBACAVdA0mcLsAQAAGEDSBACAVZA0mcLsAQAAGEDSBACAVZA0mULTBACAVdA0mcLsAQAAGEDSBACAVZA0mcLsAQAAGEDSBACAVZA0mULTBACAVdA0mcLsAQAAGEDSBACAVZA0mcLsAQAAGEDSBACAVZA0mULTBACAVdA0mcLsAQAAGEDSBACAVZA0mULTBAAAvObkyZNKTk7W3r171bhxYw0fPlyzZ8%2BWzzcavMcff1yfffaZx1hpaammTZumhIQEPfLII9q9e7fHde3atdOWLVuqrVaaJgAArKIWJk2JiYmKiopSenq6vv76az3xxBNq2bKlHnvsMY/z1qxZ4/Hx%2BfPnNXz4cA0ZMsQ99qtf/Urx8fE1VitNEwAAVlEDTVNeXp7y8/M9xkJCQmS32297rcPhUHZ2ttauXaumTZuqadOmmjBhgtavX39D0/RNy5Yt05AhQ9SxY0dT9VcGTRMAAKiy1NRUrVy50mMsISFBiYmJt702MzNTYWFhCgoKco9FRUUpNzdXhYWFCggIqPC6o0eP6p133lF6errH%2BNatW/Xf//3fOnXqlLp166aFCxeqdevWVfiqKkbTBACAVdRA0jR69GjFxsZ6jIWEhBi61ul0KjAw0GPsWgNVUFBw06Zp9erV%2BslPfqLg4GD3WEREhO666y6lpKSovLxcixYt0qRJk5SWlqaGDRtW5ku6KZomAABQZXa73dBS3M24XK5Kne90OrV582b99a9/9RhfsGCBx8cLFy5U79699fnnn6tv375Vru96NE0AAFhFLdsIHhwcLKfT6THmdDpls9k8UqTrbd%2B%2BXe3atVN4ePgt7x0QEKCgoCCdPn262uqtXbMHAABqjo9P9b9MiI6O1qlTp3T27Fn3mMPhUPv27dWkSZMKr9m%2Bfbvuu%2B8%2Bj7HCwkItWLDAo0E6e/aszp49e9vmqjJomgAAgFd06dJFMTExWrJkiQoLC5WTk6O1a9dq7NixkqRhw4Zp165dHtdkZWXpnnvu8RgLCAjQ3r17tWjRIjmdTp07d07Jycnq2LGjunfvXm310jQBAGAVtSxpkqTly5crLy9P9913nx599FH96Ec/0rhx4yRJubm5unTpksf5%2Bfn5atmy5Q33WbVqlVwul4YOHaqBAweqpKREq1evvuEhmWbYXJXdgVVX2GzergC30727tHu31KOHlJHh7WpwK%2BXl3q4ARthsUj39ll6vePPn04MPVv89v7Ehuz4jaQIAADCAd88BAGAVtezdc3UNswcAAGAASRMAAFZB0mQKTRMAAFZB02QKswcAAGAASRMAAFZB0mQKswcAAGAASRMAAFZB0mQKTRMAAFZB02QKswcAAGAASRMAAFZB0mQKswcAAGAASRMAAFZB0mQKTRMAAFZB02QKswcAAGAASRMAAFZB0mQKswcAAGAASRMAAFZB0mQKTRMAAFZB02QKswcAAGAASRMAAFZB0mQKswcAAGAASRMAAFZB0mQKTRMAAFZB02QKswcAAGAASRMAAFZB0mQKswcAAGAASRMAAFZB0mQKTRMAAFZB02QKswcAAGAASRMAAFZB0mQKswcAAGAASRMAAFZB0mQKTRMAAFZB02QKswcAAGAASRMAAFZB0mQKswcAAGAASRMAAFZB0mQKTRMAAFZB02QKswcAAGCA15qmkydPKiYmRrm5uTcc%2B/vf/66OHTt6oSoAAOoxH5/qf1mI15bnwsLC5HA4vPXpAQCwnlrY5Jw8eVLJycnau3evGjdurOHDh2v27Nny%2BUatK1as0EsvvaQGDTxblw8//FAtW7ZUUVGRnn/%2BeX300UcqKipS7969lZycrObNm1dbrbVv9gAAgGUkJiYqNDRU6enpWrt2rdLT07V%2B/foKz42Li5PD4fB4tWzZUpK0dOlSZWZmKjU1Vdu2bZPL5dLcuXOrtVavJU0nTpzQ4MGDtXXrVvn6%2BmrOnDk6cOCA2rdvrx/%2B8IeVuldeXp7y8/M9xkLatZO9WbPqLBnVrVMnz/8CAGpWDSRNFf4MDgmR3W6/7bUOh0PZ2dlau3atmjZtqqZNm2rChAlav369HnvsMcM1lJaWauPGjfrtb3%2BrVq1aSZJmzpyphx56SKdPn1ZoaGjlvqibqBXvnpszZ47CwsK0Zs0anTp1SjNmzKjU9ampqVq5cqXHWMKMGUqs5H3gJW%2B84e0KgPrDZvN2BbCYCn8GJyQoMTHxttdmZmYqLCxMQUFB7rGoqCjl5uaqsLBQAQEBHucfOHBAY8aM0cGDB9WqVSvNnTtX/fv317Fjx3ThwgVFRUW5z42IiJC/v78yMzPrT9N04cIFZWRkKDk5WY0bN1ZERITi4%2BP129/%2B1vA9Ro8erdjYWI%2BxkB/8QLpJvIdaolOnqw3TuHFSdra3q8GtfP65tyuAETab5HJ5uwrcjjcb2xpImir8GRwSYuhap9OpwMBAj7FrDVRBQYFH03T33XcrPDxcs2fPlt1uV2pqqqZMmaItW7bI6XRK0g33CgwMVEFBQaW/ppvxetNUVlYmSbrnnnvcY23btq3UPex2%2B40xYAXvykMtlZ0tZWR4uwoAqP9qoGmq8GdwJbgMNvojR47UyJEj3R9PmDBBf/nLX7RlyxYNGDCgUveqKq9vBLf9X8d9rXmSpPLycm%2BVAwAA7pDg4GB3SnSN0%2BmUzWZTcHDwba8PCwtTXl6e%2B9xv3uvcuXNq0aJFtdXr9abpWgx36tQp91hOTo63ygEAoP6qZc9pio6O1qlTp3T27Fn3mMPhUPv27dWkSROPc1966SXt3LnTYywnJ0fh4eEKDw9XUFCQMjMz3ccOHjyo4uJiRUdHm6rxel5vmqSrm7XWrFmjy5cv6%2BDBg9q8ebO3SwIAADWsS5cuiomJ0ZIlS1RYWKicnBytXbtWY8eOlSQNGzZMu3btknQ1RUpOTtaRI0dUVFSkNWvW6NixY/rxj38sX19fjRo1Sq%2B88opOnTqlgoICvfjiixoyZIj7kQTVwet7miRp%2BfLlmjt3rvr27auIiAhNnDhRzz77rLfLAgCgfqmFD7dcvny55s%2Bfr/vuu08BAQEaM2aMxo0bJ0nKzc3VpUuXJEmzZ8%2BWdHUvk9PpVPv27bVu3TrdfffdkqTp06fr4sWLiouLU2lpqQYNGqQFCxZUa602V03vmvIW3nZb%2B3XvLu3eLfXowUbw2o59hnUD756rG7z586kS70w37Jlnqv%2BetVTtazkBAABqoVqxPAcAAO6AWrg8V5cwewAAAAaQNAEAYBUkTabQNAEAYBU0TaYwewAAAAaQNAEAYBUkTaYwewAAAAaQNAEAYBUkTabQNAEAYBU0TaYwewAAAAaQNAEAYBUkTaYwewAAAAaQNAEAYBUkTabQNAEAYBU0TaYwewAAAAaQNAEAYBUkTaYwewAAAAaQNAEAYBUkTabQNAEAYBU0TaYwewAAAAaQNAEAYBUkTaYwewAAAAaQNAEAYBUkTabQNAEAYBU0TaYwewAAAAaQNAEAYBUkTaYwewAAAAaQNAEAYBUkTabQNAEAYBU0TaYwewAAAAaQNAEAYBUkTabQNAEAYBU0TaYwewAAAAaQNAEAYBUkTaYwewAAAAaQNAEAYBUkTabQNAEAYBU0TaYwewAAAAaQNAEAYBUkTaYwewAAAAaQNAEAYBUkTabQNAEAYBW1sGk6efKkkpOTtXfvXjVu3FjDhw/X7Nmz5VNBrW%2B%2B%2BabWrVunvLw8tW7dWomJiXrggQckSXPmzNGWLVvk6%2BvrPr9Ro0batWtXtdVK0wQAALwmMTFRUVFRSk9P19dff60nnnhCLVu21GOPPeZx3rZt27RkyRK9%2Buqr6tq1q9555x3NnDlTf/3rXxUeHi5JevLJJ5WYmFhjtda%2BlhMAANQMH59qf%2BXl5SkzM9PjlZeXZ6gch8Oh7OxsPfXUU2ratKnatm2rCRMmKDU19YZzr1y5olmzZqlnz57y8/PTyJEj1aRJE%2B3Zs6e6Z%2BmmSJoAAECVpaamauXKlR5jCQkJhhKfzMxMhYWFKSgoyD0WFRWl3NxcFRYWKiAgwD0eFxfnce358%2Bd18eJFhYaGusf%2B%2Bc9/avv27Tp69KgiIiK0YMECRUdHV/VLuwFNEwAAVlEDe5pGjx6t2NhYj7GQkBBD1zqdTgUGBnqMXWugCgoKPJqm67lcLv3iF79Qt27d9N3vfleSFB4eLh8fH82YMUNNmjTRypUr9fjjj2vbtm1q3rx5Zb%2BsCtE0AQBgFTXQNNntdtnt9ipf73K5KnV%2BSUmJ5syZo8OHD2vDhg3u8WnTpnmc9/Of/1xpaWlKT0/XyJEjq1zf9WiaAACAVwQHB8vpdHqMOZ1O2Ww2BQcH33D%2BlStXNHXqVF2%2BfFmvv/76LRMkX19ftWrVyvD%2BKiPYCA4AgFXUwEZwM6Kjo3Xq1CmdPXvWPeZwONS%2BfXs1adLE41yXy6WkpCQ1aNBA69at82iYXC6XFi9erOzsbPdYcXGxjh075n5nXXWgaQIAAF7RpUsXxcTEaMmSJSosLFROTo7Wrl2rsWPHSpKGDRvmfs7Su%2B%2B%2Bq8OHD%2Bv3v/%2B9GjVq5HEfm82mEydOKDk5WadPn9bFixeVkpIiPz8/93OcqgPLcwAAWEUtfLjl8uXLNX/%2BfN13330KCAjQmDFjNG7cOElSbm6uLl26JEnatGmTTp486d74fU1cXJwWLVqk559/Xr/97W8VHx%2BvwsJCde3aVevXr1fjxo2rrVabq7I7sOoKm83bFeB2uneXdu%2BWevSQMjK8XQ1upbzc2xXACJtNqqff0usVb/58%2BvTT6r9n797Vf89aqva1nAAAALUQy3MAAFhFLVyeq0uYPQAAAANImgAAsAqSJlNomgAAsAqaJlOYPQAAAANImgAAsAqSJlOYPQAAAANImgAAsAqSJlNomgAAsAqaJlOYPQAAAANImgAAsAqSJlOYPQAAAANImgAAsAqSJlNomgAAsAqaJlOYPQAAAANImgAAsAqSJlOYPQAAAANImgAAsAqSJlNomgAAsAqaJlOYPQAAAANImgAAsAqSJlOYPQAAAANImgAAsAqSJlNomgAAsAqaJlOYPQAAAANImgAAsAqSJlNomgAAsAqaJlOYPQAAAANImgAAsAqSJlOYPQAAAANImgAAsAqSJlNomgAAsAqaJlOYPQAAAANImgAAsAqSJlOYPQAAAANImgAAsAqSJlNomgAAsAqaJlOYPQAAAANImgAAsAqSJlOYPQAAAANImgAAsAqSJlOYPQAArMLHp/pfJp08eVKTJ09W7969NWjQIP3ud79TeXl5hedu2LBBQ4cOVY8ePTR27Fjt37/ffayoqEi//OUvNWDAAPXu3VvTp09XQUGB6fquR9MEAAC8JjExUaGhoUpPT9fatWuVnp6u9evX33De3/72N61YsUIvvPCCPvnkEw0aNEhTpkzRpUuXJElLly5VZmamUlNTtW3bNrlcLs2dO7daa6VpAgDAKmogacrLy1NmZqbHKy8vz1A5DodD2dnZeuqpp9S0aVO1bdtWEyZMUGpq6g3npqamKj4%2BXt26dZO/v78mTZokSfrwww9VWlqqjRs3aurUqWrVqpWaNWummTNn6qOPPtLp06erbfrq756mm0R7qIU%2B/9zbFeB22AdR%2B3XvLu3eLfXsKWVkeLsa3IrL5e0KqlVqaqpWrlzpMZaQkKDExMTbXpuZmamwsDAFBQW5x6KiopSbm6vCwkIFBAR4nDt8%2BHD3xz4%2BPurcubMcDoc6d%2B6sCxcuKCoqyn08IiJC/v7%2ByszMVGhoqJkv0a3%2BNk0AAMCDS7Zqv%2Bfo0aMVGxvrMRYSEmLoWqfTqcDAQI%2Bxaw1UQUGBR9PkdDo9mqtr5xYUFMjpdErSDfcKDAys1n1NNE0AAFhETSzC2O122e32Kl/vqkTydrtzK3OvqiBzBwAAXhEcHOxOia5xOp2y2WwKDg72GG/evHmF5wYHB7vP/ebxc%2BfOqUWLFtVWL00TAAAWUV5e/S8zoqOjderUKZ09e9Y95nA41L59ezVp0uSGczMzM90fl5WV6YsvvlC3bt0UHh6uoKAgj%2BMHDx5UcXGxoqOjzRV5HZomAADgFV26dFFMTIyWLFmiwsJC5eTkaO3atRo7dqwkadiwYdq1a5ckaezYsXrnnXe0Z88eXb58WS%2B//LIaNmyogQMHytfXV6NGjdIrr7yiU6dOqaCgQC%2B%2B%2BKKGDBmili1bVlu97GkCAMAiauMby5cvX6758021%2BYMAABoMSURBVOfrvvvuU0BAgMaMGaNx48ZJknJzc93PYRowYIBmzZqlmTNn6uuvv1ZMTIxWr14tf39/SdL06dN18eJFxcXFqbS0VIMGDdKCBQuqtVabq6Z3TXlLPf2y6h2bjf9XdQGPHKj9rj1yoEcPHjlQ23nxe97ly9V/z7vuqv571lZ8JwQAADCA5TkAACyiNi7P1SUkTQAAAAaQNAEAYBEkTebQNAEAYBE0TeawPAcAAGAASRMAABZB0mQOSRMAAIABJE0AAFgESZM5NE0AAFgETZM5LM8BAAAYQNIEAIBFkDSZQ9IEAABgAEkTAAAWQdJkDk0TAAAWQdNkDstzAAAABpA0AQBgESRN5tA0AQBgETRN5rA8BwAAYABJEwAAFkHSZA5JEwAAgAEkTQAAWARJkzk0TQAAWARNkzkszwEAABhA0gQAgEWQNJlD0gQAAGAASRMAABZB0mQOTRMAABZB02QOy3MAAAAGkDQBAGARJE3mkDQBAAAYQNIEAIBFkDSZQ9MEAIBF0DSZw/IcAACAASRNAABYBEmTOSRNAAAABpA0AQBgESRN5tA0AQBgETRN5rA8BwAAYABJEwAAFkHSZA5JEwAAgAEkTQAAWARJkzkkTQAAWER5efW/apLT6dTMmTPVr18/9e/fX/PmzdOVK1duev7777%2BvH/7wh%2BrevbuGDh2qt956y31sxYoV6ty5s2JiYjxeZ86cMVwPTRMAAKiV5s%2Bfr8uXLystLU2bNm1STk6OUlJSKjx33759euqppzR9%2BnR99tlnevbZZ7Vw4ULt2rXLfU5cXJwcDofHq2XLlobrYXkOAACLqIlkKC8vT/n5%2BR5jISEhstvtpu575swZpaen6%2B2331ZwcLAkaerUqZoxY4aeeeYZ%2Bfn5eZzvdDr1xBNP6IEHHpAk3X///YqMjNSuXbv0ne98x1Qt19A0AQCAKktNTdXKlSs9xhISEpSYmGjqvllZWfL19VXHjh3dY1FRUbp06ZKOHDniMS5JAwYM0IABA9wfl5aWKj8/X6Ghoe6xAwcOaMyYMTp48KBatWqluXPnqn///oZromkCAMAiaiJpGj16tGJjYz3GQkJCTN/X6XQqICBANpvNPRYUFCRJKigouO31KSkpaty4sYYPHy5JuvvuuxUeHq7Zs2fLbrcrNTVVU6ZM0ZYtW3TvvfcaqommCQAAi6iJpslut1d5KW7z5s16%2BumnKzyWlJQkl8tV6Xu6XC6lpKQoLS1NGzZsUKNGjSRJI0eO1MiRI93nTZgwQX/5y1%2B0ZcsWzZw509C9aZoAAIBXxMXFKS4ursJj//jHP1RYWKiysjL5%2BvpKupo%2BSVKLFi0qvKa8vFxz587Vvn379Oabbyo8PPyWnz8sLEx5eXmG6%2BXdcwAAWERdeuRA586d5XK5lJ2d7R5zOBwKDAxUu3btKrzm17/%2BtQ4dOlRhw/TSSy9p586dHmM5OTm3bayuR9MEAABqneDgYA0dOlTLli3T2bNn9dVXX2nVqlV6%2BOGH1aDB1YWy8ePHa%2BvWrZKkzz//XFu2bNHq1avVrFmzG%2B7ndDqVnJysI0eOqKioSGvWrNGxY8f04x//2HBNLM8BAGARde2J4AsXLtRzzz2nwYMHy8/PTyNGjFBSUpL7%2BPHjx3Xu3DlJ0qZNm3ThwgUNGjTI4x69evXSmjVrNHv2bElX9zI5nU61b99e69at09133224HpurKrus6oJ6%2BmXVOzYb/6/qAh9C6Vqve3dp926pRw8pI8Pb1eBWvPg9769/rf57Pvhg9d%2BztuI7IQAAgAEszwEAYBF1bXmutiFpAgAAMICkCQAAiyBpMoemCQAAi6BpMoflOQAAAANImgAAsAiSJnNomgAAsAiaJnNYngMAADCApAkAAIsgaTKHpAkAAMAAkiYAACyCpMkcmiYAACyCpskclucAAAAMIGkCAMAiSJrMIWkCAAAwgKQJAACLIGkyh6YJAACLoGkyh%2BU5AAAAA0iaAACwCJImc0iaAAAADCBpAgDAIkiazKFpAgDAImiazGF5DgAAwACSJgAALIKkyRySJgAAAANImgAAsAiSJnNomgAAsAiaJnNYngMAADCApAkAAIsgaTKHpAkAAMAAkiYAACyCpMkcmiYAACyCpskclucAAAAMIGkCAMAiSJrMIWkCAAAwgKQJAACLIGkyh6YJAACLoGkyh%2BU5AAAAA0iaAACwCJImcyqVNJ04cUIdO3ZUTk7OLc/79NNP1bFjRxUVFVWpqEceeUQpKSlVuhYAAKAmsDwHAIBFlJdX/6smOZ1OzZw5U/369VP//v01b948XblypcJz//znP6tTp06KiYnxeO3bt%2B//vvZyLV26VIMHD1avXr00ceJEHT9%2BvFL10DQBAGARda1pmj9/vi5fvqy0tDRt2rRJOTk5t1yJ6tWrlxwOh8era9eukqTXX39d7777rlavXq0PP/xQbdu21bRp0%2BRyuQzXU%2BWm6dixY5o4caJ69%2B6t3r17a9asWTp//rzHOTt27NCQIUPUs2dPJSYmqrCw0H1s69atiouL07e//W0NHjxYqampVS0FAADUM2fOnFF6erqSkpIUHBys0NBQTZ06VZs2bVJJSUml75eamqoJEyYoIiJCAQEBSkpKUk5Ojvbu3Wv4HlXeCP6LX/xCYWFh%2Bvjjj1VYWKiJEyfqpZde0pw5c9znvPvuu3rrrbdUVFSkxx57TEuWLNFzzz0nh8OhefPmacWKFerbt68yMjL0s5/9TB06dFCPHj0qXUteXp7y8/M9xkJatpTdbq/qlwfget27e7sC3E6nTp7/BSpQE8lQhT%2BDQ0JM/wzOysqSr6%2BvOnbs6B6LiorSpUuXdOTIEY/xa06dOqXHHntM%2B/fvV2BgoKZPn664uDhduXJFhw8fVpcuXdznBgQEqE2bNnI4HPr2t79tqKYqN02rV6%2BWzWZTw4YNFRwcrO9973vavXu3xzkTJ05U8%2BbNJUljxozR%2BvXrJV1ddxw4cKD69%2B8vSfrOd76jBx98UJs3b65S05SamqqVK1d6jCVMm6bE6dOr8qXhTrPZvF0Bbucbf7dRi73xhrcrgMVU%2BDM4IUGJiYmm7ut0OhUQECDbdT8jgoKCJEkFBQU3nB8cHKy2bdtq1qxZat%2B%2BvT744AM9/fTTstvtuvfee%2BVyudzXX3%2B/iu51M1Vumvbv368lS5bowIEDKikpUVlZmaKjoz3Oad%2B%2BvfvPrVu3Vl5enqSrS3s7d%2B5UTEyM%2B7jL5XI3UZU1evRoxcbGeoyFtGwpVWKdEl5is/H/qS7o2dPbFeB2OnW62jCNGydlZ3u7GtyKF/8RUhNJU4U/g0NCDF27efNmPf300xUeS0pKqtR%2Bo4EDB2rgwIHujx966CF98MEH%2BvOf/6ynnnpKkip1v4pUqWk6f/68Jk%2BerLFjx%2Bq1115TQECAli1bpk8%2B%2BcTjvOu7Q5fLpYYNG0qS/P39NXbsWM2fP99E6f9ht9tvjAH5QQxUn4wMb1cAo7Kz%2Bf%2BFm6qJpqnCn8EGxcXFKS4ursJj//jHP1RYWKiysjL5%2BvpKupo%2BSVKLFi0M3T8sLEz79%2B9Xs2bN5OPj477%2BGqfTafhekomN4BcvXtTEiRMVEBAgSfriiy9uOCc3N9f952PHjik0NFTS1dTpwIEDHud%2B9dVXKisrq2o5AACgHuncubNcLpeyr0tOHQ6HAgMD1a5duxvOf/PNN7V161aPsZycHIWHh6tRo0bq0KGDMjMz3cfOnz%2BvY8eOud9dZ0SVmqby8nL5%2BPgoIyNDly5d0rp163TmzBmdOXNGpaWl7vPWrFmjCxcuKC8vT3/60580ZMgQSdLDDz%2Bs3bt3a9OmTSouLlZWVpZGjhypbdu2VaUcAABgQF165EBwcLCGDh2qZcuW6ezZs/rqq6%2B0atUqPfzww2rQ4OpC2fjx492NUnFxsX71q1/J4XCopKREaWlp%2Bvvf/64xY8ZIksaOHasNGzYoJydHhYWFSklJUefOnT22Ct1OlZbnmjVrplmzZunZZ5%2BVJI0bN04pKSl69NFHNW7cOM2ePVs%2BPj566KGHFBcXp3PnzmnAgAGaMmWKJCkiIkJLlizR8uXLlZycLLvdrokTJ2r48OFVKQcAANRDCxcu1HPPPafBgwfLz89PI0aMUFJSkvv48ePHde7cOUnSo48%2BqosXL2rGjBnKz8/XPffco1WrVrn3W48ZM0b5%2Bfl65JFHdPHiRfXu3fuGDey3Y3OZ3RVVW9XTL6veYSN43eDDc3Brve7dr24w7tGDPU21nRe/582dW/33XLy4%2Bu9ZW/ELewEAsAh%2BYa85/PMRAADAAJImAAAsgqTJHJomAAAsgqbJHJbnAAAADCBpAgDAIkiazCFpAgAAMICkCQAAiyBpMoemCQAAi6BpMoflOQAAAANImgAAsAiSJnNImgAAAAwgaQIAwCJImsyhaQIAwCJomsxheQ4AAMAAkiYAACyCpMkckiYAAAADSJoAALAIkiZzaJoAALAImiZzWJ4DAAAwgKQJAACLIGkyh6QJAADAAJImAAAsgqTJHJomAAAsgqbJHJbnAAAADCBpAgDAIkiazCFpAgAAMICkCQAAiyBpMoemCQAAi6BpMoflOQAAAANImgAAsAiSJnNImgAAAAwgaQIAwCJImsyhaQIAwCJomsxheQ4AAMAAkiYAACyCpMkckiYAAAADSJoAALAIkiZzaJoAALAImiZzWJ4DAAAwgKQJAACLIGkyh6QJAADAAJImAAAsoq4lTU6nUwsWLNC//vUv%2Bfj46P7779f8%2BfPl7%2B9/w7m/%2BMUvtHnzZo%2BxsrIyxcXFafHixZozZ462bNkiX19f9/FGjRpp165dhushaQIAwCLKy6v/VZPmz5%2Bvy5cvKy0tTZs2bVJOTo5SUlIqPHfRokVyOBzuV0ZGhu69914NGzbMfc6TTz7pcU5lGiaJpgkAANRCZ86cUXp6upKSkhQcHKzQ0FBNnTpVmzZtUklJyW2vX79%2Bvb71rW/p/vvvr7aaWJ4DAMAiaiIZysvLU35%2BvsdYSEiI7Ha7qftmZWXJ19dXHTt2dI9FRUXp0qVLOnLkiMf4N50/f16vvPKK3njjDY/xf/7zn9q%2BfbuOHj2qiIgILViwQNHR0YZromkCAMAiaqJpSk1N1cqVKz3GEhISlJiYaOq%2BTqdTAQEBstls7rGgoCBJUkFBwS2v/cMf/qBevXqpQ4cO7rHw8HD5%2BPhoxowZatKkiVauXKnHH39c27ZtU/PmzQ3VRNMEAACqbPTo0YqNjfUYCwkJMXTt5s2b9fTTT1d4LCkpSS6Xq9L1lJWV6fXXX9eSJUs8xqdNm%2Bbx8c9//nOlpaUpPT1dI0eONHRvmiYAACyiJpImu91e5aW4uLg4xcXFVXjsH//4hwoLC1VWVuZ%2Bx5vT6ZQktWjR4qb3/Oyzz1RcXKzvfOc7t/zcvr6%2BatWqlfLy8gzXy0ZwAABQ63Tu3Fkul0vZ2dnuMYfDocDAQLVr1%2B6m123fvl19%2BvRRgwb/yYVcLpcWL17sca/i4mIdO3ZM4eHhhmuiaQIAwCLq0iMHgoODNXToUC1btkxnz57VV199pVWrVunhhx92N0Tjx4/X1q1bPa7LysrSPffc4zFms9l04sQJJScn6/Tp07p48aJSUlLk5%2BenBx54wHBNNE0AAFhEXWqaJGnhwoVq2rSpBg8erB/%2B8Ifq2rWrkpKS3MePHz%2Buc%2BfOeVyTn5%2Bvli1b3nCv559/Xm3btlV8fLz69eunrKwsrV%2B/Xo0bNzZcj81VlV1WdUE9/bLqHZuN/1d1gQ//vqr1uneXdu%2BWevSQMjK8XQ1uxYvf8/r2rf577txZ/fesrdgIDgCARdS1X6NS2/DPRwAAAANImgAAsAiSJnNomgAAsAiaJnNYngMAADCApAkAAIsgaTKHpAkAAMAAkiYAACyCpMkcmiYAACyCpskclucAAAAMIGkCAMAiSJrMIWkCAAAwgKQJAACLIGkyh6YJAACLoGkyh%2BU5AAAAA0iaAACwCJImc0iaAAAADCBpAgDAIkiazKFpAgDAImiazGF5DgAAwACSJgAALIKkyRySJgAAAANImgAAsAiSJnNomgAAsAiaJnNYngMAADCApAkAAIsgaTKHpAkAAMAAkiYAACyCpMkcmiYAACyCpskclucAAAAMIGkCAMAiSJrMIWkCAAAwgKQJAACLIGkyh6YJAACLoGkyh%2BU5AAAAA0iaAACwCJImc2iaAACwCJomc1ieAwAAMICkCQAAiyBpMoekCQAAwACSJgAALIKkyRyaJgAALIKmyRyW5wAAQK3lcDg0ZMgQjRo16rbnbtiwQUOHDlWPHj00duxY7d%2B/332sqKhIv/zlLzVgwAD17t1b06dPV0FBQaVqoWkCAMAiysur/1WTtmzZosTERLVp0%2Ba25/7tb3/TihUr9MILL%2BiTTz7RoEGDNGXKFF26dEmStHTpUmVmZio1NVXbtm2Ty%2BXS3LlzK1UPTRMAAKiVioqKlJqaqm7dut323NTUVMXHx6tbt27y9/fXpEmTJEkffvihSktLtXHjRk2dOlWtWrVSs2bNNHPmTH300Uc6ffq04XrY0wQAgEXURDKUl5en/Px8j7GQkBDZ7XbT9x45cqThczMzMzV8%2BHD3xz4%2BPurcubMcDoc6d%2B6sCxcuKCoqyn08IiJC/v7%2ByszMVGhoqKHPUX%2BbJpvN2xXgNvLy8pSamqrRo0dXy18u1CCXy9sV4Dby8vKUumKFRr/3Hn%2BfcFM18Vd5xYpUrVy50mMsISFBiYmJ1f/JbsHpdCooKMhjLCgoSAUFBXI6nZKkwMBAj%2BOBgYGV2tdUf5sm1Hr5%2BflauXKlYmNj%2BSYPmMTfJ3jL6NGjFRsb6zEWEhJi6NrNmzfr6aefrvDY4sWLFR8fX6laXLfpCm93/HZomgAAQJXZ7fYqN%2BpxcXGKi4urljqaN2/uTpSucTqd6tChg4KDg90fN2nSxH383LlzatGiheHPwUZwAABQ50VHRyszM9P9cVlZmb744gt169ZN4eHhCgoK8jh%2B8OBBFRcXKzo62vDnoGkCAAB10rBhw7Rr1y5J0tixY/XOO%2B9oz549unz5sl5%2B%2BWU1bNhQAwcOlK%2Bvr0aNGqVXXnlFp06dUkFBgV588UUNGTJELVu2NPz5WJ6D14SEhCghIcHw2jeAm%2BPvE%2BqjoUOH6ssvv1RZWZnKy8sVExMjSXrvvfcUFham3Nxc93OYBgwYoFmzZmnmzJn6%2BuuvFRMTo9WrV8vf31%2BSNH36dF28eFFxcXEqLS3VoEGDtGDBgkrVY3OZ3RUFAABgASzPAQAAGEDTBAAAYABNEwAAgAE0TQAAAAbQNAEAABhA0wQAAGAATRMAAIABNE0AAAAG0DQBAAAYQNMEAABgAE0TAACAAfzCXtS4Tp06yWazGTo3KyurhqsB6rYXX3zR8LmzZs2qwUoA66FpQo177bXX3H8%2BevSoUlNTFR8fr7Zt26q8vFyHDx/Wli1bNGnSJC9WCdQNGRkZhs4z%2Bg8VAMbZXC6Xy9tFwDpGjx6t3/zmN2rXrp3H%2BMGDBzVv3jz96U9/8lJlAADcGnuacEcdPHhQ3/rWt24Yb926tQ4fPuyFioC6bc%2BePUpOTtbUqVMlSeXl5Xrvvfe8XBVQP9E04Y7q1KmT5s2bp8OHD%2Bvy5csqLCzUoUOHlJycrA4dOni7PKBOeeutt/T444%2BruLhYH3/8sSQpPz9fv/71r7VhwwYvVwfUPyzP4Y46evSonnnmGe3Zs8e958Llcql9%2B/b6/e9/r4iICC9XCNQdQ4YM0W9%2B8xv17NlTXbt21b59%2ByRdfUPFjBkz9P7773u5QqB%2BYSM4atzRo0fVpk0bSVeXDhYvXqzz58%2BrrKxMNptNQUFBbFoFquDMmTPq0aOHJM%2BN3%2B3bt1deXp63ygLqLZom1Lgf/OAH7n8BP/jggxU2SC6XSzabjUcOAJXQpk0b/fOf/1Tfvn09xtPS0ircOwjAHJom1LjrN6Vu377di5UA9cvkyZM1depUxcbGqrS0VIsWLdKBAweUkZGhJUuWeLs8oN5hTxMA1GEOh0Nvv/22jh07Jn9/f4WHh2vkyJG69957vV0aUO/QNAEAABjA8hwA1FEXL17Uiy%2B%2BqB07duj06dNq1KiRQkNDNWTIEE2ZMkX%2B/v7eLhGoV0iaAKCOmj59ug4fPqwxY8aodevWcrlcOnr0qDZu3KiOHTuyrwmoZjRNAFBH9erVS2lpaQoNDfUYz8vL00MPPaTPPvvMS5UB9RNPBAeAOqp58%2Ba66667bhhv3LixAgMDvVARUL%2BRNAFAHVJcXOz%2B844dO/Tuu%2B9q0qRJioiIkI%2BPj3Jzc/U///M/GjFihAYNGuTFSoH6h6YJAOqQTp06eTwg9tqDYa/ncrnk6%2BurzMzMO10eUK/x7jkAqEP4RbyA95A0AUA9U1ZWpv/6r//SH//4R2%2BXAtQrJE0AUEcVFhZq1apV2r9/v0pKStzjZ86c8dj7BKB68O45AKijnnvuOX366afq0aOHHA6H%2Bvbtq6CgIAUFBbGMB9QAlucAoI7q06eP3nvvPTVr1kxdu3bVvn37JEnr16/X%2BfPnlZiY6OUKgfqFpAkA6iiXy6WmTZtKkvz8/HTp0iVJ0qhRo/TGG294szSgXqJpAoA6KiYmRs8995yKi4vVsWNHvfLKKyooKNDOnTtVXl7u7fKAeoemCQDqqF/%2B8pc6fvy4JGnWrFl6/fXX1bdvXyUmJmry5Mlerg6of9jTBAB1SG5u7k2PnT9/Xi6XS%2BXl5WrevLnatWt3BysD6j%2BaJgCoQ649EbyiJ4Ffc%2B1YVlbWHa4OqN9omgCgDjl58qThc8PCwmqwEsB6aJoAAAAMYCM4AACAATRNAAAABtA0AQAAGEDTBAAAYABNEwAAgAE0TQAAAAbQNAEAABjw/wHjzu8t2hYkDwAAAABJRU5ErkJggg%3D%3D\" class=\"center-img\">\n",
              "    <img src=\"data:image/png;base64,iVBORw0KGgoAAAANSUhEUgAAAk0AAAICCAYAAADS9PnhAAAABHNCSVQICAgIfAhkiAAAAAlwSFlzAAAPYQAAD2EBqD%2BnaQAAADh0RVh0U29mdHdhcmUAbWF0cGxvdGxpYiB2ZXJzaW9uMy4yLjEsIGh0dHA6Ly9tYXRwbG90bGliLm9yZy%2Bj8jraAAAgAElEQVR4nO3de3hNd6LG8XcnVEoIkQuTRl0TJKGocR0l6lC9ZMahxBlFdVRJEFplWq0YrelMlHFpOzpDmV4mnZqpS01VTC8zrXaoYEvFJTLulSAbiUtI1vnDsU93BStZSXeS9f08T57Kb13y26uP5PX%2B1l5xGIZhCAAAADfl4%2B0JAAAAVAWEJgAAABMITQAAACYQmgAAAEwgNAEAAJhAaAIAADCB0AQAAGACoQkAAMAEQhMAAIAJhCYAAAATanh7AkB1snPnTv31r39Venq6jhw5ogsXLqhWrVoKCQlRdHS0Bg4cqNjYWDkcDm9PFQBQSg5%2B9xxgnWEYeuGFF/SnP/1JkhQQEKCIiAj5%2B/srPz9fu3fvVn5%2BviSpT58%2BWrhwoW677TZvThkAUEqEJqAcvPXWW5o9e7b8/PyUnJysBx98UL6%2Bvu7tFy9e1J///Ge99NJLKi4u1tixYzV16lQvzhgAUFrc0wSUg3feeUeS9Mgjj%2BinP/2pR2CSJD8/P40aNUq/%2BMUvJElvvvmmLl68%2BIPPEwBQdoQmoBwcOnRIkhQZGXnT/UaNGqU//OEP2rhxo/z8/CRJ06dPV2RkpF566SUVFBRo7ty5io2NVUxMjLp27aqEhATt3bv3hufcvHmzEhIS1LNnT0VHR6tr164aNWqU1q5de8NjXC6X5s%2Bfr5/%2B9Kfq0KGDoqKi1L17d40bN05fffVVicfExsYqMjJSn332mTZu3KiBAwcqJiZGX3/9tSRp0aJFioyM1PTp01VYWKhFixapf//%2Bateune655x796le/0vnz5yVJ%2B/bt08SJE9WjRw/FxMTowQcf1Jo1a0r8uhcuXNDrr7%2Buhx9%2BWHfffbfatm2rLl26aPTo0dq4cWOJx4wYMUKRkZF65513VFBQoPnz57vn0rlzZ/3iF7/Qrl27bnh9AKAkhCagHAQGBkqStm/ffsv9fvKTnygoKOi6bQUFBRo1apTeeecdNWjQQJ07d1ZRUZE2btyoIUOGlPhDfv78%2BRo1apQ2btwof39/denSRYGBgdq8ebOefPJJTZ48WUVFRR7H5ObmatCgQXrttdd04MABtW3bVl27dtVtt92mjz/%2BWCNHjtSqVatu%2BBoOHDigpKQk1axZU127dnWHv%2B966qmntGzZMoWFhalVq1bKycnRm2%2B%2Bqaefflp79%2B5VfHy8MjMz1bp1awUHB2vv3r166qmn9Mknn3ic58KFCxo%2BfLhSUlKUkZGhFi1aqFu3bgoICNAXX3yhhIQELVq06IZzLSws1KhRo7RixQo1btxYUVFRKioq0meffaYRI0a4wy4AmGIAsOzpp582IiIijMjISOOll14yTpw4UepjO3bsaDzwwAMex549e9YYPHiwERERYQwePNjjuI8%2B%2BsiIiIgwOnfubHz11Vce2/79738b3bt3NyIiIozly5d7bJszZ44RERFh9O/f3zh58qR7/MqVK8YLL7xgREREGJ06dTLy8/M9juvTp48RERFhxMbGGq%2B%2B%2Bup1r2PhwoVGRESE0bNnT%2BOhhx4ycnNz3ds2btzovj4DBgwwFi1aZBQXFxuGYRhFRUXGhAkTjIiICGPMmDEe51y%2BfLkRERFhdO3a1cjOzi5xW5s2bYxDhw55bPv5z39uREREGL179zaGDx9unDp1yr0tJyfH6NGjhxEREWG8%2BOKL170OALgRmiagHEyePFmNGzeWYRj64x//qN69e%2BvnP/%2B5FixYoC%2B%2B%2BEIXLly45Tny8/M1a9YshYSEuMfq1q2r6dOnS7r6OIP//Oc/7m2vvvqqJOnpp5/Wj3/8Y49zde7cWdOmTZMkrVixwmNbSEiI7r//fiUkJKhhw4bucV9fXyUlJcnHx0fnzp27YWt27Ub2G8nJyVFycrJHm3bvvfcqODhYhmGoRo0amjBhgvuxCz4%2BPho6dKgk6ZtvvvE4V506dfTggw9q3Lhxatq0qce2kSNHKjg4WEVFRdq8eXOJc8nNzdXLL7/sbgIlKTg4WA8%2B%2BKAkaceOHTd8HQDwfTynCSgHjRo10l/%2B8hf99re/1bp161RUVKQtW7Zoy5YtevXVV1WzZk116dJFDz30kO6//37VqHH9X72QkBB16tTpuvEOHTqoTp06Kigo0Pbt29W0aVOdOHFCGRkZkqR%2B/fqVOKd7771XDodDx44dU3Z2tpo1ayZJ7pvRS3L77berYcOGys3NVW5ubon7dO3aVT4%2BN/73VnBwsO66667rxsPCwpSbm6s%2Bffpc95yqsLAwSdKZM2c8xocMGaIhQ4aU%2BHUcDofuuOOOm871xz/%2BsUJDQ68bb9KkiSQpLy/vhq8DAL6P0ASUk%2BDgYP3mN7/RtGnTtHHjRm3evFlbt27VqVOndPnyZf3rX//Sv/71L73%2B%2But65ZVX3D%2B4r4mIiCjxvD4%2BPgoLC9PevXt15MgRSfK4MfxaE1WSGjVq6PLly/rPf/7jDk3S1Xt9Pv30U%2B3atUs5OTk6e/asjP97%2Bsi5c%2BckXW2USlJSCPmuO%2B64o8Txa8%2BluhaQStp25cqV67YVFxfr888/V3p6unJycuRyudxzy87Ovulcw8PDSxyvVauWJOny5cs3eykA4IHQBJSzoKAgxcfHKz4%2BXtLVG6e/%2BuorrV69Wunp6dq3b5/Gjh2rtWvXqmbNmu7jAgICbnjOunXrSrp6s7jk2chs2rTplnO6FoQkKTMzUxMmTHAHsNK62Twlebymsmz/rmPHjmnChAnXLduZxQNEAZQnQhNQwZo3b67mzZsrPj5eK1as0Isvvqjs7GytX79ecXFx7v1utuR1rUm5ts%2B15a2aNWvK6XSa/rUsFy9e1BNPPKFjx46padOmGj9%2BvLp166YGDRq4w0xsbKyOHj16w3P8kL8CZuLEifrmm28UFBSkxMRE9erVS0FBQe4wNGLECP373//%2BweYDwN4ITcAPaOTIkXrzzTd16NAh7du3z2PbtV%2BzUpJr2641TvXr15d0dXkpLy/P40bnm/nss8907NgxORwOLV26VHfeeed1%2B1SWh25mZGTI6XRKklJSUtStW7fr9qkscwVgD7x7DrBo48aNeu6557R06VJT%2B19b3rp2X801%2B/fvL3H/oqIid/Nz7R6d797/9P3wdTPX3n3XpEmTEgPToUOHdOrUKdPnq0gHDx6UJPfzoL6voKDgpg/9BIDyRmgCLHI6nUpNTdXSpUt17Nixm%2B574sQJZWZmStJ17zA7fPiwdu/efd0xX3/9tftJ2h06dJB09abzqKgoSdK7775b4tfKzs5WXFyc%2B9EE0v83VZcuXSrxmCVLlrj//P2HYv7Q/P39JV1dmizphu0//vGP7qappBvIAaC8EZoAi0aPHq3g4GCdO3dOI0eOLPHXkBiGoS%2B//FKPPfaYLl%2B%2BrLvuuks9evTw2Kdu3bp69tlnPZoel8ulX//615KuvtX/Rz/6kXvbuHHjJEnr1q3TG2%2B84X73m3S1pZk4caIyMzN1/Phx93jr1q0lSd9%2B%2B63S0tLc4xcuXNCcOXPkdDrdwezAgQNlviblISIiQr6%2BvioqKtLbb7/tHr9y5Yp%2B//vfKzU1VX369JH0/%2B%2BiA4CKxD1NgEUNGjTQsmXLlJiYqP/85z965JFHFBwcrObNm6t27dpyuVw6cuSI%2B1lCnTp10uLFi6%2B78Ts2NlaHDx9W3759FRMTo5o1a2rHjh3Kz8%2BXv7%2B/nnvuOY/9/%2Bu//ktjx47V0qVLNXfuXK1cuVLNmzdXXl6edu/eraKiIrVt21ZPPvmk%2B5gOHTqoZ8%2Be%2Bte//qXExES1b99etWrV0q5du1SjRg0tX75cH3zwgdLT07Vy5Urt2bNHTzzxhDp37lzxF/J7GjVqpMGDBys1NVVz587VmjVrVL9%2Bfe3evVsFBQVavHixjhw5oo8//lgbNmzQiBEjNHz4cN13330/%2BFwB2AOhCSgHERERWrt2rT744AP94x//UGZmpnbu3KnCwkL5%2BfkpNDRU3bp108CBA9W7d%2B8S34Hm4%2BOjZcuW6ZVXXtFHH32kY8eOqU6dOurfv7%2BSkpI8nrN0zdSpU9W9e3e9%2Beab2r59uzZv3qxatWopOjpaAwcO1PDhw6972/2CBQuUkpKiTZs2adeuXQoJCVH//v01btw4NWnSRI0aNdI333yjbdu2ad%2B%2BfT/ou%2BW%2B79lnn1VAQIDWrVunvXv3qmHDhurSpYsef/xxtWnTRhcvXtRXX32lzz77TPv27fNo2wCgvDkMvssAXjV9%2BnT97W9/089%2B9jP3UhwAoPLhniYAAAATCE0AAAAmEJoAAABMIDQBAACv%2Bec//6nu3bsrKSnppvsVFxdr/vz56tu3rzp37qwxY8bo8OHD7u0ul0uTJ09W9%2B7d1bNnTz3zzDPl/lsDuBEcAAB4xeuvv6733ntPgYGBatSokebPn3/Dff/0pz9p%2BfLlev311xUaGqr58%2Bdry5YtWr16tRwOhxITE1VYWKi5c%2Bfq8uXLmjRpkqKjo/Xss8%2BW23xpmgAAQJnl5OQoIyPD4yMnJ8fUsbVq1dJ7771X4q91%2Br7U1FSNGjVKLVq0kL%2B/v5KSkpSVlaUdO3bo5MmTSktLU1JSkgIDAxUaGqrx48dr1apVJf5GgbKqvs9p8uKzZWBSs2bSvn1Sq1YST3Su3IqLvT0DoPrw5s%2BnCvjaqQsXavHixR5jCQkJSkxMvOWxjzzyiKmvcfHiRe3fv19t27Z1j/n7%2B%2BvOO%2B%2BU0%2BnUuXPn5Ovrq8jISPf2qKgonT9/XgcOHPAYt6L6hiZUfvXrS76%2BV/8LwDqHQ%2BKOC/zAhg4dqtjYWI%2Bx4ODgcv0aZ86ckWEY7l94fk1AQIDy8vJUv359%2Bfv7ezyM99q%2BeXl55TYPQhMAACizkJAQhYSE/CBf62a3Yf8Qt2gTmgAAsAufqnkrc/369eXj4yOXy%2BUx7nK51LBhQwUGBio/P19FRUXy9fV1b5Okhg0blts8qubVAwAApefjU/4fP4BatWqpVatWysjIcI%2BdPXtWhw4dUrt27dSmTRsZhqHMzEz3dqfTqXr16pX4ezvLitAEAAAqnRMnTmjAgAHuZzHFx8dr5cqVysrKUn5%2BvlJSUtSmTRvFxMQoMDBQ/fv314IFC3T69Gl9%2B%2B23WrJkiQYPHqwaNcpvUY3lOQAA7KKSLc/FxMRIkq5cuSJJSktLk3S1Jbp8%2BbKys7NVWFgoSRo2bJhyc3M1YsQIFRQUqEuXLh7v2ps9e7aef/559e3bVzVr1tQDDzxwywdmllb1fbgljxyo/Dp0kLZtkzp2lNLTvT0b3AyPHKgaePdc1eDNn0%2B1apX/OS9dKv9zVlI0TQAA2EUla5qqGkITAAB2QWiyhKsHAABgAk0TAAB2QdNkCaEJAAC7IDRZwtUDAAAwgaYJAAC7oGmyhKsHAABgAk0TAAB2QdNkCaEJAAC7IDRZwtUDAAAwgaYJAAC7oGmyhKsHAABgAk0TAAB2QdNkCaEJAAC7IDRZwtUDAAAwgaYJAAC7oGmyhKsHAABgAk0TAAB2QdNkCaEJAAC7IDRZwtUDAAAwgaYJAAC7oGmyhKsHAABgAk0TAAB2QdNkCaEJAAC7IDRZwtUDAAAwgaYJAAC7oGmyhKsHAABgAk0TAAB2QdNkCaEJAAC7IDRZwtUDAAAwgaYJAAC7oGmyhKsHAABgAk0TAAB2QdNkCaEJAAC7IDRZwtUDAAAwgaYJAAC7oGmyhKsHAABgAk0TAAB2QdNkCaEJAAC7IDRZwtUDAAAwgaYJAAC7oGmyhNAEAAC85ujRo0pOTtaOHTtUu3ZtDRw4UFOnTpXP9wLeo48%2Bqi1btniMXblyRRMmTFBCQoJGjBihbdu2eRzXrFkzrVmzptzmSmgCAMAuKmHTlJiYqKioKKWlpenUqVN6/PHHFRQUpNGjR3vst2zZMo/Pz549q4EDB6pfv37usV/96lcaNGhQhc2V0AQAgF1UQGjKyclRbm6ux1hwcLBCQkJueazT6VRmZqaWL1%2BuunXrqm7duho1apRWrFhxXWj6vgULFqhfv36KjIy0NP/SIDQBAIAyS01N1eLFiz3GEhISlJiYeMtjMzIyFBYWpoCAAPdYVFSUsrOzlZ%2BfL39//xKPO3jwoN5//32lpaV5jK9fv15/%2BMMfdPz4cbVv316zZ89WkyZNyvCqSkZoAgDALiqgaRo6dKhiY2M9xoKDg00d63K5VK9ePY%2BxawEqLy/vhqFp6dKl%2Bu///m8FBga6x1q0aKHbb79dKSkpKi4u1pw5c/TYY49p3bp1uu2220rzkm6I0AQAAMosJCTE1FLcjRiGUar9XS6XVq9erb///e8e47NmzfL4fPbs2erSpYu%2B/vprdevWrczz%2By5CEwAAdlHJbgQPDAyUy%2BXyGHO5XHI4HB4t0ndt2rRJzZo1U3h4%2BE3P7e/vr4CAAJ04caLc5lu5rh4AAKg4Pj7l/2FBdHS0jh8/rtOnT7vHnE6nWrZsqTp16pR4zKZNm9SjRw%2BPsfz8fM2aNcsjIJ0%2BfVqnT5%2B%2BZbgqDUITAADwirZt2yomJkbz5s1Tfn6%2BsrKytHz5csXHx0uSBgwYoK1bt3ocs3v3bt1xxx0eY/7%2B/tqxY4fmzJkjl8ulM2fOKDk5WZGRkerQoUO5zZfQBACAXVSypkmSFi5cqJycHPXo0UOPPPKIfvrTn2r48OGSpOzsbJ0/f95j/9zcXAUFBV13niVLlsgwDPXv31%2B9e/fW5cuXtXTp0usekmmFwyjtHVhVhcPh7RngVjp0kLZtkzp2lNLTvT0b3ExxsbdnADMcDqmafkuvVrz58%2Bm%2B%2B8r/nN%2B7Ibs6o2kCAAAwgXfPAQBgF5Xs3XNVDVcPAADABJomAADsgqbJEkITAAB2QWiyhKsHAABgAk0TAAB2QdNkCVcPAADABJomAADsgqbJEkITAAB2QWiyhKsHAABgAk0TAAB2QdNkCVcPAADABJomAADsgqbJEkITAAB2QWiyhKsHAABgAk0TAAB2QdNkCVcPAADABJomAADsgqbJEkITAAB2QWiyhKsHAABgAk0TAAB2QdNkCVcPAADABJomAADsgqbJEkITAAB2QWiyhKsHAABgAk0TAAB2QdNkCVcPAADABJomAADsgqbJEkITAAB2QWiyhKsHAABgAk0TAAB2QdNkCVcPAADABJomAADsgqbJEkITAAB2QWiyhKsHAABgAk0TAAB2QdNkCVcPAADABJomAADsgqbJEkITAAB2QWiyhKsHAABggtdC09GjRxUTE6Ps7Ozrtn322WeKjIz0wqwAAKjGfHzK/8NGvLY8FxYWJqfT6a0vDwCA/VTCkHP06FElJydrx44dql27tgYOHKipU6fK53tzXbRokV555RXVqOEZXT7%2B%2BGMFBQXp0qVLeuGFF/TJJ5/o0qVL6tKli5KTk9WgQYNym2vlu3oAAMA2EhMTFRoaqrS0NC1fvlxpaWlasWJFifvGxcXJ6XR6fAQFBUmS5s%2Bfr4yMDKWmpmrDhg0yDEMzZswo17l6rWk6cuSI%2Bvbtq/Xr18vX11fTp0/Xnj171LJlSz300EOlOldOTo5yc3M9xoKbNVNI/frlOWWUt9atPf8LAKhYFdA0lfgzODhYISEhtzzW6XQqMzNTy5cvV926dVW3bl2NGjVKK1as0OjRo03P4cqVK3rvvff00ksvqXHjxpKkyZMn6/7779eJEycUGhpauhd1A5Xi3XPTp09XWFiYli1bpuPHj2vSpEmlOj41NVWLFy/2GEuYNEmJpTwPvOTtt709A6D6cDi8PQPYTIk/gxMSlJiYeMtjMzIyFBYWpoCAAPdYVFSUsrOzlZ%2BfL39/f4/99%2BzZo2HDhmnv3r1q3LixZsyYoZ49e%2BrQoUM6d%2B6coqKi3Pu2aNFCfn5%2BysjIqD6h6dy5c0pPT1dycrJq166tFi1aaNCgQXrppZdMn2Po0KGKjY31GAt%2B8EHpBvUeKonWra8GpuHDpcxMb88GN/P1196eAcxwOCTD8PYscCveDLYV0DSV%2BDM4ONjUsS6XS/Xq1fMYuxag8vLyPEJTo0aNFB4erqlTpyokJESpqakaN26c1qxZI5fLJUnXnatevXrKy8sr9Wu6Ea%2BHpqKiIknSHXfc4R5r2rRpqc4REhJyfQ1YwrvyUEllZkrp6d6eBQBUfxUQmkr8GVwKhsmgP2TIEA0ZMsT9%2BahRo/TBBx9ozZo16tWrV6nOVVZevxHc8X%2BJ%2B1p4kqTi4mJvTQcAAPxAAgMD3S3RNS6XSw6HQ4GBgbc8PiwsTDk5Oe59v3%2BuM2fOqGHDhuU2X6%2BHpms13PHjx91jWVlZ3poOAADVVyV7TlN0dLSOHz%2Bu06dPu8ecTqdatmypOnXqeOz7yiuvaPPmzR5jWVlZCg8PV3h4uAICApSRkeHetnfvXhUWFio6OtrSHL/L66FJunqz1rJly3ThwgXt3btXq1ev9vaUAABABWvbtq1iYmI0b9485efnKysrS8uXL1d8fLwkacCAAdq6daukqy1ScnKyDhw4oEuXLmnZsmU6dOiQfvazn8nX11cPP/ywXnvtNR0/flx5eXl6%2BeWX1a9fP/cjCcqD1%2B9pkqSFCxdqxowZ6tatm1q0aKExY8bol7/8pbenBQBA9VIJH265cOFCzZw5Uz169JC/v7%2BGDRum4cOHS5Kys7N1/vx5SdLUqVMlXb2XyeVyqWXLlnrjjTfUqFEjSdLEiRNVUFCguLg4XblyRX369NGsWbPKda4Oo6LvmvIW3nZb%2BXXoIG3bJnXsyI3glR33GVYNvHuuavDmz6dSvDPdtKefLv9zVlKVL3ICAABUQpVieQ4AAPwAKuHyXFXC1QMAADCBpgkAALugabKE0AQAgF0Qmizh6gEAAJhA0wQAgF3QNFnC1QMAADCBpgkAALugabKE0AQAgF0Qmizh6gEAAJhA0wQAgF3QNFnC1QMAADCBpgkAALugabKE0AQAgF0Qmizh6gEAAJhA0wQAgF3QNFnC1QMAADCBpgkAALugabKE0AQAgF0Qmizh6gEAAJhA0wQAgF3QNFnC1QMAADCBpgkAALugabKE0AQAgF0Qmizh6gEAAJhA0wQAgF3QNFnC1QMAADCBpgkAALugabKE0AQAgF0Qmizh6gEAAJhA0wQAgF3QNFlCaAIAwC4ITZZw9QAAAEygaQIAwC5omizh6gEAAJhA0wQAgF3QNFlCaAIAwC4ITZZw9QAAAEygaQIAwC5omizh6gEAAJhA0wQAgF3QNFlCaAIAwC4qYWg6evSokpOTtWPHDtWuXVsDBw7U1KlT5VPCXN955x298cYbysnJUZMmTZSYmKh7771XkjR9%2BnStWbNGvr6%2B7v1r1aqlrVu3lttcCU0AAMBrEhMTFRUVpbS0NJ06dUqPP/64goKCNHr0aI/9NmzYoHnz5un3v/%2B92rVrp/fff1%2BTJ0/W3//%2Bd4WHh0uSnnjiCSUmJlbYXCtf5AQAABXDx6fcP3JycpSRkeHxkZOTY2o6TqdTmZmZevLJJ1W3bl01bdpUo0aNUmpq6nX7Xrx4UVOmTFGnTp1Us2ZNDRkyRHXq1NH27dvL%2ByrdEE0TAAAos9TUVC1evNhjLCEhwVTjk5GRobCwMAUEBLjHoqKilJ2drfz8fPn7%2B7vH4%2BLiPI49e/asCgoKFBoa6h778ssvtWnTJh08eFAtWrTQrFmzFB0dXdaXdh1CEwAAdlEB9zQNHTpUsbGxHmPBwcGmjnW5XKpXr57H2LUAlZeX5xGavsswDD377LNq3769fvzjH0uSwsPD5ePjo0mTJqlOnTpavHixHn30UW3YsEENGjQo7csqEaEJAAC7qIDQFBISopCQkDIfbxhGqfa/fPmypk%2Bfrv3792vlypXu8QkTJnjs99RTT2ndunVKS0vTkCFDyjy/7yI0AQAArwgMDJTL5fIYc7lccjgcCgwMvG7/ixcvavz48bpw4YLeeuutmzZIvr6%2Baty4sen7q8zgRnAAAOyiAm4EtyI6OlrHjx/X6dOn3WNOp1MtW7ZUnTp1PPY1DENJSUmqUaOG3njjDY/AZBiG5s6dq8zMTPdYYWGhDh065H5nXXkgNAEAAK9o27atYmJiNG/ePOXn5ysrK0vLly9XfHy8JGnAgAHu5yytXbtW%2B/fv1%2B9%2B9zvVqlXL4zwOh0NHjhxRcnKyTpw4oYKCAqWkpKhmzZru5ziVB5bnAACwi0r4cMuFCxdq5syZ6tGjh/z9/TVs2DANHz5ckpSdna3z589LklatWqWjR4%2B6b/y%2BJi4uTnPmzNELL7ygl156SYMGDVJ%2Bfr7atWunFStWqHbt2uU2V4dR2juwqgqHw9szwK106CBt2yZ17Cilp3t7NriZ4mJvzwBmOBxSNf2WXq148%2BfTV1%2BV/zm7dCn/c1ZSlS9yAgAAVEIszwEAYBeVcHmuKuHqAQAAmEDTBACAXdA0WUJoAgDALghNlnD1AAAATKBpAgDALmiaLOHqAQAAmEDTBACAXdA0WUJoAgDALghNlnD1AAAATKBpAgDALmiaLOHqAQAAmEDTBACAXdA0WUJoAgDALghNlnD1AAAATKBpAgDALmiaLOHqAQAAmEDTBACAXdA0WUJoAgDALghNlnD1AAAATKBpAgDALmiaLOHqAQAAmEDTBACAXdA0WUJoAgDALghNlnD1AAAATKBpAgDALmiaLCE0AQBgF4QmS7h6AAAAJtA0AQBgFzRNlnD1AAAATKBpAgDALmiaLCE0AQBgF4QmS7h6AAAAJtA0AQBgFzRNlnD1AAAATKBpAgDALmiaLCE0AQBgF4QmS7h6AAAAJtA0AQBgFzRNlnD1AAAATKBpAgDALmiaLOHqAQBgFz4%2B5f9h0dGjRzV27Fh16dJFffr00W9/%2B1sVFxeXuO/KlSvVv39/dezYUfHx8dq1a5d726VLl/Tcc8%2BpV69e6tKliyZOnKi8vDzL8/suQhMAAPCaxMREhYaGKi0tTcuXL1daWppWrFhx3X7/%2BMc/tGjRIv3mN9b%2BWdwAABxzSURBVL/RF198oT59%2BmjcuHE6f/68JGn%2B/PnKyMhQamqqNmzYIMMwNGPGjHKdK6EJAAC7qICmKScnRxkZGR4fOTk5pqbjdDqVmZmpJ598UnXr1lXTpk01atQopaamXrdvamqqBg0apPbt28vPz0%2BPPfaYJOnjjz/WlStX9N5772n8%2BPFq3Lix6tevr8mTJ%2BuTTz7RiRMnyu3yVd97mm5Q7aES%2Bvprb88At8J9EJVfhw7Stm1Sp05Serq3Z4ObMQxvz6BcpaamavHixR5jCQkJSkxMvOWxGRkZCgsLU0BAgHssKipK2dnZys/Pl7%2B/v8e%2BAwcOdH/u4%2BOjNm3ayOl0qk2bNjp37pyioqLc21u0aCE/Pz9lZGQoNDTUykt0q76hCQAAeDDkKPdzDh06VLGxsR5jwcHBpo51uVyqV6%2Bex9i1AJWXl%2BcRmlwul0e4urZvXl6eXC6XJF13rnr16pXrfU2EJgAAbKIiFmFCQkIUEhJS5uONUjRvt9q3NOcqCzp3AADgFYGBge6W6BqXyyWHw6HAwECP8QYNGpS4b2BgoHvf728/c%2BaMGjZsWG7zJTQBAGATxcXl/2FFdHS0jh8/rtOnT7vHnE6nWrZsqTp16ly3b0ZGhvvzoqIiffPNN2rfvr3Cw8MVEBDgsX3v3r0qLCxUdHS0tUl%2BB6EJAAB4Rdu2bRUTE6N58%2BYpPz9fWVlZWr58ueLj4yVJAwYM0NatWyVJ8fHxev/997V9%2B3ZduHBBr776qm677Tb17t1bvr6%2Bevjhh/Xaa6/p%2BPHjysvL08svv6x%2B/fopKCio3ObLPU0AANhEZXxj%2BcKFCzVz5kz16NFD/v7%2BGjZsmIYPHy5Jys7Odj%2BHqVevXpoyZYomT56sU6dOKSYmRkuXLpWfn58kaeLEiSooKFBcXJyuXLmiPn36aNasWeU6V4dR0XdNeUs1fVnVjsPB/6uqgEcOVH7XHjnQsSOPHKjsvPg978KF8j/n7beX/zkrK74TAgAAmMDyHAAANlEZl%2BeqEpomAAAAE2iaAACwCZomawhNAADYBKHJGpbnAAAATKBpAgDAJmiarKFpAgAAMIGmCQAAm6BpsobQBACATRCarGF5DgAAwASaJgAAbIKmyRqaJgAAABNomgAAsAmaJmsITQAA2AShyRqW5wAAAEygaQIAwCZomqwhNAEAYBOEJmtYngMAADCBpgkAAJugabKGpgkAAMAEmiYAAGyCpskaQhMAADZBaLKG5TkAAAATaJoAALAJmiZraJoAAABMoGkCAMAmaJqsITQBAGAThCZrWJ4DAAAwgaYJAACboGmyhqYJAADABJomAABsgqbJGkITAAA2QWiyhuU5AAAAE2iaAACwCZoma2iaAAAATKBpAgDAJmiarCE0AQBgE4Qma1ieAwAAMIGmCQAAm6BpsoamCQAAwASaJgAAbIKmyRqaJgAAbKK4uPw/KpLL5dLkyZPVvXt39ezZU88884wuXrx4w/0/%2BugjPfTQQ%2BrQoYP69%2B%2Bvd999171t0aJFatOmjWJiYjw%2BTp48aXo%2BhCYAAFApzZw5UxcuXNC6deu0atUqZWVlKSUlpcR9d%2B7cqSeffFITJ07Uli1b9Mtf/lKzZ8/W1q1b3fvExcXJ6XR6fAQFBZmeD8tzAADYREU0Qzk5OcrNzfUYCw4OVkhIiKXznjx5Umlpafrb3/6mwMBASdL48eM1adIkPf3006pZs6bH/i6XS48//rjuvfdeSdI999yjiIgIbd26VXfffbeluVxDaAIAAGWWmpqqxYsXe4wlJCQoMTHR0nl3794tX19fRUZGuseioqJ0/vx5HThwwGNcknr16qVevXq5P79y5Ypyc3MVGhrqHtuzZ4%2BGDRumvXv3qnHjxpoxY4Z69uxpek6EJgAAbKIimqahQ4cqNjbWYyw4ONjyeV0ul/z9/eVwONxjAQEBkqS8vLxbHp%2BSkqLatWtr4MCBkqRGjRopPDxcU6dOVUhIiFJTUzVu3DitWbNGzZs3NzUnQhMAADZREaEpJCSkzEtxq1ev1rRp00rclpSUJMMwSn1OwzCUkpKidevWaeXKlapVq5YkaciQIRoyZIh7v1GjRumDDz7QmjVrNHnyZFPnJjQBAACviIuLU1xcXInbPv/8c%2BXn56uoqEi%2Bvr6SrrZPktSwYcMSjykuLtaMGTO0c%2BdOvfPOOwoPD7/p1w8LC1NOTo7p%2BfLuOQAAbKIqPXKgTZs2MgxDmZmZ7jGn06l69eqpWbNmJR7z4osvat%2B%2BfSUGpldeeUWbN2/2GMvKyrplsPouQhMAAKh0AgMD1b9/fy1YsECnT5/Wt99%2BqyVLlmjw4MGqUePqQtnIkSO1fv16SdLXX3%2BtNWvWaOnSpapfv/5153O5XEpOTtaBAwd06dIlLVu2TIcOHdLPfvYz03NieQ4AAJuoak8Enz17tp5//nn17dtXNWvW1AMPPKCkpCT39sOHD%2BvMmTOSpFWrVuncuXPq06ePxzk6d%2B6sZcuWaerUqZKu3svkcrnUsmVLvfHGG2rUqJHp%2BTiMstxlVRVU05dV7Tgc/L%2BqCnwopSu9Dh2kbdukjh2l9HRvzwY348XveX//e/mf8777yv%2BclRXfCQEAAExgeQ4AAJuoastzlQ1NEwAAgAk0TQAA2ARNkzWEJgAAbILQZA3LcwAAACbQNAEAYBM0TdYQmgAAsAlCkzUszwEAAJhA0wQAgE3QNFlD0wQAAGACTRMAADZB02QNoQkAAJsgNFnD8hwAAIAJNE0AANgETZM1NE0AAAAm0DQBAGATNE3WEJoAALAJQpM1LM8BAACYQNMEAIBN0DRZQ9MEAABgAk0TAAA2QdNkDaEJAACbIDRZw/IcAACACTRNAADYBE2TNTRNAAAAJtA0AQBgEzRN1hCaAACwCUKTNSzPAQAAmEDTBACATdA0WUPTBAAAYAJNEwAANkHTZA2hCQAAmyA0WcPyHAAAgAk0TQAA2ARNkzU0TQAAACbQNAEAYBM0TdYQmgAAsAlCkzUszwEAAJhA0wQAgE3QNFlTqqbpyJEjioyMVFZW1k33%2B%2BqrrxQZGalLly6VaVIjRoxQSkpKmY4FAACoCCzPAQBgE8XF5f9RkVwulyZPnqzu3burZ8%2BeeuaZZ3Tx4sUS9/3rX/%2Bq1q1bKyYmxuNj586d//faizV//nz17dtXnTt31pgxY3T48OFSzYfQBACATVS10DRz5kxduHBB69at06pVq5SVlXXTlajOnTvL6XR6fLRr106S9NZbb2nt2rVaunSpPv74YzVt2lQTJkyQYRim51Pm0HTo0CGNGTNGXbp0UZcuXTRlyhSdPXvWY59PP/1U/fr1U6dOnZSYmKj8/Hz3tvXr1ysuLk533XWX%2Bvbtq9TU1LJOBQAAVDMnT55UWlqakpKSFBgYqNDQUI0fP16rVq3S5cuXS32%2B1NRUjRo1Si1atJC/v7%2BSkpKUlZWlHTt2mD5HmW8Ef/bZZxUWFqZ//vOfys/P15gxY/TKK69o%2BvTp7n3Wrl2rd999V5cuXdLo0aM1b948Pf/883I6nXrmmWe0aNEidevWTenp6frFL36hVq1aqWPHjqWeS05OjnJzcz3GgoOCFBISUtaXB%2BC7OnTw9gxwK61be/4XKEFFNEMl/gwODrb8M3j37t3y9fVVZGSkeywqKkrnz5/XgQMHPMavOX78uEaPHq1du3apXr16mjhxouLi4nTx4kXt379fbdu2de/r7%2B%2BvO%2B%2B8U06nU3fddZepOZU5NC1dulQOh0O33XabAgMD9ZOf/ETbtm3z2GfMmDFq0KCBJGnYsGFasWKFpKvrjr1791bPnj0lSXfffbfuu%2B8%2BrV69ukyhKTU1VYsXL/YYS5gwQYkTJ5blpeGH5nB4ewa4le/93UYl9vbb3p4BbKbEn8EJCUpMTLR0XpfLJX9/fzm%2B8zMiICBAkpSXl3fd/oGBgWratKmmTJmili1bauPGjZo2bZpCQkLUvHlzGYbhPv675yvpXDdS5tC0a9cuzZs3T3v27NHly5dVVFSk6Ohoj31atmzp/nOTJk2Uk5Mj6erS3ubNmxUTE%2BPebhiGO0SV1tChQxUbG%2BsxFhwUJJVinRJe4nDw/6kq6NTJ2zPArbRufTUwDR8uZWZ6eza4GS/%2BI6QimqYSfwYHB5s6dvXq1Zo2bVqJ25KSkkp1v1Hv3r3Vu3dv9%2Bf333%2B/Nm7cqL/%2B9a968sknJalU5ytJmULT2bNnNXbsWMXHx%2Bv111%2BXv7%2B/FixYoC%2B%2B%2BMJjv%2B%2BmQ8MwdNttt0mS/Pz8FB8fr5kzZ1qY%2Bv8LCQm5vgbkBzFQftLTvT0DmJWZyf8v3FBFhKYSfwabFBcXp7i4uBK3ff7558rPz1dRUZF8fX0lXW2fJKlhw4amzh8WFqZdu3apfv368vHxcR9/jcvlMn0uycKN4AUFBRozZoz8/f0lSd988811%2B2RnZ7v/fOjQIYWGhkq62jrt2bPHY99vv/1WRUVFZZ0OAACoRtq0aSPDMJT5nebU6XSqXr16atas2XX7v/POO1q/fr3HWFZWlsLDw1WrVi21atVKGRkZ7m1nz57VoUOH3O%2BuM6NMoam4uFg%2BPj5KT0/X%2BfPn9cYbb%2BjkyZM6efKkrly54t5v2bJlOnfunHJycvSXv/xF/fr1kyQNHjxY27Zt06pVq1RYWKjdu3dryJAh2rBhQ1mmAwAATKhKjxwIDAxU//79tWDBAp0%2BfVrffvutlixZosGDB6tGjasLZSNHjnQHpcLCQv3qV7%2BS0%2BnU5cuXtW7dOn322WcaNmyYJCk%2BPl4rV65UVlaW8vPzlZKSojZt2njcKnQrZVqeq1%2B/vqZMmaJf/vKXkqThw4crJSVFjzzyiIYPH66pU6fKx8dH999/v%2BLi4nTmzBn16tVL48aNkyS1aNFC8%2BbN08KFC5WcnKyQkBCNGTNGAwcOLMt0AABANTR79mw9//zz6tu3r2rWrKkHHnhASUlJ7u2HDx/WmTNnJEmPPPKICgoKNGnSJOXm5uqOO%2B7QkiVL3PdbDxs2TLm5uRoxYoQKCgrUpUuX625gvxWHYfWuqMqqmr6saocbwasGH56DW%2Bl16HD1BuOOHbmnqbLz4ve8GTPK/5xz55b/OSsrfmEvAAA2wS/stYZ/PgIAAJhA0wQAgE3QNFlDaAIAwCYITdawPAcAAGACTRMAADZB02QNTRMAAIAJNE0AANgETZM1hCYAAGyC0GQNy3MAAAAm0DQBAGATNE3W0DQBAACYQNMEAIBN0DRZQ2gCAMAmCE3WsDwHAABgAk0TAAA2QdNkDU0TAACACTRNAADYBE2TNYQmAABsgtBkDctzAAAAJtA0AQBgEzRN1tA0AQAAmEDTBACATdA0WUNoAgDAJghN1rA8BwAAYAJNEwAANkHTZA1NEwAAgAk0TQAA2ARNkzWEJgAAbILQZA3LcwAAACbQNAEAYBM0TdbQNAEAAJhA0wQAgE3QNFlDaAIAwCYITdawPAcAAGACTRMAADZB02QNTRMAAIAJNE0AANgETZM1hCYAAGyC0GQNy3MAAAAm0DQBAGATNE3W0DQBAACYQNMEAIBNVLWmyeVyadasWfr3v/8tHx8f3XPPPZo5c6b8/Pyu2/fZZ5/V6tWrPcaKiooUFxenuXPnavr06VqzZo18fX3d22vVqqWtW7eang9NEwAANlFcXP4fFWnmzJm6cOGC1q1bp1WrVikrK0spKSkl7jtnzhw5nU73R3p6upo3b64BAwa493niiSc89ilNYJIITQAAoBI6efKk0tLSlJSUpMDAQIWGhmr8%2BPFatWqVLl%2B%2BfMvjV6xYoR/96Ee65557ym1OLM8BAGATFdEM5eTkKDc312MsODhYISEhls67e/du%2Bfr6KjIy0j0WFRWl8%2BfP68CBAx7j33f27Fm99tprevvttz3Gv/zyS23atEkHDx5UixYtNGvWLEVHR5ueE6EJAACbqIjQlJqaqsWLF3uMJSQkKDEx0dJ5XS6X/P395XA43GMBAQGSpLy8vJse%2B%2Babb6pz585q1aqVeyw8PFw%2BPj6aNGmS6tSpo8WLF%2BvRRx/Vhg0b1KBBA1NzIjQBAIAyGzp0qGJjYz3GgoODTR27evVqTZs2rcRtSUlJMgyj1PMpKirSW2%2B9pXnz5nmMT5gwwePzp556SuvWrVNaWpqGDBli6tyEJgAAbKIimqaQkJAyL8XFxcUpLi6uxG2ff/658vPzVVRU5H7Hm8vlkiQ1bNjwhufcsmWLCgsLdffdd9/0a/v6%2Bqpx48bKyckxPV9uBAcAAJVOmzZtZBiGMjMz3WNOp1P16tVTs2bNbnjcpk2b1LVrV9Wo8f%2B9kGEYmjt3rse5CgsLdejQIYWHh5ueE6EJAACbqEqPHAgMDFT//v21YMECnT59Wt9%2B%2B62WLFmiwYMHuwPRyJEjtX79eo/jdu/erTvuuMNjzOFw6MiRI0pOTtaJEydUUFCglJQU1axZU/fee6/pORGaAACwiaoUmiRp9uzZqlu3rvr27auHHnpI7dq1U1JSknv74cOHdebMGY9jcnNzFRQUdN25XnjhBTVt2lSDBg1S9%2B7dtXv3bq1YsUK1a9c2PR%2BHUZa7rKqCavqyqh2Hg/9XVYEP/76q9Dp0kLZtkzp2lNLTvT0b3IwXv%2Bd161b%2B59y8ufzPWVlxIzgAADZR1X6NSmXDPx8BAABMoGkCAMAmaJqsITQBAGAThCZrWJ4DAAAwgaYJAACboGmyhqYJAADABJomAABsgqbJGkITAAA2QWiyhuU5AAAAE2iaAACwCZoma2iaAAAATKBpAgDAJmiarCE0AQBgE4Qma1ieAwAAMIGmCQAAm6BpsoamCQAAwASaJgAAbIKmyRpCEwAANkFosoblOQAAABNomgAAsAmaJmtomgAAAEygaQIAwCZomqwhNAEAYBOEJmtYngMAADCBpgkAAJugabKGpgkAAMAEmiYAAGyCpskaQhMAADZBaLKG5TkAAAATaJoAALAJmiZraJoAAABMoGkCAMAmaJqsITQBAGAThCZrWJ4DAAAwgaYJAACboGmyhtAEAIBNEJqsYXkOAADABJomAABsgqbJGpomAAAAE2iaAACwCZomawhNAADYBKHJGpbnAABApeV0OtWvXz89/PDDt9x35cqV6t%2B/vzp27Kj4%2BHjt2rXLve3SpUt67rnn1KtXL3Xp0kUTJ05UXl5eqeZCaAIAwCaKi8v/oyKtWbNGiYmJuvPOO2%2B57z/%2B8Q8tWrRIv/nNb/TFF1%2BoT58%2BGjdunM6fPy9Jmj9/vjIyMpSamqoNGzbIMAzNmDGjVPMhNAEAgErp0qVLSk1NVfv27W%2B5b2pqqgYNGqT27dvLz89Pjz32mCTp448/1pUrV/Tee%2B9p/Pjxaty4serXr6/Jkyfrk08%2B0YkTJ0zPh3uaAACwiYpohnJycpSbm%2BsxFhwcrJCQEMvnHjJkiOl9MzIyNHDgQPfnPj4%2BatOmjZxOp9q0aaNz584pKirKvb1Fixby8/NTRkaGQkNDTX2N6huaHA5vzwC3kJOTo9TUVA0dOrRc/nKhAhmGt2eAW8jJyVHqokUa%2BuGH/H3CDVXEX%2BVFi1K1ePFij7GEhAQlJiaW/xe7CZfLpYCAAI%2BxgIAA5eXlyeVySZLq1avnsb1evXqluq%2Bp%2BoYmVHq5ublavHixYmNj%2BSYPWMTfJ3jL0KFDFRsb6zEWHBxs6tjVq1dr2rRpJW6bO3euBg0aVKq5GLdIhbfafiuEJgAAUGYhISFlDupxcXGKi4srl3k0aNDA3Shd43K51KpVKwUGBro/r1Onjnv7mTNn1LBhQ9NfgxvBAQBAlRcdHa2MjAz350VFRfrmm2/Uvn17hYeHKyAgwGP73r17VVhYqOjoaNNfg9AEAACqpAEDBmjr1q2SpPj4eL3//vvavn27Lly4oFdffVW33XabevfuLV9fXz388MN67bXXdPz4ceXl5enll19Wv379FBQUZPrrsTwHrwkODlZCQoLptW8AN8bfJ1RH/fv317Fjx1RUVKTi4mLFxMRIkj788EOFhYUpOzvb/RymXr16acqUKZo8ebJOnTqlmJgYLV26VH5%2BfpKkiRMnqqCgQHFxcbpy5Yr69OmjWbNmlWo%2BDsPqXVEAAAA2wPIcAACACYQmAAAAEwhNAAAAJhCaAAAATCA0AQAAmEBoAgAAMIHQBAAAYAKhCQAAwARCEwAAgAmEJgAAABMITQAAACbwC3tR4Vq3bi2Hw2Fq3927d1fwbICq7eWXXza975QpUypwJoD9EJpQ4V5//XX3nw8ePKjU1FQNGjRITZs2VXFxsfbv3681a9boscce8%2BIsgaohPT3d1H5m/6ECwDyHYRiGtycB%2Bxg6dKh%2B/etfq1mzZh7je/fu1TPPPKO//OUvXpoZAAA3xz1N%2BEHt3btXP/rRj64bb9Kkifbv3%2B%2BFGQFV2/bt25WcnKzx48dLkoqLi/Xhhx96eVZA9URowg%2BqdevWeuaZZ7R//35duHBB%2Bfn52rdvn5KTk9WqVStvTw%2BoUt599109%2BuijKiws1D//%2BU9JUm5url588UWtXLnSy7MDqh%2BW5/CDOnjwoJ5%2B%2Bmlt377dfc%2BFYRhq2bKlfve736lFixZeniFQdfTr10%2B//vWv1alTJ7Vr1047d%2B6UdPUNFZMmTdJHH33k5RkC1Qs3gqPCHTx4UHfeeaekq0sHc%2BfO1dmzZ1VUVCSHw6GAgABuWgXK4OTJk%2BrYsaMkzxu/W7ZsqZycHG9NC6i2CE2ocA8%2B%2BKD7X8D33XdfiQHJMAw5HA4eOQCUwp133qkvv/xS3bp18xhft25difcOArCG0IQK992bUjdt2uTFmQDVy9ixYzV%2B/HjFxsbqypUrmjNnjvbs2aP09HTNmzfP29MDqh3uaQKAKszpdOpvf/ubDh06JD8/P4WHh2vIkCFq3ry5t6cGVDuEJgAAABNYngOAKqqgoEAvv/yyPv30U504cUK1atVSaGio%2BvXrp3HjxsnPz8/bUwSqFZomAKiiJk6cqP3792vYsGFq0qSJDMPQwYMH9d577ykyMpL7moByRmgCgCqqc%2BfOWrdunUJDQz3Gc3JydP/992vLli1emhlQPfFEcACooho0aKDbb7/9uvHatWurXr16XpgRUL3RNAFAFVJYWOj%2B86effqq1a9fqscceU4sWLeTj46Ps7Gz98Y9/1AMPPKA%2Bffp4caZA9UNoAoAqpHXr1h4PiL32YNjvMgxDvr6%2BysjI%2BKGnB1RrvHsOAKoQfhEv4D00TQBQzRQVFel//ud/9Oc//9nbUwGqFZomAKii8vPztWTJEu3atUuXL192j588edLj3icA5YN3zwFAFfX888/rq6%2B%2BUseOHeV0OtWtWzcFBAQoICCAZTygArA8BwBVVNeuXfXhhx%2Bqfv36ateunXbu3ClJWrFihc6ePavExEQvzxCoXmiaAKCKMgxDdevWlSTVrFlT58%2BflyQ9/PDDevvtt705NaBaIjQBQBUVExOj559/XoWFhYqMjNRrr72mvLw8bd68WcXFxd6eHlDtEJoAoIp67rnndPjwYUnSlClT9NZbb6lbt25KTEzU2LFjvTw7oPrhniYAqEKys7NvuO3s2bMyDEPFxcVq0KCBmjVr9gPODKj%2BCE0AUIVceyJ4SU8Cv%2Bbatt27d//AswOqN0ITAFQhR48eNb1vWFhYBc4EsB9CEwAAgAncCA4AAGACoQkAAMAEQhMAAIAJhCYAAAATCE0AAAAmEJoAAABMIDQBAACY8L9a9cQwEZ6OewAAAABJRU5ErkJggg%3D%3D\" class=\"center-img\">\n",
              "</div>\n",
              "    <div class=\"row headerrow highlight\">\n",
              "        <h1>Sample</h1>\n",
              "    </div>\n",
              "    <div class=\"row variablerow\">\n",
              "    <div class=\"col-md-12\" style=\"overflow:scroll; width: 100%%; overflow-y: hidden;\">\n",
              "        <table border=\"1\" class=\"dataframe sample\">\n",
              "  <thead>\n",
              "    <tr style=\"text-align: right;\">\n",
              "      <th></th>\n",
              "      <th>id</th>\n",
              "      <th>label</th>\n",
              "      <th>tweet</th>\n",
              "    </tr>\n",
              "  </thead>\n",
              "  <tbody>\n",
              "    <tr>\n",
              "      <th>0</th>\n",
              "      <td>1</td>\n",
              "      <td>0</td>\n",
              "      <td>@user when a father is dysfunctional and is so selfish he drags his kids into his dysfunction.   #run</td>\n",
              "    </tr>\n",
              "    <tr>\n",
              "      <th>1</th>\n",
              "      <td>2</td>\n",
              "      <td>0</td>\n",
              "      <td>@user @user thanks for #lyft credit i can't use cause they don't offer wheelchair vans in pdx.    #disapointed #getthanked</td>\n",
              "    </tr>\n",
              "    <tr>\n",
              "      <th>2</th>\n",
              "      <td>3</td>\n",
              "      <td>0</td>\n",
              "      <td>bihday your majesty</td>\n",
              "    </tr>\n",
              "    <tr>\n",
              "      <th>3</th>\n",
              "      <td>4</td>\n",
              "      <td>0</td>\n",
              "      <td>#model   i love u take with u all the time in urð±!!! ððððð¦ð¦ð¦</td>\n",
              "    </tr>\n",
              "    <tr>\n",
              "      <th>4</th>\n",
              "      <td>5</td>\n",
              "      <td>0</td>\n",
              "      <td>factsguide: society now    #motivation</td>\n",
              "    </tr>\n",
              "  </tbody>\n",
              "</table>\n",
              "    </div>\n",
              "</div>\n",
              "</div>"
            ],
            "text/plain": [
              "<pandas_profiling.ProfileReport at 0x7fa3e81b3390>"
            ]
          },
          "metadata": {
            "tags": []
          },
          "execution_count": 25
        }
      ]
    },
    {
      "cell_type": "code",
      "metadata": {
        "id": "a5HI9dTVzLSB",
        "colab_type": "code",
        "outputId": "7d7efa8a-0f49-461c-acc7-9235040e331f",
        "colab": {
          "base_uri": "https://localhost:8080/",
          "height": 34
        }
      },
      "source": [
        "\n",
        "df.shape"
      ],
      "execution_count": 0,
      "outputs": [
        {
          "output_type": "execute_result",
          "data": {
            "text/plain": [
              "(31962, 3)"
            ]
          },
          "metadata": {
            "tags": []
          },
          "execution_count": 26
        }
      ]
    },
    {
      "cell_type": "code",
      "metadata": {
        "id": "lIyAwbxczdmp",
        "colab_type": "code",
        "colab": {}
      },
      "source": [
        "df.drop_duplicates(inplace = True)"
      ],
      "execution_count": 0,
      "outputs": []
    },
    {
      "cell_type": "code",
      "metadata": {
        "id": "VshWrpFnzkjR",
        "colab_type": "code",
        "outputId": "60153707-d7c3-49d7-c7ad-b3ba0b34c0d8",
        "colab": {
          "base_uri": "https://localhost:8080/",
          "height": 34
        }
      },
      "source": [
        "df['tweet'].isna().sum()"
      ],
      "execution_count": 0,
      "outputs": [
        {
          "output_type": "execute_result",
          "data": {
            "text/plain": [
              "0"
            ]
          },
          "metadata": {
            "tags": []
          },
          "execution_count": 28
        }
      ]
    },
    {
      "cell_type": "code",
      "metadata": {
        "id": "KobWzO63zyXc",
        "colab_type": "code",
        "outputId": "62d25ec0-9d97-4dad-9e35-5b623fa576f7",
        "colab": {
          "base_uri": "https://localhost:8080/",
          "height": 34
        }
      },
      "source": [
        "df['label'].isna().sum()"
      ],
      "execution_count": 0,
      "outputs": [
        {
          "output_type": "execute_result",
          "data": {
            "text/plain": [
              "0"
            ]
          },
          "metadata": {
            "tags": []
          },
          "execution_count": 29
        }
      ]
    },
    {
      "cell_type": "code",
      "metadata": {
        "id": "cv2MHeEZz2f1",
        "colab_type": "code",
        "colab": {}
      },
      "source": [
        "#Data doesn't contain duplicate values neither does it contain missing values"
      ],
      "execution_count": 0,
      "outputs": []
    },
    {
      "cell_type": "code",
      "metadata": {
        "id": "8YxZAE97z75D",
        "colab_type": "code",
        "colab": {}
      },
      "source": [
        "#Code to remove @\n",
        "df['clean_tweet'] = df['tweet'].apply(lambda x : ' '.join([tweet for tweet in x.split()if not tweet.startswith(\"@\")]))"
      ],
      "execution_count": 0,
      "outputs": []
    },
    {
      "cell_type": "code",
      "metadata": {
        "id": "P0hGErEY0Nzm",
        "colab_type": "code",
        "outputId": "ba007c97-d45f-4d27-c85d-030fb1585dc3",
        "colab": {
          "base_uri": "https://localhost:8080/",
          "height": 204
        }
      },
      "source": [
        "\n",
        "df.head()"
      ],
      "execution_count": 0,
      "outputs": [
        {
          "output_type": "execute_result",
          "data": {
            "text/html": [
              "<div>\n",
              "<style scoped>\n",
              "    .dataframe tbody tr th:only-of-type {\n",
              "        vertical-align: middle;\n",
              "    }\n",
              "\n",
              "    .dataframe tbody tr th {\n",
              "        vertical-align: top;\n",
              "    }\n",
              "\n",
              "    .dataframe thead th {\n",
              "        text-align: right;\n",
              "    }\n",
              "</style>\n",
              "<table border=\"1\" class=\"dataframe\">\n",
              "  <thead>\n",
              "    <tr style=\"text-align: right;\">\n",
              "      <th></th>\n",
              "      <th>id</th>\n",
              "      <th>label</th>\n",
              "      <th>tweet</th>\n",
              "      <th>clean_tweet</th>\n",
              "    </tr>\n",
              "  </thead>\n",
              "  <tbody>\n",
              "    <tr>\n",
              "      <th>0</th>\n",
              "      <td>1</td>\n",
              "      <td>0</td>\n",
              "      <td>@user when a father is dysfunctional and is s...</td>\n",
              "      <td>when a father is dysfunctional and is so selfi...</td>\n",
              "    </tr>\n",
              "    <tr>\n",
              "      <th>1</th>\n",
              "      <td>2</td>\n",
              "      <td>0</td>\n",
              "      <td>@user @user thanks for #lyft credit i can't us...</td>\n",
              "      <td>thanks for #lyft credit i can't use cause they...</td>\n",
              "    </tr>\n",
              "    <tr>\n",
              "      <th>2</th>\n",
              "      <td>3</td>\n",
              "      <td>0</td>\n",
              "      <td>bihday your majesty</td>\n",
              "      <td>bihday your majesty</td>\n",
              "    </tr>\n",
              "    <tr>\n",
              "      <th>3</th>\n",
              "      <td>4</td>\n",
              "      <td>0</td>\n",
              "      <td>#model   i love u take with u all the time in ...</td>\n",
              "      <td>#model i love u take with u all the time in ur...</td>\n",
              "    </tr>\n",
              "    <tr>\n",
              "      <th>4</th>\n",
              "      <td>5</td>\n",
              "      <td>0</td>\n",
              "      <td>factsguide: society now    #motivation</td>\n",
              "      <td>factsguide: society now #motivation</td>\n",
              "    </tr>\n",
              "  </tbody>\n",
              "</table>\n",
              "</div>"
            ],
            "text/plain": [
              "   id  ...                                        clean_tweet\n",
              "0   1  ...  when a father is dysfunctional and is so selfi...\n",
              "1   2  ...  thanks for #lyft credit i can't use cause they...\n",
              "2   3  ...                                bihday your majesty\n",
              "3   4  ...  #model i love u take with u all the time in ur...\n",
              "4   5  ...                factsguide: society now #motivation\n",
              "\n",
              "[5 rows x 4 columns]"
            ]
          },
          "metadata": {
            "tags": []
          },
          "execution_count": 32
        }
      ]
    },
    {
      "cell_type": "code",
      "metadata": {
        "id": "2I14HVnc0TSO",
        "colab_type": "code",
        "colab": {}
      },
      "source": [
        "#Removing numbers\n",
        "df['clean_tweet'] = df['clean_tweet'].apply(lambda x : ' '.join([tweet for tweet in x.split() if not tweet == '\\d*']))"
      ],
      "execution_count": 0,
      "outputs": []
    },
    {
      "cell_type": "code",
      "metadata": {
        "id": "knxiPvpG0Xul",
        "colab_type": "code",
        "outputId": "400ee11f-e26d-47d7-b4f2-c130463d9bab",
        "colab": {
          "base_uri": "https://localhost:8080/",
          "height": 204
        }
      },
      "source": [
        "df.head()"
      ],
      "execution_count": 0,
      "outputs": [
        {
          "output_type": "execute_result",
          "data": {
            "text/html": [
              "<div>\n",
              "<style scoped>\n",
              "    .dataframe tbody tr th:only-of-type {\n",
              "        vertical-align: middle;\n",
              "    }\n",
              "\n",
              "    .dataframe tbody tr th {\n",
              "        vertical-align: top;\n",
              "    }\n",
              "\n",
              "    .dataframe thead th {\n",
              "        text-align: right;\n",
              "    }\n",
              "</style>\n",
              "<table border=\"1\" class=\"dataframe\">\n",
              "  <thead>\n",
              "    <tr style=\"text-align: right;\">\n",
              "      <th></th>\n",
              "      <th>id</th>\n",
              "      <th>label</th>\n",
              "      <th>tweet</th>\n",
              "      <th>clean_tweet</th>\n",
              "    </tr>\n",
              "  </thead>\n",
              "  <tbody>\n",
              "    <tr>\n",
              "      <th>0</th>\n",
              "      <td>1</td>\n",
              "      <td>0</td>\n",
              "      <td>@user when a father is dysfunctional and is s...</td>\n",
              "      <td>when a father is dysfunctional and is so selfi...</td>\n",
              "    </tr>\n",
              "    <tr>\n",
              "      <th>1</th>\n",
              "      <td>2</td>\n",
              "      <td>0</td>\n",
              "      <td>@user @user thanks for #lyft credit i can't us...</td>\n",
              "      <td>thanks for #lyft credit i can't use cause they...</td>\n",
              "    </tr>\n",
              "    <tr>\n",
              "      <th>2</th>\n",
              "      <td>3</td>\n",
              "      <td>0</td>\n",
              "      <td>bihday your majesty</td>\n",
              "      <td>bihday your majesty</td>\n",
              "    </tr>\n",
              "    <tr>\n",
              "      <th>3</th>\n",
              "      <td>4</td>\n",
              "      <td>0</td>\n",
              "      <td>#model   i love u take with u all the time in ...</td>\n",
              "      <td>#model i love u take with u all the time in ur...</td>\n",
              "    </tr>\n",
              "    <tr>\n",
              "      <th>4</th>\n",
              "      <td>5</td>\n",
              "      <td>0</td>\n",
              "      <td>factsguide: society now    #motivation</td>\n",
              "      <td>factsguide: society now #motivation</td>\n",
              "    </tr>\n",
              "  </tbody>\n",
              "</table>\n",
              "</div>"
            ],
            "text/plain": [
              "   id  ...                                        clean_tweet\n",
              "0   1  ...  when a father is dysfunctional and is so selfi...\n",
              "1   2  ...  thanks for #lyft credit i can't use cause they...\n",
              "2   3  ...                                bihday your majesty\n",
              "3   4  ...  #model i love u take with u all the time in ur...\n",
              "4   5  ...                factsguide: society now #motivation\n",
              "\n",
              "[5 rows x 4 columns]"
            ]
          },
          "metadata": {
            "tags": []
          },
          "execution_count": 34
        }
      ]
    },
    {
      "cell_type": "code",
      "metadata": {
        "id": "CHMcIkaF0ZjN",
        "colab_type": "code",
        "colab": {}
      },
      "source": [
        "#Removing all the greek characters using unidecode library\n",
        "df['clean_tweet'] = df['clean_tweet'].apply(lambda x : ' '.join([unidecode.unidecode(word) for word in x.split()]))"
      ],
      "execution_count": 0,
      "outputs": []
    },
    {
      "cell_type": "code",
      "metadata": {
        "id": "cWLfTPJL0erO",
        "colab_type": "code",
        "outputId": "cd0180c7-6138-443c-cf63-dd9df9f33ed0",
        "colab": {
          "base_uri": "https://localhost:8080/",
          "height": 359
        }
      },
      "source": [
        "df.head(10)"
      ],
      "execution_count": 0,
      "outputs": [
        {
          "output_type": "execute_result",
          "data": {
            "text/html": [
              "<div>\n",
              "<style scoped>\n",
              "    .dataframe tbody tr th:only-of-type {\n",
              "        vertical-align: middle;\n",
              "    }\n",
              "\n",
              "    .dataframe tbody tr th {\n",
              "        vertical-align: top;\n",
              "    }\n",
              "\n",
              "    .dataframe thead th {\n",
              "        text-align: right;\n",
              "    }\n",
              "</style>\n",
              "<table border=\"1\" class=\"dataframe\">\n",
              "  <thead>\n",
              "    <tr style=\"text-align: right;\">\n",
              "      <th></th>\n",
              "      <th>id</th>\n",
              "      <th>label</th>\n",
              "      <th>tweet</th>\n",
              "      <th>clean_tweet</th>\n",
              "    </tr>\n",
              "  </thead>\n",
              "  <tbody>\n",
              "    <tr>\n",
              "      <th>0</th>\n",
              "      <td>1</td>\n",
              "      <td>0</td>\n",
              "      <td>@user when a father is dysfunctional and is s...</td>\n",
              "      <td>when a father is dysfunctional and is so selfi...</td>\n",
              "    </tr>\n",
              "    <tr>\n",
              "      <th>1</th>\n",
              "      <td>2</td>\n",
              "      <td>0</td>\n",
              "      <td>@user @user thanks for #lyft credit i can't us...</td>\n",
              "      <td>thanks for #lyft credit i can't use cause they...</td>\n",
              "    </tr>\n",
              "    <tr>\n",
              "      <th>2</th>\n",
              "      <td>3</td>\n",
              "      <td>0</td>\n",
              "      <td>bihday your majesty</td>\n",
              "      <td>bihday your majesty</td>\n",
              "    </tr>\n",
              "    <tr>\n",
              "      <th>3</th>\n",
              "      <td>4</td>\n",
              "      <td>0</td>\n",
              "      <td>#model   i love u take with u all the time in ...</td>\n",
              "      <td>#model i love u take with u all the time in ur...</td>\n",
              "    </tr>\n",
              "    <tr>\n",
              "      <th>4</th>\n",
              "      <td>5</td>\n",
              "      <td>0</td>\n",
              "      <td>factsguide: society now    #motivation</td>\n",
              "      <td>factsguide: society now #motivation</td>\n",
              "    </tr>\n",
              "    <tr>\n",
              "      <th>5</th>\n",
              "      <td>6</td>\n",
              "      <td>0</td>\n",
              "      <td>[2/2] huge fan fare and big talking before the...</td>\n",
              "      <td>[2/2] huge fan fare and big talking before the...</td>\n",
              "    </tr>\n",
              "    <tr>\n",
              "      <th>6</th>\n",
              "      <td>7</td>\n",
              "      <td>0</td>\n",
              "      <td>@user camping tomorrow @user @user @user @use...</td>\n",
              "      <td>camping tomorrow dannya|</td>\n",
              "    </tr>\n",
              "    <tr>\n",
              "      <th>7</th>\n",
              "      <td>8</td>\n",
              "      <td>0</td>\n",
              "      <td>the next school year is the year for exams.ð...</td>\n",
              "      <td>the next school year is the year for exams.d- ...</td>\n",
              "    </tr>\n",
              "    <tr>\n",
              "      <th>8</th>\n",
              "      <td>9</td>\n",
              "      <td>0</td>\n",
              "      <td>we won!!! love the land!!! #allin #cavs #champ...</td>\n",
              "      <td>we won!!! love the land!!! #allin #cavs #champ...</td>\n",
              "    </tr>\n",
              "    <tr>\n",
              "      <th>9</th>\n",
              "      <td>10</td>\n",
              "      <td>0</td>\n",
              "      <td>@user @user welcome here !  i'm   it's so #gr...</td>\n",
              "      <td>welcome here ! i'm it's so #gr8 !</td>\n",
              "    </tr>\n",
              "  </tbody>\n",
              "</table>\n",
              "</div>"
            ],
            "text/plain": [
              "   id  ...                                        clean_tweet\n",
              "0   1  ...  when a father is dysfunctional and is so selfi...\n",
              "1   2  ...  thanks for #lyft credit i can't use cause they...\n",
              "2   3  ...                                bihday your majesty\n",
              "3   4  ...  #model i love u take with u all the time in ur...\n",
              "4   5  ...                factsguide: society now #motivation\n",
              "5   6  ...  [2/2] huge fan fare and big talking before the...\n",
              "6   7  ...                           camping tomorrow dannya|\n",
              "7   8  ...  the next school year is the year for exams.d- ...\n",
              "8   9  ...  we won!!! love the land!!! #allin #cavs #champ...\n",
              "9  10  ...                  welcome here ! i'm it's so #gr8 !\n",
              "\n",
              "[10 rows x 4 columns]"
            ]
          },
          "metadata": {
            "tags": []
          },
          "execution_count": 36
        }
      ]
    },
    {
      "cell_type": "code",
      "metadata": {
        "id": "mMYMNbtr0gmC",
        "colab_type": "code",
        "outputId": "d20e7373-ca1b-4596-dd06-c1c60f02da33",
        "colab": {
          "base_uri": "https://localhost:8080/",
          "height": 34
        }
      },
      "source": [
        "#To check the disappearance of greek symbols\n",
        "df['clean_tweet'][7]"
      ],
      "execution_count": 0,
      "outputs": [
        {
          "output_type": "execute_result",
          "data": {
            "text/plain": [
              "\"the next school year is the year for exams.d- can't think about that d #school #exams #hate #imagine #actorslife #revolutionschool #girl\""
            ]
          },
          "metadata": {
            "tags": []
          },
          "execution_count": 37
        }
      ]
    },
    {
      "cell_type": "code",
      "metadata": {
        "id": "tcOEoVgJ0mkV",
        "colab_type": "code",
        "colab": {}
      },
      "source": [
        "\n",
        "#Removing the word 'hmm' and it's variants\n",
        "df['clean_tweet'] = df['clean_tweet'].apply(lambda x : ' '.join([word for word in x.split() if not word == 'h(m)+' ]))"
      ],
      "execution_count": 0,
      "outputs": []
    },
    {
      "cell_type": "code",
      "metadata": {
        "id": "rnJuE1L_0p1t",
        "colab_type": "code",
        "outputId": "8fa72a87-b2ab-46c7-88e8-1ed23b5e4042",
        "colab": {
          "base_uri": "https://localhost:8080/",
          "height": 142
        }
      },
      "source": [
        "df.head(3)"
      ],
      "execution_count": 0,
      "outputs": [
        {
          "output_type": "execute_result",
          "data": {
            "text/html": [
              "<div>\n",
              "<style scoped>\n",
              "    .dataframe tbody tr th:only-of-type {\n",
              "        vertical-align: middle;\n",
              "    }\n",
              "\n",
              "    .dataframe tbody tr th {\n",
              "        vertical-align: top;\n",
              "    }\n",
              "\n",
              "    .dataframe thead th {\n",
              "        text-align: right;\n",
              "    }\n",
              "</style>\n",
              "<table border=\"1\" class=\"dataframe\">\n",
              "  <thead>\n",
              "    <tr style=\"text-align: right;\">\n",
              "      <th></th>\n",
              "      <th>id</th>\n",
              "      <th>label</th>\n",
              "      <th>tweet</th>\n",
              "      <th>clean_tweet</th>\n",
              "    </tr>\n",
              "  </thead>\n",
              "  <tbody>\n",
              "    <tr>\n",
              "      <th>0</th>\n",
              "      <td>1</td>\n",
              "      <td>0</td>\n",
              "      <td>@user when a father is dysfunctional and is s...</td>\n",
              "      <td>when a father is dysfunctional and is so selfi...</td>\n",
              "    </tr>\n",
              "    <tr>\n",
              "      <th>1</th>\n",
              "      <td>2</td>\n",
              "      <td>0</td>\n",
              "      <td>@user @user thanks for #lyft credit i can't us...</td>\n",
              "      <td>thanks for #lyft credit i can't use cause they...</td>\n",
              "    </tr>\n",
              "    <tr>\n",
              "      <th>2</th>\n",
              "      <td>3</td>\n",
              "      <td>0</td>\n",
              "      <td>bihday your majesty</td>\n",
              "      <td>bihday your majesty</td>\n",
              "    </tr>\n",
              "  </tbody>\n",
              "</table>\n",
              "</div>"
            ],
            "text/plain": [
              "   id  ...                                        clean_tweet\n",
              "0   1  ...  when a father is dysfunctional and is so selfi...\n",
              "1   2  ...  thanks for #lyft credit i can't use cause they...\n",
              "2   3  ...                                bihday your majesty\n",
              "\n",
              "[3 rows x 4 columns]"
            ]
          },
          "metadata": {
            "tags": []
          },
          "execution_count": 39
        }
      ]
    },
    {
      "cell_type": "code",
      "metadata": {
        "id": "mH-wFOH40rd4",
        "colab_type": "code",
        "colab": {}
      },
      "source": [
        "#Code for removing slang words\n",
        "d = {'luv':'love','wud':'would','lyk':'like','wateva':'whatever','ttyl':'talk to you later',\n",
        "               'kul':'cool','fyn':'fine','omg':'oh my god!','fam':'family','bruh':'brother',\n",
        "               'cud':'could','fud':'food'} ## Need a huge dictionary\n",
        "words = \"I luv myself\"\n",
        "words = words.split()\n",
        "reformed = [d[word] if word in d else word for word in words]\n",
        "reformed = \" \".join(reformed)"
      ],
      "execution_count": 0,
      "outputs": []
    },
    {
      "cell_type": "code",
      "metadata": {
        "id": "t4-xS7pF0wre",
        "colab_type": "code",
        "outputId": "5e0d6dd1-f9ed-4299-fc55-849446e03389",
        "colab": {
          "base_uri": "https://localhost:8080/",
          "height": 34
        }
      },
      "source": [
        "reformed"
      ],
      "execution_count": 0,
      "outputs": [
        {
          "output_type": "execute_result",
          "data": {
            "text/plain": [
              "'I love myself'"
            ]
          },
          "metadata": {
            "tags": []
          },
          "execution_count": 41
        }
      ]
    },
    {
      "cell_type": "code",
      "metadata": {
        "id": "WpveLpda0y9h",
        "colab_type": "code",
        "colab": {}
      },
      "source": [
        "df['clean_tweet'] = df['clean_tweet'].apply(lambda x : ' '.join(d[word] if word in d else word for word in x.split()))"
      ],
      "execution_count": 0,
      "outputs": []
    },
    {
      "cell_type": "code",
      "metadata": {
        "id": "rPnttoOW011B",
        "colab_type": "code",
        "outputId": "c512f530-2764-4595-f300-0e4df7b4cb66",
        "colab": {
          "base_uri": "https://localhost:8080/",
          "height": 204
        }
      },
      "source": [
        "df.head()"
      ],
      "execution_count": 0,
      "outputs": [
        {
          "output_type": "execute_result",
          "data": {
            "text/html": [
              "<div>\n",
              "<style scoped>\n",
              "    .dataframe tbody tr th:only-of-type {\n",
              "        vertical-align: middle;\n",
              "    }\n",
              "\n",
              "    .dataframe tbody tr th {\n",
              "        vertical-align: top;\n",
              "    }\n",
              "\n",
              "    .dataframe thead th {\n",
              "        text-align: right;\n",
              "    }\n",
              "</style>\n",
              "<table border=\"1\" class=\"dataframe\">\n",
              "  <thead>\n",
              "    <tr style=\"text-align: right;\">\n",
              "      <th></th>\n",
              "      <th>id</th>\n",
              "      <th>label</th>\n",
              "      <th>tweet</th>\n",
              "      <th>clean_tweet</th>\n",
              "    </tr>\n",
              "  </thead>\n",
              "  <tbody>\n",
              "    <tr>\n",
              "      <th>0</th>\n",
              "      <td>1</td>\n",
              "      <td>0</td>\n",
              "      <td>@user when a father is dysfunctional and is s...</td>\n",
              "      <td>when a father is dysfunctional and is so selfi...</td>\n",
              "    </tr>\n",
              "    <tr>\n",
              "      <th>1</th>\n",
              "      <td>2</td>\n",
              "      <td>0</td>\n",
              "      <td>@user @user thanks for #lyft credit i can't us...</td>\n",
              "      <td>thanks for #lyft credit i can't use cause they...</td>\n",
              "    </tr>\n",
              "    <tr>\n",
              "      <th>2</th>\n",
              "      <td>3</td>\n",
              "      <td>0</td>\n",
              "      <td>bihday your majesty</td>\n",
              "      <td>bihday your majesty</td>\n",
              "    </tr>\n",
              "    <tr>\n",
              "      <th>3</th>\n",
              "      <td>4</td>\n",
              "      <td>0</td>\n",
              "      <td>#model   i love u take with u all the time in ...</td>\n",
              "      <td>#model i love u take with u all the time in ur...</td>\n",
              "    </tr>\n",
              "    <tr>\n",
              "      <th>4</th>\n",
              "      <td>5</td>\n",
              "      <td>0</td>\n",
              "      <td>factsguide: society now    #motivation</td>\n",
              "      <td>factsguide: society now #motivation</td>\n",
              "    </tr>\n",
              "  </tbody>\n",
              "</table>\n",
              "</div>"
            ],
            "text/plain": [
              "   id  ...                                        clean_tweet\n",
              "0   1  ...  when a father is dysfunctional and is so selfi...\n",
              "1   2  ...  thanks for #lyft credit i can't use cause they...\n",
              "2   3  ...                                bihday your majesty\n",
              "3   4  ...  #model i love u take with u all the time in ur...\n",
              "4   5  ...                factsguide: society now #motivation\n",
              "\n",
              "[5 rows x 4 columns]"
            ]
          },
          "metadata": {
            "tags": []
          },
          "execution_count": 43
        }
      ]
    },
    {
      "cell_type": "code",
      "metadata": {
        "id": "FbCJHMl503gR",
        "colab_type": "code",
        "colab": {}
      },
      "source": [
        "\n",
        "#Finding words with # attached to it\n",
        "df['#'] = df['clean_tweet'].apply(lambda x : ' '.join([word for word in x.split() if word.startswith('#')]))"
      ],
      "execution_count": 0,
      "outputs": []
    },
    {
      "cell_type": "code",
      "metadata": {
        "id": "NX0lvcUw07kU",
        "colab_type": "code",
        "outputId": "99d9966c-e855-4078-fc47-090a84720f84",
        "colab": {
          "base_uri": "https://localhost:8080/",
          "height": 204
        }
      },
      "source": [
        "df.head()"
      ],
      "execution_count": 0,
      "outputs": [
        {
          "output_type": "execute_result",
          "data": {
            "text/html": [
              "<div>\n",
              "<style scoped>\n",
              "    .dataframe tbody tr th:only-of-type {\n",
              "        vertical-align: middle;\n",
              "    }\n",
              "\n",
              "    .dataframe tbody tr th {\n",
              "        vertical-align: top;\n",
              "    }\n",
              "\n",
              "    .dataframe thead th {\n",
              "        text-align: right;\n",
              "    }\n",
              "</style>\n",
              "<table border=\"1\" class=\"dataframe\">\n",
              "  <thead>\n",
              "    <tr style=\"text-align: right;\">\n",
              "      <th></th>\n",
              "      <th>id</th>\n",
              "      <th>label</th>\n",
              "      <th>tweet</th>\n",
              "      <th>clean_tweet</th>\n",
              "      <th>#</th>\n",
              "    </tr>\n",
              "  </thead>\n",
              "  <tbody>\n",
              "    <tr>\n",
              "      <th>0</th>\n",
              "      <td>1</td>\n",
              "      <td>0</td>\n",
              "      <td>@user when a father is dysfunctional and is s...</td>\n",
              "      <td>when a father is dysfunctional and is so selfi...</td>\n",
              "      <td>#run</td>\n",
              "    </tr>\n",
              "    <tr>\n",
              "      <th>1</th>\n",
              "      <td>2</td>\n",
              "      <td>0</td>\n",
              "      <td>@user @user thanks for #lyft credit i can't us...</td>\n",
              "      <td>thanks for #lyft credit i can't use cause they...</td>\n",
              "      <td>#lyft #disapointed #getthanked</td>\n",
              "    </tr>\n",
              "    <tr>\n",
              "      <th>2</th>\n",
              "      <td>3</td>\n",
              "      <td>0</td>\n",
              "      <td>bihday your majesty</td>\n",
              "      <td>bihday your majesty</td>\n",
              "      <td></td>\n",
              "    </tr>\n",
              "    <tr>\n",
              "      <th>3</th>\n",
              "      <td>4</td>\n",
              "      <td>0</td>\n",
              "      <td>#model   i love u take with u all the time in ...</td>\n",
              "      <td>#model i love u take with u all the time in ur...</td>\n",
              "      <td>#model</td>\n",
              "    </tr>\n",
              "    <tr>\n",
              "      <th>4</th>\n",
              "      <td>5</td>\n",
              "      <td>0</td>\n",
              "      <td>factsguide: society now    #motivation</td>\n",
              "      <td>factsguide: society now #motivation</td>\n",
              "      <td>#motivation</td>\n",
              "    </tr>\n",
              "  </tbody>\n",
              "</table>\n",
              "</div>"
            ],
            "text/plain": [
              "   id  ...                               #\n",
              "0   1  ...                            #run\n",
              "1   2  ...  #lyft #disapointed #getthanked\n",
              "2   3  ...                                \n",
              "3   4  ...                          #model\n",
              "4   5  ...                     #motivation\n",
              "\n",
              "[5 rows x 5 columns]"
            ]
          },
          "metadata": {
            "tags": []
          },
          "execution_count": 45
        }
      ]
    },
    {
      "cell_type": "code",
      "metadata": {
        "id": "T25f1fl409gn",
        "colab_type": "code",
        "outputId": "8cca0d06-8c6d-4ae8-cba0-2c6273171f7e",
        "colab": {
          "base_uri": "https://localhost:8080/",
          "height": 204
        }
      },
      "source": [
        "frame = df['#']\n",
        "frame = pd.DataFrame(frame)\n",
        "frame = frame.rename({'#':'Count(#)'},axis = 'columns')\n",
        "frame.head()"
      ],
      "execution_count": 0,
      "outputs": [
        {
          "output_type": "execute_result",
          "data": {
            "text/html": [
              "<div>\n",
              "<style scoped>\n",
              "    .dataframe tbody tr th:only-of-type {\n",
              "        vertical-align: middle;\n",
              "    }\n",
              "\n",
              "    .dataframe tbody tr th {\n",
              "        vertical-align: top;\n",
              "    }\n",
              "\n",
              "    .dataframe thead th {\n",
              "        text-align: right;\n",
              "    }\n",
              "</style>\n",
              "<table border=\"1\" class=\"dataframe\">\n",
              "  <thead>\n",
              "    <tr style=\"text-align: right;\">\n",
              "      <th></th>\n",
              "      <th>Count(#)</th>\n",
              "    </tr>\n",
              "  </thead>\n",
              "  <tbody>\n",
              "    <tr>\n",
              "      <th>0</th>\n",
              "      <td>#run</td>\n",
              "    </tr>\n",
              "    <tr>\n",
              "      <th>1</th>\n",
              "      <td>#lyft #disapointed #getthanked</td>\n",
              "    </tr>\n",
              "    <tr>\n",
              "      <th>2</th>\n",
              "      <td></td>\n",
              "    </tr>\n",
              "    <tr>\n",
              "      <th>3</th>\n",
              "      <td>#model</td>\n",
              "    </tr>\n",
              "    <tr>\n",
              "      <th>4</th>\n",
              "      <td>#motivation</td>\n",
              "    </tr>\n",
              "  </tbody>\n",
              "</table>\n",
              "</div>"
            ],
            "text/plain": [
              "                         Count(#)\n",
              "0                            #run\n",
              "1  #lyft #disapointed #getthanked\n",
              "2                                \n",
              "3                          #model\n",
              "4                     #motivation"
            ]
          },
          "metadata": {
            "tags": []
          },
          "execution_count": 46
        }
      ]
    },
    {
      "cell_type": "code",
      "metadata": {
        "id": "A8COa-mn1LWs",
        "colab_type": "code",
        "outputId": "21b1cc9d-b354-4b1f-c9cf-6eef02bbeaf2",
        "colab": {
          "base_uri": "https://localhost:8080/",
          "height": 204
        }
      },
      "source": [
        "frame[frame['Count(#)'] == ''] = 'No hashtags'\n",
        "frame.head()"
      ],
      "execution_count": 0,
      "outputs": [
        {
          "output_type": "execute_result",
          "data": {
            "text/html": [
              "<div>\n",
              "<style scoped>\n",
              "    .dataframe tbody tr th:only-of-type {\n",
              "        vertical-align: middle;\n",
              "    }\n",
              "\n",
              "    .dataframe tbody tr th {\n",
              "        vertical-align: top;\n",
              "    }\n",
              "\n",
              "    .dataframe thead th {\n",
              "        text-align: right;\n",
              "    }\n",
              "</style>\n",
              "<table border=\"1\" class=\"dataframe\">\n",
              "  <thead>\n",
              "    <tr style=\"text-align: right;\">\n",
              "      <th></th>\n",
              "      <th>Count(#)</th>\n",
              "    </tr>\n",
              "  </thead>\n",
              "  <tbody>\n",
              "    <tr>\n",
              "      <th>0</th>\n",
              "      <td>#run</td>\n",
              "    </tr>\n",
              "    <tr>\n",
              "      <th>1</th>\n",
              "      <td>#lyft #disapointed #getthanked</td>\n",
              "    </tr>\n",
              "    <tr>\n",
              "      <th>2</th>\n",
              "      <td>No hashtags</td>\n",
              "    </tr>\n",
              "    <tr>\n",
              "      <th>3</th>\n",
              "      <td>#model</td>\n",
              "    </tr>\n",
              "    <tr>\n",
              "      <th>4</th>\n",
              "      <td>#motivation</td>\n",
              "    </tr>\n",
              "  </tbody>\n",
              "</table>\n",
              "</div>"
            ],
            "text/plain": [
              "                         Count(#)\n",
              "0                            #run\n",
              "1  #lyft #disapointed #getthanked\n",
              "2                     No hashtags\n",
              "3                          #model\n",
              "4                     #motivation"
            ]
          },
          "metadata": {
            "tags": []
          },
          "execution_count": 47
        }
      ]
    },
    {
      "cell_type": "code",
      "metadata": {
        "id": "iCOuCgUt1Rnx",
        "colab_type": "code",
        "colab": {}
      },
      "source": [
        "data_frame = pd.concat([df,frame],axis = 1)\n"
      ],
      "execution_count": 0,
      "outputs": []
    },
    {
      "cell_type": "code",
      "metadata": {
        "id": "H9hxIPEQ1Z43",
        "colab_type": "code",
        "colab": {}
      },
      "source": [
        "data_frame.drop('#',axis = 1,inplace = True)"
      ],
      "execution_count": 0,
      "outputs": []
    },
    {
      "cell_type": "code",
      "metadata": {
        "id": "XWke3K881gmx",
        "colab_type": "code",
        "colab": {}
      },
      "source": [
        "#Column showing whether the corresponding tweet has a hash tagged word or not\n",
        "data_frame = data_frame.rename({'Count(#)':'Hash words'},axis = 'columns')"
      ],
      "execution_count": 0,
      "outputs": []
    },
    {
      "cell_type": "code",
      "metadata": {
        "id": "5kPQHh1B1kX4",
        "colab_type": "code",
        "outputId": "59a61b22-b740-4c08-8bdf-bf19a932dba4",
        "colab": {
          "base_uri": "https://localhost:8080/",
          "height": 204
        }
      },
      "source": [
        "data_frame.head()\n"
      ],
      "execution_count": 0,
      "outputs": [
        {
          "output_type": "execute_result",
          "data": {
            "text/html": [
              "<div>\n",
              "<style scoped>\n",
              "    .dataframe tbody tr th:only-of-type {\n",
              "        vertical-align: middle;\n",
              "    }\n",
              "\n",
              "    .dataframe tbody tr th {\n",
              "        vertical-align: top;\n",
              "    }\n",
              "\n",
              "    .dataframe thead th {\n",
              "        text-align: right;\n",
              "    }\n",
              "</style>\n",
              "<table border=\"1\" class=\"dataframe\">\n",
              "  <thead>\n",
              "    <tr style=\"text-align: right;\">\n",
              "      <th></th>\n",
              "      <th>id</th>\n",
              "      <th>label</th>\n",
              "      <th>tweet</th>\n",
              "      <th>clean_tweet</th>\n",
              "      <th>Hash words</th>\n",
              "    </tr>\n",
              "  </thead>\n",
              "  <tbody>\n",
              "    <tr>\n",
              "      <th>0</th>\n",
              "      <td>1</td>\n",
              "      <td>0</td>\n",
              "      <td>@user when a father is dysfunctional and is s...</td>\n",
              "      <td>when a father is dysfunctional and is so selfi...</td>\n",
              "      <td>#run</td>\n",
              "    </tr>\n",
              "    <tr>\n",
              "      <th>1</th>\n",
              "      <td>2</td>\n",
              "      <td>0</td>\n",
              "      <td>@user @user thanks for #lyft credit i can't us...</td>\n",
              "      <td>thanks for #lyft credit i can't use cause they...</td>\n",
              "      <td>#lyft #disapointed #getthanked</td>\n",
              "    </tr>\n",
              "    <tr>\n",
              "      <th>2</th>\n",
              "      <td>3</td>\n",
              "      <td>0</td>\n",
              "      <td>bihday your majesty</td>\n",
              "      <td>bihday your majesty</td>\n",
              "      <td>No hashtags</td>\n",
              "    </tr>\n",
              "    <tr>\n",
              "      <th>3</th>\n",
              "      <td>4</td>\n",
              "      <td>0</td>\n",
              "      <td>#model   i love u take with u all the time in ...</td>\n",
              "      <td>#model i love u take with u all the time in ur...</td>\n",
              "      <td>#model</td>\n",
              "    </tr>\n",
              "    <tr>\n",
              "      <th>4</th>\n",
              "      <td>5</td>\n",
              "      <td>0</td>\n",
              "      <td>factsguide: society now    #motivation</td>\n",
              "      <td>factsguide: society now #motivation</td>\n",
              "      <td>#motivation</td>\n",
              "    </tr>\n",
              "  </tbody>\n",
              "</table>\n",
              "</div>"
            ],
            "text/plain": [
              "   id  ...                      Hash words\n",
              "0   1  ...                            #run\n",
              "1   2  ...  #lyft #disapointed #getthanked\n",
              "2   3  ...                     No hashtags\n",
              "3   4  ...                          #model\n",
              "4   5  ...                     #motivation\n",
              "\n",
              "[5 rows x 5 columns]"
            ]
          },
          "metadata": {
            "tags": []
          },
          "execution_count": 51
        }
      ]
    },
    {
      "cell_type": "code",
      "metadata": {
        "id": "N3cabeYX2aZq",
        "colab_type": "code",
        "outputId": "f1d4cda5-0e79-47cc-f781-272436c5d830",
        "colab": {
          "base_uri": "https://localhost:8080/",
          "height": 68
        }
      },
      "source": [
        "from nltk.corpus import stopwords\n",
        "import nltk\n",
        "nltk.download('stopwords')"
      ],
      "execution_count": 0,
      "outputs": [
        {
          "output_type": "stream",
          "text": [
            "[nltk_data] Downloading package stopwords to /root/nltk_data...\n",
            "[nltk_data]   Unzipping corpora/stopwords.zip.\n"
          ],
          "name": "stdout"
        },
        {
          "output_type": "execute_result",
          "data": {
            "text/plain": [
              "True"
            ]
          },
          "metadata": {
            "tags": []
          },
          "execution_count": 52
        }
      ]
    },
    {
      "cell_type": "code",
      "metadata": {
        "id": "qnl9f6zH1p-7",
        "colab_type": "code",
        "colab": {}
      },
      "source": [
        "#Removing stopwords\n",
        "data_frame['clean_tweet'] = data_frame['clean_tweet'].apply(lambda x : ' '.join([word for word in x.split() if not word in set(stopwords.words('english'))]))"
      ],
      "execution_count": 0,
      "outputs": []
    },
    {
      "cell_type": "code",
      "metadata": {
        "id": "1p8B5_o13Sxm",
        "colab_type": "code",
        "outputId": "eb647cf0-9564-45a0-eee6-13a985a49a13",
        "colab": {
          "base_uri": "https://localhost:8080/",
          "height": 204
        }
      },
      "source": [
        "data_frame.head()"
      ],
      "execution_count": 0,
      "outputs": [
        {
          "output_type": "execute_result",
          "data": {
            "text/html": [
              "<div>\n",
              "<style scoped>\n",
              "    .dataframe tbody tr th:only-of-type {\n",
              "        vertical-align: middle;\n",
              "    }\n",
              "\n",
              "    .dataframe tbody tr th {\n",
              "        vertical-align: top;\n",
              "    }\n",
              "\n",
              "    .dataframe thead th {\n",
              "        text-align: right;\n",
              "    }\n",
              "</style>\n",
              "<table border=\"1\" class=\"dataframe\">\n",
              "  <thead>\n",
              "    <tr style=\"text-align: right;\">\n",
              "      <th></th>\n",
              "      <th>id</th>\n",
              "      <th>label</th>\n",
              "      <th>tweet</th>\n",
              "      <th>clean_tweet</th>\n",
              "      <th>Hash words</th>\n",
              "    </tr>\n",
              "  </thead>\n",
              "  <tbody>\n",
              "    <tr>\n",
              "      <th>0</th>\n",
              "      <td>1</td>\n",
              "      <td>0</td>\n",
              "      <td>@user when a father is dysfunctional and is s...</td>\n",
              "      <td>father dysfunctional selfish drags kids dysfun...</td>\n",
              "      <td>#run</td>\n",
              "    </tr>\n",
              "    <tr>\n",
              "      <th>1</th>\n",
              "      <td>2</td>\n",
              "      <td>0</td>\n",
              "      <td>@user @user thanks for #lyft credit i can't us...</td>\n",
              "      <td>thanks #lyft credit can't use cause offer whee...</td>\n",
              "      <td>#lyft #disapointed #getthanked</td>\n",
              "    </tr>\n",
              "    <tr>\n",
              "      <th>2</th>\n",
              "      <td>3</td>\n",
              "      <td>0</td>\n",
              "      <td>bihday your majesty</td>\n",
              "      <td>bihday majesty</td>\n",
              "      <td>No hashtags</td>\n",
              "    </tr>\n",
              "    <tr>\n",
              "      <th>3</th>\n",
              "      <td>4</td>\n",
              "      <td>0</td>\n",
              "      <td>#model   i love u take with u all the time in ...</td>\n",
              "      <td>#model love u take u time urd+-!!! dddd d|d|d|</td>\n",
              "      <td>#model</td>\n",
              "    </tr>\n",
              "    <tr>\n",
              "      <th>4</th>\n",
              "      <td>5</td>\n",
              "      <td>0</td>\n",
              "      <td>factsguide: society now    #motivation</td>\n",
              "      <td>factsguide: society #motivation</td>\n",
              "      <td>#motivation</td>\n",
              "    </tr>\n",
              "  </tbody>\n",
              "</table>\n",
              "</div>"
            ],
            "text/plain": [
              "   id  ...                      Hash words\n",
              "0   1  ...                            #run\n",
              "1   2  ...  #lyft #disapointed #getthanked\n",
              "2   3  ...                     No hashtags\n",
              "3   4  ...                          #model\n",
              "4   5  ...                     #motivation\n",
              "\n",
              "[5 rows x 5 columns]"
            ]
          },
          "metadata": {
            "tags": []
          },
          "execution_count": 54
        }
      ]
    },
    {
      "cell_type": "code",
      "metadata": {
        "id": "q97giHTiBKE0",
        "colab_type": "code",
        "outputId": "171a6097-e273-4920-b568-e419bdcff6f5",
        "colab": {
          "base_uri": "https://localhost:8080/",
          "height": 85
        }
      },
      "source": [
        "from nltk.stem import WordNetLemmatizer \n",
        "nltk.download('wordnet')\n",
        "from nltk.stem import PorterStemmer\n",
        "nltk.download('punkt')\n",
        "from nltk.tokenize import word_tokenize \n"
      ],
      "execution_count": 0,
      "outputs": [
        {
          "output_type": "stream",
          "text": [
            "[nltk_data] Downloading package wordnet to /root/nltk_data...\n",
            "[nltk_data]   Unzipping corpora/wordnet.zip.\n",
            "[nltk_data] Downloading package punkt to /root/nltk_data...\n",
            "[nltk_data]   Unzipping tokenizers/punkt.zip.\n"
          ],
          "name": "stdout"
        }
      ]
    },
    {
      "cell_type": "code",
      "metadata": {
        "id": "mTJgrW3t3Dex",
        "colab_type": "code",
        "colab": {}
      },
      "source": [
        "#Lemmitization\n",
        "lemmatizer = WordNetLemmatizer()\n",
        "data_frame['clean_tweet'] = data_frame['clean_tweet'].apply(lambda x : ' '.join([lemmatizer.lemmatize(word) for word in x.split()]))"
      ],
      "execution_count": 0,
      "outputs": []
    },
    {
      "cell_type": "code",
      "metadata": {
        "id": "tYsV5YSp3dD0",
        "colab_type": "code",
        "colab": {}
      },
      "source": [
        "#Stemming\n",
        "ps = PorterStemmer()\n",
        "adwait = data_frame\n",
        "#adwait.head()\n",
        "data_frame['clean_tweet'] = data_frame['clean_tweet'].apply(lambda x : ' '.join([ps.stem(word) for word in x.split()]))"
      ],
      "execution_count": 0,
      "outputs": []
    },
    {
      "cell_type": "code",
      "metadata": {
        "id": "0jfyy9KI3gTO",
        "colab_type": "code",
        "colab": {}
      },
      "source": [
        "#Tokenization\n",
        "corpus = []\n",
        "for i in range(0,31962):\n",
        "    tweet = data_frame['clean_tweet'][i]\n",
        "    tweet = tweet.lower()\n",
        "    tweet = tweet.split()\n",
        "    tweet = [ps.stem(word) for word in tweet if not word in set(stopwords.words('english'))]\n",
        "    tweet = ' '.join(tweet)\n",
        "    corpus.append(tweet)\n"
      ],
      "execution_count": 0,
      "outputs": []
    },
    {
      "cell_type": "code",
      "metadata": {
        "id": "BqdHppLY3nzG",
        "colab_type": "code",
        "outputId": "01492994-0482-4165-d18f-1077123cc70a",
        "colab": {
          "base_uri": "https://localhost:8080/",
          "height": 34
        }
      },
      "source": [
        "#Ensuring all the tweets are tokenized into individual words\n",
        "len(corpus)"
      ],
      "execution_count": 0,
      "outputs": [
        {
          "output_type": "execute_result",
          "data": {
            "text/plain": [
              "31962"
            ]
          },
          "metadata": {
            "tags": []
          },
          "execution_count": 64
        }
      ]
    },
    {
      "cell_type": "code",
      "metadata": {
        "id": "DsUIXffK37LF",
        "colab_type": "code",
        "outputId": "820ab7b0-5117-419f-8b60-9306fa83c36a",
        "colab": {
          "base_uri": "https://localhost:8080/",
          "height": 68
        }
      },
      "source": [
        "!pip install wordcloud"
      ],
      "execution_count": 0,
      "outputs": [
        {
          "output_type": "stream",
          "text": [
            "Requirement already satisfied: wordcloud in /usr/local/lib/python3.6/dist-packages (1.5.0)\n",
            "Requirement already satisfied: numpy>=1.6.1 in /usr/local/lib/python3.6/dist-packages (from wordcloud) (1.18.2)\n",
            "Requirement already satisfied: pillow in /usr/local/lib/python3.6/dist-packages (from wordcloud) (7.0.0)\n"
          ],
          "name": "stdout"
        }
      ]
    },
    {
      "cell_type": "code",
      "metadata": {
        "id": "e3KvKoW339F9",
        "colab_type": "code",
        "colab": {}
      },
      "source": [
        "\n",
        "from wordcloud import WordCloud, STOPWORDS \n",
        "import matplotlib.pyplot as plt"
      ],
      "execution_count": 0,
      "outputs": []
    },
    {
      "cell_type": "code",
      "metadata": {
        "id": "V4mGS0WIB2pq",
        "colab_type": "code",
        "outputId": "a4b6ed4d-6357-4e18-cb9e-fc46b309c49b",
        "colab": {
          "base_uri": "https://localhost:8080/",
          "height": 483
        }
      },
      "source": [
        "normal_words = ' '.join([word for word in data_frame['clean_tweet'][data_frame['label'] == 0]])\n",
        "wordcloud = WordCloud(width = 800, height = 500, max_font_size = 110,max_words = 100).generate(normal_words)\n",
        "print('Normal words')\n",
        "plt.figure(figsize= (12,8))\n",
        "plt.imshow(wordcloud, interpolation = 'bilinear',cmap='viridis')\n",
        "plt.axis('off')"
      ],
      "execution_count": 0,
      "outputs": [
        {
          "output_type": "stream",
          "text": [
            "Normal words\n"
          ],
          "name": "stdout"
        },
        {
          "output_type": "execute_result",
          "data": {
            "text/plain": [
              "(-0.5, 799.5, 499.5, -0.5)"
            ]
          },
          "metadata": {
            "tags": []
          },
          "execution_count": 132
        },
        {
          "output_type": "display_data",
          "data": {
            "image/png": "[encoded data removed]",
            "text/plain": [
              "<Figure size 864x576 with 1 Axes>"
            ]
          },
          "metadata": {
            "tags": []
          }
        }
      ]
    },
    {
      "cell_type": "code",
      "metadata": {
        "id": "PhkvbYilC7Cf",
        "colab_type": "code",
        "colab": {}
      },
      "source": [
        "filename = \"positive.png\"\n",
        "img = wordcloud.to_file(filename)\n",
        "# plt.imshow(img)\n"
      ],
      "execution_count": 0,
      "outputs": []
    },
    {
      "cell_type": "code",
      "metadata": {
        "id": "IjOpOJnuEpsB",
        "colab_type": "code",
        "colab": {}
      },
      "source": [
        ""
      ],
      "execution_count": 0,
      "outputs": []
    },
    {
      "cell_type": "code",
      "metadata": {
        "id": "uWchlp0gCATd",
        "colab_type": "code",
        "outputId": "00196155-7431-42ad-901c-c4d79b102521",
        "colab": {
          "base_uri": "https://localhost:8080/",
          "height": 483
        }
      },
      "source": [
        "normal_words = ' '.join([word for word in data_frame['clean_tweet'][data_frame['label'] == 1]])\n",
        "wordcloud = WordCloud(width = 800, height = 500, max_font_size = 110,max_words = 100).generate(normal_words)\n",
        "print('Normal words')\n",
        "plt.figure(figsize= (12,8))\n",
        "plt.imshow(wordcloud, interpolation = 'bilinear')\n",
        "plt.axis('off')"
      ],
      "execution_count": 0,
      "outputs": [
        {
          "output_type": "stream",
          "text": [
            "Normal words\n"
          ],
          "name": "stdout"
        },
        {
          "output_type": "execute_result",
          "data": {
            "text/plain": [
              "(-0.5, 799.5, 499.5, -0.5)"
            ]
          },
          "metadata": {
            "tags": []
          },
          "execution_count": 133
        },
        {
          "output_type": "display_data",
          "data": {
            "image/png": "[encoded data removed]",
            "text/plain": [
              "<Figure size 864x576 with 1 Axes>"
            ]
          },
          "metadata": {
            "tags": []
          }
        }
      ]
    },
    {
      "cell_type": "code",
      "metadata": {
        "id": "UnGup4bQE-lu",
        "colab_type": "code",
        "colab": {}
      },
      "source": [
        "filename = \"negative.png\"\n",
        "img = wordcloud.to_file(filename)\n",
        "# plt.imshow(img)\n"
      ],
      "execution_count": 0,
      "outputs": []
    },
    {
      "cell_type": "code",
      "metadata": {
        "id": "uFtj0zmN4Pzk",
        "colab_type": "code",
        "colab": {}
      },
      "source": [
        "#Collecting positive hashtags\n",
        "\n",
        "hash_positive = []\n",
        "hash_negative = []"
      ],
      "execution_count": 0,
      "outputs": []
    },
    {
      "cell_type": "code",
      "metadata": {
        "id": "O17JciH94wzB",
        "colab_type": "code",
        "colab": {}
      },
      "source": [
        "def hashtag_extract(x):\n",
        "    hashtags = []\n",
        "    # Loop over the words in the tweet\n",
        "    for i in x:\n",
        "        ht = re.findall(r\"#(\\w+)\", i)\n",
        "        hashtags.append(ht)\n",
        "\n",
        "    return hashtags"
      ],
      "execution_count": 0,
      "outputs": []
    },
    {
      "cell_type": "code",
      "metadata": {
        "id": "TULOOyx14ycO",
        "colab_type": "code",
        "colab": {}
      },
      "source": [
        "hash_positive = hashtag_extract(data_frame['clean_tweet'][data_frame['label'] == 0])\n",
        "\n",
        "# extracting hashtags from racist/sexist tweets\n",
        "hash_negative = hashtag_extract(data_frame['clean_tweet'][data_frame['label'] == 1])\n",
        "\n",
        "# Converting a multidimensional list to a 1-D list\n",
        "hash_positive = sum(hash_positive,[])\n",
        "hash_negative = sum(hash_negative,[])"
      ],
      "execution_count": 0,
      "outputs": []
    },
    {
      "cell_type": "code",
      "metadata": {
        "id": "S6qk0CYLCh51",
        "colab_type": "code",
        "colab": {}
      },
      "source": [
        "import matplotlib.animation as animation\n",
        "import operator\n",
        "import plotly.express as px\n",
        "from collections import Counter\n",
        "%matplotlib inline"
      ],
      "execution_count": 0,
      "outputs": []
    },
    {
      "cell_type": "code",
      "metadata": {
        "id": "xjVHA37040V5",
        "colab_type": "code",
        "outputId": "b008e815-eaab-4b5a-839a-1adea5e12417",
        "colab": {
          "base_uri": "https://localhost:8080/",
          "height": 34
        }
      },
      "source": [
        "q = Counter(hash_positive)\n",
        "q = dict(q.most_common())\n",
        "\n",
        "l_positive_count = list(q.values())\n",
        "\n",
        "l_positive_count[0:4]"
      ],
      "execution_count": 0,
      "outputs": [
        {
          "output_type": "execute_result",
          "data": {
            "text/plain": [
              "[1579, 905, 636, 558]"
            ]
          },
          "metadata": {
            "tags": []
          },
          "execution_count": 95
        }
      ]
    },
    {
      "cell_type": "code",
      "metadata": {
        "id": "RTJM1I3345DO",
        "colab_type": "code",
        "outputId": "595ac173-3285-4d74-b9e4-5f054a11c5e3",
        "colab": {
          "base_uri": "https://localhost:8080/",
          "height": 34
        }
      },
      "source": [
        "r = Counter(hash_negative)\n",
        "r = dict(r.most_common())\n",
        "l_negative_count = list(r.values())\n",
        "\n",
        "l_negative_count[0:4]"
      ],
      "execution_count": 0,
      "outputs": [
        {
          "output_type": "execute_result",
          "data": {
            "text/plain": [
              "[133, 94, 92, 79]"
            ]
          },
          "metadata": {
            "tags": []
          },
          "execution_count": 96
        }
      ]
    },
    {
      "cell_type": "code",
      "metadata": {
        "id": "WxAa_JUt48vl",
        "colab_type": "code",
        "outputId": "9ea1f7eb-e84d-4a77-acb2-fc77d553374b",
        "colab": {
          "base_uri": "https://localhost:8080/",
          "height": 34
        }
      },
      "source": [
        "l_positive_values = list(q.keys())\n",
        "\n",
        "l_positive_values[0:4]"
      ],
      "execution_count": 0,
      "outputs": [
        {
          "output_type": "execute_result",
          "data": {
            "text/plain": [
              "['love', 'posit', 'smile', 'healthi']"
            ]
          },
          "metadata": {
            "tags": []
          },
          "execution_count": 97
        }
      ]
    },
    {
      "cell_type": "code",
      "metadata": {
        "id": "hDMjSTkG5A_G",
        "colab_type": "code",
        "outputId": "5425e68d-9494-4216-bfe2-c2bdf2a5bf22",
        "colab": {
          "base_uri": "https://localhost:8080/",
          "height": 34
        }
      },
      "source": [
        "l_negative_values = list(r.keys())\n",
        "\n",
        "l_negative_values[0:4]"
      ],
      "execution_count": 0,
      "outputs": [
        {
          "output_type": "execute_result",
          "data": {
            "text/plain": [
              "['trump', 'polit', 'allahsoil', 'liber']"
            ]
          },
          "metadata": {
            "tags": []
          },
          "execution_count": 98
        }
      ]
    },
    {
      "cell_type": "code",
      "metadata": {
        "id": "8ZEx1Vyj5Elm",
        "colab_type": "code",
        "colab": {}
      },
      "source": [
        "# l_negative_values"
      ],
      "execution_count": 0,
      "outputs": []
    },
    {
      "cell_type": "code",
      "metadata": {
        "id": "UrICn6Mg5PmW",
        "colab_type": "code",
        "colab": {}
      },
      "source": [
        "import matplotlib.pyplot as plt \n",
        "\n",
        "\n",
        "plt.bar(range(500), list(q.values())[:500], align='center')\n",
        "plt.xticks(range(500), list(q.keys())[:500])\n",
        "# function to show the plot \n",
        "plt.show()\n",
        "plt.savefig('q.png')"
      ],
      "execution_count": 0,
      "outputs": []
    },
    {
      "cell_type": "code",
      "metadata": {
        "id": "Go2HxGP_6A0S",
        "colab_type": "code",
        "outputId": "3fcd5262-4bb3-4dbf-e7ea-cd6b2d735652",
        "colab": {
          "base_uri": "https://localhost:8080/",
          "height": 669
        }
      },
      "source": [
        "#Creating a dataframe to represent top 20 positive and negative hash words\n",
        "l1 = pd.DataFrame(l_positive_values[0:20],columns = ['Positive_Words'])\n",
        "l2 = pd.DataFrame(l_positive_count[0:20],columns = ['Positive_Count'])\n",
        "l3 = pd.DataFrame(l_negative_values[0:20],columns = ['Negative_Words'])\n",
        "l4 = pd.DataFrame(l_negative_count[0:20],columns = ['Negative_Count'])\n",
        "z = pd.concat([l1,l2,l3,l4],axis = 1)\n",
        "z"
      ],
      "execution_count": 0,
      "outputs": [
        {
          "output_type": "execute_result",
          "data": {
            "text/html": [
              "<div>\n",
              "<style scoped>\n",
              "    .dataframe tbody tr th:only-of-type {\n",
              "        vertical-align: middle;\n",
              "    }\n",
              "\n",
              "    .dataframe tbody tr th {\n",
              "        vertical-align: top;\n",
              "    }\n",
              "\n",
              "    .dataframe thead th {\n",
              "        text-align: right;\n",
              "    }\n",
              "</style>\n",
              "<table border=\"1\" class=\"dataframe\">\n",
              "  <thead>\n",
              "    <tr style=\"text-align: right;\">\n",
              "      <th></th>\n",
              "      <th>Positive_Words</th>\n",
              "      <th>Positive_Count</th>\n",
              "      <th>Negative_Words</th>\n",
              "      <th>Negative_Count</th>\n",
              "    </tr>\n",
              "  </thead>\n",
              "  <tbody>\n",
              "    <tr>\n",
              "      <th>0</th>\n",
              "      <td>love</td>\n",
              "      <td>1579</td>\n",
              "      <td>trump</td>\n",
              "      <td>133</td>\n",
              "    </tr>\n",
              "    <tr>\n",
              "      <th>1</th>\n",
              "      <td>posit</td>\n",
              "      <td>905</td>\n",
              "      <td>polit</td>\n",
              "      <td>94</td>\n",
              "    </tr>\n",
              "    <tr>\n",
              "      <th>2</th>\n",
              "      <td>smile</td>\n",
              "      <td>636</td>\n",
              "      <td>allahsoil</td>\n",
              "      <td>92</td>\n",
              "    </tr>\n",
              "    <tr>\n",
              "      <th>3</th>\n",
              "      <td>healthi</td>\n",
              "      <td>558</td>\n",
              "      <td>liber</td>\n",
              "      <td>79</td>\n",
              "    </tr>\n",
              "    <tr>\n",
              "      <th>4</th>\n",
              "      <td>thank</td>\n",
              "      <td>526</td>\n",
              "      <td>libtard</td>\n",
              "      <td>77</td>\n",
              "    </tr>\n",
              "    <tr>\n",
              "      <th>5</th>\n",
              "      <td>fun</td>\n",
              "      <td>434</td>\n",
              "      <td>sjw</td>\n",
              "      <td>75</td>\n",
              "    </tr>\n",
              "    <tr>\n",
              "      <th>6</th>\n",
              "      <td>affirm</td>\n",
              "      <td>422</td>\n",
              "      <td>retweet</td>\n",
              "      <td>57</td>\n",
              "    </tr>\n",
              "    <tr>\n",
              "      <th>7</th>\n",
              "      <td>life</td>\n",
              "      <td>399</td>\n",
              "      <td>black</td>\n",
              "      <td>46</td>\n",
              "    </tr>\n",
              "    <tr>\n",
              "      <th>8</th>\n",
              "      <td>model</td>\n",
              "      <td>374</td>\n",
              "      <td>miamia</td>\n",
              "      <td>38</td>\n",
              "    </tr>\n",
              "    <tr>\n",
              "      <th>9</th>\n",
              "      <td>summer</td>\n",
              "      <td>361</td>\n",
              "      <td>hate</td>\n",
              "      <td>36</td>\n",
              "    </tr>\n",
              "    <tr>\n",
              "      <th>10</th>\n",
              "      <td>blog</td>\n",
              "      <td>355</td>\n",
              "      <td>bigot</td>\n",
              "      <td>35</td>\n",
              "    </tr>\n",
              "    <tr>\n",
              "      <th>11</th>\n",
              "      <td>cute</td>\n",
              "      <td>355</td>\n",
              "      <td>tampa</td>\n",
              "      <td>32</td>\n",
              "    </tr>\n",
              "    <tr>\n",
              "      <th>12</th>\n",
              "      <td>i_am</td>\n",
              "      <td>352</td>\n",
              "      <td>obama</td>\n",
              "      <td>31</td>\n",
              "    </tr>\n",
              "    <tr>\n",
              "      <th>13</th>\n",
              "      <td>beauti</td>\n",
              "      <td>347</td>\n",
              "      <td>blm</td>\n",
              "      <td>28</td>\n",
              "    </tr>\n",
              "    <tr>\n",
              "      <th>14</th>\n",
              "      <td>fathersday</td>\n",
              "      <td>332</td>\n",
              "      <td>hispan</td>\n",
              "      <td>28</td>\n",
              "    </tr>\n",
              "    <tr>\n",
              "      <th>15</th>\n",
              "      <td>me</td>\n",
              "      <td>331</td>\n",
              "      <td>brexit</td>\n",
              "      <td>27</td>\n",
              "    </tr>\n",
              "    <tr>\n",
              "      <th>16</th>\n",
              "      <td>happi</td>\n",
              "      <td>328</td>\n",
              "      <td>sikh</td>\n",
              "      <td>27</td>\n",
              "    </tr>\n",
              "    <tr>\n",
              "      <th>17</th>\n",
              "      <td>friend</td>\n",
              "      <td>319</td>\n",
              "      <td>templ</td>\n",
              "      <td>26</td>\n",
              "    </tr>\n",
              "    <tr>\n",
              "      <th>18</th>\n",
              "      <td>silver</td>\n",
              "      <td>299</td>\n",
              "      <td>calgary</td>\n",
              "      <td>26</td>\n",
              "    </tr>\n",
              "    <tr>\n",
              "      <th>19</th>\n",
              "      <td>gold</td>\n",
              "      <td>298</td>\n",
              "      <td>wso</td>\n",
              "      <td>26</td>\n",
              "    </tr>\n",
              "  </tbody>\n",
              "</table>\n",
              "</div>"
            ],
            "text/plain": [
              "   Positive_Words  Positive_Count Negative_Words  Negative_Count\n",
              "0            love            1579          trump             133\n",
              "1           posit             905          polit              94\n",
              "2           smile             636      allahsoil              92\n",
              "3         healthi             558          liber              79\n",
              "4           thank             526        libtard              77\n",
              "5             fun             434            sjw              75\n",
              "6          affirm             422        retweet              57\n",
              "7            life             399          black              46\n",
              "8           model             374         miamia              38\n",
              "9          summer             361           hate              36\n",
              "10           blog             355          bigot              35\n",
              "11           cute             355          tampa              32\n",
              "12           i_am             352          obama              31\n",
              "13         beauti             347            blm              28\n",
              "14     fathersday             332         hispan              28\n",
              "15             me             331         brexit              27\n",
              "16          happi             328           sikh              27\n",
              "17         friend             319          templ              26\n",
              "18         silver             299        calgary              26\n",
              "19           gold             298            wso              26"
            ]
          },
          "metadata": {
            "tags": []
          },
          "execution_count": 99
        }
      ]
    },
    {
      "cell_type": "code",
      "metadata": {
        "id": "LhyK8eiR6NGy",
        "colab_type": "code",
        "outputId": "166b37fd-5e4d-42c0-a742-fe3d0166d072",
        "colab": {
          "base_uri": "https://localhost:8080/",
          "height": 542
        }
      },
      "source": [
        "#Animated plot for positive words with their frequency\n",
        "fig = px.bar(z, x=\"Positive_Words\", y=\"Positive_Count\",animation_frame=\"Positive_Count\",\n",
        "            hover_name=\"Positive_Words\")\n",
        "fig.layout.updatemenus[0].buttons[0].args[1][\"frame\"][\"duration\"] = 1200\n",
        "fig.show()"
      ],
      "execution_count": 0,
      "outputs": [
        {
          "output_type": "display_data",
          "data": {
            "text/html": [
              "<html>\n",
              "<head><meta charset=\"utf-8\" /></head>\n",
              "<body>\n",
              "    <div>\n",
              "            <script src=\"https://cdnjs.cloudflare.com/ajax/libs/mathjax/2.7.5/MathJax.js?config=TeX-AMS-MML_SVG\"></script><script type=\"text/javascript\">if (window.MathJax) {MathJax.Hub.Config({SVG: {font: \"STIX-Web\"}});}</script>\n",
              "                <script type=\"text/javascript\">window.PlotlyConfig = {MathJaxConfig: 'local'};</script>\n",
              "        <script src=\"https://cdn.plot.ly/plotly-latest.min.js\"></script>    \n",
              "            <div id=\"2ac3a0b0-6225-49fc-89d7-90a9da8392b5\" class=\"plotly-graph-div\" style=\"height:525px; width:100%;\"></div>\n",
              "            <script type=\"text/javascript\">\n",
              "                \n",
              "                    window.PLOTLYENV=window.PLOTLYENV || {};\n",
              "                    \n",
              "                if (document.getElementById(\"2ac3a0b0-6225-49fc-89d7-90a9da8392b5\")) {\n",
              "                    Plotly.newPlot(\n",
              "                        '2ac3a0b0-6225-49fc-89d7-90a9da8392b5',\n",
              "                        [{\"alignmentgroup\": \"True\", \"hoverlabel\": {\"namelength\": 0}, \"hovertemplate\": \"<b>%{hovertext}</b><br><br>Positive_Count=%{y}<br>Positive_Words=%{x}\", \"hovertext\": [\"love\"], \"legendgroup\": \"\", \"marker\": {\"color\": \"#636efa\"}, \"name\": \"\", \"offsetgroup\": \"\", \"orientation\": \"v\", \"showlegend\": false, \"textposition\": \"auto\", \"type\": \"bar\", \"x\": [\"love\"], \"xaxis\": \"x\", \"y\": [1579], \"yaxis\": \"y\"}],\n",
              "                        {\"barmode\": \"relative\", \"legend\": {\"tracegroupgap\": 0}, \"margin\": {\"t\": 60}, \"sliders\": [{\"active\": 0, \"currentvalue\": {\"prefix\": \"Positive_Count=\"}, \"len\": 0.9, \"pad\": {\"b\": 10, \"t\": 60}, \"steps\": [{\"args\": [[\"1579\"], {\"frame\": {\"duration\": 0, \"redraw\": true}, \"fromcurrent\": true, \"mode\": \"immediate\", \"transition\": {\"duration\": 0, \"easing\": \"linear\"}}], \"label\": \"1579\", \"method\": \"animate\"}, {\"args\": [[\"905\"], {\"frame\": {\"duration\": 0, \"redraw\": true}, \"fromcurrent\": true, \"mode\": \"immediate\", \"transition\": {\"duration\": 0, \"easing\": \"linear\"}}], \"label\": \"905\", \"method\": \"animate\"}, {\"args\": [[\"636\"], {\"frame\": {\"duration\": 0, \"redraw\": true}, \"fromcurrent\": true, \"mode\": \"immediate\", \"transition\": {\"duration\": 0, \"easing\": \"linear\"}}], \"label\": \"636\", \"method\": \"animate\"}, {\"args\": [[\"558\"], {\"frame\": {\"duration\": 0, \"redraw\": true}, \"fromcurrent\": true, \"mode\": \"immediate\", \"transition\": {\"duration\": 0, \"easing\": \"linear\"}}], \"label\": \"558\", \"method\": \"animate\"}, {\"args\": [[\"526\"], {\"frame\": {\"duration\": 0, \"redraw\": true}, \"fromcurrent\": true, \"mode\": \"immediate\", \"transition\": {\"duration\": 0, \"easing\": \"linear\"}}], \"label\": \"526\", \"method\": \"animate\"}, {\"args\": [[\"434\"], {\"frame\": {\"duration\": 0, \"redraw\": true}, \"fromcurrent\": true, \"mode\": \"immediate\", \"transition\": {\"duration\": 0, \"easing\": \"linear\"}}], \"label\": \"434\", \"method\": \"animate\"}, {\"args\": [[\"422\"], {\"frame\": {\"duration\": 0, \"redraw\": true}, \"fromcurrent\": true, \"mode\": \"immediate\", \"transition\": {\"duration\": 0, \"easing\": \"linear\"}}], \"label\": \"422\", \"method\": \"animate\"}, {\"args\": [[\"399\"], {\"frame\": {\"duration\": 0, \"redraw\": true}, \"fromcurrent\": true, \"mode\": \"immediate\", \"transition\": {\"duration\": 0, \"easing\": \"linear\"}}], \"label\": \"399\", \"method\": \"animate\"}, {\"args\": [[\"374\"], {\"frame\": {\"duration\": 0, \"redraw\": true}, \"fromcurrent\": true, \"mode\": \"immediate\", \"transition\": {\"duration\": 0, \"easing\": \"linear\"}}], \"label\": \"374\", \"method\": \"animate\"}, {\"args\": [[\"361\"], {\"frame\": {\"duration\": 0, \"redraw\": true}, \"fromcurrent\": true, \"mode\": \"immediate\", \"transition\": {\"duration\": 0, \"easing\": \"linear\"}}], \"label\": \"361\", \"method\": \"animate\"}, {\"args\": [[\"355\"], {\"frame\": {\"duration\": 0, \"redraw\": true}, \"fromcurrent\": true, \"mode\": \"immediate\", \"transition\": {\"duration\": 0, \"easing\": \"linear\"}}], \"label\": \"355\", \"method\": \"animate\"}, {\"args\": [[\"352\"], {\"frame\": {\"duration\": 0, \"redraw\": true}, \"fromcurrent\": true, \"mode\": \"immediate\", \"transition\": {\"duration\": 0, \"easing\": \"linear\"}}], \"label\": \"352\", \"method\": \"animate\"}, {\"args\": [[\"347\"], {\"frame\": {\"duration\": 0, \"redraw\": true}, \"fromcurrent\": true, \"mode\": \"immediate\", \"transition\": {\"duration\": 0, \"easing\": \"linear\"}}], \"label\": \"347\", \"method\": \"animate\"}, {\"args\": [[\"332\"], {\"frame\": {\"duration\": 0, \"redraw\": true}, \"fromcurrent\": true, \"mode\": \"immediate\", \"transition\": {\"duration\": 0, \"easing\": \"linear\"}}], \"label\": \"332\", \"method\": \"animate\"}, {\"args\": [[\"331\"], {\"frame\": {\"duration\": 0, \"redraw\": true}, \"fromcurrent\": true, \"mode\": \"immediate\", \"transition\": {\"duration\": 0, \"easing\": \"linear\"}}], \"label\": \"331\", \"method\": \"animate\"}, {\"args\": [[\"328\"], {\"frame\": {\"duration\": 0, \"redraw\": true}, \"fromcurrent\": true, \"mode\": \"immediate\", \"transition\": {\"duration\": 0, \"easing\": \"linear\"}}], \"label\": \"328\", \"method\": \"animate\"}, {\"args\": [[\"319\"], {\"frame\": {\"duration\": 0, \"redraw\": true}, \"fromcurrent\": true, \"mode\": \"immediate\", \"transition\": {\"duration\": 0, \"easing\": \"linear\"}}], \"label\": \"319\", \"method\": \"animate\"}, {\"args\": [[\"299\"], {\"frame\": {\"duration\": 0, \"redraw\": true}, \"fromcurrent\": true, \"mode\": \"immediate\", \"transition\": {\"duration\": 0, \"easing\": \"linear\"}}], \"label\": \"299\", \"method\": \"animate\"}, {\"args\": [[\"298\"], {\"frame\": {\"duration\": 0, \"redraw\": true}, \"fromcurrent\": true, \"mode\": \"immediate\", \"transition\": {\"duration\": 0, \"easing\": \"linear\"}}], \"label\": \"298\", \"method\": \"animate\"}], \"x\": 0.1, \"xanchor\": \"left\", \"y\": 0, \"yanchor\": \"top\"}], \"template\": {\"data\": {\"bar\": [{\"error_x\": {\"color\": \"#2a3f5f\"}, \"error_y\": {\"color\": \"#2a3f5f\"}, \"marker\": {\"line\": {\"color\": \"#E5ECF6\", \"width\": 0.5}}, \"type\": \"bar\"}], \"barpolar\": [{\"marker\": {\"line\": {\"color\": \"#E5ECF6\", \"width\": 0.5}}, \"type\": \"barpolar\"}], \"carpet\": [{\"aaxis\": {\"endlinecolor\": \"#2a3f5f\", \"gridcolor\": \"white\", \"linecolor\": \"white\", \"minorgridcolor\": \"white\", \"startlinecolor\": \"#2a3f5f\"}, \"baxis\": {\"endlinecolor\": \"#2a3f5f\", \"gridcolor\": \"white\", \"linecolor\": \"white\", \"minorgridcolor\": \"white\", \"startlinecolor\": \"#2a3f5f\"}, \"type\": \"carpet\"}], \"choropleth\": [{\"colorbar\": {\"outlinewidth\": 0, \"ticks\": \"\"}, \"type\": \"choropleth\"}], \"contour\": [{\"colorbar\": {\"outlinewidth\": 0, \"ticks\": \"\"}, \"colorscale\": [[0.0, \"#0d0887\"], [0.1111111111111111, \"#46039f\"], [0.2222222222222222, \"#7201a8\"], [0.3333333333333333, \"#9c179e\"], [0.4444444444444444, \"#bd3786\"], [0.5555555555555556, \"#d8576b\"], [0.6666666666666666, \"#ed7953\"], [0.7777777777777778, \"#fb9f3a\"], [0.8888888888888888, \"#fdca26\"], [1.0, \"#f0f921\"]], \"type\": \"contour\"}], \"contourcarpet\": [{\"colorbar\": {\"outlinewidth\": 0, \"ticks\": \"\"}, \"type\": \"contourcarpet\"}], \"heatmap\": [{\"colorbar\": {\"outlinewidth\": 0, \"ticks\": \"\"}, \"colorscale\": [[0.0, \"#0d0887\"], [0.1111111111111111, \"#46039f\"], [0.2222222222222222, \"#7201a8\"], [0.3333333333333333, \"#9c179e\"], [0.4444444444444444, \"#bd3786\"], [0.5555555555555556, \"#d8576b\"], [0.6666666666666666, \"#ed7953\"], [0.7777777777777778, \"#fb9f3a\"], [0.8888888888888888, \"#fdca26\"], [1.0, \"#f0f921\"]], \"type\": \"heatmap\"}], \"heatmapgl\": [{\"colorbar\": {\"outlinewidth\": 0, \"ticks\": \"\"}, \"colorscale\": [[0.0, \"#0d0887\"], [0.1111111111111111, \"#46039f\"], [0.2222222222222222, \"#7201a8\"], [0.3333333333333333, \"#9c179e\"], [0.4444444444444444, \"#bd3786\"], [0.5555555555555556, \"#d8576b\"], [0.6666666666666666, \"#ed7953\"], [0.7777777777777778, \"#fb9f3a\"], [0.8888888888888888, \"#fdca26\"], [1.0, \"#f0f921\"]], \"type\": \"heatmapgl\"}], \"histogram\": [{\"marker\": {\"colorbar\": {\"outlinewidth\": 0, \"ticks\": \"\"}}, \"type\": \"histogram\"}], \"histogram2d\": [{\"colorbar\": {\"outlinewidth\": 0, \"ticks\": \"\"}, \"colorscale\": [[0.0, \"#0d0887\"], [0.1111111111111111, \"#46039f\"], [0.2222222222222222, \"#7201a8\"], [0.3333333333333333, \"#9c179e\"], [0.4444444444444444, \"#bd3786\"], [0.5555555555555556, \"#d8576b\"], [0.6666666666666666, \"#ed7953\"], [0.7777777777777778, \"#fb9f3a\"], [0.8888888888888888, \"#fdca26\"], [1.0, \"#f0f921\"]], \"type\": \"histogram2d\"}], \"histogram2dcontour\": [{\"colorbar\": {\"outlinewidth\": 0, \"ticks\": \"\"}, \"colorscale\": [[0.0, \"#0d0887\"], [0.1111111111111111, \"#46039f\"], [0.2222222222222222, \"#7201a8\"], [0.3333333333333333, \"#9c179e\"], [0.4444444444444444, \"#bd3786\"], [0.5555555555555556, \"#d8576b\"], [0.6666666666666666, \"#ed7953\"], [0.7777777777777778, \"#fb9f3a\"], [0.8888888888888888, \"#fdca26\"], [1.0, \"#f0f921\"]], \"type\": \"histogram2dcontour\"}], \"mesh3d\": [{\"colorbar\": {\"outlinewidth\": 0, \"ticks\": \"\"}, \"type\": \"mesh3d\"}], \"parcoords\": [{\"line\": {\"colorbar\": {\"outlinewidth\": 0, \"ticks\": \"\"}}, \"type\": \"parcoords\"}], \"pie\": [{\"automargin\": true, \"type\": \"pie\"}], \"scatter\": [{\"marker\": {\"colorbar\": {\"outlinewidth\": 0, \"ticks\": \"\"}}, \"type\": \"scatter\"}], \"scatter3d\": [{\"line\": {\"colorbar\": {\"outlinewidth\": 0, \"ticks\": \"\"}}, \"marker\": {\"colorbar\": {\"outlinewidth\": 0, \"ticks\": \"\"}}, \"type\": \"scatter3d\"}], \"scattercarpet\": [{\"marker\": {\"colorbar\": {\"outlinewidth\": 0, \"ticks\": \"\"}}, \"type\": \"scattercarpet\"}], \"scattergeo\": [{\"marker\": {\"colorbar\": {\"outlinewidth\": 0, \"ticks\": \"\"}}, \"type\": \"scattergeo\"}], \"scattergl\": [{\"marker\": {\"colorbar\": {\"outlinewidth\": 0, \"ticks\": \"\"}}, \"type\": \"scattergl\"}], \"scattermapbox\": [{\"marker\": {\"colorbar\": {\"outlinewidth\": 0, \"ticks\": \"\"}}, \"type\": \"scattermapbox\"}], \"scatterpolar\": [{\"marker\": {\"colorbar\": {\"outlinewidth\": 0, \"ticks\": \"\"}}, \"type\": \"scatterpolar\"}], \"scatterpolargl\": [{\"marker\": {\"colorbar\": {\"outlinewidth\": 0, \"ticks\": \"\"}}, \"type\": \"scatterpolargl\"}], \"scatterternary\": [{\"marker\": {\"colorbar\": {\"outlinewidth\": 0, \"ticks\": \"\"}}, \"type\": \"scatterternary\"}], \"surface\": [{\"colorbar\": {\"outlinewidth\": 0, \"ticks\": \"\"}, \"colorscale\": [[0.0, \"#0d0887\"], [0.1111111111111111, \"#46039f\"], [0.2222222222222222, \"#7201a8\"], [0.3333333333333333, \"#9c179e\"], [0.4444444444444444, \"#bd3786\"], [0.5555555555555556, \"#d8576b\"], [0.6666666666666666, \"#ed7953\"], [0.7777777777777778, \"#fb9f3a\"], [0.8888888888888888, \"#fdca26\"], [1.0, \"#f0f921\"]], \"type\": \"surface\"}], \"table\": [{\"cells\": {\"fill\": {\"color\": \"#EBF0F8\"}, \"line\": {\"color\": \"white\"}}, \"header\": {\"fill\": {\"color\": \"#C8D4E3\"}, \"line\": {\"color\": \"white\"}}, \"type\": \"table\"}]}, \"layout\": {\"annotationdefaults\": {\"arrowcolor\": \"#2a3f5f\", \"arrowhead\": 0, \"arrowwidth\": 1}, \"coloraxis\": {\"colorbar\": {\"outlinewidth\": 0, \"ticks\": \"\"}}, \"colorscale\": {\"diverging\": [[0, \"#8e0152\"], [0.1, \"#c51b7d\"], [0.2, \"#de77ae\"], [0.3, \"#f1b6da\"], [0.4, \"#fde0ef\"], [0.5, \"#f7f7f7\"], [0.6, \"#e6f5d0\"], [0.7, \"#b8e186\"], [0.8, \"#7fbc41\"], [0.9, \"#4d9221\"], [1, \"#276419\"]], \"sequential\": [[0.0, \"#0d0887\"], [0.1111111111111111, \"#46039f\"], [0.2222222222222222, \"#7201a8\"], [0.3333333333333333, \"#9c179e\"], [0.4444444444444444, \"#bd3786\"], [0.5555555555555556, \"#d8576b\"], [0.6666666666666666, \"#ed7953\"], [0.7777777777777778, \"#fb9f3a\"], [0.8888888888888888, \"#fdca26\"], [1.0, \"#f0f921\"]], \"sequentialminus\": [[0.0, \"#0d0887\"], [0.1111111111111111, \"#46039f\"], [0.2222222222222222, \"#7201a8\"], [0.3333333333333333, \"#9c179e\"], [0.4444444444444444, \"#bd3786\"], [0.5555555555555556, \"#d8576b\"], [0.6666666666666666, \"#ed7953\"], [0.7777777777777778, \"#fb9f3a\"], [0.8888888888888888, \"#fdca26\"], [1.0, \"#f0f921\"]]}, \"colorway\": [\"#636efa\", \"#EF553B\", \"#00cc96\", \"#ab63fa\", \"#FFA15A\", \"#19d3f3\", \"#FF6692\", \"#B6E880\", \"#FF97FF\", \"#FECB52\"], \"font\": {\"color\": \"#2a3f5f\"}, \"geo\": {\"bgcolor\": \"white\", \"lakecolor\": \"white\", \"landcolor\": \"#E5ECF6\", \"showlakes\": true, \"showland\": true, \"subunitcolor\": \"white\"}, \"hoverlabel\": {\"align\": \"left\"}, \"hovermode\": \"closest\", \"mapbox\": {\"style\": \"light\"}, \"paper_bgcolor\": \"white\", \"plot_bgcolor\": \"#E5ECF6\", \"polar\": {\"angularaxis\": {\"gridcolor\": \"white\", \"linecolor\": \"white\", \"ticks\": \"\"}, \"bgcolor\": \"#E5ECF6\", \"radialaxis\": {\"gridcolor\": \"white\", \"linecolor\": \"white\", \"ticks\": \"\"}}, \"scene\": {\"xaxis\": {\"backgroundcolor\": \"#E5ECF6\", \"gridcolor\": \"white\", \"gridwidth\": 2, \"linecolor\": \"white\", \"showbackground\": true, \"ticks\": \"\", \"zerolinecolor\": \"white\"}, \"yaxis\": {\"backgroundcolor\": \"#E5ECF6\", \"gridcolor\": \"white\", \"gridwidth\": 2, \"linecolor\": \"white\", \"showbackground\": true, \"ticks\": \"\", \"zerolinecolor\": \"white\"}, \"zaxis\": {\"backgroundcolor\": \"#E5ECF6\", \"gridcolor\": \"white\", \"gridwidth\": 2, \"linecolor\": \"white\", \"showbackground\": true, \"ticks\": \"\", \"zerolinecolor\": \"white\"}}, \"shapedefaults\": {\"line\": {\"color\": \"#2a3f5f\"}}, \"ternary\": {\"aaxis\": {\"gridcolor\": \"white\", \"linecolor\": \"white\", \"ticks\": \"\"}, \"baxis\": {\"gridcolor\": \"white\", \"linecolor\": \"white\", \"ticks\": \"\"}, \"bgcolor\": \"#E5ECF6\", \"caxis\": {\"gridcolor\": \"white\", \"linecolor\": \"white\", \"ticks\": \"\"}}, \"title\": {\"x\": 0.05}, \"xaxis\": {\"automargin\": true, \"gridcolor\": \"white\", \"linecolor\": \"white\", \"ticks\": \"\", \"title\": {\"standoff\": 15}, \"zerolinecolor\": \"white\", \"zerolinewidth\": 2}, \"yaxis\": {\"automargin\": true, \"gridcolor\": \"white\", \"linecolor\": \"white\", \"ticks\": \"\", \"title\": {\"standoff\": 15}, \"zerolinecolor\": \"white\", \"zerolinewidth\": 2}}}, \"updatemenus\": [{\"buttons\": [{\"args\": [null, {\"frame\": {\"duration\": 1200, \"redraw\": true}, \"fromcurrent\": true, \"mode\": \"immediate\", \"transition\": {\"duration\": 500, \"easing\": \"linear\"}}], \"label\": \"&#9654;\", \"method\": \"animate\"}, {\"args\": [[null], {\"frame\": {\"duration\": 0, \"redraw\": true}, \"fromcurrent\": true, \"mode\": \"immediate\", \"transition\": {\"duration\": 0, \"easing\": \"linear\"}}], \"label\": \"&#9724;\", \"method\": \"animate\"}], \"direction\": \"left\", \"pad\": {\"r\": 10, \"t\": 70}, \"showactive\": false, \"type\": \"buttons\", \"x\": 0.1, \"xanchor\": \"right\", \"y\": 0, \"yanchor\": \"top\"}], \"xaxis\": {\"anchor\": \"y\", \"domain\": [0.0, 1.0], \"title\": {\"text\": \"Positive_Words\"}}, \"yaxis\": {\"anchor\": \"x\", \"categoryarray\": [298, 299, 319, 328, 331, 332, 347, 352, 355, 361, 374, 399, 422, 434, 526, 558, 636, 905, 1579], \"categoryorder\": \"array\", \"domain\": [0.0, 1.0], \"title\": {\"text\": \"Positive_Count\"}}},\n",
              "                        {\"responsive\": true}\n",
              "                    ).then(function(){\n",
              "                            Plotly.addFrames('2ac3a0b0-6225-49fc-89d7-90a9da8392b5', [{\"data\": [{\"alignmentgroup\": \"True\", \"hoverlabel\": {\"namelength\": 0}, \"hovertemplate\": \"<b>%{hovertext}</b><br><br>Positive_Count=%{y}<br>Positive_Words=%{x}\", \"hovertext\": [\"love\"], \"legendgroup\": \"\", \"marker\": {\"color\": \"#636efa\"}, \"name\": \"\", \"offsetgroup\": \"\", \"orientation\": \"v\", \"showlegend\": false, \"textposition\": \"auto\", \"x\": [\"love\"], \"xaxis\": \"x\", \"y\": [1579], \"yaxis\": \"y\", \"type\": \"bar\"}], \"name\": \"1579\"}, {\"data\": [{\"alignmentgroup\": \"True\", \"hoverlabel\": {\"namelength\": 0}, \"hovertemplate\": \"<b>%{hovertext}</b><br><br>Positive_Count=%{y}<br>Positive_Words=%{x}\", \"hovertext\": [\"posit\"], \"legendgroup\": \"\", \"marker\": {\"color\": \"#636efa\"}, \"name\": \"\", \"offsetgroup\": \"\", \"orientation\": \"v\", \"showlegend\": false, \"textposition\": \"auto\", \"x\": [\"posit\"], \"xaxis\": \"x\", \"y\": [905], \"yaxis\": \"y\", \"type\": \"bar\"}], \"name\": \"905\"}, {\"data\": [{\"alignmentgroup\": \"True\", \"hoverlabel\": {\"namelength\": 0}, \"hovertemplate\": \"<b>%{hovertext}</b><br><br>Positive_Count=%{y}<br>Positive_Words=%{x}\", \"hovertext\": [\"smile\"], \"legendgroup\": \"\", \"marker\": {\"color\": \"#636efa\"}, \"name\": \"\", \"offsetgroup\": \"\", \"orientation\": \"v\", \"showlegend\": false, \"textposition\": \"auto\", \"x\": [\"smile\"], \"xaxis\": \"x\", \"y\": [636], \"yaxis\": \"y\", \"type\": \"bar\"}], \"name\": \"636\"}, {\"data\": [{\"alignmentgroup\": \"True\", \"hoverlabel\": {\"namelength\": 0}, \"hovertemplate\": \"<b>%{hovertext}</b><br><br>Positive_Count=%{y}<br>Positive_Words=%{x}\", \"hovertext\": [\"healthi\"], \"legendgroup\": \"\", \"marker\": {\"color\": \"#636efa\"}, \"name\": \"\", \"offsetgroup\": \"\", \"orientation\": \"v\", \"showlegend\": false, \"textposition\": \"auto\", \"x\": [\"healthi\"], \"xaxis\": \"x\", \"y\": [558], \"yaxis\": \"y\", \"type\": \"bar\"}], \"name\": \"558\"}, {\"data\": [{\"alignmentgroup\": \"True\", \"hoverlabel\": {\"namelength\": 0}, \"hovertemplate\": \"<b>%{hovertext}</b><br><br>Positive_Count=%{y}<br>Positive_Words=%{x}\", \"hovertext\": [\"thank\"], \"legendgroup\": \"\", \"marker\": {\"color\": \"#636efa\"}, \"name\": \"\", \"offsetgroup\": \"\", \"orientation\": \"v\", \"showlegend\": false, \"textposition\": \"auto\", \"x\": [\"thank\"], \"xaxis\": \"x\", \"y\": [526], \"yaxis\": \"y\", \"type\": \"bar\"}], \"name\": \"526\"}, {\"data\": [{\"alignmentgroup\": \"True\", \"hoverlabel\": {\"namelength\": 0}, \"hovertemplate\": \"<b>%{hovertext}</b><br><br>Positive_Count=%{y}<br>Positive_Words=%{x}\", \"hovertext\": [\"fun\"], \"legendgroup\": \"\", \"marker\": {\"color\": \"#636efa\"}, \"name\": \"\", \"offsetgroup\": \"\", \"orientation\": \"v\", \"showlegend\": false, \"textposition\": \"auto\", \"x\": [\"fun\"], \"xaxis\": \"x\", \"y\": [434], \"yaxis\": \"y\", \"type\": \"bar\"}], \"name\": \"434\"}, {\"data\": [{\"alignmentgroup\": \"True\", \"hoverlabel\": {\"namelength\": 0}, \"hovertemplate\": \"<b>%{hovertext}</b><br><br>Positive_Count=%{y}<br>Positive_Words=%{x}\", \"hovertext\": [\"affirm\"], \"legendgroup\": \"\", \"marker\": {\"color\": \"#636efa\"}, \"name\": \"\", \"offsetgroup\": \"\", \"orientation\": \"v\", \"showlegend\": false, \"textposition\": \"auto\", \"x\": [\"affirm\"], \"xaxis\": \"x\", \"y\": [422], \"yaxis\": \"y\", \"type\": \"bar\"}], \"name\": \"422\"}, {\"data\": [{\"alignmentgroup\": \"True\", \"hoverlabel\": {\"namelength\": 0}, \"hovertemplate\": \"<b>%{hovertext}</b><br><br>Positive_Count=%{y}<br>Positive_Words=%{x}\", \"hovertext\": [\"life\"], \"legendgroup\": \"\", \"marker\": {\"color\": \"#636efa\"}, \"name\": \"\", \"offsetgroup\": \"\", \"orientation\": \"v\", \"showlegend\": false, \"textposition\": \"auto\", \"x\": [\"life\"], \"xaxis\": \"x\", \"y\": [399], \"yaxis\": \"y\", \"type\": \"bar\"}], \"name\": \"399\"}, {\"data\": [{\"alignmentgroup\": \"True\", \"hoverlabel\": {\"namelength\": 0}, \"hovertemplate\": \"<b>%{hovertext}</b><br><br>Positive_Count=%{y}<br>Positive_Words=%{x}\", \"hovertext\": [\"model\"], \"legendgroup\": \"\", \"marker\": {\"color\": \"#636efa\"}, \"name\": \"\", \"offsetgroup\": \"\", \"orientation\": \"v\", \"showlegend\": false, \"textposition\": \"auto\", \"x\": [\"model\"], \"xaxis\": \"x\", \"y\": [374], \"yaxis\": \"y\", \"type\": \"bar\"}], \"name\": \"374\"}, {\"data\": [{\"alignmentgroup\": \"True\", \"hoverlabel\": {\"namelength\": 0}, \"hovertemplate\": \"<b>%{hovertext}</b><br><br>Positive_Count=%{y}<br>Positive_Words=%{x}\", \"hovertext\": [\"summer\"], \"legendgroup\": \"\", \"marker\": {\"color\": \"#636efa\"}, \"name\": \"\", \"offsetgroup\": \"\", \"orientation\": \"v\", \"showlegend\": false, \"textposition\": \"auto\", \"x\": [\"summer\"], \"xaxis\": \"x\", \"y\": [361], \"yaxis\": \"y\", \"type\": \"bar\"}], \"name\": \"361\"}, {\"data\": [{\"alignmentgroup\": \"True\", \"hoverlabel\": {\"namelength\": 0}, \"hovertemplate\": \"<b>%{hovertext}</b><br><br>Positive_Count=%{y}<br>Positive_Words=%{x}\", \"hovertext\": [\"blog\", \"cute\"], \"legendgroup\": \"\", \"marker\": {\"color\": \"#636efa\"}, \"name\": \"\", \"offsetgroup\": \"\", \"orientation\": \"v\", \"showlegend\": false, \"textposition\": \"auto\", \"x\": [\"blog\", \"cute\"], \"xaxis\": \"x\", \"y\": [355, 355], \"yaxis\": \"y\", \"type\": \"bar\"}], \"name\": \"355\"}, {\"data\": [{\"alignmentgroup\": \"True\", \"hoverlabel\": {\"namelength\": 0}, \"hovertemplate\": \"<b>%{hovertext}</b><br><br>Positive_Count=%{y}<br>Positive_Words=%{x}\", \"hovertext\": [\"i_am\"], \"legendgroup\": \"\", \"marker\": {\"color\": \"#636efa\"}, \"name\": \"\", \"offsetgroup\": \"\", \"orientation\": \"v\", \"showlegend\": false, \"textposition\": \"auto\", \"x\": [\"i_am\"], \"xaxis\": \"x\", \"y\": [352], \"yaxis\": \"y\", \"type\": \"bar\"}], \"name\": \"352\"}, {\"data\": [{\"alignmentgroup\": \"True\", \"hoverlabel\": {\"namelength\": 0}, \"hovertemplate\": \"<b>%{hovertext}</b><br><br>Positive_Count=%{y}<br>Positive_Words=%{x}\", \"hovertext\": [\"beauti\"], \"legendgroup\": \"\", \"marker\": {\"color\": \"#636efa\"}, \"name\": \"\", \"offsetgroup\": \"\", \"orientation\": \"v\", \"showlegend\": false, \"textposition\": \"auto\", \"x\": [\"beauti\"], \"xaxis\": \"x\", \"y\": [347], \"yaxis\": \"y\", \"type\": \"bar\"}], \"name\": \"347\"}, {\"data\": [{\"alignmentgroup\": \"True\", \"hoverlabel\": {\"namelength\": 0}, \"hovertemplate\": \"<b>%{hovertext}</b><br><br>Positive_Count=%{y}<br>Positive_Words=%{x}\", \"hovertext\": [\"fathersday\"], \"legendgroup\": \"\", \"marker\": {\"color\": \"#636efa\"}, \"name\": \"\", \"offsetgroup\": \"\", \"orientation\": \"v\", \"showlegend\": false, \"textposition\": \"auto\", \"x\": [\"fathersday\"], \"xaxis\": \"x\", \"y\": [332], \"yaxis\": \"y\", \"type\": \"bar\"}], \"name\": \"332\"}, {\"data\": [{\"alignmentgroup\": \"True\", \"hoverlabel\": {\"namelength\": 0}, \"hovertemplate\": \"<b>%{hovertext}</b><br><br>Positive_Count=%{y}<br>Positive_Words=%{x}\", \"hovertext\": [\"me\"], \"legendgroup\": \"\", \"marker\": {\"color\": \"#636efa\"}, \"name\": \"\", \"offsetgroup\": \"\", \"orientation\": \"v\", \"showlegend\": false, \"textposition\": \"auto\", \"x\": [\"me\"], \"xaxis\": \"x\", \"y\": [331], \"yaxis\": \"y\", \"type\": \"bar\"}], \"name\": \"331\"}, {\"data\": [{\"alignmentgroup\": \"True\", \"hoverlabel\": {\"namelength\": 0}, \"hovertemplate\": \"<b>%{hovertext}</b><br><br>Positive_Count=%{y}<br>Positive_Words=%{x}\", \"hovertext\": [\"happi\"], \"legendgroup\": \"\", \"marker\": {\"color\": \"#636efa\"}, \"name\": \"\", \"offsetgroup\": \"\", \"orientation\": \"v\", \"showlegend\": false, \"textposition\": \"auto\", \"x\": [\"happi\"], \"xaxis\": \"x\", \"y\": [328], \"yaxis\": \"y\", \"type\": \"bar\"}], \"name\": \"328\"}, {\"data\": [{\"alignmentgroup\": \"True\", \"hoverlabel\": {\"namelength\": 0}, \"hovertemplate\": \"<b>%{hovertext}</b><br><br>Positive_Count=%{y}<br>Positive_Words=%{x}\", \"hovertext\": [\"friend\"], \"legendgroup\": \"\", \"marker\": {\"color\": \"#636efa\"}, \"name\": \"\", \"offsetgroup\": \"\", \"orientation\": \"v\", \"showlegend\": false, \"textposition\": \"auto\", \"x\": [\"friend\"], \"xaxis\": \"x\", \"y\": [319], \"yaxis\": \"y\", \"type\": \"bar\"}], \"name\": \"319\"}, {\"data\": [{\"alignmentgroup\": \"True\", \"hoverlabel\": {\"namelength\": 0}, \"hovertemplate\": \"<b>%{hovertext}</b><br><br>Positive_Count=%{y}<br>Positive_Words=%{x}\", \"hovertext\": [\"silver\"], \"legendgroup\": \"\", \"marker\": {\"color\": \"#636efa\"}, \"name\": \"\", \"offsetgroup\": \"\", \"orientation\": \"v\", \"showlegend\": false, \"textposition\": \"auto\", \"x\": [\"silver\"], \"xaxis\": \"x\", \"y\": [299], \"yaxis\": \"y\", \"type\": \"bar\"}], \"name\": \"299\"}, {\"data\": [{\"alignmentgroup\": \"True\", \"hoverlabel\": {\"namelength\": 0}, \"hovertemplate\": \"<b>%{hovertext}</b><br><br>Positive_Count=%{y}<br>Positive_Words=%{x}\", \"hovertext\": [\"gold\"], \"legendgroup\": \"\", \"marker\": {\"color\": \"#636efa\"}, \"name\": \"\", \"offsetgroup\": \"\", \"orientation\": \"v\", \"showlegend\": false, \"textposition\": \"auto\", \"x\": [\"gold\"], \"xaxis\": \"x\", \"y\": [298], \"yaxis\": \"y\", \"type\": \"bar\"}], \"name\": \"298\"}]);\n",
              "                        }).then(function(){\n",
              "                            \n",
              "var gd = document.getElementById('2ac3a0b0-6225-49fc-89d7-90a9da8392b5');\n",
              "var x = new MutationObserver(function (mutations, observer) {{\n",
              "        var display = window.getComputedStyle(gd).display;\n",
              "        if (!display || display === 'none') {{\n",
              "            console.log([gd, 'removed!']);\n",
              "            Plotly.purge(gd);\n",
              "            observer.disconnect();\n",
              "        }}\n",
              "}});\n",
              "\n",
              "// Listen for the removal of the full notebook cells\n",
              "var notebookContainer = gd.closest('#notebook-container');\n",
              "if (notebookContainer) {{\n",
              "    x.observe(notebookContainer, {childList: true});\n",
              "}}\n",
              "\n",
              "// Listen for the clearing of the current output cell\n",
              "var outputEl = gd.closest('.output');\n",
              "if (outputEl) {{\n",
              "    x.observe(outputEl, {childList: true});\n",
              "}}\n",
              "\n",
              "                        })\n",
              "                };\n",
              "                \n",
              "            </script>\n",
              "        </div>\n",
              "</body>\n",
              "</html>"
            ]
          },
          "metadata": {
            "tags": []
          }
        }
      ]
    },
    {
      "cell_type": "code",
      "metadata": {
        "id": "hxRQPWwj6QRw",
        "colab_type": "code",
        "outputId": "ea1fd1e5-4d8d-46d5-e5fa-744ada2004b7",
        "colab": {
          "base_uri": "https://localhost:8080/",
          "height": 542
        }
      },
      "source": [
        "# Animated plot for negative words with their frequency\n",
        "fig = px.bar(z, x=\"Negative_Words\", y=\"Negative_Count\",animation_frame=\"Negative_Count\",\n",
        "            hover_name=\"Negative_Words\")\n",
        "fig.layout.updatemenus[0].buttons[0].args[1][\"frame\"][\"duration\"] = 1200\n",
        "fig.show()"
      ],
      "execution_count": 0,
      "outputs": [
        {
          "output_type": "display_data",
          "data": {
            "text/html": [
              "<html>\n",
              "<head><meta charset=\"utf-8\" /></head>\n",
              "<body>\n",
              "    <div>\n",
              "            <script src=\"https://cdnjs.cloudflare.com/ajax/libs/mathjax/2.7.5/MathJax.js?config=TeX-AMS-MML_SVG\"></script><script type=\"text/javascript\">if (window.MathJax) {MathJax.Hub.Config({SVG: {font: \"STIX-Web\"}});}</script>\n",
              "                <script type=\"text/javascript\">window.PlotlyConfig = {MathJaxConfig: 'local'};</script>\n",
              "        <script src=\"https://cdn.plot.ly/plotly-latest.min.js\"></script>    \n",
              "            <div id=\"5ecd209b-3d96-4947-838b-56399c59a20a\" class=\"plotly-graph-div\" style=\"height:525px; width:100%;\"></div>\n",
              "            <script type=\"text/javascript\">\n",
              "                \n",
              "                    window.PLOTLYENV=window.PLOTLYENV || {};\n",
              "                    \n",
              "                if (document.getElementById(\"5ecd209b-3d96-4947-838b-56399c59a20a\")) {\n",
              "                    Plotly.newPlot(\n",
              "                        '5ecd209b-3d96-4947-838b-56399c59a20a',\n",
              "                        [{\"alignmentgroup\": \"True\", \"hoverlabel\": {\"namelength\": 0}, \"hovertemplate\": \"<b>%{hovertext}</b><br><br>Negative_Count=%{y}<br>Negative_Words=%{x}\", \"hovertext\": [\"trump\"], \"legendgroup\": \"\", \"marker\": {\"color\": \"#636efa\"}, \"name\": \"\", \"offsetgroup\": \"\", \"orientation\": \"v\", \"showlegend\": false, \"textposition\": \"auto\", \"type\": \"bar\", \"x\": [\"trump\"], \"xaxis\": \"x\", \"y\": [133], \"yaxis\": \"y\"}],\n",
              "                        {\"barmode\": \"relative\", \"legend\": {\"tracegroupgap\": 0}, \"margin\": {\"t\": 60}, \"sliders\": [{\"active\": 0, \"currentvalue\": {\"prefix\": \"Negative_Count=\"}, \"len\": 0.9, \"pad\": {\"b\": 10, \"t\": 60}, \"steps\": [{\"args\": [[\"133\"], {\"frame\": {\"duration\": 0, \"redraw\": true}, \"fromcurrent\": true, \"mode\": \"immediate\", \"transition\": {\"duration\": 0, \"easing\": \"linear\"}}], \"label\": \"133\", \"method\": \"animate\"}, {\"args\": [[\"94\"], {\"frame\": {\"duration\": 0, \"redraw\": true}, \"fromcurrent\": true, \"mode\": \"immediate\", \"transition\": {\"duration\": 0, \"easing\": \"linear\"}}], \"label\": \"94\", \"method\": \"animate\"}, {\"args\": [[\"92\"], {\"frame\": {\"duration\": 0, \"redraw\": true}, \"fromcurrent\": true, \"mode\": \"immediate\", \"transition\": {\"duration\": 0, \"easing\": \"linear\"}}], \"label\": \"92\", \"method\": \"animate\"}, {\"args\": [[\"79\"], {\"frame\": {\"duration\": 0, \"redraw\": true}, \"fromcurrent\": true, \"mode\": \"immediate\", \"transition\": {\"duration\": 0, \"easing\": \"linear\"}}], \"label\": \"79\", \"method\": \"animate\"}, {\"args\": [[\"77\"], {\"frame\": {\"duration\": 0, \"redraw\": true}, \"fromcurrent\": true, \"mode\": \"immediate\", \"transition\": {\"duration\": 0, \"easing\": \"linear\"}}], \"label\": \"77\", \"method\": \"animate\"}, {\"args\": [[\"75\"], {\"frame\": {\"duration\": 0, \"redraw\": true}, \"fromcurrent\": true, \"mode\": \"immediate\", \"transition\": {\"duration\": 0, \"easing\": \"linear\"}}], \"label\": \"75\", \"method\": \"animate\"}, {\"args\": [[\"57\"], {\"frame\": {\"duration\": 0, \"redraw\": true}, \"fromcurrent\": true, \"mode\": \"immediate\", \"transition\": {\"duration\": 0, \"easing\": \"linear\"}}], \"label\": \"57\", \"method\": \"animate\"}, {\"args\": [[\"46\"], {\"frame\": {\"duration\": 0, \"redraw\": true}, \"fromcurrent\": true, \"mode\": \"immediate\", \"transition\": {\"duration\": 0, \"easing\": \"linear\"}}], \"label\": \"46\", \"method\": \"animate\"}, {\"args\": [[\"38\"], {\"frame\": {\"duration\": 0, \"redraw\": true}, \"fromcurrent\": true, \"mode\": \"immediate\", \"transition\": {\"duration\": 0, \"easing\": \"linear\"}}], \"label\": \"38\", \"method\": \"animate\"}, {\"args\": [[\"36\"], {\"frame\": {\"duration\": 0, \"redraw\": true}, \"fromcurrent\": true, \"mode\": \"immediate\", \"transition\": {\"duration\": 0, \"easing\": \"linear\"}}], \"label\": \"36\", \"method\": \"animate\"}, {\"args\": [[\"35\"], {\"frame\": {\"duration\": 0, \"redraw\": true}, \"fromcurrent\": true, \"mode\": \"immediate\", \"transition\": {\"duration\": 0, \"easing\": \"linear\"}}], \"label\": \"35\", \"method\": \"animate\"}, {\"args\": [[\"32\"], {\"frame\": {\"duration\": 0, \"redraw\": true}, \"fromcurrent\": true, \"mode\": \"immediate\", \"transition\": {\"duration\": 0, \"easing\": \"linear\"}}], \"label\": \"32\", \"method\": \"animate\"}, {\"args\": [[\"31\"], {\"frame\": {\"duration\": 0, \"redraw\": true}, \"fromcurrent\": true, \"mode\": \"immediate\", \"transition\": {\"duration\": 0, \"easing\": \"linear\"}}], \"label\": \"31\", \"method\": \"animate\"}, {\"args\": [[\"28\"], {\"frame\": {\"duration\": 0, \"redraw\": true}, \"fromcurrent\": true, \"mode\": \"immediate\", \"transition\": {\"duration\": 0, \"easing\": \"linear\"}}], \"label\": \"28\", \"method\": \"animate\"}, {\"args\": [[\"27\"], {\"frame\": {\"duration\": 0, \"redraw\": true}, \"fromcurrent\": true, \"mode\": \"immediate\", \"transition\": {\"duration\": 0, \"easing\": \"linear\"}}], \"label\": \"27\", \"method\": \"animate\"}, {\"args\": [[\"26\"], {\"frame\": {\"duration\": 0, \"redraw\": true}, \"fromcurrent\": true, \"mode\": \"immediate\", \"transition\": {\"duration\": 0, \"easing\": \"linear\"}}], \"label\": \"26\", \"method\": \"animate\"}], \"x\": 0.1, \"xanchor\": \"left\", \"y\": 0, \"yanchor\": \"top\"}], \"template\": {\"data\": {\"bar\": [{\"error_x\": {\"color\": \"#2a3f5f\"}, \"error_y\": {\"color\": \"#2a3f5f\"}, \"marker\": {\"line\": {\"color\": \"#E5ECF6\", \"width\": 0.5}}, \"type\": \"bar\"}], \"barpolar\": [{\"marker\": {\"line\": {\"color\": \"#E5ECF6\", \"width\": 0.5}}, \"type\": \"barpolar\"}], \"carpet\": [{\"aaxis\": {\"endlinecolor\": \"#2a3f5f\", \"gridcolor\": \"white\", \"linecolor\": \"white\", \"minorgridcolor\": \"white\", \"startlinecolor\": \"#2a3f5f\"}, \"baxis\": {\"endlinecolor\": \"#2a3f5f\", \"gridcolor\": \"white\", \"linecolor\": \"white\", \"minorgridcolor\": \"white\", \"startlinecolor\": \"#2a3f5f\"}, \"type\": \"carpet\"}], \"choropleth\": [{\"colorbar\": {\"outlinewidth\": 0, \"ticks\": \"\"}, \"type\": \"choropleth\"}], \"contour\": [{\"colorbar\": {\"outlinewidth\": 0, \"ticks\": \"\"}, \"colorscale\": [[0.0, \"#0d0887\"], [0.1111111111111111, \"#46039f\"], [0.2222222222222222, \"#7201a8\"], [0.3333333333333333, \"#9c179e\"], [0.4444444444444444, \"#bd3786\"], [0.5555555555555556, \"#d8576b\"], [0.6666666666666666, \"#ed7953\"], [0.7777777777777778, \"#fb9f3a\"], [0.8888888888888888, \"#fdca26\"], [1.0, \"#f0f921\"]], \"type\": \"contour\"}], \"contourcarpet\": [{\"colorbar\": {\"outlinewidth\": 0, \"ticks\": \"\"}, \"type\": \"contourcarpet\"}], \"heatmap\": [{\"colorbar\": {\"outlinewidth\": 0, \"ticks\": \"\"}, \"colorscale\": [[0.0, \"#0d0887\"], [0.1111111111111111, \"#46039f\"], [0.2222222222222222, \"#7201a8\"], [0.3333333333333333, \"#9c179e\"], [0.4444444444444444, \"#bd3786\"], [0.5555555555555556, \"#d8576b\"], [0.6666666666666666, \"#ed7953\"], [0.7777777777777778, \"#fb9f3a\"], [0.8888888888888888, \"#fdca26\"], [1.0, \"#f0f921\"]], \"type\": \"heatmap\"}], \"heatmapgl\": [{\"colorbar\": {\"outlinewidth\": 0, \"ticks\": \"\"}, \"colorscale\": [[0.0, \"#0d0887\"], [0.1111111111111111, \"#46039f\"], [0.2222222222222222, \"#7201a8\"], [0.3333333333333333, \"#9c179e\"], [0.4444444444444444, \"#bd3786\"], [0.5555555555555556, \"#d8576b\"], [0.6666666666666666, \"#ed7953\"], [0.7777777777777778, \"#fb9f3a\"], [0.8888888888888888, \"#fdca26\"], [1.0, \"#f0f921\"]], \"type\": \"heatmapgl\"}], \"histogram\": [{\"marker\": {\"colorbar\": {\"outlinewidth\": 0, \"ticks\": \"\"}}, \"type\": \"histogram\"}], \"histogram2d\": [{\"colorbar\": {\"outlinewidth\": 0, \"ticks\": \"\"}, \"colorscale\": [[0.0, \"#0d0887\"], [0.1111111111111111, \"#46039f\"], [0.2222222222222222, \"#7201a8\"], [0.3333333333333333, \"#9c179e\"], [0.4444444444444444, \"#bd3786\"], [0.5555555555555556, \"#d8576b\"], [0.6666666666666666, \"#ed7953\"], [0.7777777777777778, \"#fb9f3a\"], [0.8888888888888888, \"#fdca26\"], [1.0, \"#f0f921\"]], \"type\": \"histogram2d\"}], \"histogram2dcontour\": [{\"colorbar\": {\"outlinewidth\": 0, \"ticks\": \"\"}, \"colorscale\": [[0.0, \"#0d0887\"], [0.1111111111111111, \"#46039f\"], [0.2222222222222222, \"#7201a8\"], [0.3333333333333333, \"#9c179e\"], [0.4444444444444444, \"#bd3786\"], [0.5555555555555556, \"#d8576b\"], [0.6666666666666666, \"#ed7953\"], [0.7777777777777778, \"#fb9f3a\"], [0.8888888888888888, \"#fdca26\"], [1.0, \"#f0f921\"]], \"type\": \"histogram2dcontour\"}], \"mesh3d\": [{\"colorbar\": {\"outlinewidth\": 0, \"ticks\": \"\"}, \"type\": \"mesh3d\"}], \"parcoords\": [{\"line\": {\"colorbar\": {\"outlinewidth\": 0, \"ticks\": \"\"}}, \"type\": \"parcoords\"}], \"pie\": [{\"automargin\": true, \"type\": \"pie\"}], \"scatter\": [{\"marker\": {\"colorbar\": {\"outlinewidth\": 0, \"ticks\": \"\"}}, \"type\": \"scatter\"}], \"scatter3d\": [{\"line\": {\"colorbar\": {\"outlinewidth\": 0, \"ticks\": \"\"}}, \"marker\": {\"colorbar\": {\"outlinewidth\": 0, \"ticks\": \"\"}}, \"type\": \"scatter3d\"}], \"scattercarpet\": [{\"marker\": {\"colorbar\": {\"outlinewidth\": 0, \"ticks\": \"\"}}, \"type\": \"scattercarpet\"}], \"scattergeo\": [{\"marker\": {\"colorbar\": {\"outlinewidth\": 0, \"ticks\": \"\"}}, \"type\": \"scattergeo\"}], \"scattergl\": [{\"marker\": {\"colorbar\": {\"outlinewidth\": 0, \"ticks\": \"\"}}, \"type\": \"scattergl\"}], \"scattermapbox\": [{\"marker\": {\"colorbar\": {\"outlinewidth\": 0, \"ticks\": \"\"}}, \"type\": \"scattermapbox\"}], \"scatterpolar\": [{\"marker\": {\"colorbar\": {\"outlinewidth\": 0, \"ticks\": \"\"}}, \"type\": \"scatterpolar\"}], \"scatterpolargl\": [{\"marker\": {\"colorbar\": {\"outlinewidth\": 0, \"ticks\": \"\"}}, \"type\": \"scatterpolargl\"}], \"scatterternary\": [{\"marker\": {\"colorbar\": {\"outlinewidth\": 0, \"ticks\": \"\"}}, \"type\": \"scatterternary\"}], \"surface\": [{\"colorbar\": {\"outlinewidth\": 0, \"ticks\": \"\"}, \"colorscale\": [[0.0, \"#0d0887\"], [0.1111111111111111, \"#46039f\"], [0.2222222222222222, \"#7201a8\"], [0.3333333333333333, \"#9c179e\"], [0.4444444444444444, \"#bd3786\"], [0.5555555555555556, \"#d8576b\"], [0.6666666666666666, \"#ed7953\"], [0.7777777777777778, \"#fb9f3a\"], [0.8888888888888888, \"#fdca26\"], [1.0, \"#f0f921\"]], \"type\": \"surface\"}], \"table\": [{\"cells\": {\"fill\": {\"color\": \"#EBF0F8\"}, \"line\": {\"color\": \"white\"}}, \"header\": {\"fill\": {\"color\": \"#C8D4E3\"}, \"line\": {\"color\": \"white\"}}, \"type\": \"table\"}]}, \"layout\": {\"annotationdefaults\": {\"arrowcolor\": \"#2a3f5f\", \"arrowhead\": 0, \"arrowwidth\": 1}, \"coloraxis\": {\"colorbar\": {\"outlinewidth\": 0, \"ticks\": \"\"}}, \"colorscale\": {\"diverging\": [[0, \"#8e0152\"], [0.1, \"#c51b7d\"], [0.2, \"#de77ae\"], [0.3, \"#f1b6da\"], [0.4, \"#fde0ef\"], [0.5, \"#f7f7f7\"], [0.6, \"#e6f5d0\"], [0.7, \"#b8e186\"], [0.8, \"#7fbc41\"], [0.9, \"#4d9221\"], [1, \"#276419\"]], \"sequential\": [[0.0, \"#0d0887\"], [0.1111111111111111, \"#46039f\"], [0.2222222222222222, \"#7201a8\"], [0.3333333333333333, \"#9c179e\"], [0.4444444444444444, \"#bd3786\"], [0.5555555555555556, \"#d8576b\"], [0.6666666666666666, \"#ed7953\"], [0.7777777777777778, \"#fb9f3a\"], [0.8888888888888888, \"#fdca26\"], [1.0, \"#f0f921\"]], \"sequentialminus\": [[0.0, \"#0d0887\"], [0.1111111111111111, \"#46039f\"], [0.2222222222222222, \"#7201a8\"], [0.3333333333333333, \"#9c179e\"], [0.4444444444444444, \"#bd3786\"], [0.5555555555555556, \"#d8576b\"], [0.6666666666666666, \"#ed7953\"], [0.7777777777777778, \"#fb9f3a\"], [0.8888888888888888, \"#fdca26\"], [1.0, \"#f0f921\"]]}, \"colorway\": [\"#636efa\", \"#EF553B\", \"#00cc96\", \"#ab63fa\", \"#FFA15A\", \"#19d3f3\", \"#FF6692\", \"#B6E880\", \"#FF97FF\", \"#FECB52\"], \"font\": {\"color\": \"#2a3f5f\"}, \"geo\": {\"bgcolor\": \"white\", \"lakecolor\": \"white\", \"landcolor\": \"#E5ECF6\", \"showlakes\": true, \"showland\": true, \"subunitcolor\": \"white\"}, \"hoverlabel\": {\"align\": \"left\"}, \"hovermode\": \"closest\", \"mapbox\": {\"style\": \"light\"}, \"paper_bgcolor\": \"white\", \"plot_bgcolor\": \"#E5ECF6\", \"polar\": {\"angularaxis\": {\"gridcolor\": \"white\", \"linecolor\": \"white\", \"ticks\": \"\"}, \"bgcolor\": \"#E5ECF6\", \"radialaxis\": {\"gridcolor\": \"white\", \"linecolor\": \"white\", \"ticks\": \"\"}}, \"scene\": {\"xaxis\": {\"backgroundcolor\": \"#E5ECF6\", \"gridcolor\": \"white\", \"gridwidth\": 2, \"linecolor\": \"white\", \"showbackground\": true, \"ticks\": \"\", \"zerolinecolor\": \"white\"}, \"yaxis\": {\"backgroundcolor\": \"#E5ECF6\", \"gridcolor\": \"white\", \"gridwidth\": 2, \"linecolor\": \"white\", \"showbackground\": true, \"ticks\": \"\", \"zerolinecolor\": \"white\"}, \"zaxis\": {\"backgroundcolor\": \"#E5ECF6\", \"gridcolor\": \"white\", \"gridwidth\": 2, \"linecolor\": \"white\", \"showbackground\": true, \"ticks\": \"\", \"zerolinecolor\": \"white\"}}, \"shapedefaults\": {\"line\": {\"color\": \"#2a3f5f\"}}, \"ternary\": {\"aaxis\": {\"gridcolor\": \"white\", \"linecolor\": \"white\", \"ticks\": \"\"}, \"baxis\": {\"gridcolor\": \"white\", \"linecolor\": \"white\", \"ticks\": \"\"}, \"bgcolor\": \"#E5ECF6\", \"caxis\": {\"gridcolor\": \"white\", \"linecolor\": \"white\", \"ticks\": \"\"}}, \"title\": {\"x\": 0.05}, \"xaxis\": {\"automargin\": true, \"gridcolor\": \"white\", \"linecolor\": \"white\", \"ticks\": \"\", \"title\": {\"standoff\": 15}, \"zerolinecolor\": \"white\", \"zerolinewidth\": 2}, \"yaxis\": {\"automargin\": true, \"gridcolor\": \"white\", \"linecolor\": \"white\", \"ticks\": \"\", \"title\": {\"standoff\": 15}, \"zerolinecolor\": \"white\", \"zerolinewidth\": 2}}}, \"updatemenus\": [{\"buttons\": [{\"args\": [null, {\"frame\": {\"duration\": 1200, \"redraw\": true}, \"fromcurrent\": true, \"mode\": \"immediate\", \"transition\": {\"duration\": 500, \"easing\": \"linear\"}}], \"label\": \"&#9654;\", \"method\": \"animate\"}, {\"args\": [[null], {\"frame\": {\"duration\": 0, \"redraw\": true}, \"fromcurrent\": true, \"mode\": \"immediate\", \"transition\": {\"duration\": 0, \"easing\": \"linear\"}}], \"label\": \"&#9724;\", \"method\": \"animate\"}], \"direction\": \"left\", \"pad\": {\"r\": 10, \"t\": 70}, \"showactive\": false, \"type\": \"buttons\", \"x\": 0.1, \"xanchor\": \"right\", \"y\": 0, \"yanchor\": \"top\"}], \"xaxis\": {\"anchor\": \"y\", \"domain\": [0.0, 1.0], \"title\": {\"text\": \"Negative_Words\"}}, \"yaxis\": {\"anchor\": \"x\", \"categoryarray\": [26, 27, 28, 31, 32, 35, 36, 38, 46, 57, 75, 77, 79, 92, 94, 133], \"categoryorder\": \"array\", \"domain\": [0.0, 1.0], \"title\": {\"text\": \"Negative_Count\"}}},\n",
              "                        {\"responsive\": true}\n",
              "                    ).then(function(){\n",
              "                            Plotly.addFrames('5ecd209b-3d96-4947-838b-56399c59a20a', [{\"data\": [{\"alignmentgroup\": \"True\", \"hoverlabel\": {\"namelength\": 0}, \"hovertemplate\": \"<b>%{hovertext}</b><br><br>Negative_Count=%{y}<br>Negative_Words=%{x}\", \"hovertext\": [\"trump\"], \"legendgroup\": \"\", \"marker\": {\"color\": \"#636efa\"}, \"name\": \"\", \"offsetgroup\": \"\", \"orientation\": \"v\", \"showlegend\": false, \"textposition\": \"auto\", \"x\": [\"trump\"], \"xaxis\": \"x\", \"y\": [133], \"yaxis\": \"y\", \"type\": \"bar\"}], \"name\": \"133\"}, {\"data\": [{\"alignmentgroup\": \"True\", \"hoverlabel\": {\"namelength\": 0}, \"hovertemplate\": \"<b>%{hovertext}</b><br><br>Negative_Count=%{y}<br>Negative_Words=%{x}\", \"hovertext\": [\"polit\"], \"legendgroup\": \"\", \"marker\": {\"color\": \"#636efa\"}, \"name\": \"\", \"offsetgroup\": \"\", \"orientation\": \"v\", \"showlegend\": false, \"textposition\": \"auto\", \"x\": [\"polit\"], \"xaxis\": \"x\", \"y\": [94], \"yaxis\": \"y\", \"type\": \"bar\"}], \"name\": \"94\"}, {\"data\": [{\"alignmentgroup\": \"True\", \"hoverlabel\": {\"namelength\": 0}, \"hovertemplate\": \"<b>%{hovertext}</b><br><br>Negative_Count=%{y}<br>Negative_Words=%{x}\", \"hovertext\": [\"allahsoil\"], \"legendgroup\": \"\", \"marker\": {\"color\": \"#636efa\"}, \"name\": \"\", \"offsetgroup\": \"\", \"orientation\": \"v\", \"showlegend\": false, \"textposition\": \"auto\", \"x\": [\"allahsoil\"], \"xaxis\": \"x\", \"y\": [92], \"yaxis\": \"y\", \"type\": \"bar\"}], \"name\": \"92\"}, {\"data\": [{\"alignmentgroup\": \"True\", \"hoverlabel\": {\"namelength\": 0}, \"hovertemplate\": \"<b>%{hovertext}</b><br><br>Negative_Count=%{y}<br>Negative_Words=%{x}\", \"hovertext\": [\"liber\"], \"legendgroup\": \"\", \"marker\": {\"color\": \"#636efa\"}, \"name\": \"\", \"offsetgroup\": \"\", \"orientation\": \"v\", \"showlegend\": false, \"textposition\": \"auto\", \"x\": [\"liber\"], \"xaxis\": \"x\", \"y\": [79], \"yaxis\": \"y\", \"type\": \"bar\"}], \"name\": \"79\"}, {\"data\": [{\"alignmentgroup\": \"True\", \"hoverlabel\": {\"namelength\": 0}, \"hovertemplate\": \"<b>%{hovertext}</b><br><br>Negative_Count=%{y}<br>Negative_Words=%{x}\", \"hovertext\": [\"libtard\"], \"legendgroup\": \"\", \"marker\": {\"color\": \"#636efa\"}, \"name\": \"\", \"offsetgroup\": \"\", \"orientation\": \"v\", \"showlegend\": false, \"textposition\": \"auto\", \"x\": [\"libtard\"], \"xaxis\": \"x\", \"y\": [77], \"yaxis\": \"y\", \"type\": \"bar\"}], \"name\": \"77\"}, {\"data\": [{\"alignmentgroup\": \"True\", \"hoverlabel\": {\"namelength\": 0}, \"hovertemplate\": \"<b>%{hovertext}</b><br><br>Negative_Count=%{y}<br>Negative_Words=%{x}\", \"hovertext\": [\"sjw\"], \"legendgroup\": \"\", \"marker\": {\"color\": \"#636efa\"}, \"name\": \"\", \"offsetgroup\": \"\", \"orientation\": \"v\", \"showlegend\": false, \"textposition\": \"auto\", \"x\": [\"sjw\"], \"xaxis\": \"x\", \"y\": [75], \"yaxis\": \"y\", \"type\": \"bar\"}], \"name\": \"75\"}, {\"data\": [{\"alignmentgroup\": \"True\", \"hoverlabel\": {\"namelength\": 0}, \"hovertemplate\": \"<b>%{hovertext}</b><br><br>Negative_Count=%{y}<br>Negative_Words=%{x}\", \"hovertext\": [\"retweet\"], \"legendgroup\": \"\", \"marker\": {\"color\": \"#636efa\"}, \"name\": \"\", \"offsetgroup\": \"\", \"orientation\": \"v\", \"showlegend\": false, \"textposition\": \"auto\", \"x\": [\"retweet\"], \"xaxis\": \"x\", \"y\": [57], \"yaxis\": \"y\", \"type\": \"bar\"}], \"name\": \"57\"}, {\"data\": [{\"alignmentgroup\": \"True\", \"hoverlabel\": {\"namelength\": 0}, \"hovertemplate\": \"<b>%{hovertext}</b><br><br>Negative_Count=%{y}<br>Negative_Words=%{x}\", \"hovertext\": [\"black\"], \"legendgroup\": \"\", \"marker\": {\"color\": \"#636efa\"}, \"name\": \"\", \"offsetgroup\": \"\", \"orientation\": \"v\", \"showlegend\": false, \"textposition\": \"auto\", \"x\": [\"black\"], \"xaxis\": \"x\", \"y\": [46], \"yaxis\": \"y\", \"type\": \"bar\"}], \"name\": \"46\"}, {\"data\": [{\"alignmentgroup\": \"True\", \"hoverlabel\": {\"namelength\": 0}, \"hovertemplate\": \"<b>%{hovertext}</b><br><br>Negative_Count=%{y}<br>Negative_Words=%{x}\", \"hovertext\": [\"miamia\"], \"legendgroup\": \"\", \"marker\": {\"color\": \"#636efa\"}, \"name\": \"\", \"offsetgroup\": \"\", \"orientation\": \"v\", \"showlegend\": false, \"textposition\": \"auto\", \"x\": [\"miamia\"], \"xaxis\": \"x\", \"y\": [38], \"yaxis\": \"y\", \"type\": \"bar\"}], \"name\": \"38\"}, {\"data\": [{\"alignmentgroup\": \"True\", \"hoverlabel\": {\"namelength\": 0}, \"hovertemplate\": \"<b>%{hovertext}</b><br><br>Negative_Count=%{y}<br>Negative_Words=%{x}\", \"hovertext\": [\"hate\"], \"legendgroup\": \"\", \"marker\": {\"color\": \"#636efa\"}, \"name\": \"\", \"offsetgroup\": \"\", \"orientation\": \"v\", \"showlegend\": false, \"textposition\": \"auto\", \"x\": [\"hate\"], \"xaxis\": \"x\", \"y\": [36], \"yaxis\": \"y\", \"type\": \"bar\"}], \"name\": \"36\"}, {\"data\": [{\"alignmentgroup\": \"True\", \"hoverlabel\": {\"namelength\": 0}, \"hovertemplate\": \"<b>%{hovertext}</b><br><br>Negative_Count=%{y}<br>Negative_Words=%{x}\", \"hovertext\": [\"bigot\"], \"legendgroup\": \"\", \"marker\": {\"color\": \"#636efa\"}, \"name\": \"\", \"offsetgroup\": \"\", \"orientation\": \"v\", \"showlegend\": false, \"textposition\": \"auto\", \"x\": [\"bigot\"], \"xaxis\": \"x\", \"y\": [35], \"yaxis\": \"y\", \"type\": \"bar\"}], \"name\": \"35\"}, {\"data\": [{\"alignmentgroup\": \"True\", \"hoverlabel\": {\"namelength\": 0}, \"hovertemplate\": \"<b>%{hovertext}</b><br><br>Negative_Count=%{y}<br>Negative_Words=%{x}\", \"hovertext\": [\"tampa\"], \"legendgroup\": \"\", \"marker\": {\"color\": \"#636efa\"}, \"name\": \"\", \"offsetgroup\": \"\", \"orientation\": \"v\", \"showlegend\": false, \"textposition\": \"auto\", \"x\": [\"tampa\"], \"xaxis\": \"x\", \"y\": [32], \"yaxis\": \"y\", \"type\": \"bar\"}], \"name\": \"32\"}, {\"data\": [{\"alignmentgroup\": \"True\", \"hoverlabel\": {\"namelength\": 0}, \"hovertemplate\": \"<b>%{hovertext}</b><br><br>Negative_Count=%{y}<br>Negative_Words=%{x}\", \"hovertext\": [\"obama\"], \"legendgroup\": \"\", \"marker\": {\"color\": \"#636efa\"}, \"name\": \"\", \"offsetgroup\": \"\", \"orientation\": \"v\", \"showlegend\": false, \"textposition\": \"auto\", \"x\": [\"obama\"], \"xaxis\": \"x\", \"y\": [31], \"yaxis\": \"y\", \"type\": \"bar\"}], \"name\": \"31\"}, {\"data\": [{\"alignmentgroup\": \"True\", \"hoverlabel\": {\"namelength\": 0}, \"hovertemplate\": \"<b>%{hovertext}</b><br><br>Negative_Count=%{y}<br>Negative_Words=%{x}\", \"hovertext\": [\"blm\", \"hispan\"], \"legendgroup\": \"\", \"marker\": {\"color\": \"#636efa\"}, \"name\": \"\", \"offsetgroup\": \"\", \"orientation\": \"v\", \"showlegend\": false, \"textposition\": \"auto\", \"x\": [\"blm\", \"hispan\"], \"xaxis\": \"x\", \"y\": [28, 28], \"yaxis\": \"y\", \"type\": \"bar\"}], \"name\": \"28\"}, {\"data\": [{\"alignmentgroup\": \"True\", \"hoverlabel\": {\"namelength\": 0}, \"hovertemplate\": \"<b>%{hovertext}</b><br><br>Negative_Count=%{y}<br>Negative_Words=%{x}\", \"hovertext\": [\"brexit\", \"sikh\"], \"legendgroup\": \"\", \"marker\": {\"color\": \"#636efa\"}, \"name\": \"\", \"offsetgroup\": \"\", \"orientation\": \"v\", \"showlegend\": false, \"textposition\": \"auto\", \"x\": [\"brexit\", \"sikh\"], \"xaxis\": \"x\", \"y\": [27, 27], \"yaxis\": \"y\", \"type\": \"bar\"}], \"name\": \"27\"}, {\"data\": [{\"alignmentgroup\": \"True\", \"hoverlabel\": {\"namelength\": 0}, \"hovertemplate\": \"<b>%{hovertext}</b><br><br>Negative_Count=%{y}<br>Negative_Words=%{x}\", \"hovertext\": [\"templ\", \"calgary\", \"wso\"], \"legendgroup\": \"\", \"marker\": {\"color\": \"#636efa\"}, \"name\": \"\", \"offsetgroup\": \"\", \"orientation\": \"v\", \"showlegend\": false, \"textposition\": \"auto\", \"x\": [\"templ\", \"calgary\", \"wso\"], \"xaxis\": \"x\", \"y\": [26, 26, 26], \"yaxis\": \"y\", \"type\": \"bar\"}], \"name\": \"26\"}]);\n",
              "                        }).then(function(){\n",
              "                            \n",
              "var gd = document.getElementById('5ecd209b-3d96-4947-838b-56399c59a20a');\n",
              "var x = new MutationObserver(function (mutations, observer) {{\n",
              "        var display = window.getComputedStyle(gd).display;\n",
              "        if (!display || display === 'none') {{\n",
              "            console.log([gd, 'removed!']);\n",
              "            Plotly.purge(gd);\n",
              "            observer.disconnect();\n",
              "        }}\n",
              "}});\n",
              "\n",
              "// Listen for the removal of the full notebook cells\n",
              "var notebookContainer = gd.closest('#notebook-container');\n",
              "if (notebookContainer) {{\n",
              "    x.observe(notebookContainer, {childList: true});\n",
              "}}\n",
              "\n",
              "// Listen for the clearing of the current output cell\n",
              "var outputEl = gd.closest('.output');\n",
              "if (outputEl) {{\n",
              "    x.observe(outputEl, {childList: true});\n",
              "}}\n",
              "\n",
              "                        })\n",
              "                };\n",
              "                \n",
              "            </script>\n",
              "        </div>\n",
              "</body>\n",
              "</html>"
            ]
          },
          "metadata": {
            "tags": []
          }
        }
      ]
    },
    {
      "cell_type": "code",
      "metadata": {
        "id": "gTUIJmQP6TNL",
        "colab_type": "code",
        "outputId": "fa797bbc-e9d7-40a1-fa35-e5234d2da6ef",
        "colab": {
          "base_uri": "https://localhost:8080/",
          "height": 542
        }
      },
      "source": [
        "#Normal histogram of positive words\n",
        "fig = px.bar(z, x=\"Positive_Words\", y=\"Positive_Count\",\n",
        "            hover_name=\"Positive_Words\",color = 'Positive_Count')\n",
        "fig.show()\n"
      ],
      "execution_count": 0,
      "outputs": [
        {
          "output_type": "display_data",
          "data": {
            "text/html": [
              "<html>\n",
              "<head><meta charset=\"utf-8\" /></head>\n",
              "<body>\n",
              "    <div>\n",
              "            <script src=\"https://cdnjs.cloudflare.com/ajax/libs/mathjax/2.7.5/MathJax.js?config=TeX-AMS-MML_SVG\"></script><script type=\"text/javascript\">if (window.MathJax) {MathJax.Hub.Config({SVG: {font: \"STIX-Web\"}});}</script>\n",
              "                <script type=\"text/javascript\">window.PlotlyConfig = {MathJaxConfig: 'local'};</script>\n",
              "        <script src=\"https://cdn.plot.ly/plotly-latest.min.js\"></script>    \n",
              "            <div id=\"350e250e-f524-477e-96db-e47c4f6afcf3\" class=\"plotly-graph-div\" style=\"height:525px; width:100%;\"></div>\n",
              "            <script type=\"text/javascript\">\n",
              "                \n",
              "                    window.PLOTLYENV=window.PLOTLYENV || {};\n",
              "                    \n",
              "                if (document.getElementById(\"350e250e-f524-477e-96db-e47c4f6afcf3\")) {\n",
              "                    Plotly.newPlot(\n",
              "                        '350e250e-f524-477e-96db-e47c4f6afcf3',\n",
              "                        [{\"alignmentgroup\": \"True\", \"hoverlabel\": {\"namelength\": 0}, \"hovertemplate\": \"<b>%{hovertext}</b><br><br>Positive_Words=%{x}<br>Positive_Count=%{marker.color}\", \"hovertext\": [\"love\", \"posit\", \"smile\", \"healthi\", \"thank\", \"fun\", \"affirm\", \"life\", \"model\", \"summer\", \"blog\", \"cute\", \"i_am\", \"beauti\", \"fathersday\", \"me\", \"happi\", \"friend\", \"silver\", \"gold\"], \"legendgroup\": \"\", \"marker\": {\"color\": [1579, 905, 636, 558, 526, 434, 422, 399, 374, 361, 355, 355, 352, 347, 332, 331, 328, 319, 299, 298], \"coloraxis\": \"coloraxis\"}, \"name\": \"\", \"offsetgroup\": \"\", \"orientation\": \"v\", \"showlegend\": false, \"textposition\": \"auto\", \"type\": \"bar\", \"x\": [\"love\", \"posit\", \"smile\", \"healthi\", \"thank\", \"fun\", \"affirm\", \"life\", \"model\", \"summer\", \"blog\", \"cute\", \"i_am\", \"beauti\", \"fathersday\", \"me\", \"happi\", \"friend\", \"silver\", \"gold\"], \"xaxis\": \"x\", \"y\": [1579, 905, 636, 558, 526, 434, 422, 399, 374, 361, 355, 355, 352, 347, 332, 331, 328, 319, 299, 298], \"yaxis\": \"y\"}],\n",
              "                        {\"barmode\": \"relative\", \"coloraxis\": {\"colorbar\": {\"title\": {\"text\": \"Positive_Count\"}}, \"colorscale\": [[0.0, \"#0d0887\"], [0.1111111111111111, \"#46039f\"], [0.2222222222222222, \"#7201a8\"], [0.3333333333333333, \"#9c179e\"], [0.4444444444444444, \"#bd3786\"], [0.5555555555555556, \"#d8576b\"], [0.6666666666666666, \"#ed7953\"], [0.7777777777777778, \"#fb9f3a\"], [0.8888888888888888, \"#fdca26\"], [1.0, \"#f0f921\"]]}, \"legend\": {\"tracegroupgap\": 0}, \"margin\": {\"t\": 60}, \"template\": {\"data\": {\"bar\": [{\"error_x\": {\"color\": \"#2a3f5f\"}, \"error_y\": {\"color\": \"#2a3f5f\"}, \"marker\": {\"line\": {\"color\": \"#E5ECF6\", \"width\": 0.5}}, \"type\": \"bar\"}], \"barpolar\": [{\"marker\": {\"line\": {\"color\": \"#E5ECF6\", \"width\": 0.5}}, \"type\": \"barpolar\"}], \"carpet\": [{\"aaxis\": {\"endlinecolor\": \"#2a3f5f\", \"gridcolor\": \"white\", \"linecolor\": \"white\", \"minorgridcolor\": \"white\", \"startlinecolor\": \"#2a3f5f\"}, \"baxis\": {\"endlinecolor\": \"#2a3f5f\", \"gridcolor\": \"white\", \"linecolor\": \"white\", \"minorgridcolor\": \"white\", \"startlinecolor\": \"#2a3f5f\"}, \"type\": \"carpet\"}], \"choropleth\": [{\"colorbar\": {\"outlinewidth\": 0, \"ticks\": \"\"}, \"type\": \"choropleth\"}], \"contour\": [{\"colorbar\": {\"outlinewidth\": 0, \"ticks\": \"\"}, \"colorscale\": [[0.0, \"#0d0887\"], [0.1111111111111111, \"#46039f\"], [0.2222222222222222, \"#7201a8\"], [0.3333333333333333, \"#9c179e\"], [0.4444444444444444, \"#bd3786\"], [0.5555555555555556, \"#d8576b\"], [0.6666666666666666, \"#ed7953\"], [0.7777777777777778, \"#fb9f3a\"], [0.8888888888888888, \"#fdca26\"], [1.0, \"#f0f921\"]], \"type\": \"contour\"}], \"contourcarpet\": [{\"colorbar\": {\"outlinewidth\": 0, \"ticks\": \"\"}, \"type\": \"contourcarpet\"}], \"heatmap\": [{\"colorbar\": {\"outlinewidth\": 0, \"ticks\": \"\"}, \"colorscale\": [[0.0, \"#0d0887\"], [0.1111111111111111, \"#46039f\"], [0.2222222222222222, \"#7201a8\"], [0.3333333333333333, \"#9c179e\"], [0.4444444444444444, \"#bd3786\"], [0.5555555555555556, \"#d8576b\"], [0.6666666666666666, \"#ed7953\"], [0.7777777777777778, \"#fb9f3a\"], [0.8888888888888888, \"#fdca26\"], [1.0, \"#f0f921\"]], \"type\": \"heatmap\"}], \"heatmapgl\": [{\"colorbar\": {\"outlinewidth\": 0, \"ticks\": \"\"}, \"colorscale\": [[0.0, \"#0d0887\"], [0.1111111111111111, \"#46039f\"], [0.2222222222222222, \"#7201a8\"], [0.3333333333333333, \"#9c179e\"], [0.4444444444444444, \"#bd3786\"], [0.5555555555555556, \"#d8576b\"], [0.6666666666666666, \"#ed7953\"], [0.7777777777777778, \"#fb9f3a\"], [0.8888888888888888, \"#fdca26\"], [1.0, \"#f0f921\"]], \"type\": \"heatmapgl\"}], \"histogram\": [{\"marker\": {\"colorbar\": {\"outlinewidth\": 0, \"ticks\": \"\"}}, \"type\": \"histogram\"}], \"histogram2d\": [{\"colorbar\": {\"outlinewidth\": 0, \"ticks\": \"\"}, \"colorscale\": [[0.0, \"#0d0887\"], [0.1111111111111111, \"#46039f\"], [0.2222222222222222, \"#7201a8\"], [0.3333333333333333, \"#9c179e\"], [0.4444444444444444, \"#bd3786\"], [0.5555555555555556, \"#d8576b\"], [0.6666666666666666, \"#ed7953\"], [0.7777777777777778, \"#fb9f3a\"], [0.8888888888888888, \"#fdca26\"], [1.0, \"#f0f921\"]], \"type\": \"histogram2d\"}], \"histogram2dcontour\": [{\"colorbar\": {\"outlinewidth\": 0, \"ticks\": \"\"}, \"colorscale\": [[0.0, \"#0d0887\"], [0.1111111111111111, \"#46039f\"], [0.2222222222222222, \"#7201a8\"], [0.3333333333333333, \"#9c179e\"], [0.4444444444444444, \"#bd3786\"], [0.5555555555555556, \"#d8576b\"], [0.6666666666666666, \"#ed7953\"], [0.7777777777777778, \"#fb9f3a\"], [0.8888888888888888, \"#fdca26\"], [1.0, \"#f0f921\"]], \"type\": \"histogram2dcontour\"}], \"mesh3d\": [{\"colorbar\": {\"outlinewidth\": 0, \"ticks\": \"\"}, \"type\": \"mesh3d\"}], \"parcoords\": [{\"line\": {\"colorbar\": {\"outlinewidth\": 0, \"ticks\": \"\"}}, \"type\": \"parcoords\"}], \"pie\": [{\"automargin\": true, \"type\": \"pie\"}], \"scatter\": [{\"marker\": {\"colorbar\": {\"outlinewidth\": 0, \"ticks\": \"\"}}, \"type\": \"scatter\"}], \"scatter3d\": [{\"line\": {\"colorbar\": {\"outlinewidth\": 0, \"ticks\": \"\"}}, \"marker\": {\"colorbar\": {\"outlinewidth\": 0, \"ticks\": \"\"}}, \"type\": \"scatter3d\"}], \"scattercarpet\": [{\"marker\": {\"colorbar\": {\"outlinewidth\": 0, \"ticks\": \"\"}}, \"type\": \"scattercarpet\"}], \"scattergeo\": [{\"marker\": {\"colorbar\": {\"outlinewidth\": 0, \"ticks\": \"\"}}, \"type\": \"scattergeo\"}], \"scattergl\": [{\"marker\": {\"colorbar\": {\"outlinewidth\": 0, \"ticks\": \"\"}}, \"type\": \"scattergl\"}], \"scattermapbox\": [{\"marker\": {\"colorbar\": {\"outlinewidth\": 0, \"ticks\": \"\"}}, \"type\": \"scattermapbox\"}], \"scatterpolar\": [{\"marker\": {\"colorbar\": {\"outlinewidth\": 0, \"ticks\": \"\"}}, \"type\": \"scatterpolar\"}], \"scatterpolargl\": [{\"marker\": {\"colorbar\": {\"outlinewidth\": 0, \"ticks\": \"\"}}, \"type\": \"scatterpolargl\"}], \"scatterternary\": [{\"marker\": {\"colorbar\": {\"outlinewidth\": 0, \"ticks\": \"\"}}, \"type\": \"scatterternary\"}], \"surface\": [{\"colorbar\": {\"outlinewidth\": 0, \"ticks\": \"\"}, \"colorscale\": [[0.0, \"#0d0887\"], [0.1111111111111111, \"#46039f\"], [0.2222222222222222, \"#7201a8\"], [0.3333333333333333, \"#9c179e\"], [0.4444444444444444, \"#bd3786\"], [0.5555555555555556, \"#d8576b\"], [0.6666666666666666, \"#ed7953\"], [0.7777777777777778, \"#fb9f3a\"], [0.8888888888888888, \"#fdca26\"], [1.0, \"#f0f921\"]], \"type\": \"surface\"}], \"table\": [{\"cells\": {\"fill\": {\"color\": \"#EBF0F8\"}, \"line\": {\"color\": \"white\"}}, \"header\": {\"fill\": {\"color\": \"#C8D4E3\"}, \"line\": {\"color\": \"white\"}}, \"type\": \"table\"}]}, \"layout\": {\"annotationdefaults\": {\"arrowcolor\": \"#2a3f5f\", \"arrowhead\": 0, \"arrowwidth\": 1}, \"coloraxis\": {\"colorbar\": {\"outlinewidth\": 0, \"ticks\": \"\"}}, \"colorscale\": {\"diverging\": [[0, \"#8e0152\"], [0.1, \"#c51b7d\"], [0.2, \"#de77ae\"], [0.3, \"#f1b6da\"], [0.4, \"#fde0ef\"], [0.5, \"#f7f7f7\"], [0.6, \"#e6f5d0\"], [0.7, \"#b8e186\"], [0.8, \"#7fbc41\"], [0.9, \"#4d9221\"], [1, \"#276419\"]], \"sequential\": [[0.0, \"#0d0887\"], [0.1111111111111111, \"#46039f\"], [0.2222222222222222, \"#7201a8\"], [0.3333333333333333, \"#9c179e\"], [0.4444444444444444, \"#bd3786\"], [0.5555555555555556, \"#d8576b\"], [0.6666666666666666, \"#ed7953\"], [0.7777777777777778, \"#fb9f3a\"], [0.8888888888888888, \"#fdca26\"], [1.0, \"#f0f921\"]], \"sequentialminus\": [[0.0, \"#0d0887\"], [0.1111111111111111, \"#46039f\"], [0.2222222222222222, \"#7201a8\"], [0.3333333333333333, \"#9c179e\"], [0.4444444444444444, \"#bd3786\"], [0.5555555555555556, \"#d8576b\"], [0.6666666666666666, \"#ed7953\"], [0.7777777777777778, \"#fb9f3a\"], [0.8888888888888888, \"#fdca26\"], [1.0, \"#f0f921\"]]}, \"colorway\": [\"#636efa\", \"#EF553B\", \"#00cc96\", \"#ab63fa\", \"#FFA15A\", \"#19d3f3\", \"#FF6692\", \"#B6E880\", \"#FF97FF\", \"#FECB52\"], \"font\": {\"color\": \"#2a3f5f\"}, \"geo\": {\"bgcolor\": \"white\", \"lakecolor\": \"white\", \"landcolor\": \"#E5ECF6\", \"showlakes\": true, \"showland\": true, \"subunitcolor\": \"white\"}, \"hoverlabel\": {\"align\": \"left\"}, \"hovermode\": \"closest\", \"mapbox\": {\"style\": \"light\"}, \"paper_bgcolor\": \"white\", \"plot_bgcolor\": \"#E5ECF6\", \"polar\": {\"angularaxis\": {\"gridcolor\": \"white\", \"linecolor\": \"white\", \"ticks\": \"\"}, \"bgcolor\": \"#E5ECF6\", \"radialaxis\": {\"gridcolor\": \"white\", \"linecolor\": \"white\", \"ticks\": \"\"}}, \"scene\": {\"xaxis\": {\"backgroundcolor\": \"#E5ECF6\", \"gridcolor\": \"white\", \"gridwidth\": 2, \"linecolor\": \"white\", \"showbackground\": true, \"ticks\": \"\", \"zerolinecolor\": \"white\"}, \"yaxis\": {\"backgroundcolor\": \"#E5ECF6\", \"gridcolor\": \"white\", \"gridwidth\": 2, \"linecolor\": \"white\", \"showbackground\": true, \"ticks\": \"\", \"zerolinecolor\": \"white\"}, \"zaxis\": {\"backgroundcolor\": \"#E5ECF6\", \"gridcolor\": \"white\", \"gridwidth\": 2, \"linecolor\": \"white\", \"showbackground\": true, \"ticks\": \"\", \"zerolinecolor\": \"white\"}}, \"shapedefaults\": {\"line\": {\"color\": \"#2a3f5f\"}}, \"ternary\": {\"aaxis\": {\"gridcolor\": \"white\", \"linecolor\": \"white\", \"ticks\": \"\"}, \"baxis\": {\"gridcolor\": \"white\", \"linecolor\": \"white\", \"ticks\": \"\"}, \"bgcolor\": \"#E5ECF6\", \"caxis\": {\"gridcolor\": \"white\", \"linecolor\": \"white\", \"ticks\": \"\"}}, \"title\": {\"x\": 0.05}, \"xaxis\": {\"automargin\": true, \"gridcolor\": \"white\", \"linecolor\": \"white\", \"ticks\": \"\", \"title\": {\"standoff\": 15}, \"zerolinecolor\": \"white\", \"zerolinewidth\": 2}, \"yaxis\": {\"automargin\": true, \"gridcolor\": \"white\", \"linecolor\": \"white\", \"ticks\": \"\", \"title\": {\"standoff\": 15}, \"zerolinecolor\": \"white\", \"zerolinewidth\": 2}}}, \"xaxis\": {\"anchor\": \"y\", \"domain\": [0.0, 1.0], \"title\": {\"text\": \"Positive_Words\"}}, \"yaxis\": {\"anchor\": \"x\", \"domain\": [0.0, 1.0], \"title\": {\"text\": \"Positive_Count\"}}},\n",
              "                        {\"responsive\": true}\n",
              "                    ).then(function(){\n",
              "                            \n",
              "var gd = document.getElementById('350e250e-f524-477e-96db-e47c4f6afcf3');\n",
              "var x = new MutationObserver(function (mutations, observer) {{\n",
              "        var display = window.getComputedStyle(gd).display;\n",
              "        if (!display || display === 'none') {{\n",
              "            console.log([gd, 'removed!']);\n",
              "            Plotly.purge(gd);\n",
              "            observer.disconnect();\n",
              "        }}\n",
              "}});\n",
              "\n",
              "// Listen for the removal of the full notebook cells\n",
              "var notebookContainer = gd.closest('#notebook-container');\n",
              "if (notebookContainer) {{\n",
              "    x.observe(notebookContainer, {childList: true});\n",
              "}}\n",
              "\n",
              "// Listen for the clearing of the current output cell\n",
              "var outputEl = gd.closest('.output');\n",
              "if (outputEl) {{\n",
              "    x.observe(outputEl, {childList: true});\n",
              "}}\n",
              "\n",
              "                        })\n",
              "                };\n",
              "                \n",
              "            </script>\n",
              "        </div>\n",
              "</body>\n",
              "</html>"
            ]
          },
          "metadata": {
            "tags": []
          }
        }
      ]
    },
    {
      "cell_type": "code",
      "metadata": {
        "id": "esl-5BTL6WIE",
        "colab_type": "code",
        "outputId": "1c692997-3ef9-4a2d-c73e-7b0247eebab8",
        "colab": {
          "base_uri": "https://localhost:8080/",
          "height": 542
        }
      },
      "source": [
        "#Normal histogram of negative words\n",
        "fig = px.bar(z, x=\"Negative_Words\", y=\"Negative_Count\",\n",
        "            hover_name=\"Negative_Words\",color= 'Negative_Count')\n",
        "fig.show()"
      ],
      "execution_count": 0,
      "outputs": [
        {
          "output_type": "display_data",
          "data": {
            "text/html": [
              "<html>\n",
              "<head><meta charset=\"utf-8\" /></head>\n",
              "<body>\n",
              "    <div>\n",
              "            <script src=\"https://cdnjs.cloudflare.com/ajax/libs/mathjax/2.7.5/MathJax.js?config=TeX-AMS-MML_SVG\"></script><script type=\"text/javascript\">if (window.MathJax) {MathJax.Hub.Config({SVG: {font: \"STIX-Web\"}});}</script>\n",
              "                <script type=\"text/javascript\">window.PlotlyConfig = {MathJaxConfig: 'local'};</script>\n",
              "        <script src=\"https://cdn.plot.ly/plotly-latest.min.js\"></script>    \n",
              "            <div id=\"29321869-8213-409d-85b4-529411362b9f\" class=\"plotly-graph-div\" style=\"height:525px; width:100%;\"></div>\n",
              "            <script type=\"text/javascript\">\n",
              "                \n",
              "                    window.PLOTLYENV=window.PLOTLYENV || {};\n",
              "                    \n",
              "                if (document.getElementById(\"29321869-8213-409d-85b4-529411362b9f\")) {\n",
              "                    Plotly.newPlot(\n",
              "                        '29321869-8213-409d-85b4-529411362b9f',\n",
              "                        [{\"alignmentgroup\": \"True\", \"hoverlabel\": {\"namelength\": 0}, \"hovertemplate\": \"<b>%{hovertext}</b><br><br>Negative_Words=%{x}<br>Negative_Count=%{marker.color}\", \"hovertext\": [\"trump\", \"polit\", \"allahsoil\", \"liber\", \"libtard\", \"sjw\", \"retweet\", \"black\", \"miamia\", \"hate\", \"bigot\", \"tampa\", \"obama\", \"blm\", \"hispan\", \"brexit\", \"sikh\", \"templ\", \"calgary\", \"wso\"], \"legendgroup\": \"\", \"marker\": {\"color\": [133, 94, 92, 79, 77, 75, 57, 46, 38, 36, 35, 32, 31, 28, 28, 27, 27, 26, 26, 26], \"coloraxis\": \"coloraxis\"}, \"name\": \"\", \"offsetgroup\": \"\", \"orientation\": \"v\", \"showlegend\": false, \"textposition\": \"auto\", \"type\": \"bar\", \"x\": [\"trump\", \"polit\", \"allahsoil\", \"liber\", \"libtard\", \"sjw\", \"retweet\", \"black\", \"miamia\", \"hate\", \"bigot\", \"tampa\", \"obama\", \"blm\", \"hispan\", \"brexit\", \"sikh\", \"templ\", \"calgary\", \"wso\"], \"xaxis\": \"x\", \"y\": [133, 94, 92, 79, 77, 75, 57, 46, 38, 36, 35, 32, 31, 28, 28, 27, 27, 26, 26, 26], \"yaxis\": \"y\"}],\n",
              "                        {\"barmode\": \"relative\", \"coloraxis\": {\"colorbar\": {\"title\": {\"text\": \"Negative_Count\"}}, \"colorscale\": [[0.0, \"#0d0887\"], [0.1111111111111111, \"#46039f\"], [0.2222222222222222, \"#7201a8\"], [0.3333333333333333, \"#9c179e\"], [0.4444444444444444, \"#bd3786\"], [0.5555555555555556, \"#d8576b\"], [0.6666666666666666, \"#ed7953\"], [0.7777777777777778, \"#fb9f3a\"], [0.8888888888888888, \"#fdca26\"], [1.0, \"#f0f921\"]]}, \"legend\": {\"tracegroupgap\": 0}, \"margin\": {\"t\": 60}, \"template\": {\"data\": {\"bar\": [{\"error_x\": {\"color\": \"#2a3f5f\"}, \"error_y\": {\"color\": \"#2a3f5f\"}, \"marker\": {\"line\": {\"color\": \"#E5ECF6\", \"width\": 0.5}}, \"type\": \"bar\"}], \"barpolar\": [{\"marker\": {\"line\": {\"color\": \"#E5ECF6\", \"width\": 0.5}}, \"type\": \"barpolar\"}], \"carpet\": [{\"aaxis\": {\"endlinecolor\": \"#2a3f5f\", \"gridcolor\": \"white\", \"linecolor\": \"white\", \"minorgridcolor\": \"white\", \"startlinecolor\": \"#2a3f5f\"}, \"baxis\": {\"endlinecolor\": \"#2a3f5f\", \"gridcolor\": \"white\", \"linecolor\": \"white\", \"minorgridcolor\": \"white\", \"startlinecolor\": \"#2a3f5f\"}, \"type\": \"carpet\"}], \"choropleth\": [{\"colorbar\": {\"outlinewidth\": 0, \"ticks\": \"\"}, \"type\": \"choropleth\"}], \"contour\": [{\"colorbar\": {\"outlinewidth\": 0, \"ticks\": \"\"}, \"colorscale\": [[0.0, \"#0d0887\"], [0.1111111111111111, \"#46039f\"], [0.2222222222222222, \"#7201a8\"], [0.3333333333333333, \"#9c179e\"], [0.4444444444444444, \"#bd3786\"], [0.5555555555555556, \"#d8576b\"], [0.6666666666666666, \"#ed7953\"], [0.7777777777777778, \"#fb9f3a\"], [0.8888888888888888, \"#fdca26\"], [1.0, \"#f0f921\"]], \"type\": \"contour\"}], \"contourcarpet\": [{\"colorbar\": {\"outlinewidth\": 0, \"ticks\": \"\"}, \"type\": \"contourcarpet\"}], \"heatmap\": [{\"colorbar\": {\"outlinewidth\": 0, \"ticks\": \"\"}, \"colorscale\": [[0.0, \"#0d0887\"], [0.1111111111111111, \"#46039f\"], [0.2222222222222222, \"#7201a8\"], [0.3333333333333333, \"#9c179e\"], [0.4444444444444444, \"#bd3786\"], [0.5555555555555556, \"#d8576b\"], [0.6666666666666666, \"#ed7953\"], [0.7777777777777778, \"#fb9f3a\"], [0.8888888888888888, \"#fdca26\"], [1.0, \"#f0f921\"]], \"type\": \"heatmap\"}], \"heatmapgl\": [{\"colorbar\": {\"outlinewidth\": 0, \"ticks\": \"\"}, \"colorscale\": [[0.0, \"#0d0887\"], [0.1111111111111111, \"#46039f\"], [0.2222222222222222, \"#7201a8\"], [0.3333333333333333, \"#9c179e\"], [0.4444444444444444, \"#bd3786\"], [0.5555555555555556, \"#d8576b\"], [0.6666666666666666, \"#ed7953\"], [0.7777777777777778, \"#fb9f3a\"], [0.8888888888888888, \"#fdca26\"], [1.0, \"#f0f921\"]], \"type\": \"heatmapgl\"}], \"histogram\": [{\"marker\": {\"colorbar\": {\"outlinewidth\": 0, \"ticks\": \"\"}}, \"type\": \"histogram\"}], \"histogram2d\": [{\"colorbar\": {\"outlinewidth\": 0, \"ticks\": \"\"}, \"colorscale\": [[0.0, \"#0d0887\"], [0.1111111111111111, \"#46039f\"], [0.2222222222222222, \"#7201a8\"], [0.3333333333333333, \"#9c179e\"], [0.4444444444444444, \"#bd3786\"], [0.5555555555555556, \"#d8576b\"], [0.6666666666666666, \"#ed7953\"], [0.7777777777777778, \"#fb9f3a\"], [0.8888888888888888, \"#fdca26\"], [1.0, \"#f0f921\"]], \"type\": \"histogram2d\"}], \"histogram2dcontour\": [{\"colorbar\": {\"outlinewidth\": 0, \"ticks\": \"\"}, \"colorscale\": [[0.0, \"#0d0887\"], [0.1111111111111111, \"#46039f\"], [0.2222222222222222, \"#7201a8\"], [0.3333333333333333, \"#9c179e\"], [0.4444444444444444, \"#bd3786\"], [0.5555555555555556, \"#d8576b\"], [0.6666666666666666, \"#ed7953\"], [0.7777777777777778, \"#fb9f3a\"], [0.8888888888888888, \"#fdca26\"], [1.0, \"#f0f921\"]], \"type\": \"histogram2dcontour\"}], \"mesh3d\": [{\"colorbar\": {\"outlinewidth\": 0, \"ticks\": \"\"}, \"type\": \"mesh3d\"}], \"parcoords\": [{\"line\": {\"colorbar\": {\"outlinewidth\": 0, \"ticks\": \"\"}}, \"type\": \"parcoords\"}], \"pie\": [{\"automargin\": true, \"type\": \"pie\"}], \"scatter\": [{\"marker\": {\"colorbar\": {\"outlinewidth\": 0, \"ticks\": \"\"}}, \"type\": \"scatter\"}], \"scatter3d\": [{\"line\": {\"colorbar\": {\"outlinewidth\": 0, \"ticks\": \"\"}}, \"marker\": {\"colorbar\": {\"outlinewidth\": 0, \"ticks\": \"\"}}, \"type\": \"scatter3d\"}], \"scattercarpet\": [{\"marker\": {\"colorbar\": {\"outlinewidth\": 0, \"ticks\": \"\"}}, \"type\": \"scattercarpet\"}], \"scattergeo\": [{\"marker\": {\"colorbar\": {\"outlinewidth\": 0, \"ticks\": \"\"}}, \"type\": \"scattergeo\"}], \"scattergl\": [{\"marker\": {\"colorbar\": {\"outlinewidth\": 0, \"ticks\": \"\"}}, \"type\": \"scattergl\"}], \"scattermapbox\": [{\"marker\": {\"colorbar\": {\"outlinewidth\": 0, \"ticks\": \"\"}}, \"type\": \"scattermapbox\"}], \"scatterpolar\": [{\"marker\": {\"colorbar\": {\"outlinewidth\": 0, \"ticks\": \"\"}}, \"type\": \"scatterpolar\"}], \"scatterpolargl\": [{\"marker\": {\"colorbar\": {\"outlinewidth\": 0, \"ticks\": \"\"}}, \"type\": \"scatterpolargl\"}], \"scatterternary\": [{\"marker\": {\"colorbar\": {\"outlinewidth\": 0, \"ticks\": \"\"}}, \"type\": \"scatterternary\"}], \"surface\": [{\"colorbar\": {\"outlinewidth\": 0, \"ticks\": \"\"}, \"colorscale\": [[0.0, \"#0d0887\"], [0.1111111111111111, \"#46039f\"], [0.2222222222222222, \"#7201a8\"], [0.3333333333333333, \"#9c179e\"], [0.4444444444444444, \"#bd3786\"], [0.5555555555555556, \"#d8576b\"], [0.6666666666666666, \"#ed7953\"], [0.7777777777777778, \"#fb9f3a\"], [0.8888888888888888, \"#fdca26\"], [1.0, \"#f0f921\"]], \"type\": \"surface\"}], \"table\": [{\"cells\": {\"fill\": {\"color\": \"#EBF0F8\"}, \"line\": {\"color\": \"white\"}}, \"header\": {\"fill\": {\"color\": \"#C8D4E3\"}, \"line\": {\"color\": \"white\"}}, \"type\": \"table\"}]}, \"layout\": {\"annotationdefaults\": {\"arrowcolor\": \"#2a3f5f\", \"arrowhead\": 0, \"arrowwidth\": 1}, \"coloraxis\": {\"colorbar\": {\"outlinewidth\": 0, \"ticks\": \"\"}}, \"colorscale\": {\"diverging\": [[0, \"#8e0152\"], [0.1, \"#c51b7d\"], [0.2, \"#de77ae\"], [0.3, \"#f1b6da\"], [0.4, \"#fde0ef\"], [0.5, \"#f7f7f7\"], [0.6, \"#e6f5d0\"], [0.7, \"#b8e186\"], [0.8, \"#7fbc41\"], [0.9, \"#4d9221\"], [1, \"#276419\"]], \"sequential\": [[0.0, \"#0d0887\"], [0.1111111111111111, \"#46039f\"], [0.2222222222222222, \"#7201a8\"], [0.3333333333333333, \"#9c179e\"], [0.4444444444444444, \"#bd3786\"], [0.5555555555555556, \"#d8576b\"], [0.6666666666666666, \"#ed7953\"], [0.7777777777777778, \"#fb9f3a\"], [0.8888888888888888, \"#fdca26\"], [1.0, \"#f0f921\"]], \"sequentialminus\": [[0.0, \"#0d0887\"], [0.1111111111111111, \"#46039f\"], [0.2222222222222222, \"#7201a8\"], [0.3333333333333333, \"#9c179e\"], [0.4444444444444444, \"#bd3786\"], [0.5555555555555556, \"#d8576b\"], [0.6666666666666666, \"#ed7953\"], [0.7777777777777778, \"#fb9f3a\"], [0.8888888888888888, \"#fdca26\"], [1.0, \"#f0f921\"]]}, \"colorway\": [\"#636efa\", \"#EF553B\", \"#00cc96\", \"#ab63fa\", \"#FFA15A\", \"#19d3f3\", \"#FF6692\", \"#B6E880\", \"#FF97FF\", \"#FECB52\"], \"font\": {\"color\": \"#2a3f5f\"}, \"geo\": {\"bgcolor\": \"white\", \"lakecolor\": \"white\", \"landcolor\": \"#E5ECF6\", \"showlakes\": true, \"showland\": true, \"subunitcolor\": \"white\"}, \"hoverlabel\": {\"align\": \"left\"}, \"hovermode\": \"closest\", \"mapbox\": {\"style\": \"light\"}, \"paper_bgcolor\": \"white\", \"plot_bgcolor\": \"#E5ECF6\", \"polar\": {\"angularaxis\": {\"gridcolor\": \"white\", \"linecolor\": \"white\", \"ticks\": \"\"}, \"bgcolor\": \"#E5ECF6\", \"radialaxis\": {\"gridcolor\": \"white\", \"linecolor\": \"white\", \"ticks\": \"\"}}, \"scene\": {\"xaxis\": {\"backgroundcolor\": \"#E5ECF6\", \"gridcolor\": \"white\", \"gridwidth\": 2, \"linecolor\": \"white\", \"showbackground\": true, \"ticks\": \"\", \"zerolinecolor\": \"white\"}, \"yaxis\": {\"backgroundcolor\": \"#E5ECF6\", \"gridcolor\": \"white\", \"gridwidth\": 2, \"linecolor\": \"white\", \"showbackground\": true, \"ticks\": \"\", \"zerolinecolor\": \"white\"}, \"zaxis\": {\"backgroundcolor\": \"#E5ECF6\", \"gridcolor\": \"white\", \"gridwidth\": 2, \"linecolor\": \"white\", \"showbackground\": true, \"ticks\": \"\", \"zerolinecolor\": \"white\"}}, \"shapedefaults\": {\"line\": {\"color\": \"#2a3f5f\"}}, \"ternary\": {\"aaxis\": {\"gridcolor\": \"white\", \"linecolor\": \"white\", \"ticks\": \"\"}, \"baxis\": {\"gridcolor\": \"white\", \"linecolor\": \"white\", \"ticks\": \"\"}, \"bgcolor\": \"#E5ECF6\", \"caxis\": {\"gridcolor\": \"white\", \"linecolor\": \"white\", \"ticks\": \"\"}}, \"title\": {\"x\": 0.05}, \"xaxis\": {\"automargin\": true, \"gridcolor\": \"white\", \"linecolor\": \"white\", \"ticks\": \"\", \"title\": {\"standoff\": 15}, \"zerolinecolor\": \"white\", \"zerolinewidth\": 2}, \"yaxis\": {\"automargin\": true, \"gridcolor\": \"white\", \"linecolor\": \"white\", \"ticks\": \"\", \"title\": {\"standoff\": 15}, \"zerolinecolor\": \"white\", \"zerolinewidth\": 2}}}, \"xaxis\": {\"anchor\": \"y\", \"domain\": [0.0, 1.0], \"title\": {\"text\": \"Negative_Words\"}}, \"yaxis\": {\"anchor\": \"x\", \"domain\": [0.0, 1.0], \"title\": {\"text\": \"Negative_Count\"}}},\n",
              "                        {\"responsive\": true}\n",
              "                    ).then(function(){\n",
              "                            \n",
              "var gd = document.getElementById('29321869-8213-409d-85b4-529411362b9f');\n",
              "var x = new MutationObserver(function (mutations, observer) {{\n",
              "        var display = window.getComputedStyle(gd).display;\n",
              "        if (!display || display === 'none') {{\n",
              "            console.log([gd, 'removed!']);\n",
              "            Plotly.purge(gd);\n",
              "            observer.disconnect();\n",
              "        }}\n",
              "}});\n",
              "\n",
              "// Listen for the removal of the full notebook cells\n",
              "var notebookContainer = gd.closest('#notebook-container');\n",
              "if (notebookContainer) {{\n",
              "    x.observe(notebookContainer, {childList: true});\n",
              "}}\n",
              "\n",
              "// Listen for the clearing of the current output cell\n",
              "var outputEl = gd.closest('.output');\n",
              "if (outputEl) {{\n",
              "    x.observe(outputEl, {childList: true});\n",
              "}}\n",
              "\n",
              "                        })\n",
              "                };\n",
              "                \n",
              "            </script>\n",
              "        </div>\n",
              "</body>\n",
              "</html>"
            ]
          },
          "metadata": {
            "tags": []
          }
        }
      ]
    },
    {
      "cell_type": "code",
      "metadata": {
        "id": "XLkMbRpd6YnT",
        "colab_type": "code",
        "outputId": "5bdd319a-9926-428e-d7a6-60b5b169eaa7",
        "colab": {
          "base_uri": "https://localhost:8080/",
          "height": 204
        }
      },
      "source": [
        "data_frame.head()"
      ],
      "execution_count": 0,
      "outputs": [
        {
          "output_type": "execute_result",
          "data": {
            "text/html": [
              "<div>\n",
              "<style scoped>\n",
              "    .dataframe tbody tr th:only-of-type {\n",
              "        vertical-align: middle;\n",
              "    }\n",
              "\n",
              "    .dataframe tbody tr th {\n",
              "        vertical-align: top;\n",
              "    }\n",
              "\n",
              "    .dataframe thead th {\n",
              "        text-align: right;\n",
              "    }\n",
              "</style>\n",
              "<table border=\"1\" class=\"dataframe\">\n",
              "  <thead>\n",
              "    <tr style=\"text-align: right;\">\n",
              "      <th></th>\n",
              "      <th>id</th>\n",
              "      <th>label</th>\n",
              "      <th>tweet</th>\n",
              "      <th>clean_tweet</th>\n",
              "      <th>Hash words</th>\n",
              "    </tr>\n",
              "  </thead>\n",
              "  <tbody>\n",
              "    <tr>\n",
              "      <th>0</th>\n",
              "      <td>1</td>\n",
              "      <td>0</td>\n",
              "      <td>@user when a father is dysfunctional and is s...</td>\n",
              "      <td>father dysfunct selfish drag kid dysfunction. ...</td>\n",
              "      <td>#run</td>\n",
              "    </tr>\n",
              "    <tr>\n",
              "      <th>1</th>\n",
              "      <td>2</td>\n",
              "      <td>0</td>\n",
              "      <td>@user @user thanks for #lyft credit i can't us...</td>\n",
              "      <td>thank #lyft credit can't use caus offer wheelc...</td>\n",
              "      <td>#lyft #disapointed #getthanked</td>\n",
              "    </tr>\n",
              "    <tr>\n",
              "      <th>2</th>\n",
              "      <td>3</td>\n",
              "      <td>0</td>\n",
              "      <td>bihday your majesty</td>\n",
              "      <td>bihday majesti</td>\n",
              "      <td>No hashtags</td>\n",
              "    </tr>\n",
              "    <tr>\n",
              "      <th>3</th>\n",
              "      <td>4</td>\n",
              "      <td>0</td>\n",
              "      <td>#model   i love u take with u all the time in ...</td>\n",
              "      <td>#model love u take u time urd+-!!! dddd d|d|d|</td>\n",
              "      <td>#model</td>\n",
              "    </tr>\n",
              "    <tr>\n",
              "      <th>4</th>\n",
              "      <td>5</td>\n",
              "      <td>0</td>\n",
              "      <td>factsguide: society now    #motivation</td>\n",
              "      <td>factsguide: societi #motiv</td>\n",
              "      <td>#motivation</td>\n",
              "    </tr>\n",
              "  </tbody>\n",
              "</table>\n",
              "</div>"
            ],
            "text/plain": [
              "   id  ...                      Hash words\n",
              "0   1  ...                            #run\n",
              "1   2  ...  #lyft #disapointed #getthanked\n",
              "2   3  ...                     No hashtags\n",
              "3   4  ...                          #model\n",
              "4   5  ...                     #motivation\n",
              "\n",
              "[5 rows x 5 columns]"
            ]
          },
          "metadata": {
            "tags": []
          },
          "execution_count": 104
        }
      ]
    },
    {
      "cell_type": "code",
      "metadata": {
        "id": "3QJCJKOy7-ty",
        "colab_type": "code",
        "colab": {}
      },
      "source": [
        "#Techniques to convert the tweets into Bag-of-Words, TF-IDF, and Word Embeddings\n",
        "#Building various classifiers: -\n",
        "#TF-IDF approach\n",
        "from sklearn.feature_extraction.text import TfidfVectorizer\n",
        "tfidf_vectorizer = TfidfVectorizer(max_df=0.90, min_df=2,stop_words='english')\n",
        "# TF-IDF feature matrix\n",
        "X1 = tfidf_vectorizer.fit_transform(corpus).toarray()\n",
        "Y1 = df.loc[:,'label'].values"
      ],
      "execution_count": 0,
      "outputs": []
    },
    {
      "cell_type": "code",
      "metadata": {
        "id": "wZYXpX6G87K5",
        "colab_type": "code",
        "outputId": "03d347c5-4906-4b83-c11c-e72a89419323",
        "colab": {
          "base_uri": "https://localhost:8080/",
          "height": 34
        }
      },
      "source": [
        "X1\n",
        "X1.size"
      ],
      "execution_count": 0,
      "outputs": [
        {
          "output_type": "execute_result",
          "data": {
            "text/plain": [
              "437687628"
            ]
          },
          "metadata": {
            "tags": []
          },
          "execution_count": 106
        }
      ]
    },
    {
      "cell_type": "code",
      "metadata": {
        "id": "Ku-DaSRv89Rx",
        "colab_type": "code",
        "outputId": "013fc64a-061c-4a8d-cc01-c45556d73842",
        "colab": {
          "base_uri": "https://localhost:8080/",
          "height": 34
        }
      },
      "source": [
        "Y1.size"
      ],
      "execution_count": 0,
      "outputs": [
        {
          "output_type": "execute_result",
          "data": {
            "text/plain": [
              "31962"
            ]
          },
          "metadata": {
            "tags": []
          },
          "execution_count": 107
        }
      ]
    },
    {
      "cell_type": "code",
      "metadata": {
        "id": "OicyyQzBAIXL",
        "colab_type": "code",
        "colab": {}
      },
      "source": [
        ""
      ],
      "execution_count": 0,
      "outputs": []
    },
    {
      "cell_type": "code",
      "metadata": {
        "id": "Gh-Cjy3ID0rz",
        "colab_type": "code",
        "colab": {}
      },
      "source": [
        "from sklearn.model_selection import train_test_split\n",
        "X1_train, X1_test, Y1_train, Y1_test = train_test_split(data_frame['clean_tweet'], data_frame['label'], test_size = 0.3, random_state=0, shuffle = True, stratify=data_frame['label'])\n",
        "vectorizer = TfidfVectorizer()\n",
        "X1_train_vect = vectorizer.fit_transform(X1_train)\n",
        "Y1 = df.loc[:,'label'].values"
      ],
      "execution_count": 0,
      "outputs": []
    },
    {
      "cell_type": "code",
      "metadata": {
        "id": "EeIP6HSW9Asd",
        "colab_type": "code",
        "outputId": "376e7205-c8f2-48cd-b27e-b564bcf2e45d",
        "colab": {
          "base_uri": "https://localhost:8080/",
          "height": 238
        }
      },
      "source": [
        "#Random Forest using pipelines\n",
        "from sklearn.pipeline import Pipeline\n",
        "from sklearn.metrics import classification_report\n",
        "from sklearn.metrics import confusion_matrix\n",
        "from sklearn.ensemble import RandomForestClassifier\n",
        "rf = Pipeline([('tfidf', TfidfVectorizer()), ('rf', RandomForestClassifier())])\n",
        "rf.fit(X1_train, Y1_train)\n",
        "y_pred = rf.predict(X1_test)\n",
        "print(pd.crosstab(Y1_test,y_pred,rownames=['Actual'],colnames=['Predicted']))\n",
        "print(classification_report(Y1_test, y_pred))"
      ],
      "execution_count": 0,
      "outputs": [
        {
          "output_type": "stream",
          "text": [
            "Predicted     0    1\n",
            "Actual              \n",
            "0          8889   27\n",
            "1           343  330\n",
            "              precision    recall  f1-score   support\n",
            "\n",
            "           0       0.96      1.00      0.98      8916\n",
            "           1       0.92      0.49      0.64       673\n",
            "\n",
            "    accuracy                           0.96      9589\n",
            "   macro avg       0.94      0.74      0.81      9589\n",
            "weighted avg       0.96      0.96      0.96      9589\n",
            "\n"
          ],
          "name": "stdout"
        }
      ]
    },
    {
      "cell_type": "code",
      "metadata": {
        "id": "rjgGXvTV9NHw",
        "colab_type": "code",
        "outputId": "2f5c102e-93dc-414b-f4b3-bff7a9fac70e",
        "colab": {
          "base_uri": "https://localhost:8080/",
          "height": 34
        }
      },
      "source": [
        "print(rf.predict([\"\"]))"
      ],
      "execution_count": 0,
      "outputs": [
        {
          "output_type": "stream",
          "text": [
            "[0]\n"
          ],
          "name": "stdout"
        }
      ]
    },
    {
      "cell_type": "code",
      "metadata": {
        "id": "rbnRgubR_IWm",
        "colab_type": "code",
        "outputId": "4ce4a49f-92e6-4455-ba91-d45393c96b9a",
        "colab": {
          "base_uri": "https://localhost:8080/",
          "height": 34
        }
      },
      "source": [
        "print(rf.predict(['lazi day beach mood beach sun summer nj seasidea']))"
      ],
      "execution_count": 0,
      "outputs": [
        {
          "output_type": "stream",
          "text": [
            "[0]\n"
          ],
          "name": "stdout"
        }
      ]
    },
    {
      "cell_type": "code",
      "metadata": {
        "id": "_Xx_wAroF---",
        "colab_type": "code",
        "outputId": "f7d1c690-9208-42a4-da66-50454ca6219e",
        "colab": {
          "base_uri": "https://localhost:8080/",
          "height": 34
        }
      },
      "source": [
        "print(rf.predict(['white girl sex black guy best world sex']))"
      ],
      "execution_count": 0,
      "outputs": [
        {
          "output_type": "stream",
          "text": [
            "[1]\n"
          ],
          "name": "stdout"
        }
      ]
    },
    {
      "cell_type": "code",
      "metadata": {
        "id": "HKJJmzxoGB3q",
        "colab_type": "code",
        "colab": {}
      },
      "source": [
        ""
      ],
      "execution_count": 0,
      "outputs": []
    }
  ]
}