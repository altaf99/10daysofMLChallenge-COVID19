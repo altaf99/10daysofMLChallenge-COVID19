{
  "nbformat": 4,
  "nbformat_minor": 0,
  "metadata": {
    "colab": {
      "name": "COVID-ML",
      "provenance": [],
      "collapsed_sections": []
    },
    "kernelspec": {
      "name": "python3",
      "display_name": "Python 3"
    }
  },
  "cells": [
    {
      "cell_type": "code",
      "metadata": {
        "id": "3Gm3uluAWpEd",
        "colab_type": "code",
        "colab": {}
      },
      "source": [
        "import pandas as pd\n",
        "import io\n",
        "import seaborn as sns\n",
        "import numpy as np\n",
        "import requests\n",
        "import matplotlib.pyplot as plt "
      ],
      "execution_count": 0,
      "outputs": []
    },
    {
      "cell_type": "code",
      "metadata": {
        "id": "8sGhH58QXPK-",
        "colab_type": "code",
        "outputId": "093d5396-b7f0-4a7d-a1cb-fe02b8571ff6",
        "colab": {
          "base_uri": "https://localhost:8080/",
          "height": 255
        }
      },
      "source": [
        "url = \"https://drive.google.com/uc?export=view&id=1REng4UF8QsKR6Miiu-pHF9fAYj0uAtd6\"\n",
        "data = requests.get(url).content\n",
        "ds = pd.read_csv(io.StringIO(data.decode('utf-8')))\n",
        "print(ds)"
      ],
      "execution_count": 0,
      "outputs": [
        {
          "output_type": "stream",
          "text": [
            "    Province/State Country/Region      Lat  ...  3/20/20  3/21/20  3/22/20\n",
            "0              NaN       Thailand  15.0000  ...      322      411      599\n",
            "1              NaN          Japan  36.0000  ...      963     1007     1086\n",
            "2              NaN      Singapore   1.2833  ...      385      432      455\n",
            "3              NaN          Nepal  28.1667  ...        1        1        2\n",
            "4              NaN       Malaysia   2.5000  ...     1030     1183     1306\n",
            "..             ...            ...      ...  ...      ...      ...      ...\n",
            "482            NaN       Dominica  15.4150  ...        0        0        1\n",
            "483            NaN        Grenada  12.1165  ...        0        0        1\n",
            "484            NaN     Mozambique -18.6657  ...        0        0        1\n",
            "485            NaN          Syria  34.8021  ...        0        0        1\n",
            "486            NaN    Timor-Leste  -8.8742  ...        0        0        1\n",
            "\n",
            "[487 rows x 65 columns]\n"
          ],
          "name": "stdout"
        }
      ]
    },
    {
      "cell_type": "code",
      "metadata": {
        "id": "G3Eg5ZvOXadd",
        "colab_type": "code",
        "outputId": "901ce57e-cf98-4109-d745-5c964af90a1f",
        "colab": {
          "base_uri": "https://localhost:8080/",
          "height": 88
        }
      },
      "source": [
        "# print(len(ds)) ===>487\n",
        "zero_dict={}\n",
        "for column in ds.columns[4:]:\n",
        "  count=0\n",
        "  for i in range(len(ds)):\n",
        "    # print(ds[column][i])\n",
        "    if(ds[column][i]==0):\n",
        "      count+=1\n",
        "  zero_dict[column] = count/len(ds)\n",
        "print(zero_dict)\n",
        "print(len(zero_dict))\n",
        "print(min(zero_dict.values()))"
      ],
      "execution_count": 68,
      "outputs": [
        {
          "output_type": "stream",
          "text": [
            "{'3/4/20': 0.6899383983572895, '3/5/20': 0.6652977412731006, '3/6/20': 0.6180698151950719, '3/7/20': 0.5708418891170431, '3/8/20': 0.5133470225872689, '3/9/20': 0.48459958932238195, '3/10/20': 0.6078028747433265, '3/11/20': 0.5790554414784395, '3/12/20': 0.5687885010266941, '3/13/20': 0.5318275154004107, '3/14/20': 0.49691991786447637, '3/15/20': 0.4784394250513347, '3/16/20': 0.46406570841889117, '3/17/20': 0.45585215605749485, '3/18/20': 0.4455852156057495, '3/19/20': 0.433264887063655, '3/20/20': 0.41478439425051333, '3/21/20': 0.40451745379876797, '3/22/20': 0.3942505133470226}\n",
            "19\n",
            "0.3942505133470226\n"
          ],
          "name": "stdout"
        }
      ]
    },
    {
      "cell_type": "code",
      "metadata": {
        "id": "t2gq1UMA06XN",
        "colab_type": "code",
        "colab": {
          "base_uri": "https://localhost:8080/",
          "height": 34
        },
        "outputId": "a4a28d13-8618-47fa-f805-f9c383d44e70"
      },
      "source": [
        "dates=[]\n",
        "for key, value in zero_dict.items():\n",
        "  if(value > 0.60):\n",
        "    dates.append(key)\n",
        "print(dates)"
      ],
      "execution_count": 70,
      "outputs": [
        {
          "output_type": "stream",
          "text": [
            "['3/4/20', '3/5/20', '3/6/20', '3/10/20']\n"
          ],
          "name": "stdout"
        }
      ]
    },
    {
      "cell_type": "code",
      "metadata": {
        "id": "gJ7fkYOgY7E0",
        "colab_type": "code",
        "outputId": "0425c5c9-ea44-4248-a979-1eaecd60b0f6",
        "colab": {
          "base_uri": "https://localhost:8080/",
          "height": 510
        }
      },
      "source": [
        "print(\"Before Removing\")\n",
        "print(ds)\n",
        "# dropping passed columns\n",
        "for key,value in zero_dict.items():\n",
        "  if(value > 0.70):\n",
        "    ds.drop([key], axis = 1, inplace = True)\n",
        "print(ds)\n"
      ],
      "execution_count": 0,
      "outputs": [
        {
          "output_type": "stream",
          "text": [
            "Before Removing\n",
            "    Province/State Country/Region      Lat  ...  3/20/20  3/21/20  3/22/20\n",
            "0              NaN       Thailand  15.0000  ...      322      411      599\n",
            "1              NaN          Japan  36.0000  ...      963     1007     1086\n",
            "2              NaN      Singapore   1.2833  ...      385      432      455\n",
            "3              NaN          Nepal  28.1667  ...        1        1        2\n",
            "4              NaN       Malaysia   2.5000  ...     1030     1183     1306\n",
            "..             ...            ...      ...  ...      ...      ...      ...\n",
            "482            NaN       Dominica  15.4150  ...        0        0        1\n",
            "483            NaN        Grenada  12.1165  ...        0        0        1\n",
            "484            NaN     Mozambique -18.6657  ...        0        0        1\n",
            "485            NaN          Syria  34.8021  ...        0        0        1\n",
            "486            NaN    Timor-Leste  -8.8742  ...        0        0        1\n",
            "\n",
            "[487 rows x 64 columns]\n",
            "    Province/State Country/Region      Lat  ...  3/20/20  3/21/20  3/22/20\n",
            "0              NaN       Thailand  15.0000  ...      322      411      599\n",
            "1              NaN          Japan  36.0000  ...      963     1007     1086\n",
            "2              NaN      Singapore   1.2833  ...      385      432      455\n",
            "3              NaN          Nepal  28.1667  ...        1        1        2\n",
            "4              NaN       Malaysia   2.5000  ...     1030     1183     1306\n",
            "..             ...            ...      ...  ...      ...      ...      ...\n",
            "482            NaN       Dominica  15.4150  ...        0        0        1\n",
            "483            NaN        Grenada  12.1165  ...        0        0        1\n",
            "484            NaN     Mozambique -18.6657  ...        0        0        1\n",
            "485            NaN          Syria  34.8021  ...        0        0        1\n",
            "486            NaN    Timor-Leste  -8.8742  ...        0        0        1\n",
            "\n",
            "[487 rows x 23 columns]\n"
          ],
          "name": "stdout"
        }
      ]
    },
    {
      "cell_type": "code",
      "metadata": {
        "id": "1oBf_iCtmMsh",
        "colab_type": "code",
        "colab": {
          "base_uri": "https://localhost:8080/",
          "height": 54
        },
        "outputId": "8e30f551-9697-42d6-aa03-e76571d55b05"
      },
      "source": [
        "import copy\n",
        "## date =3/12/20\n",
        "countries={}\n",
        "for ind in ds.index: \n",
        "  # print(ds['Country/Region'][ind],ds['3/12/20'][ind])\n",
        "  country = ds['Country/Region'][ind]\n",
        "  cases = ds['3/12/20'][ind]  #on date =3/12/20\n",
        "  countries[country] = countries.get(country, 0) + cases\n",
        "\n",
        "c=copy.deepcopy(countries)\n",
        "for key,value in c.items():\n",
        "  if value<1000:\n",
        "    del countries[key]\n",
        "\n",
        "print(countries)"
      ],
      "execution_count": 62,
      "outputs": [
        {
          "output_type": "stream",
          "text": [
            "{'Germany': 2078, 'Italy': 12462, 'Spain': 2277, 'US': 1663, 'China': 80932, 'Iran': 10075, 'Korea, South': 7869, 'France': 2290}\n"
          ],
          "name": "stdout"
        }
      ]
    },
    {
      "cell_type": "code",
      "metadata": {
        "id": "RUByW4bWthAk",
        "colab_type": "code",
        "colab": {
          "base_uri": "https://localhost:8080/",
          "height": 282
        },
        "outputId": "030e90fb-10df-41a5-d3bf-73ec41824c62"
      },
      "source": [
        "plt.bar(range(len(countries)), list(countries.values()), align='center')\n",
        "plt.xticks(range(len(countries)), list(countries.keys()))\n",
        "# function to show the plot \n",
        "plt.show()\n",
        "plt.savefig('countries.png')"
      ],
      "execution_count": 64,
      "outputs": [
        {
          "output_type": "display_data",
          "data": {
            "image/png": "[encoded data removed]",
            "text/plain": [
              "<Figure size 432x288 with 1 Axes>"
            ]
          },
          "metadata": {
            "tags": []
          }
        },
        {
          "output_type": "display_data",
          "data": {
            "text/plain": [
              "<Figure size 432x288 with 0 Axes>"
            ]
          },
          "metadata": {
            "tags": []
          }
        }
      ]
    },
    {
      "cell_type": "code",
      "metadata": {
        "id": "_3ANhkGHwUnH",
        "colab_type": "code",
        "colab": {
          "base_uri": "https://localhost:8080/",
          "height": 34
        },
        "outputId": "3801c0ad-8201-45da-acdf-5d147dc63d3f"
      },
      "source": [
        "date_cases={}\n",
        "for date in dates:\n",
        "  for ind in ds.index:\n",
        "    cases = ds[date][ind]  #on date =3/12/20\n",
        "    date_cases[date] = date_cases.get(date, 0) + cases\n",
        "print(date_cases)"
      ],
      "execution_count": 71,
      "outputs": [
        {
          "output_type": "stream",
          "text": [
            "{'3/4/20': 95120, '3/5/20': 97882, '3/6/20': 101784, '3/10/20': 118592}\n"
          ],
          "name": "stdout"
        }
      ]
    },
    {
      "cell_type": "code",
      "metadata": {
        "id": "2C5T04VQ21ag",
        "colab_type": "code",
        "colab": {
          "base_uri": "https://localhost:8080/",
          "height": 282
        },
        "outputId": "ae6411ef-173d-4a40-a227-04904aa85d91"
      },
      "source": [
        "plt.bar(range(len(date_cases)), list(date_cases.values()), align='center')\n",
        "plt.xticks(range(len(date_cases)), list(date_cases.keys()))\n",
        "# function to show the plot \n",
        "plt.show()\n",
        "plt.savefig('dates.png')"
      ],
      "execution_count": 72,
      "outputs": [
        {
          "output_type": "display_data",
          "data": {
            "image/png": "[encoded data removed]",
            "text/plain": [
              "<Figure size 432x288 with 1 Axes>"
            ]
          },
          "metadata": {
            "tags": []
          }
        },
        {
          "output_type": "display_data",
          "data": {
            "text/plain": [
              "<Figure size 432x288 with 0 Axes>"
            ]
          },
          "metadata": {
            "tags": []
          }
        }
      ]
    },
    {
      "cell_type": "code",
      "metadata": {
        "id": "AFc0YPnC2-mR",
        "colab_type": "code",
        "colab": {
          "base_uri": "https://localhost:8080/",
          "height": 683
        },
        "outputId": "cde27c78-833b-4b5b-dc67-2dbc1dc6a1fe"
      },
      "source": [
        "!pip install pycountry_convert\n",
        "import pycountry_convert as pc"
      ],
      "execution_count": 75,
      "outputs": [
        {
          "output_type": "stream",
          "text": [
            "Collecting pycountry_convert\n",
            "  Downloading https://files.pythonhosted.org/packages/9b/e7/26c14899a43c34e04a58e3772007afe79dbd64fac15d2fbaeedff24082f2/pycountry_convert-0.7.2-py3-none-any.whl\n",
            "Collecting repoze.lru>=0.7\n",
            "  Downloading https://files.pythonhosted.org/packages/b0/30/6cc0c95f0b59ad4b3b9163bff7cdcf793cc96fac64cf398ff26271f5cf5e/repoze.lru-0.7-py3-none-any.whl\n",
            "Collecting pycountry>=16.11.27.1\n",
            "\u001b[?25l  Downloading https://files.pythonhosted.org/packages/16/b6/154fe93072051d8ce7bf197690957b6d0ac9a21d51c9a1d05bd7c6fdb16f/pycountry-19.8.18.tar.gz (10.0MB)\n",
            "\u001b[K     |████████████████████████████████| 10.0MB 4.3MB/s \n",
            "\u001b[?25hCollecting pprintpp>=0.3.0\n",
            "  Downloading https://files.pythonhosted.org/packages/4e/d1/e4ed95fdd3ef13b78630280d9e9e240aeb65cc7c544ec57106149c3942fb/pprintpp-0.4.0-py2.py3-none-any.whl\n",
            "Requirement already satisfied: pytest>=3.4.0 in /usr/local/lib/python3.6/dist-packages (from pycountry_convert) (3.6.4)\n",
            "Collecting pytest-cov>=2.5.1\n",
            "  Downloading https://files.pythonhosted.org/packages/b9/54/3673ee8be482f81527678ac894276223b9814bb7262e4f730469bb7bf70e/pytest_cov-2.8.1-py2.py3-none-any.whl\n",
            "Requirement already satisfied: wheel>=0.30.0 in /usr/local/lib/python3.6/dist-packages (from pycountry_convert) (0.34.2)\n",
            "Collecting pytest-mock>=1.6.3\n",
            "  Downloading https://files.pythonhosted.org/packages/99/95/d108de3eed0ae29d98c94c918c1245713e7f222dead2d77c24bc4ca7ca0c/pytest_mock-2.0.0-py2.py3-none-any.whl\n",
            "Requirement already satisfied: pluggy<0.8,>=0.5 in /usr/local/lib/python3.6/dist-packages (from pytest>=3.4.0->pycountry_convert) (0.7.1)\n",
            "Requirement already satisfied: atomicwrites>=1.0 in /usr/local/lib/python3.6/dist-packages (from pytest>=3.4.0->pycountry_convert) (1.3.0)\n",
            "Requirement already satisfied: setuptools in /usr/local/lib/python3.6/dist-packages (from pytest>=3.4.0->pycountry_convert) (46.0.0)\n",
            "Requirement already satisfied: attrs>=17.4.0 in /usr/local/lib/python3.6/dist-packages (from pytest>=3.4.0->pycountry_convert) (19.3.0)\n",
            "Requirement already satisfied: py>=1.5.0 in /usr/local/lib/python3.6/dist-packages (from pytest>=3.4.0->pycountry_convert) (1.8.1)\n",
            "Requirement already satisfied: more-itertools>=4.0.0 in /usr/local/lib/python3.6/dist-packages (from pytest>=3.4.0->pycountry_convert) (8.2.0)\n",
            "Requirement already satisfied: six>=1.10.0 in /usr/local/lib/python3.6/dist-packages (from pytest>=3.4.0->pycountry_convert) (1.12.0)\n",
            "Collecting coverage>=4.4\n",
            "\u001b[?25l  Downloading https://files.pythonhosted.org/packages/ea/8a/b190b4cafb8d94c518efb22f561326b5b7e045f13133ec2d482fce395dd0/coverage-5.0.4-cp36-cp36m-manylinux1_x86_64.whl (227kB)\n",
            "\u001b[K     |████████████████████████████████| 235kB 48.2MB/s \n",
            "\u001b[?25hBuilding wheels for collected packages: pycountry\n",
            "  Building wheel for pycountry (setup.py) ... \u001b[?25l\u001b[?25hdone\n",
            "  Created wheel for pycountry: filename=pycountry-19.8.18-py2.py3-none-any.whl size=10627361 sha256=5c075e26fdbd1d9ccfb09e44f3b396789b96950f181a2dbb834d8a5932037ab3\n",
            "  Stored in directory: /root/.cache/pip/wheels/a2/98/bf/f0fa1c6bf8cf2cbdb750d583f84be51c2cd8272460b8b36bd3\n",
            "Successfully built pycountry\n",
            "\u001b[31mERROR: datascience 0.10.6 has requirement coverage==3.7.1, but you'll have coverage 5.0.4 which is incompatible.\u001b[0m\n",
            "\u001b[31mERROR: datascience 0.10.6 has requirement folium==0.2.1, but you'll have folium 0.8.3 which is incompatible.\u001b[0m\n",
            "\u001b[31mERROR: coveralls 0.5 has requirement coverage<3.999,>=3.6, but you'll have coverage 5.0.4 which is incompatible.\u001b[0m\n",
            "Installing collected packages: repoze.lru, pycountry, pprintpp, coverage, pytest-cov, pytest-mock, pycountry-convert\n",
            "  Found existing installation: coverage 3.7.1\n",
            "    Uninstalling coverage-3.7.1:\n",
            "      Successfully uninstalled coverage-3.7.1\n",
            "Successfully installed coverage-5.0.4 pprintpp-0.4.0 pycountry-19.8.18 pycountry-convert-0.7.2 pytest-cov-2.8.1 pytest-mock-2.0.0 repoze.lru-0.7\n"
          ],
          "name": "stdout"
        }
      ]
    },
    {
      "cell_type": "code",
      "metadata": {
        "id": "NwV_pB-L4tqz",
        "colab_type": "code",
        "colab": {
          "base_uri": "https://localhost:8080/",
          "height": 71
        },
        "outputId": "00f88ad3-b715-4a1b-8977-f7334b62429d"
      },
      "source": [
        "#3/10/20\n",
        "\n",
        "countries={}\n",
        "continents={}\n",
        "for ind in ds.index: \n",
        "  # print(ds['Country/Region'][ind],ds['3/10/20'][ind])\n",
        "  country = ds['Country/Region'][ind]\n",
        "  cases = ds['3/12/20'][ind]  #on date =3/10/20\n",
        "  countries[country] = countries.get(country, 0) + cases\n",
        "\n",
        "print(countries)\n",
        "def country_to_continent(country_name):\n",
        "    # print(country_name)\n",
        "    try:\n",
        "      country_alpha2 = pc.country_name_to_country_alpha2(country_name)\n",
        "      country_continent_code = pc.country_alpha2_to_continent_code(country_alpha2)\n",
        "      country_continent_name = pc.convert_continent_code_to_continent_name(country_continent_code)\n",
        "      return country_continent_name\n",
        "    except Exception:\n",
        "      pass\n",
        "\n",
        "for country in countries.keys():\n",
        "  continent =country_to_continent(country)\n",
        "  continents[continent] = continents.get(continent, 0) + countries[country]\n",
        "print(continents)\n",
        "\n",
        "del continents['Oceania']\n",
        "del continents[None]"
      ],
      "execution_count": 96,
      "outputs": [
        {
          "output_type": "stream",
          "text": [
            "{'Thailand': 70, 'Japan': 639, 'Singapore': 178, 'Nepal': 1, 'Malaysia': 149, 'Canada': 117, 'Australia': 128, 'Cambodia': 3, 'Sri Lanka': 2, 'Germany': 2078, 'Finland': 59, 'United Arab Emirates': 85, 'Philippines': 52, 'India': 73, 'Italy': 12462, 'Sweden': 599, 'Spain': 2277, 'Belgium': 314, 'Egypt': 67, 'Lebanon': 61, 'Iraq': 71, 'Oman': 18, 'Afghanistan': 7, 'Bahrain': 195, 'Kuwait': 80, 'Algeria': 24, 'Croatia': 19, 'Switzerland': 652, 'Austria': 302, 'Israel': 131, 'Pakistan': 20, 'Brazil': 52, 'Georgia': 24, 'Greece': 99, 'North Macedonia': 7, 'Norway': 702, 'Romania': 49, 'Estonia': 16, 'San Marino': 69, 'Belarus': 12, 'Iceland': 103, 'Lithuania': 3, 'Mexico': 12, 'New Zealand': 5, 'Nigeria': 2, 'Ireland': 43, 'Luxembourg': 19, 'Monaco': 2, 'Qatar': 262, 'Ecuador': 17, 'Azerbaijan': 11, 'Armenia': 4, 'Dominican Republic': 5, 'Indonesia': 34, 'Portugal': 59, 'Andorra': 1, 'Latvia': 10, 'Morocco': 6, 'Saudi Arabia': 45, 'Senegal': 4, 'Argentina': 19, 'Chile': 23, 'Jordan': 1, 'Ukraine': 1, 'Hungary': 13, 'Liechtenstein': 1, 'Poland': 49, 'Tunisia': 7, 'Bosnia and Herzegovina': 11, 'Slovenia': 89, 'South Africa': 17, 'Bhutan': 1, 'Cameroon': 2, 'Colombia': 9, 'Costa Rica': 22, 'Peru': 15, 'Serbia': 19, 'Slovakia': 16, 'Togo': 1, 'Malta': 6, 'Martinique': 3, 'Bulgaria': 7, 'Maldives': 8, 'Bangladesh': 3, 'Paraguay': 5, 'Albania': 23, 'Cyprus': 6, 'Brunei': 11, 'US': 1663, 'Burkina Faso': 2, 'Holy See': 1, 'Mongolia': 1, 'Panama': 11, 'China': 80932, 'Iran': 10075, 'Korea, South': 7869, 'France': 2290, 'Cruise Ship': 696, 'Denmark': 617, 'Czechia': 94, 'Taiwan*': 49, 'Vietnam': 39, 'Russia': 28, 'Moldova': 3, 'Bolivia': 2, 'Honduras': 2, 'United Kingdom': 459, 'Congo (Kinshasa)': 1, \"Cote d'Ivoire\": 1, 'Jamaica': 2, 'Turkey': 1, 'Cuba': 3, 'Guyana': 1, 'Kazakhstan': 0, 'Ethiopia': 0, 'Sudan': 0, 'Guinea': 0, 'Kenya': 0, 'Antigua and Barbuda': 0, 'Uruguay': 0, 'Ghana': 0, 'Namibia': 0, 'Seychelles': 0, 'Trinidad and Tobago': 0, 'Venezuela': 0, 'Eswatini': 0, 'Gabon': 0, 'Guatemala': 0, 'Mauritania': 0, 'Rwanda': 0, 'Saint Lucia': 0, 'Saint Vincent and the Grenadines': 0, 'Suriname': 0, 'Kosovo': 0, 'Central African Republic': 0, 'Congo (Brazzaville)': 0, 'Equatorial Guinea': 0, 'Uzbekistan': 0, 'Netherlands': 503, 'Benin': 0, 'Liberia': 0, 'Somalia': 0, 'Tanzania': 0, 'Barbados': 0, 'Montenegro': 0, 'Kyrgyzstan': 0, 'Mauritius': 0, 'Zambia': 0, 'Djibouti': 0, 'Gambia, The': 0, 'Bahamas, The': 0, 'Chad': 0, 'El Salvador': 0, 'Fiji': 0, 'Nicaragua': 0, 'Madagascar': 0, 'Haiti': 0, 'Angola': 0, 'Cabo Verde': 0, 'Niger': 0, 'Papua New Guinea': 0, 'Zimbabwe': 0, 'Cape Verde': 0, 'East Timor': 0, 'Eritrea': 0, 'Uganda': 0, 'Dominica': 0, 'Grenada': 0, 'Mozambique': 0, 'Syria': 0, 'Timor-Leste': 0}\n",
            "{'Asia': 93293, 'North America': 177, 'Oceania': 133, 'Europe': 24185, 'Africa': 132, 'South America': 143, None: 10280}\n"
          ],
          "name": "stdout"
        }
      ]
    },
    {
      "cell_type": "code",
      "metadata": {
        "id": "YJNgM2EP5EAy",
        "colab_type": "code",
        "colab": {
          "base_uri": "https://localhost:8080/",
          "height": 282
        },
        "outputId": "7deb5001-b709-4223-86d3-23056174a164"
      },
      "source": [
        "plt.bar(range(len(continents)), list(continents.values()), align='center')\n",
        "plt.xticks(range(len(continents)), list(continents.keys()))\n",
        "# function to show the plot \n",
        "plt.show()\n",
        "plt.savefig('continents.png')"
      ],
      "execution_count": 97,
      "outputs": [
        {
          "output_type": "display_data",
          "data": {
            "image/png": "[encoded data removed]",
            "text/plain": [
              "<Figure size 432x288 with 1 Axes>"
            ]
          },
          "metadata": {
            "tags": []
          }
        },
        {
          "output_type": "display_data",
          "data": {
            "text/plain": [
              "<Figure size 432x288 with 0 Axes>"
            ]
          },
          "metadata": {
            "tags": []
          }
        }
      ]
    },
    {
      "cell_type": "code",
      "metadata": {
        "id": "kAYb0KzaAhSY",
        "colab_type": "code",
        "colab": {}
      },
      "source": [
        ""
      ],
      "execution_count": 0,
      "outputs": []
    }
  ]
}