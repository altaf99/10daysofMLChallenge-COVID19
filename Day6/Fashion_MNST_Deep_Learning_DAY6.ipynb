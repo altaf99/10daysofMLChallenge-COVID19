{
  "nbformat": 4,
  "nbformat_minor": 0,
  "metadata": {
    "colab": {
      "name": "Fashion_MNST-Deep Learning-DAY6.ipynb.ipynb",
      "provenance": [],
      "collapsed_sections": []
    },
    "kernelspec": {
      "name": "python3",
      "display_name": "Python 3"
    },
    "accelerator": "TPU"
  },
  "cells": [
    {
      "cell_type": "markdown",
      "metadata": {
        "id": "PChuUNJVECUm",
        "colab_type": "text"
      },
      "source": [
        "Day 6: \n",
        "\n",
        "Topic: Imaging Problem \n",
        "\n",
        "Resources: \n",
        "1. Fashion MNIST with Keras and Deep Learning https://www.pyimagesearch.com/2019/02/11/fashion-mnist-with-keras-and-deep-learning/\n",
        "\n",
        "2. How to develop a CNN from scratch for fashion MNIST http://machinelearningmastery.com/how-to-develop-a-cnn-from-scratch-for-fashion-mnist-clothing-classification/\n",
        "\n",
        "3. Fashion MNIST: https://www.tensorflow.org/datasets/catalog/fashion_mnist\n",
        "\n",
        "4. An Efficient Deep Learning Approach to Pneumonia Classification in Healthcare: https://www.hindawi.com/journals/jhe/2019/4180949/\n",
        "\n",
        "5. Deep Learning for Detecting Pneumonia from X-ray Images: https://towardsdatascience.com/deep-learning-for-detecting-pneumonia-from-x-ray-images-fc9a3d9fdba8\n",
        "\n",
        "\n",
        "Data set:\n",
        "For beginners: https://www.kaggle.com/zalando-research/fashionmnist"
      ]
    },
    {
      "cell_type": "markdown",
      "metadata": {
        "id": "eWDHGNBWLQG_",
        "colab_type": "text"
      },
      "source": [
        "# Fashion MNIST with Keras\n",
        "## Overview\n",
        "Fashion MNIST is an MNIST like dataset using images of clothing instead of hand-written digits. Each photo is 28x28 grayscale, with 10 different classes. The dataset contains 70000 images with 60000 for training and 10000 for testing."
      ]
    },
    {
      "cell_type": "code",
      "metadata": {
        "id": "2UxZzfqCD1xa",
        "colab_type": "code",
        "colab": {
          "base_uri": "https://localhost:8080/",
          "height": 34
        },
        "outputId": "2905371f-6502-478f-ed66-7f8872f71410"
      },
      "source": [
        "# !pip install kaggle\n",
        "!mkdir .kaggle"
      ],
      "execution_count": 2,
      "outputs": [
        {
          "output_type": "stream",
          "text": [
            "mkdir: cannot create directory ‘.kaggle’: File exists\n"
          ],
          "name": "stdout"
        }
      ]
    },
    {
      "cell_type": "code",
      "metadata": {
        "id": "6NcIEqNFE9gX",
        "colab_type": "code",
        "colab": {
          "base_uri": "https://localhost:8080/",
          "height": 255
        },
        "outputId": "c3afa25b-bf34-4e53-9bbb-e629761489ca"
      },
      "source": [
        "!ls -la"
      ],
      "execution_count": 3,
      "outputs": [
        {
          "output_type": "stream",
          "text": [
            "total 205296\n",
            "drwxr-xr-x 1 root root      4096 Mar 28 08:55  .\n",
            "drwxr-xr-x 1 root root      4096 Mar 28 07:36  ..\n",
            "drwxr-xr-x 3 root root      4096 Mar 28 07:47 '{'\n",
            "drwxr-xr-x 1 root root      4096 Mar 25 16:11  .config\n",
            "-rw-r--r-- 1 root root  22176691 Sep 21  2019  fashion-mnist_test.csv\n",
            "-rw-r--r-- 1 root root 133047193 Sep 21  2019  fashion-mnist_train.csv\n",
            "drwxr-xr-x 2 root root      4096 Mar 28 07:45  .kaggle\n",
            "drwxr-xr-x 4 root root      4096 Mar 28 08:55 'logs\\cnn_1layer'\n",
            "drwxr-xr-x 1 root root      4096 Mar 18 16:23  sample_data\n",
            "-rw-r--r-- 1 root root   7840016 Sep 21  2019  t10k-images-idx3-ubyte\n",
            "-rw-r--r-- 1 root root     10008 Sep 21  2019  t10k-labels-idx1-ubyte\n",
            "-rw-r--r-- 1 root root  47040016 Sep 21  2019  train-images-idx3-ubyte\n",
            "-rw-r--r-- 1 root root     60008 Sep 21  2019  train-labels-idx1-ubyte\n"
          ],
          "name": "stdout"
        }
      ]
    },
    {
      "cell_type": "code",
      "metadata": {
        "id": "Rs2u7DanEKW6",
        "colab_type": "code",
        "colab": {}
      },
      "source": [
        "import json\n",
        "token = {\"username\":\"altafshaikh\",\"key\":\"e4a7d1a5b1ac792fe0a1d2f4ad2017ef\"}\n",
        "with open('.kaggle/kaggle.json', 'w') as file:\n",
        "    json.dump(token, file)"
      ],
      "execution_count": 0,
      "outputs": []
    },
    {
      "cell_type": "code",
      "metadata": {
        "id": "YeBv_MArEibe",
        "colab_type": "code",
        "colab": {}
      },
      "source": [
        "!cp .kaggle/kaggle.json ~/.kaggle/"
      ],
      "execution_count": 0,
      "outputs": []
    },
    {
      "cell_type": "code",
      "metadata": {
        "id": "mE3NOf9PElhA",
        "colab_type": "code",
        "colab": {
          "base_uri": "https://localhost:8080/",
          "height": 51
        },
        "outputId": "ddbce5dc-761d-4201-ce44-734604d32843"
      },
      "source": [
        "!kaggle config set -n path -v{/content}"
      ],
      "execution_count": 14,
      "outputs": [
        {
          "output_type": "stream",
          "text": [
            "Warning: Your Kaggle API key is readable by other users on this system! To fix this, you can run 'chmod 600 /root/.kaggle/kaggle.json'\n",
            "- path is now set to: {/content}\n"
          ],
          "name": "stdout"
        }
      ]
    },
    {
      "cell_type": "code",
      "metadata": {
        "id": "5_MOaER5FNux",
        "colab_type": "code",
        "colab": {}
      },
      "source": [
        "!chmod 600 /root/.kaggle/kaggle.json"
      ],
      "execution_count": 0,
      "outputs": []
    },
    {
      "cell_type": "code",
      "metadata": {
        "id": "Hd8B9u2DFQc3",
        "colab_type": "code",
        "colab": {
          "base_uri": "https://localhost:8080/",
          "height": 85
        },
        "outputId": "0a2477d8-1de1-43ae-ed2c-0312e8436c4c"
      },
      "source": [
        "!kaggle datasets download -d zalando-research/fashionmnist"
      ],
      "execution_count": 16,
      "outputs": [
        {
          "output_type": "stream",
          "text": [
            "ERROR! Session/line number was not unique in database. History logging moved to new session 61\n",
            "Downloading fashionmnist.zip to {/content}/datasets/zalando-research/fashionmnist\n",
            " 95% 65.0M/68.8M [00:00<00:00, 64.9MB/s]\n",
            "100% 68.8M/68.8M [00:00<00:00, 77.1MB/s]\n"
          ],
          "name": "stdout"
        }
      ]
    },
    {
      "cell_type": "code",
      "metadata": {
        "id": "fEFIHwvzFUHx",
        "colab_type": "code",
        "colab": {}
      },
      "source": [
        "import os\n",
        "import gc\n",
        "import glob"
      ],
      "execution_count": 0,
      "outputs": []
    },
    {
      "cell_type": "code",
      "metadata": {
        "id": "-ZKiX6esFk4n",
        "colab_type": "code",
        "colab": {
          "base_uri": "https://localhost:8080/",
          "height": 34
        },
        "outputId": "40693590-022e-4f12-996b-de7f6ec13744"
      },
      "source": [
        "files = glob.glob(\"*.zip\")\n",
        "files"
      ],
      "execution_count": 5,
      "outputs": [
        {
          "output_type": "execute_result",
          "data": {
            "text/plain": [
              "[]"
            ]
          },
          "metadata": {
            "tags": []
          },
          "execution_count": 5
        }
      ]
    },
    {
      "cell_type": "code",
      "metadata": {
        "id": "eLQNgf2uFmzo",
        "colab_type": "code",
        "colab": {
          "base_uri": "https://localhost:8080/",
          "height": 136
        },
        "outputId": "f24c862d-13d5-495a-a3c1-f4716cfc5f97"
      },
      "source": [
        "!unzip {/content}/datasets/zalando-research/fashionmnist/fashionmnist.zip\n"
      ],
      "execution_count": 30,
      "outputs": [
        {
          "output_type": "stream",
          "text": [
            "Archive:  {/content}/datasets/zalando-research/fashionmnist/fashionmnist.zip\n",
            "  inflating: fashion-mnist_test.csv  \n",
            "  inflating: fashion-mnist_train.csv  \n",
            "  inflating: t10k-images-idx3-ubyte  \n",
            "  inflating: t10k-labels-idx1-ubyte  \n",
            "  inflating: train-images-idx3-ubyte  \n",
            "  inflating: train-labels-idx1-ubyte  \n"
          ],
          "name": "stdout"
        }
      ]
    },
    {
      "cell_type": "code",
      "metadata": {
        "id": "EGdEQqOmGiYw",
        "colab_type": "code",
        "colab": {
          "base_uri": "https://localhost:8080/",
          "height": 68
        },
        "outputId": "1a74d4ba-93ea-4a33-d0d6-b56b9dcf4ced"
      },
      "source": [
        "!ls"
      ],
      "execution_count": 35,
      "outputs": [
        {
          "output_type": "stream",
          "text": [
            "'{'\t\t\t   sample_data\t\t    train-images-idx3-ubyte\n",
            " fashion-mnist_test.csv    t10k-images-idx3-ubyte   train-labels-idx1-ubyte\n",
            " fashion-mnist_train.csv   t10k-labels-idx1-ubyte\n"
          ],
          "name": "stdout"
        }
      ]
    },
    {
      "cell_type": "code",
      "metadata": {
        "id": "OjQGyHyrI51i",
        "colab_type": "code",
        "colab": {}
      },
      "source": [
        "import numpy as np\n",
        "import pandas as pd\n",
        "import matplotlib.pyplot as plt\n",
        "from sklearn.model_selection import train_test_split"
      ],
      "execution_count": 0,
      "outputs": []
    },
    {
      "cell_type": "code",
      "metadata": {
        "id": "HyNyPjxvGwfr",
        "colab_type": "code",
        "colab": {}
      },
      "source": [
        "# train and test dataframe\n",
        "train_df = pd.read_csv(\"fashion-mnist_train.csv\")\n",
        "test_df = pd.read_csv('fashion-mnist_test.csv')"
      ],
      "execution_count": 0,
      "outputs": []
    },
    {
      "cell_type": "code",
      "metadata": {
        "id": "nvzURCTrHHXV",
        "colab_type": "code",
        "colab": {
          "base_uri": "https://localhost:8080/",
          "height": 253
        },
        "outputId": "8e86a08d-d405-42cd-8243-9ae3b5a06252"
      },
      "source": [
        "train_df.head()"
      ],
      "execution_count": 8,
      "outputs": [
        {
          "output_type": "execute_result",
          "data": {
            "text/html": [
              "<div>\n",
              "<style scoped>\n",
              "    .dataframe tbody tr th:only-of-type {\n",
              "        vertical-align: middle;\n",
              "    }\n",
              "\n",
              "    .dataframe tbody tr th {\n",
              "        vertical-align: top;\n",
              "    }\n",
              "\n",
              "    .dataframe thead th {\n",
              "        text-align: right;\n",
              "    }\n",
              "</style>\n",
              "<table border=\"1\" class=\"dataframe\">\n",
              "  <thead>\n",
              "    <tr style=\"text-align: right;\">\n",
              "      <th></th>\n",
              "      <th>label</th>\n",
              "      <th>pixel1</th>\n",
              "      <th>pixel2</th>\n",
              "      <th>pixel3</th>\n",
              "      <th>pixel4</th>\n",
              "      <th>pixel5</th>\n",
              "      <th>pixel6</th>\n",
              "      <th>pixel7</th>\n",
              "      <th>pixel8</th>\n",
              "      <th>pixel9</th>\n",
              "      <th>pixel10</th>\n",
              "      <th>pixel11</th>\n",
              "      <th>pixel12</th>\n",
              "      <th>pixel13</th>\n",
              "      <th>pixel14</th>\n",
              "      <th>pixel15</th>\n",
              "      <th>pixel16</th>\n",
              "      <th>pixel17</th>\n",
              "      <th>pixel18</th>\n",
              "      <th>pixel19</th>\n",
              "      <th>pixel20</th>\n",
              "      <th>pixel21</th>\n",
              "      <th>pixel22</th>\n",
              "      <th>pixel23</th>\n",
              "      <th>pixel24</th>\n",
              "      <th>pixel25</th>\n",
              "      <th>pixel26</th>\n",
              "      <th>pixel27</th>\n",
              "      <th>pixel28</th>\n",
              "      <th>pixel29</th>\n",
              "      <th>pixel30</th>\n",
              "      <th>pixel31</th>\n",
              "      <th>pixel32</th>\n",
              "      <th>pixel33</th>\n",
              "      <th>pixel34</th>\n",
              "      <th>pixel35</th>\n",
              "      <th>pixel36</th>\n",
              "      <th>pixel37</th>\n",
              "      <th>pixel38</th>\n",
              "      <th>pixel39</th>\n",
              "      <th>...</th>\n",
              "      <th>pixel745</th>\n",
              "      <th>pixel746</th>\n",
              "      <th>pixel747</th>\n",
              "      <th>pixel748</th>\n",
              "      <th>pixel749</th>\n",
              "      <th>pixel750</th>\n",
              "      <th>pixel751</th>\n",
              "      <th>pixel752</th>\n",
              "      <th>pixel753</th>\n",
              "      <th>pixel754</th>\n",
              "      <th>pixel755</th>\n",
              "      <th>pixel756</th>\n",
              "      <th>pixel757</th>\n",
              "      <th>pixel758</th>\n",
              "      <th>pixel759</th>\n",
              "      <th>pixel760</th>\n",
              "      <th>pixel761</th>\n",
              "      <th>pixel762</th>\n",
              "      <th>pixel763</th>\n",
              "      <th>pixel764</th>\n",
              "      <th>pixel765</th>\n",
              "      <th>pixel766</th>\n",
              "      <th>pixel767</th>\n",
              "      <th>pixel768</th>\n",
              "      <th>pixel769</th>\n",
              "      <th>pixel770</th>\n",
              "      <th>pixel771</th>\n",
              "      <th>pixel772</th>\n",
              "      <th>pixel773</th>\n",
              "      <th>pixel774</th>\n",
              "      <th>pixel775</th>\n",
              "      <th>pixel776</th>\n",
              "      <th>pixel777</th>\n",
              "      <th>pixel778</th>\n",
              "      <th>pixel779</th>\n",
              "      <th>pixel780</th>\n",
              "      <th>pixel781</th>\n",
              "      <th>pixel782</th>\n",
              "      <th>pixel783</th>\n",
              "      <th>pixel784</th>\n",
              "    </tr>\n",
              "  </thead>\n",
              "  <tbody>\n",
              "    <tr>\n",
              "      <th>0</th>\n",
              "      <td>2</td>\n",
              "      <td>0</td>\n",
              "      <td>0</td>\n",
              "      <td>0</td>\n",
              "      <td>0</td>\n",
              "      <td>0</td>\n",
              "      <td>0</td>\n",
              "      <td>0</td>\n",
              "      <td>0</td>\n",
              "      <td>0</td>\n",
              "      <td>0</td>\n",
              "      <td>0</td>\n",
              "      <td>0</td>\n",
              "      <td>0</td>\n",
              "      <td>0</td>\n",
              "      <td>0</td>\n",
              "      <td>0</td>\n",
              "      <td>0</td>\n",
              "      <td>0</td>\n",
              "      <td>0</td>\n",
              "      <td>0</td>\n",
              "      <td>0</td>\n",
              "      <td>0</td>\n",
              "      <td>0</td>\n",
              "      <td>0</td>\n",
              "      <td>0</td>\n",
              "      <td>0</td>\n",
              "      <td>0</td>\n",
              "      <td>0</td>\n",
              "      <td>0</td>\n",
              "      <td>0</td>\n",
              "      <td>0</td>\n",
              "      <td>0</td>\n",
              "      <td>0</td>\n",
              "      <td>0</td>\n",
              "      <td>0</td>\n",
              "      <td>0</td>\n",
              "      <td>0</td>\n",
              "      <td>0</td>\n",
              "      <td>0</td>\n",
              "      <td>...</td>\n",
              "      <td>0</td>\n",
              "      <td>0</td>\n",
              "      <td>0</td>\n",
              "      <td>0</td>\n",
              "      <td>0</td>\n",
              "      <td>0</td>\n",
              "      <td>0</td>\n",
              "      <td>0</td>\n",
              "      <td>0</td>\n",
              "      <td>0</td>\n",
              "      <td>0</td>\n",
              "      <td>0</td>\n",
              "      <td>0</td>\n",
              "      <td>0</td>\n",
              "      <td>0</td>\n",
              "      <td>0</td>\n",
              "      <td>0</td>\n",
              "      <td>0</td>\n",
              "      <td>0</td>\n",
              "      <td>0</td>\n",
              "      <td>0</td>\n",
              "      <td>0</td>\n",
              "      <td>0</td>\n",
              "      <td>0</td>\n",
              "      <td>0</td>\n",
              "      <td>0</td>\n",
              "      <td>0</td>\n",
              "      <td>0</td>\n",
              "      <td>0</td>\n",
              "      <td>0</td>\n",
              "      <td>0</td>\n",
              "      <td>0</td>\n",
              "      <td>0</td>\n",
              "      <td>0</td>\n",
              "      <td>0</td>\n",
              "      <td>0</td>\n",
              "      <td>0</td>\n",
              "      <td>0</td>\n",
              "      <td>0</td>\n",
              "      <td>0</td>\n",
              "    </tr>\n",
              "    <tr>\n",
              "      <th>1</th>\n",
              "      <td>9</td>\n",
              "      <td>0</td>\n",
              "      <td>0</td>\n",
              "      <td>0</td>\n",
              "      <td>0</td>\n",
              "      <td>0</td>\n",
              "      <td>0</td>\n",
              "      <td>0</td>\n",
              "      <td>0</td>\n",
              "      <td>0</td>\n",
              "      <td>0</td>\n",
              "      <td>0</td>\n",
              "      <td>0</td>\n",
              "      <td>0</td>\n",
              "      <td>0</td>\n",
              "      <td>0</td>\n",
              "      <td>0</td>\n",
              "      <td>0</td>\n",
              "      <td>0</td>\n",
              "      <td>0</td>\n",
              "      <td>0</td>\n",
              "      <td>0</td>\n",
              "      <td>0</td>\n",
              "      <td>0</td>\n",
              "      <td>0</td>\n",
              "      <td>0</td>\n",
              "      <td>0</td>\n",
              "      <td>0</td>\n",
              "      <td>0</td>\n",
              "      <td>0</td>\n",
              "      <td>0</td>\n",
              "      <td>0</td>\n",
              "      <td>0</td>\n",
              "      <td>0</td>\n",
              "      <td>0</td>\n",
              "      <td>0</td>\n",
              "      <td>0</td>\n",
              "      <td>0</td>\n",
              "      <td>0</td>\n",
              "      <td>0</td>\n",
              "      <td>...</td>\n",
              "      <td>0</td>\n",
              "      <td>0</td>\n",
              "      <td>0</td>\n",
              "      <td>0</td>\n",
              "      <td>0</td>\n",
              "      <td>0</td>\n",
              "      <td>0</td>\n",
              "      <td>0</td>\n",
              "      <td>0</td>\n",
              "      <td>0</td>\n",
              "      <td>0</td>\n",
              "      <td>0</td>\n",
              "      <td>0</td>\n",
              "      <td>0</td>\n",
              "      <td>0</td>\n",
              "      <td>0</td>\n",
              "      <td>0</td>\n",
              "      <td>0</td>\n",
              "      <td>0</td>\n",
              "      <td>0</td>\n",
              "      <td>0</td>\n",
              "      <td>0</td>\n",
              "      <td>0</td>\n",
              "      <td>0</td>\n",
              "      <td>0</td>\n",
              "      <td>0</td>\n",
              "      <td>0</td>\n",
              "      <td>0</td>\n",
              "      <td>0</td>\n",
              "      <td>0</td>\n",
              "      <td>0</td>\n",
              "      <td>0</td>\n",
              "      <td>0</td>\n",
              "      <td>0</td>\n",
              "      <td>0</td>\n",
              "      <td>0</td>\n",
              "      <td>0</td>\n",
              "      <td>0</td>\n",
              "      <td>0</td>\n",
              "      <td>0</td>\n",
              "    </tr>\n",
              "    <tr>\n",
              "      <th>2</th>\n",
              "      <td>6</td>\n",
              "      <td>0</td>\n",
              "      <td>0</td>\n",
              "      <td>0</td>\n",
              "      <td>0</td>\n",
              "      <td>0</td>\n",
              "      <td>0</td>\n",
              "      <td>0</td>\n",
              "      <td>5</td>\n",
              "      <td>0</td>\n",
              "      <td>0</td>\n",
              "      <td>0</td>\n",
              "      <td>105</td>\n",
              "      <td>92</td>\n",
              "      <td>101</td>\n",
              "      <td>107</td>\n",
              "      <td>100</td>\n",
              "      <td>132</td>\n",
              "      <td>0</td>\n",
              "      <td>0</td>\n",
              "      <td>2</td>\n",
              "      <td>4</td>\n",
              "      <td>0</td>\n",
              "      <td>1</td>\n",
              "      <td>0</td>\n",
              "      <td>0</td>\n",
              "      <td>0</td>\n",
              "      <td>0</td>\n",
              "      <td>0</td>\n",
              "      <td>0</td>\n",
              "      <td>0</td>\n",
              "      <td>0</td>\n",
              "      <td>0</td>\n",
              "      <td>0</td>\n",
              "      <td>0</td>\n",
              "      <td>0</td>\n",
              "      <td>0</td>\n",
              "      <td>0</td>\n",
              "      <td>0</td>\n",
              "      <td>150</td>\n",
              "      <td>...</td>\n",
              "      <td>211</td>\n",
              "      <td>220</td>\n",
              "      <td>214</td>\n",
              "      <td>74</td>\n",
              "      <td>0</td>\n",
              "      <td>255</td>\n",
              "      <td>222</td>\n",
              "      <td>128</td>\n",
              "      <td>0</td>\n",
              "      <td>0</td>\n",
              "      <td>0</td>\n",
              "      <td>0</td>\n",
              "      <td>0</td>\n",
              "      <td>0</td>\n",
              "      <td>0</td>\n",
              "      <td>0</td>\n",
              "      <td>0</td>\n",
              "      <td>44</td>\n",
              "      <td>12</td>\n",
              "      <td>0</td>\n",
              "      <td>0</td>\n",
              "      <td>40</td>\n",
              "      <td>134</td>\n",
              "      <td>162</td>\n",
              "      <td>191</td>\n",
              "      <td>214</td>\n",
              "      <td>163</td>\n",
              "      <td>146</td>\n",
              "      <td>165</td>\n",
              "      <td>79</td>\n",
              "      <td>0</td>\n",
              "      <td>0</td>\n",
              "      <td>0</td>\n",
              "      <td>30</td>\n",
              "      <td>43</td>\n",
              "      <td>0</td>\n",
              "      <td>0</td>\n",
              "      <td>0</td>\n",
              "      <td>0</td>\n",
              "      <td>0</td>\n",
              "    </tr>\n",
              "    <tr>\n",
              "      <th>3</th>\n",
              "      <td>0</td>\n",
              "      <td>0</td>\n",
              "      <td>0</td>\n",
              "      <td>0</td>\n",
              "      <td>1</td>\n",
              "      <td>2</td>\n",
              "      <td>0</td>\n",
              "      <td>0</td>\n",
              "      <td>0</td>\n",
              "      <td>0</td>\n",
              "      <td>0</td>\n",
              "      <td>114</td>\n",
              "      <td>183</td>\n",
              "      <td>112</td>\n",
              "      <td>55</td>\n",
              "      <td>23</td>\n",
              "      <td>72</td>\n",
              "      <td>102</td>\n",
              "      <td>165</td>\n",
              "      <td>160</td>\n",
              "      <td>28</td>\n",
              "      <td>0</td>\n",
              "      <td>0</td>\n",
              "      <td>0</td>\n",
              "      <td>1</td>\n",
              "      <td>0</td>\n",
              "      <td>0</td>\n",
              "      <td>0</td>\n",
              "      <td>0</td>\n",
              "      <td>0</td>\n",
              "      <td>0</td>\n",
              "      <td>0</td>\n",
              "      <td>0</td>\n",
              "      <td>1</td>\n",
              "      <td>0</td>\n",
              "      <td>0</td>\n",
              "      <td>24</td>\n",
              "      <td>188</td>\n",
              "      <td>163</td>\n",
              "      <td>93</td>\n",
              "      <td>...</td>\n",
              "      <td>171</td>\n",
              "      <td>249</td>\n",
              "      <td>207</td>\n",
              "      <td>197</td>\n",
              "      <td>202</td>\n",
              "      <td>45</td>\n",
              "      <td>0</td>\n",
              "      <td>3</td>\n",
              "      <td>0</td>\n",
              "      <td>0</td>\n",
              "      <td>0</td>\n",
              "      <td>0</td>\n",
              "      <td>0</td>\n",
              "      <td>0</td>\n",
              "      <td>0</td>\n",
              "      <td>0</td>\n",
              "      <td>0</td>\n",
              "      <td>0</td>\n",
              "      <td>1</td>\n",
              "      <td>0</td>\n",
              "      <td>0</td>\n",
              "      <td>0</td>\n",
              "      <td>22</td>\n",
              "      <td>21</td>\n",
              "      <td>25</td>\n",
              "      <td>69</td>\n",
              "      <td>52</td>\n",
              "      <td>45</td>\n",
              "      <td>74</td>\n",
              "      <td>39</td>\n",
              "      <td>3</td>\n",
              "      <td>0</td>\n",
              "      <td>0</td>\n",
              "      <td>0</td>\n",
              "      <td>0</td>\n",
              "      <td>1</td>\n",
              "      <td>0</td>\n",
              "      <td>0</td>\n",
              "      <td>0</td>\n",
              "      <td>0</td>\n",
              "    </tr>\n",
              "    <tr>\n",
              "      <th>4</th>\n",
              "      <td>3</td>\n",
              "      <td>0</td>\n",
              "      <td>0</td>\n",
              "      <td>0</td>\n",
              "      <td>0</td>\n",
              "      <td>0</td>\n",
              "      <td>0</td>\n",
              "      <td>0</td>\n",
              "      <td>0</td>\n",
              "      <td>0</td>\n",
              "      <td>0</td>\n",
              "      <td>0</td>\n",
              "      <td>0</td>\n",
              "      <td>46</td>\n",
              "      <td>0</td>\n",
              "      <td>21</td>\n",
              "      <td>68</td>\n",
              "      <td>0</td>\n",
              "      <td>0</td>\n",
              "      <td>0</td>\n",
              "      <td>0</td>\n",
              "      <td>0</td>\n",
              "      <td>0</td>\n",
              "      <td>0</td>\n",
              "      <td>0</td>\n",
              "      <td>0</td>\n",
              "      <td>0</td>\n",
              "      <td>0</td>\n",
              "      <td>0</td>\n",
              "      <td>0</td>\n",
              "      <td>0</td>\n",
              "      <td>0</td>\n",
              "      <td>0</td>\n",
              "      <td>0</td>\n",
              "      <td>0</td>\n",
              "      <td>0</td>\n",
              "      <td>0</td>\n",
              "      <td>25</td>\n",
              "      <td>187</td>\n",
              "      <td>189</td>\n",
              "      <td>...</td>\n",
              "      <td>230</td>\n",
              "      <td>237</td>\n",
              "      <td>229</td>\n",
              "      <td>0</td>\n",
              "      <td>0</td>\n",
              "      <td>1</td>\n",
              "      <td>0</td>\n",
              "      <td>0</td>\n",
              "      <td>0</td>\n",
              "      <td>0</td>\n",
              "      <td>0</td>\n",
              "      <td>0</td>\n",
              "      <td>0</td>\n",
              "      <td>0</td>\n",
              "      <td>0</td>\n",
              "      <td>0</td>\n",
              "      <td>0</td>\n",
              "      <td>0</td>\n",
              "      <td>0</td>\n",
              "      <td>0</td>\n",
              "      <td>0</td>\n",
              "      <td>68</td>\n",
              "      <td>116</td>\n",
              "      <td>112</td>\n",
              "      <td>136</td>\n",
              "      <td>147</td>\n",
              "      <td>144</td>\n",
              "      <td>121</td>\n",
              "      <td>102</td>\n",
              "      <td>63</td>\n",
              "      <td>0</td>\n",
              "      <td>0</td>\n",
              "      <td>0</td>\n",
              "      <td>0</td>\n",
              "      <td>0</td>\n",
              "      <td>0</td>\n",
              "      <td>0</td>\n",
              "      <td>0</td>\n",
              "      <td>0</td>\n",
              "      <td>0</td>\n",
              "    </tr>\n",
              "  </tbody>\n",
              "</table>\n",
              "<p>5 rows × 785 columns</p>\n",
              "</div>"
            ],
            "text/plain": [
              "   label  pixel1  pixel2  pixel3  ...  pixel781  pixel782  pixel783  pixel784\n",
              "0      2       0       0       0  ...         0         0         0         0\n",
              "1      9       0       0       0  ...         0         0         0         0\n",
              "2      6       0       0       0  ...         0         0         0         0\n",
              "3      0       0       0       0  ...         0         0         0         0\n",
              "4      3       0       0       0  ...         0         0         0         0\n",
              "\n",
              "[5 rows x 785 columns]"
            ]
          },
          "metadata": {
            "tags": []
          },
          "execution_count": 8
        }
      ]
    },
    {
      "cell_type": "code",
      "metadata": {
        "id": "FSYxPQbYJLD3",
        "colab_type": "code",
        "colab": {}
      },
      "source": [
        "# split the training and testing data into X (image) and Y (label) arrays\n",
        "\n",
        "train_data = np.array(train_df, dtype='float32')\n",
        "test_data = np.array(test_df, dtype='float32')\n",
        "\n",
        "# for train data\n",
        "x_train = train_data[:, 1:] / 255  #except first_col take all cols and rows\n",
        "y_train = train_data[:, 0]   #take only first_col and all rows==> labels\n",
        "\n",
        "# for test data\n",
        "x_test = test_data[:, 1:] / 255  # normalizing the data = > range(0-1)\n",
        "y_test = test_data[:, 0]"
      ],
      "execution_count": 0,
      "outputs": []
    },
    {
      "cell_type": "code",
      "metadata": {
        "id": "8G8SqdnqKGCw",
        "colab_type": "code",
        "colab": {}
      },
      "source": [
        "# split the training data into train and validate arrays\n",
        "# test_size => 20% for validation\n",
        "\n",
        "x_train, x_validate, y_train, y_validate = train_test_split(\n",
        "    x_train, y_train, test_size=0.2, random_state=12345,\n",
        ")"
      ],
      "execution_count": 0,
      "outputs": []
    },
    {
      "cell_type": "code",
      "metadata": {
        "id": "Jvu2GxnvNfVC",
        "colab_type": "code",
        "colab": {
          "base_uri": "https://localhost:8080/",
          "height": 68
        },
        "outputId": "a5393d81-1ff8-43a2-85f5-692cc0a77797"
      },
      "source": [
        "print('x_train shape: {}'.format(x_train.shape))\n",
        "print('x_test shape: {}'.format(x_test.shape))\n",
        "print('x_validate shape: {}'.format(x_validate.shape))"
      ],
      "execution_count": 11,
      "outputs": [
        {
          "output_type": "stream",
          "text": [
            "x_train shape: (48000, 784)\n",
            "x_test shape: (10000, 784)\n",
            "x_validate shape: (12000, 784)\n"
          ],
          "name": "stdout"
        }
      ]
    },
    {
      "cell_type": "code",
      "metadata": {
        "id": "CeML8QuxKksJ",
        "colab_type": "code",
        "colab": {
          "base_uri": "https://localhost:8080/",
          "height": 265
        },
        "outputId": "3916e182-5c11-4e88-8754-e4ae53c49363"
      },
      "source": [
        "# lets see what the images look like\n",
        "# reshape => to convert the sixple into the image\n",
        "# img size = > 28 x 28\n",
        "\n",
        "image = x_train[50, :].reshape((28, 28))\n",
        "\n",
        "plt.imshow(image)\n",
        "plt.show()"
      ],
      "execution_count": 12,
      "outputs": [
        {
          "output_type": "display_data",
          "data": {
            "image/png": "[encoded data removed]",
            "text/plain": [
              "<Figure size 432x288 with 1 Axes>"
            ]
          },
          "metadata": {
            "tags": []
          }
        }
      ]
    },
    {
      "cell_type": "markdown",
      "metadata": {
        "id": "-BWUOspkMTrP",
        "colab_type": "text"
      },
      "source": [
        "## Steps to create the CNN\n",
        "\n",
        "\n",
        "*   Define the model\n",
        "*   Compile the model\n",
        "*   Fit the model"
      ]
    },
    {
      "cell_type": "code",
      "metadata": {
        "id": "8u8sfOF0K9Ai",
        "colab_type": "code",
        "colab": {
          "base_uri": "https://localhost:8080/",
          "height": 68
        },
        "outputId": "67db761e-e3f6-4d2c-a87d-2e46c903dc0e"
      },
      "source": [
        "# define the shape of the img\n",
        "\n",
        "im_rows = 28\n",
        "im_cols = 28\n",
        "batch_size = 512\n",
        "im_shape = (im_rows, im_cols, 1)\n",
        "\n",
        "x_train = x_train.reshape(x_train.shape[0], *im_shape)\n",
        "x_test = x_test.reshape(x_test.shape[0], *im_shape)\n",
        "x_validate = x_validate.reshape(x_validate.shape[0], *im_shape)\n",
        "\n",
        "print('x_train shape: {}'.format(x_train.shape))\n",
        "print('x_test shape: {}'.format(x_test.shape))\n",
        "print('x_validate shape: {}'.format(x_validate.shape))"
      ],
      "execution_count": 13,
      "outputs": [
        {
          "output_type": "stream",
          "text": [
            "x_train shape: (48000, 28, 28, 1)\n",
            "x_test shape: (10000, 28, 28, 1)\n",
            "x_validate shape: (12000, 28, 28, 1)\n"
          ],
          "name": "stdout"
        }
      ]
    },
    {
      "cell_type": "code",
      "metadata": {
        "id": "8lgy_rQ1N_w9",
        "colab_type": "code",
        "colab": {
          "base_uri": "https://localhost:8080/",
          "height": 34
        },
        "outputId": "f64a7864-4f86-4b21-8980-eb39e34f00b4"
      },
      "source": [
        "from keras.callbacks import TensorBoard"
      ],
      "execution_count": 14,
      "outputs": [
        {
          "output_type": "stream",
          "text": [
            "Using TensorFlow backend.\n"
          ],
          "name": "stderr"
        }
      ]
    },
    {
      "cell_type": "code",
      "metadata": {
        "id": "xnx_4SqFRTTS",
        "colab_type": "code",
        "colab": {}
      },
      "source": [
        "import tensorflow as tf\n",
        "import os\n",
        "import seaborn as sns\n",
        "import matplotlib.pyplot as plt\n",
        "from tensorflow.keras.preprocessing.image import ImageDataGenerator\n",
        "from tensorflow.keras.optimizers import RMSprop, Adam, SGD, Adagrad, Adadelta"
      ],
      "execution_count": 0,
      "outputs": []
    },
    {
      "cell_type": "code",
      "metadata": {
        "id": "5mRKpgfHM6XI",
        "colab_type": "code",
        "colab": {}
      },
      "source": [
        "# Defining the model\n",
        "\n",
        "# 1-layer cnn\n",
        "\n",
        "model = tf.keras.models.Sequential([\n",
        "    tf.keras.layers.Conv2D(32, (3,3), activation='relu', input_shape=im_shape),\n",
        "    tf.keras.layers.MaxPooling2D(2, 2),\n",
        "    tf.keras.layers.Dropout(0.2),\n",
        "\n",
        "    tf.keras.layers.Flatten(),\n",
        "    tf.keras.layers.Dense(32, activation='relu'),\n",
        "    tf.keras.layers.Dense(10, activation='softmax')\n",
        "])"
      ],
      "execution_count": 0,
      "outputs": []
    },
    {
      "cell_type": "code",
      "metadata": {
        "id": "n85RrDkAM7Oz",
        "colab_type": "code",
        "colab": {
          "base_uri": "https://localhost:8080/",
          "height": 357
        },
        "outputId": "ebd2f4f5-f70c-4106-c358-d382bfa92609"
      },
      "source": [
        "\n",
        "model.summary()"
      ],
      "execution_count": 17,
      "outputs": [
        {
          "output_type": "stream",
          "text": [
            "Model: \"sequential\"\n",
            "_________________________________________________________________\n",
            "Layer (type)                 Output Shape              Param #   \n",
            "=================================================================\n",
            "conv2d (Conv2D)              (None, 26, 26, 32)        320       \n",
            "_________________________________________________________________\n",
            "max_pooling2d (MaxPooling2D) (None, 13, 13, 32)        0         \n",
            "_________________________________________________________________\n",
            "dropout (Dropout)            (None, 13, 13, 32)        0         \n",
            "_________________________________________________________________\n",
            "flatten (Flatten)            (None, 5408)              0         \n",
            "_________________________________________________________________\n",
            "dense (Dense)                (None, 32)                173088    \n",
            "_________________________________________________________________\n",
            "dense_1 (Dense)              (None, 10)                330       \n",
            "=================================================================\n",
            "Total params: 173,738\n",
            "Trainable params: 173,738\n",
            "Non-trainable params: 0\n",
            "_________________________________________________________________\n"
          ],
          "name": "stdout"
        }
      ]
    },
    {
      "cell_type": "code",
      "metadata": {
        "id": "WPjnxWZlmPJn",
        "colab_type": "code",
        "colab": {}
      },
      "source": [
        "# our 3 models \n",
        "\n",
        "name = '1_Layer'\n",
        "model1 = tf.keras.models.Sequential([\n",
        "    tf.keras.layers.Conv2D(32, (3,3), activation='relu', input_shape=im_shape, name='Conv2D-1'),\n",
        "    tf.keras.layers.MaxPooling2D(2, 2),\n",
        "    tf.keras.layers.Dropout(0.2),\n",
        "    tf.keras.layers.Flatten(),\n",
        "    tf.keras.layers.Dense(32, activation='relu'),\n",
        "    tf.keras.layers.Dense(10, activation='softmax')\n",
        "], name=name)\n",
        "\n",
        "name = '2_Layer'\n",
        "model2 = tf.keras.models.Sequential([\n",
        "    tf.keras.layers.Conv2D(32, (3,3), activation='relu', input_shape=im_shape, name='Conv2D-1'),\n",
        "    tf.keras.layers.MaxPooling2D(2, 2),\n",
        "    tf.keras.layers.Dropout(0.2),\n",
        "\n",
        "    tf.keras.layers.Conv2D(64, (3,3), activation='relu', input_shape=im_shape, name='Conv2D-2'),\n",
        "    tf.keras.layers.Dropout(0.25),\n",
        "    tf.keras.layers.Flatten(),\n",
        "    tf.keras.layers.Dense(64, activation='relu'),\n",
        "    tf.keras.layers.Dense(10, activation='softmax')\n",
        "], name=name)\n",
        "\n",
        "name='3_layer'\n",
        "model3 = tf.keras.models.Sequential([\n",
        "    tf.keras.layers.Conv2D(32, (3,3), activation='relu', input_shape=im_shape, kernel_initializer='he_normal', name='Conv2D-1'),\n",
        "    tf.keras.layers.MaxPooling2D(2, 2),\n",
        "    tf.keras.layers.Dropout(0.25),\n",
        "\n",
        "    tf.keras.layers.Conv2D(64, (3,3), activation='relu', input_shape=im_shape, name='Conv2D-2'),\n",
        "    tf.keras.layers.Dropout(0.25),\n",
        "\n",
        "    tf.keras.layers.Conv2D(128, (3,3), activation='relu', input_shape=im_shape, name='Conv2D-3'),\n",
        "    tf.keras.layers.Dropout(0.4),\n",
        "\n",
        "    tf.keras.layers.Flatten(),\n",
        "    tf.keras.layers.Dense(128, activation='relu'),\n",
        "    tf.keras.layers.Dropout(0.4),\n",
        "    tf.keras.layers.Dense(10, activation='softmax')\n",
        "], name=name)\n",
        "\n",
        "cnn_models = [model1, model2, model3]"
      ],
      "execution_count": 0,
      "outputs": []
    },
    {
      "cell_type": "code",
      "metadata": {
        "id": "xre2S8mCoL5Q",
        "colab_type": "code",
        "colab": {
          "base_uri": "https://localhost:8080/",
          "height": 1000
        },
        "outputId": "fd0834c0-b5ce-4adb-a7a2-64a0e2b6032e"
      },
      "source": [
        "# the model summaries\n",
        "\n",
        "for model in cnn_models:\n",
        "    model.summary()"
      ],
      "execution_count": 70,
      "outputs": [
        {
          "output_type": "stream",
          "text": [
            "Model: \"1_Layer\"\n",
            "_________________________________________________________________\n",
            "Layer (type)                 Output Shape              Param #   \n",
            "=================================================================\n",
            "Conv2D-1 (Conv2D)            (None, 26, 26, 32)        320       \n",
            "_________________________________________________________________\n",
            "max_pooling2d_5 (MaxPooling2 (None, 13, 13, 32)        0         \n",
            "_________________________________________________________________\n",
            "dropout_8 (Dropout)          (None, 13, 13, 32)        0         \n",
            "_________________________________________________________________\n",
            "flatten_5 (Flatten)          (None, 5408)              0         \n",
            "_________________________________________________________________\n",
            "dense_9 (Dense)              (None, 32)                173088    \n",
            "_________________________________________________________________\n",
            "dense_10 (Dense)             (None, 10)                330       \n",
            "=================================================================\n",
            "Total params: 173,738\n",
            "Trainable params: 173,738\n",
            "Non-trainable params: 0\n",
            "_________________________________________________________________\n",
            "Model: \"2_Layer\"\n",
            "_________________________________________________________________\n",
            "Layer (type)                 Output Shape              Param #   \n",
            "=================================================================\n",
            "Conv2D-1 (Conv2D)            (None, 26, 26, 32)        320       \n",
            "_________________________________________________________________\n",
            "max_pooling2d_6 (MaxPooling2 (None, 13, 13, 32)        0         \n",
            "_________________________________________________________________\n",
            "dropout_9 (Dropout)          (None, 13, 13, 32)        0         \n",
            "_________________________________________________________________\n",
            "Conv2D-2 (Conv2D)            (None, 11, 11, 64)        18496     \n",
            "_________________________________________________________________\n",
            "dropout_10 (Dropout)         (None, 11, 11, 64)        0         \n",
            "_________________________________________________________________\n",
            "flatten_6 (Flatten)          (None, 7744)              0         \n",
            "_________________________________________________________________\n",
            "dense_11 (Dense)             (None, 64)                495680    \n",
            "_________________________________________________________________\n",
            "dense_12 (Dense)             (None, 10)                650       \n",
            "=================================================================\n",
            "Total params: 515,146\n",
            "Trainable params: 515,146\n",
            "Non-trainable params: 0\n",
            "_________________________________________________________________\n",
            "Model: \"3_layer\"\n",
            "_________________________________________________________________\n",
            "Layer (type)                 Output Shape              Param #   \n",
            "=================================================================\n",
            "Conv2D-1 (Conv2D)            (None, 26, 26, 32)        320       \n",
            "_________________________________________________________________\n",
            "max_pooling2d_7 (MaxPooling2 (None, 13, 13, 32)        0         \n",
            "_________________________________________________________________\n",
            "dropout_11 (Dropout)         (None, 13, 13, 32)        0         \n",
            "_________________________________________________________________\n",
            "Conv2D-2 (Conv2D)            (None, 11, 11, 64)        18496     \n",
            "_________________________________________________________________\n",
            "dropout_12 (Dropout)         (None, 11, 11, 64)        0         \n",
            "_________________________________________________________________\n",
            "Conv2D-3 (Conv2D)            (None, 9, 9, 128)         73856     \n",
            "_________________________________________________________________\n",
            "dropout_13 (Dropout)         (None, 9, 9, 128)         0         \n",
            "_________________________________________________________________\n",
            "flatten_7 (Flatten)          (None, 10368)             0         \n",
            "_________________________________________________________________\n",
            "dense_13 (Dense)             (None, 128)               1327232   \n",
            "_________________________________________________________________\n",
            "dropout_14 (Dropout)         (None, 128)               0         \n",
            "_________________________________________________________________\n",
            "dense_14 (Dense)             (None, 10)                1290      \n",
            "=================================================================\n",
            "Total params: 1,421,194\n",
            "Trainable params: 1,421,194\n",
            "Non-trainable params: 0\n",
            "_________________________________________________________________\n"
          ],
          "name": "stdout"
        }
      ]
    },
    {
      "cell_type": "markdown",
      "metadata": {
        "id": "49GVOXkhoXAY",
        "colab_type": "text"
      },
      "source": [
        "## lets train our 3 model "
      ]
    },
    {
      "cell_type": "code",
      "metadata": {
        "id": "a_dtiuO7oe8U",
        "colab_type": "code",
        "colab": {
          "base_uri": "https://localhost:8080/",
          "height": 1000
        },
        "outputId": "629c99ea-1286-4592-fd8c-8f36412c32b2"
      },
      "source": [
        "# train the models and save results to a dict\n",
        "\n",
        "history_dict = {}\n",
        "\n",
        "for model in cnn_models:\n",
        "    model.compile(\n",
        "        loss='sparse_categorical_crossentropy',\n",
        "        optimizer=Adam(),\n",
        "        metrics=['accuracy']\n",
        "    )\n",
        "    \n",
        "    history = model.fit(\n",
        "        x_train, y_train,\n",
        "        batch_size=batch_size,\n",
        "        epochs=50, verbose=1,\n",
        "        validation_data=(x_validate, y_validate)\n",
        "    )\n",
        "    \n",
        "    history_dict[model.name] = history"
      ],
      "execution_count": 71,
      "outputs": [
        {
          "output_type": "stream",
          "text": [
            "Epoch 1/50\n",
            "94/94 [==============================] - 18s 190ms/step - loss: 0.7707 - accuracy: 0.7339 - val_loss: 0.5103 - val_accuracy: 0.8143\n",
            "Epoch 2/50\n",
            "94/94 [==============================] - 18s 189ms/step - loss: 0.4539 - accuracy: 0.8408 - val_loss: 0.4042 - val_accuracy: 0.8597\n",
            "Epoch 3/50\n",
            "94/94 [==============================] - 18s 189ms/step - loss: 0.4024 - accuracy: 0.8583 - val_loss: 0.3818 - val_accuracy: 0.8679\n",
            "Epoch 4/50\n",
            "94/94 [==============================] - 18s 189ms/step - loss: 0.3663 - accuracy: 0.8721 - val_loss: 0.3481 - val_accuracy: 0.8786\n",
            "Epoch 5/50\n",
            "94/94 [==============================] - 18s 191ms/step - loss: 0.3459 - accuracy: 0.8792 - val_loss: 0.3267 - val_accuracy: 0.8857\n",
            "Epoch 6/50\n",
            "94/94 [==============================] - 18s 193ms/step - loss: 0.3271 - accuracy: 0.8856 - val_loss: 0.3287 - val_accuracy: 0.8794\n",
            "Epoch 7/50\n",
            "94/94 [==============================] - 18s 192ms/step - loss: 0.3167 - accuracy: 0.8879 - val_loss: 0.3150 - val_accuracy: 0.8898\n",
            "Epoch 8/50\n",
            "94/94 [==============================] - 18s 193ms/step - loss: 0.3030 - accuracy: 0.8930 - val_loss: 0.3013 - val_accuracy: 0.8951\n",
            "Epoch 9/50\n",
            "94/94 [==============================] - 18s 192ms/step - loss: 0.2929 - accuracy: 0.8954 - val_loss: 0.3036 - val_accuracy: 0.8938\n",
            "Epoch 10/50\n",
            "94/94 [==============================] - 18s 192ms/step - loss: 0.2850 - accuracy: 0.9002 - val_loss: 0.2844 - val_accuracy: 0.9013\n",
            "Epoch 11/50\n",
            "94/94 [==============================] - 18s 193ms/step - loss: 0.2764 - accuracy: 0.9023 - val_loss: 0.2874 - val_accuracy: 0.8980\n",
            "Epoch 12/50\n",
            "94/94 [==============================] - 18s 192ms/step - loss: 0.2695 - accuracy: 0.9047 - val_loss: 0.2752 - val_accuracy: 0.9019\n",
            "Epoch 13/50\n",
            "94/94 [==============================] - 18s 192ms/step - loss: 0.2653 - accuracy: 0.9049 - val_loss: 0.2717 - val_accuracy: 0.9041\n",
            "Epoch 14/50\n",
            "94/94 [==============================] - 18s 193ms/step - loss: 0.2576 - accuracy: 0.9097 - val_loss: 0.2781 - val_accuracy: 0.9002\n",
            "Epoch 15/50\n",
            "94/94 [==============================] - 18s 193ms/step - loss: 0.2534 - accuracy: 0.9102 - val_loss: 0.2667 - val_accuracy: 0.9042\n",
            "Epoch 16/50\n",
            "94/94 [==============================] - 18s 192ms/step - loss: 0.2461 - accuracy: 0.9121 - val_loss: 0.2651 - val_accuracy: 0.9038\n",
            "Epoch 17/50\n",
            "94/94 [==============================] - 18s 192ms/step - loss: 0.2403 - accuracy: 0.9133 - val_loss: 0.2678 - val_accuracy: 0.9032\n",
            "Epoch 18/50\n",
            "94/94 [==============================] - 18s 192ms/step - loss: 0.2366 - accuracy: 0.9151 - val_loss: 0.2547 - val_accuracy: 0.9073\n",
            "Epoch 19/50\n",
            "94/94 [==============================] - 18s 193ms/step - loss: 0.2291 - accuracy: 0.9181 - val_loss: 0.2582 - val_accuracy: 0.9073\n",
            "Epoch 20/50\n",
            "94/94 [==============================] - 18s 192ms/step - loss: 0.2249 - accuracy: 0.9199 - val_loss: 0.2542 - val_accuracy: 0.9093\n",
            "Epoch 21/50\n",
            "94/94 [==============================] - 18s 191ms/step - loss: 0.2193 - accuracy: 0.9215 - val_loss: 0.2540 - val_accuracy: 0.9076\n",
            "Epoch 22/50\n",
            "94/94 [==============================] - 18s 191ms/step - loss: 0.2192 - accuracy: 0.9215 - val_loss: 0.2578 - val_accuracy: 0.9078\n",
            "Epoch 23/50\n",
            "94/94 [==============================] - 18s 191ms/step - loss: 0.2157 - accuracy: 0.9215 - val_loss: 0.2496 - val_accuracy: 0.9107\n",
            "Epoch 24/50\n",
            "94/94 [==============================] - 18s 191ms/step - loss: 0.2115 - accuracy: 0.9240 - val_loss: 0.2469 - val_accuracy: 0.9139\n",
            "Epoch 25/50\n",
            "94/94 [==============================] - 18s 191ms/step - loss: 0.2060 - accuracy: 0.9251 - val_loss: 0.2498 - val_accuracy: 0.9118\n",
            "Epoch 26/50\n",
            "94/94 [==============================] - 18s 191ms/step - loss: 0.2015 - accuracy: 0.9271 - val_loss: 0.2455 - val_accuracy: 0.9125\n",
            "Epoch 27/50\n",
            "94/94 [==============================] - 18s 190ms/step - loss: 0.1978 - accuracy: 0.9286 - val_loss: 0.2463 - val_accuracy: 0.9120\n",
            "Epoch 28/50\n",
            "94/94 [==============================] - 18s 191ms/step - loss: 0.1947 - accuracy: 0.9297 - val_loss: 0.2451 - val_accuracy: 0.9138\n",
            "Epoch 29/50\n",
            "94/94 [==============================] - 18s 190ms/step - loss: 0.1929 - accuracy: 0.9306 - val_loss: 0.2483 - val_accuracy: 0.9119\n",
            "Epoch 30/50\n",
            "94/94 [==============================] - 18s 191ms/step - loss: 0.1907 - accuracy: 0.9318 - val_loss: 0.2487 - val_accuracy: 0.9137\n",
            "Epoch 31/50\n",
            "94/94 [==============================] - 18s 191ms/step - loss: 0.1846 - accuracy: 0.9339 - val_loss: 0.2475 - val_accuracy: 0.9124\n",
            "Epoch 32/50\n",
            "94/94 [==============================] - 18s 192ms/step - loss: 0.1834 - accuracy: 0.9338 - val_loss: 0.2420 - val_accuracy: 0.9137\n",
            "Epoch 33/50\n",
            "94/94 [==============================] - 18s 191ms/step - loss: 0.1806 - accuracy: 0.9349 - val_loss: 0.2450 - val_accuracy: 0.9133\n",
            "Epoch 34/50\n",
            "94/94 [==============================] - 18s 190ms/step - loss: 0.1773 - accuracy: 0.9366 - val_loss: 0.2474 - val_accuracy: 0.9122\n",
            "Epoch 35/50\n",
            "94/94 [==============================] - 18s 190ms/step - loss: 0.1727 - accuracy: 0.9376 - val_loss: 0.2415 - val_accuracy: 0.9153\n",
            "Epoch 36/50\n",
            "94/94 [==============================] - 18s 191ms/step - loss: 0.1711 - accuracy: 0.9380 - val_loss: 0.2405 - val_accuracy: 0.9159\n",
            "Epoch 37/50\n",
            "94/94 [==============================] - 18s 191ms/step - loss: 0.1705 - accuracy: 0.9381 - val_loss: 0.2422 - val_accuracy: 0.9160\n",
            "Epoch 38/50\n",
            "94/94 [==============================] - 18s 190ms/step - loss: 0.1664 - accuracy: 0.9411 - val_loss: 0.2407 - val_accuracy: 0.9141\n",
            "Epoch 39/50\n",
            "94/94 [==============================] - 18s 190ms/step - loss: 0.1644 - accuracy: 0.9406 - val_loss: 0.2388 - val_accuracy: 0.9187\n",
            "Epoch 40/50\n",
            "94/94 [==============================] - 18s 190ms/step - loss: 0.1615 - accuracy: 0.9412 - val_loss: 0.2418 - val_accuracy: 0.9158\n",
            "Epoch 41/50\n",
            "94/94 [==============================] - 18s 190ms/step - loss: 0.1590 - accuracy: 0.9419 - val_loss: 0.2437 - val_accuracy: 0.9168\n",
            "Epoch 42/50\n",
            "94/94 [==============================] - 18s 190ms/step - loss: 0.1578 - accuracy: 0.9424 - val_loss: 0.2450 - val_accuracy: 0.9173\n",
            "Epoch 43/50\n",
            "94/94 [==============================] - 18s 190ms/step - loss: 0.1518 - accuracy: 0.9444 - val_loss: 0.2446 - val_accuracy: 0.9170\n",
            "Epoch 44/50\n",
            "94/94 [==============================] - 18s 189ms/step - loss: 0.1521 - accuracy: 0.9441 - val_loss: 0.2433 - val_accuracy: 0.9146\n",
            "Epoch 45/50\n",
            "94/94 [==============================] - 18s 189ms/step - loss: 0.1494 - accuracy: 0.9458 - val_loss: 0.2428 - val_accuracy: 0.9165\n",
            "Epoch 46/50\n",
            "94/94 [==============================] - 18s 189ms/step - loss: 0.1475 - accuracy: 0.9459 - val_loss: 0.2570 - val_accuracy: 0.9103\n",
            "Epoch 47/50\n",
            "94/94 [==============================] - 18s 190ms/step - loss: 0.1460 - accuracy: 0.9468 - val_loss: 0.2410 - val_accuracy: 0.9185\n",
            "Epoch 48/50\n",
            "94/94 [==============================] - 18s 190ms/step - loss: 0.1438 - accuracy: 0.9482 - val_loss: 0.2481 - val_accuracy: 0.9162\n",
            "Epoch 49/50\n",
            "94/94 [==============================] - 18s 189ms/step - loss: 0.1452 - accuracy: 0.9463 - val_loss: 0.2455 - val_accuracy: 0.9158\n",
            "Epoch 50/50\n",
            "94/94 [==============================] - 18s 190ms/step - loss: 0.1368 - accuracy: 0.9492 - val_loss: 0.2455 - val_accuracy: 0.9179\n",
            "Epoch 1/50\n",
            "94/94 [==============================] - 39s 413ms/step - loss: 0.7162 - accuracy: 0.7462 - val_loss: 0.4794 - val_accuracy: 0.8238\n",
            "Epoch 2/50\n",
            "94/94 [==============================] - 39s 413ms/step - loss: 0.4347 - accuracy: 0.8448 - val_loss: 0.3756 - val_accuracy: 0.8675\n",
            "Epoch 3/50\n",
            "94/94 [==============================] - 39s 412ms/step - loss: 0.3855 - accuracy: 0.8614 - val_loss: 0.3502 - val_accuracy: 0.8771\n",
            "Epoch 4/50\n",
            "94/94 [==============================] - 39s 412ms/step - loss: 0.3463 - accuracy: 0.8771 - val_loss: 0.3148 - val_accuracy: 0.8888\n",
            "Epoch 5/50\n",
            "94/94 [==============================] - 39s 413ms/step - loss: 0.3274 - accuracy: 0.8822 - val_loss: 0.3028 - val_accuracy: 0.8916\n",
            "Epoch 6/50\n",
            "94/94 [==============================] - 39s 411ms/step - loss: 0.3072 - accuracy: 0.8903 - val_loss: 0.2909 - val_accuracy: 0.8950\n",
            "Epoch 7/50\n",
            "94/94 [==============================] - 39s 412ms/step - loss: 0.2887 - accuracy: 0.8971 - val_loss: 0.2648 - val_accuracy: 0.9066\n",
            "Epoch 8/50\n",
            "94/94 [==============================] - 39s 412ms/step - loss: 0.2712 - accuracy: 0.9036 - val_loss: 0.2586 - val_accuracy: 0.9064\n",
            "Epoch 9/50\n",
            "94/94 [==============================] - 39s 413ms/step - loss: 0.2599 - accuracy: 0.9066 - val_loss: 0.2501 - val_accuracy: 0.9106\n",
            "Epoch 10/50\n",
            "94/94 [==============================] - 39s 410ms/step - loss: 0.2500 - accuracy: 0.9101 - val_loss: 0.2582 - val_accuracy: 0.9062\n",
            "Epoch 11/50\n",
            "94/94 [==============================] - 39s 411ms/step - loss: 0.2403 - accuracy: 0.9135 - val_loss: 0.2382 - val_accuracy: 0.9140\n",
            "Epoch 12/50\n",
            "94/94 [==============================] - 39s 412ms/step - loss: 0.2355 - accuracy: 0.9144 - val_loss: 0.2335 - val_accuracy: 0.9164\n",
            "Epoch 13/50\n",
            "94/94 [==============================] - 39s 412ms/step - loss: 0.2231 - accuracy: 0.9206 - val_loss: 0.2292 - val_accuracy: 0.9170\n",
            "Epoch 14/50\n",
            "94/94 [==============================] - 39s 412ms/step - loss: 0.2166 - accuracy: 0.9211 - val_loss: 0.2255 - val_accuracy: 0.9181\n",
            "Epoch 15/50\n",
            "94/94 [==============================] - 39s 412ms/step - loss: 0.2099 - accuracy: 0.9248 - val_loss: 0.2266 - val_accuracy: 0.9165\n",
            "Epoch 16/50\n",
            "94/94 [==============================] - 39s 412ms/step - loss: 0.1993 - accuracy: 0.9284 - val_loss: 0.2176 - val_accuracy: 0.9210\n",
            "Epoch 17/50\n",
            "94/94 [==============================] - 39s 413ms/step - loss: 0.1984 - accuracy: 0.9275 - val_loss: 0.2274 - val_accuracy: 0.9168\n",
            "Epoch 18/50\n",
            "94/94 [==============================] - 39s 412ms/step - loss: 0.1909 - accuracy: 0.9297 - val_loss: 0.2161 - val_accuracy: 0.9201\n",
            "Epoch 19/50\n",
            "94/94 [==============================] - 39s 412ms/step - loss: 0.1828 - accuracy: 0.9329 - val_loss: 0.2158 - val_accuracy: 0.9198\n",
            "Epoch 20/50\n",
            "94/94 [==============================] - 39s 411ms/step - loss: 0.1785 - accuracy: 0.9347 - val_loss: 0.2087 - val_accuracy: 0.9242\n",
            "Epoch 21/50\n",
            "94/94 [==============================] - 39s 412ms/step - loss: 0.1739 - accuracy: 0.9364 - val_loss: 0.2102 - val_accuracy: 0.9221\n",
            "Epoch 22/50\n",
            "94/94 [==============================] - 39s 412ms/step - loss: 0.1724 - accuracy: 0.9375 - val_loss: 0.2039 - val_accuracy: 0.9260\n",
            "Epoch 23/50\n",
            "94/94 [==============================] - 39s 413ms/step - loss: 0.1645 - accuracy: 0.9401 - val_loss: 0.2032 - val_accuracy: 0.9277\n",
            "Epoch 24/50\n",
            "94/94 [==============================] - 39s 412ms/step - loss: 0.1610 - accuracy: 0.9414 - val_loss: 0.2012 - val_accuracy: 0.9275\n",
            "Epoch 25/50\n",
            "94/94 [==============================] - 39s 412ms/step - loss: 0.1539 - accuracy: 0.9430 - val_loss: 0.2064 - val_accuracy: 0.9266\n",
            "Epoch 26/50\n",
            "94/94 [==============================] - 39s 412ms/step - loss: 0.1486 - accuracy: 0.9456 - val_loss: 0.2040 - val_accuracy: 0.9253\n",
            "Epoch 27/50\n",
            "94/94 [==============================] - 39s 411ms/step - loss: 0.1432 - accuracy: 0.9485 - val_loss: 0.2048 - val_accuracy: 0.9249\n",
            "Epoch 28/50\n",
            "94/94 [==============================] - 39s 411ms/step - loss: 0.1421 - accuracy: 0.9483 - val_loss: 0.1992 - val_accuracy: 0.9293\n",
            "Epoch 29/50\n",
            "94/94 [==============================] - 39s 411ms/step - loss: 0.1380 - accuracy: 0.9497 - val_loss: 0.2062 - val_accuracy: 0.9261\n",
            "Epoch 30/50\n",
            "94/94 [==============================] - 39s 412ms/step - loss: 0.1335 - accuracy: 0.9523 - val_loss: 0.1994 - val_accuracy: 0.9293\n",
            "Epoch 31/50\n",
            "94/94 [==============================] - 39s 410ms/step - loss: 0.1265 - accuracy: 0.9540 - val_loss: 0.2005 - val_accuracy: 0.9274\n",
            "Epoch 32/50\n",
            "94/94 [==============================] - 39s 410ms/step - loss: 0.1273 - accuracy: 0.9529 - val_loss: 0.2131 - val_accuracy: 0.9231\n",
            "Epoch 33/50\n",
            "94/94 [==============================] - 39s 411ms/step - loss: 0.1228 - accuracy: 0.9553 - val_loss: 0.2062 - val_accuracy: 0.9250\n",
            "Epoch 34/50\n",
            "94/94 [==============================] - 39s 410ms/step - loss: 0.1218 - accuracy: 0.9545 - val_loss: 0.2023 - val_accuracy: 0.9279\n",
            "Epoch 35/50\n",
            "94/94 [==============================] - 38s 409ms/step - loss: 0.1164 - accuracy: 0.9580 - val_loss: 0.2053 - val_accuracy: 0.9288\n",
            "Epoch 36/50\n",
            "94/94 [==============================] - 39s 410ms/step - loss: 0.1124 - accuracy: 0.9592 - val_loss: 0.2115 - val_accuracy: 0.9267\n",
            "Epoch 37/50\n",
            "94/94 [==============================] - 39s 410ms/step - loss: 0.1085 - accuracy: 0.9600 - val_loss: 0.2067 - val_accuracy: 0.9295\n",
            "Epoch 38/50\n",
            "94/94 [==============================] - 39s 410ms/step - loss: 0.1062 - accuracy: 0.9609 - val_loss: 0.2109 - val_accuracy: 0.9288\n",
            "Epoch 39/50\n",
            "94/94 [==============================] - 39s 410ms/step - loss: 0.1060 - accuracy: 0.9611 - val_loss: 0.2028 - val_accuracy: 0.9313\n",
            "Epoch 40/50\n",
            "94/94 [==============================] - 39s 411ms/step - loss: 0.1011 - accuracy: 0.9630 - val_loss: 0.2046 - val_accuracy: 0.9295\n",
            "Epoch 41/50\n",
            "94/94 [==============================] - 39s 412ms/step - loss: 0.0968 - accuracy: 0.9642 - val_loss: 0.2056 - val_accuracy: 0.9295\n",
            "Epoch 42/50\n",
            "94/94 [==============================] - 39s 410ms/step - loss: 0.0961 - accuracy: 0.9641 - val_loss: 0.2119 - val_accuracy: 0.9277\n",
            "Epoch 43/50\n",
            "94/94 [==============================] - 39s 410ms/step - loss: 0.0915 - accuracy: 0.9671 - val_loss: 0.2239 - val_accuracy: 0.9261\n",
            "Epoch 44/50\n",
            "94/94 [==============================] - 39s 410ms/step - loss: 0.0885 - accuracy: 0.9678 - val_loss: 0.2139 - val_accuracy: 0.9287\n",
            "Epoch 45/50\n",
            "94/94 [==============================] - 39s 410ms/step - loss: 0.0863 - accuracy: 0.9683 - val_loss: 0.2099 - val_accuracy: 0.9319\n",
            "Epoch 46/50\n",
            "94/94 [==============================] - 39s 410ms/step - loss: 0.0831 - accuracy: 0.9689 - val_loss: 0.2146 - val_accuracy: 0.9285\n",
            "Epoch 47/50\n",
            "94/94 [==============================] - 39s 410ms/step - loss: 0.0849 - accuracy: 0.9687 - val_loss: 0.2197 - val_accuracy: 0.9290\n",
            "Epoch 48/50\n",
            "94/94 [==============================] - 39s 410ms/step - loss: 0.0779 - accuracy: 0.9707 - val_loss: 0.2158 - val_accuracy: 0.9303\n",
            "Epoch 49/50\n",
            "94/94 [==============================] - 39s 411ms/step - loss: 0.0793 - accuracy: 0.9712 - val_loss: 0.2160 - val_accuracy: 0.9290\n",
            "Epoch 50/50\n",
            "94/94 [==============================] - 39s 410ms/step - loss: 0.0788 - accuracy: 0.9709 - val_loss: 0.2357 - val_accuracy: 0.9266\n",
            "Epoch 1/50\n",
            "94/94 [==============================] - 84s 888ms/step - loss: 0.7899 - accuracy: 0.7106 - val_loss: 0.4429 - val_accuracy: 0.8371\n",
            "Epoch 2/50\n",
            "94/94 [==============================] - 84s 889ms/step - loss: 0.4741 - accuracy: 0.8287 - val_loss: 0.3537 - val_accuracy: 0.8708\n",
            "Epoch 3/50\n",
            "94/94 [==============================] - 84s 891ms/step - loss: 0.4050 - accuracy: 0.8540 - val_loss: 0.3034 - val_accuracy: 0.8887\n",
            "Epoch 4/50\n",
            "94/94 [==============================] - 83s 888ms/step - loss: 0.3636 - accuracy: 0.8687 - val_loss: 0.2833 - val_accuracy: 0.8952\n",
            "Epoch 5/50\n",
            "94/94 [==============================] - 83s 886ms/step - loss: 0.3361 - accuracy: 0.8779 - val_loss: 0.2732 - val_accuracy: 0.8997\n",
            "Epoch 6/50\n",
            "94/94 [==============================] - 83s 888ms/step - loss: 0.3169 - accuracy: 0.8862 - val_loss: 0.2611 - val_accuracy: 0.9046\n",
            "Epoch 7/50\n",
            "94/94 [==============================] - 84s 891ms/step - loss: 0.2974 - accuracy: 0.8909 - val_loss: 0.2441 - val_accuracy: 0.9089\n",
            "Epoch 8/50\n",
            "94/94 [==============================] - 83s 888ms/step - loss: 0.2801 - accuracy: 0.8976 - val_loss: 0.2387 - val_accuracy: 0.9115\n",
            "Epoch 9/50\n",
            "94/94 [==============================] - 84s 889ms/step - loss: 0.2719 - accuracy: 0.8996 - val_loss: 0.2351 - val_accuracy: 0.9122\n",
            "Epoch 10/50\n",
            "94/94 [==============================] - 84s 898ms/step - loss: 0.2617 - accuracy: 0.9043 - val_loss: 0.2339 - val_accuracy: 0.9117\n",
            "Epoch 11/50\n",
            "94/94 [==============================] - 84s 890ms/step - loss: 0.2488 - accuracy: 0.9093 - val_loss: 0.2203 - val_accuracy: 0.9193\n",
            "Epoch 12/50\n",
            "94/94 [==============================] - 83s 887ms/step - loss: 0.2398 - accuracy: 0.9120 - val_loss: 0.2206 - val_accuracy: 0.9197\n",
            "Epoch 13/50\n",
            "94/94 [==============================] - 83s 888ms/step - loss: 0.2358 - accuracy: 0.9141 - val_loss: 0.2171 - val_accuracy: 0.9187\n",
            "Epoch 14/50\n",
            "94/94 [==============================] - 83s 887ms/step - loss: 0.2277 - accuracy: 0.9164 - val_loss: 0.2183 - val_accuracy: 0.9197\n",
            "Epoch 15/50\n",
            "94/94 [==============================] - 83s 888ms/step - loss: 0.2186 - accuracy: 0.9191 - val_loss: 0.2134 - val_accuracy: 0.9224\n",
            "Epoch 16/50\n",
            "94/94 [==============================] - 83s 888ms/step - loss: 0.2128 - accuracy: 0.9209 - val_loss: 0.2108 - val_accuracy: 0.9228\n",
            "Epoch 17/50\n",
            "94/94 [==============================] - 84s 890ms/step - loss: 0.2069 - accuracy: 0.9238 - val_loss: 0.2057 - val_accuracy: 0.9247\n",
            "Epoch 18/50\n",
            "94/94 [==============================] - 84s 889ms/step - loss: 0.2052 - accuracy: 0.9233 - val_loss: 0.2121 - val_accuracy: 0.9235\n",
            "Epoch 19/50\n",
            "94/94 [==============================] - 83s 887ms/step - loss: 0.1943 - accuracy: 0.9282 - val_loss: 0.2076 - val_accuracy: 0.9237\n",
            "Epoch 20/50\n",
            "94/94 [==============================] - 84s 889ms/step - loss: 0.1907 - accuracy: 0.9280 - val_loss: 0.2050 - val_accuracy: 0.9249\n",
            "Epoch 21/50\n",
            "94/94 [==============================] - 83s 887ms/step - loss: 0.1882 - accuracy: 0.9293 - val_loss: 0.2011 - val_accuracy: 0.9268\n",
            "Epoch 22/50\n",
            "94/94 [==============================] - 83s 887ms/step - loss: 0.1799 - accuracy: 0.9333 - val_loss: 0.2045 - val_accuracy: 0.9262\n",
            "Epoch 23/50\n",
            "94/94 [==============================] - 83s 886ms/step - loss: 0.1769 - accuracy: 0.9350 - val_loss: 0.2095 - val_accuracy: 0.9252\n",
            "Epoch 24/50\n",
            "94/94 [==============================] - 83s 888ms/step - loss: 0.1728 - accuracy: 0.9354 - val_loss: 0.2019 - val_accuracy: 0.9262\n",
            "Epoch 25/50\n",
            "94/94 [==============================] - 84s 890ms/step - loss: 0.1669 - accuracy: 0.9374 - val_loss: 0.2065 - val_accuracy: 0.9277\n",
            "Epoch 26/50\n",
            "94/94 [==============================] - 83s 887ms/step - loss: 0.1644 - accuracy: 0.9383 - val_loss: 0.2065 - val_accuracy: 0.9263\n",
            "Epoch 27/50\n",
            "94/94 [==============================] - 83s 888ms/step - loss: 0.1592 - accuracy: 0.9395 - val_loss: 0.2050 - val_accuracy: 0.9270\n",
            "Epoch 28/50\n",
            "94/94 [==============================] - 84s 888ms/step - loss: 0.1595 - accuracy: 0.9402 - val_loss: 0.2077 - val_accuracy: 0.9304\n",
            "Epoch 29/50\n",
            "94/94 [==============================] - 84s 888ms/step - loss: 0.1581 - accuracy: 0.9411 - val_loss: 0.2059 - val_accuracy: 0.9268\n",
            "Epoch 30/50\n",
            "94/94 [==============================] - 84s 890ms/step - loss: 0.1483 - accuracy: 0.9435 - val_loss: 0.1981 - val_accuracy: 0.9280\n",
            "Epoch 31/50\n",
            "94/94 [==============================] - 84s 897ms/step - loss: 0.1463 - accuracy: 0.9450 - val_loss: 0.2040 - val_accuracy: 0.9298\n",
            "Epoch 32/50\n",
            "94/94 [==============================] - 83s 888ms/step - loss: 0.1433 - accuracy: 0.9444 - val_loss: 0.2044 - val_accuracy: 0.9303\n",
            "Epoch 33/50\n",
            "94/94 [==============================] - 83s 886ms/step - loss: 0.1421 - accuracy: 0.9469 - val_loss: 0.1994 - val_accuracy: 0.9295\n",
            "Epoch 34/50\n",
            "94/94 [==============================] - 83s 888ms/step - loss: 0.1412 - accuracy: 0.9461 - val_loss: 0.2029 - val_accuracy: 0.9308\n",
            "Epoch 35/50\n",
            "94/94 [==============================] - 83s 888ms/step - loss: 0.1380 - accuracy: 0.9478 - val_loss: 0.2061 - val_accuracy: 0.9306\n",
            "Epoch 36/50\n",
            "94/94 [==============================] - 83s 886ms/step - loss: 0.1363 - accuracy: 0.9474 - val_loss: 0.2019 - val_accuracy: 0.9312\n",
            "Epoch 37/50\n",
            "94/94 [==============================] - 84s 891ms/step - loss: 0.1319 - accuracy: 0.9502 - val_loss: 0.2030 - val_accuracy: 0.9289\n",
            "Epoch 38/50\n",
            "94/94 [==============================] - 83s 888ms/step - loss: 0.1318 - accuracy: 0.9498 - val_loss: 0.2011 - val_accuracy: 0.9304\n",
            "Epoch 39/50\n",
            "94/94 [==============================] - 83s 888ms/step - loss: 0.1270 - accuracy: 0.9516 - val_loss: 0.2100 - val_accuracy: 0.9310\n",
            "Epoch 40/50\n",
            "94/94 [==============================] - 84s 890ms/step - loss: 0.1284 - accuracy: 0.9510 - val_loss: 0.2080 - val_accuracy: 0.9281\n",
            "Epoch 41/50\n",
            "94/94 [==============================] - 84s 889ms/step - loss: 0.1263 - accuracy: 0.9526 - val_loss: 0.2115 - val_accuracy: 0.9283\n",
            "Epoch 42/50\n",
            "94/94 [==============================] - 83s 888ms/step - loss: 0.1219 - accuracy: 0.9529 - val_loss: 0.2122 - val_accuracy: 0.9313\n",
            "Epoch 43/50\n",
            "94/94 [==============================] - 84s 889ms/step - loss: 0.1219 - accuracy: 0.9540 - val_loss: 0.2131 - val_accuracy: 0.9327\n",
            "Epoch 44/50\n",
            "94/94 [==============================] - 84s 890ms/step - loss: 0.1199 - accuracy: 0.9550 - val_loss: 0.2122 - val_accuracy: 0.9318\n",
            "Epoch 45/50\n",
            "94/94 [==============================] - 83s 888ms/step - loss: 0.1173 - accuracy: 0.9559 - val_loss: 0.2155 - val_accuracy: 0.9312\n",
            "Epoch 46/50\n",
            "94/94 [==============================] - 83s 888ms/step - loss: 0.1131 - accuracy: 0.9565 - val_loss: 0.2123 - val_accuracy: 0.9312\n",
            "Epoch 47/50\n",
            "94/94 [==============================] - 84s 889ms/step - loss: 0.1104 - accuracy: 0.9578 - val_loss: 0.2163 - val_accuracy: 0.9332\n",
            "Epoch 48/50\n",
            "94/94 [==============================] - 84s 890ms/step - loss: 0.1126 - accuracy: 0.9578 - val_loss: 0.2159 - val_accuracy: 0.9293\n",
            "Epoch 49/50\n",
            "94/94 [==============================] - 83s 888ms/step - loss: 0.1101 - accuracy: 0.9585 - val_loss: 0.2274 - val_accuracy: 0.9327\n",
            "Epoch 50/50\n",
            "94/94 [==============================] - 84s 889ms/step - loss: 0.1077 - accuracy: 0.9595 - val_loss: 0.2207 - val_accuracy: 0.9323\n"
          ],
          "name": "stdout"
        }
      ]
    },
    {
      "cell_type": "code",
      "metadata": {
        "id": "3kcIMubIot4o",
        "colab_type": "code",
        "colab": {
          "base_uri": "https://localhost:8080/",
          "height": 388
        },
        "outputId": "97842f18-ae9b-4bb8-f438-147ab42dc973"
      },
      "source": [
        "# plot the accuracy and loss\n",
        "\n",
        "fig, (ax1, ax2) = plt.subplots(2, figsize=(8, 6))\n",
        "\n",
        "for history in history_dict:\n",
        "    val_acc = history_dict[history].history['val_accuracy']\n",
        "    val_loss = history_dict[history].history['val_loss']\n",
        "    ax1.plot(val_acc, label=history)\n",
        "    ax2.plot(val_loss, label=history)\n",
        "    \n",
        "ax1.set_ylabel('validation accuracy')\n",
        "ax2.set_ylabel('validation loss')\n",
        "ax2.set_xlabel('epochs')\n",
        "ax1.legend()\n",
        "ax2.legend()\n",
        "plt.show()"
      ],
      "execution_count": 73,
      "outputs": [
        {
          "output_type": "display_data",
          "data": {
            "image/png": "[encoded data removed]",
            "text/plain": [
              "<Figure size 576x432 with 2 Axes>"
            ]
          },
          "metadata": {
            "tags": []
          }
        }
      ]
    },
    {
      "cell_type": "code",
      "metadata": {
        "id": "C_GD9Hb_FzPk",
        "colab_type": "code",
        "colab": {
          "base_uri": "https://localhost:8080/",
          "height": 537
        },
        "outputId": "ec128bc5-495a-49cd-bfb1-d796a2ba259b"
      },
      "source": [
        "# Making Prediction from the train model\n",
        "print(\"Predicting...\")\n",
        "image = x_test[50, :].reshape((28, 28))\n",
        "plt.imshow(image, cmap=\"Greys\")\n",
        "plt.show()\n",
        "\n",
        "\n",
        "pred1 = model1.predict(x_test[50, :].reshape(1,28, 28,1))\n",
        "pred2 = model2.predict(x_test[50, :].reshape(1,28, 28,1))\n",
        "pred3 = model3.predict(x_test[50, :].reshape(1,28, 28,1))\n",
        "\n",
        "labels_data = \"\"\"\n",
        "0 T-shirt/top\n",
        "1 Trouser\n",
        "2 Pullover\n",
        "3 Dress\n",
        "4 Coat\n",
        "5 Sandal\n",
        "6 Shirt\n",
        "7 Sneaker\n",
        "8 Bag\n",
        "9 Ankle boot\n",
        "\"\"\"\n",
        "\n",
        "print(labels_data)\n",
        "\n",
        "print(\"Prediction from model 1 ==>\", pred1.argmax())\n",
        "print(\"Prediction from model 2 ==>\", pred2.argmax())\n",
        "print(\"Prediction from model 3 ==>\", pred3.argmax())\n"
      ],
      "execution_count": 88,
      "outputs": [
        {
          "output_type": "stream",
          "text": [
            "Predicting...\n"
          ],
          "name": "stdout"
        },
        {
          "output_type": "display_data",
          "data": {
            "image/png": "[encoded data removed]",
            "text/plain": [
              "<Figure size 432x288 with 1 Axes>"
            ]
          },
          "metadata": {
            "tags": []
          }
        },
        {
          "output_type": "stream",
          "text": [
            "\n",
            "0 T-shirt/top\n",
            "1 Trouser\n",
            "2 Pullover\n",
            "3 Dress\n",
            "4 Coat\n",
            "5 Sandal\n",
            "6 Shirt\n",
            "7 Sneaker\n",
            "8 Bag\n",
            "9 Ankle boot\n",
            "\n",
            "Prediction from model 1 ==> 6\n",
            "Prediction from model 2 ==> 2\n",
            "Prediction from model 3 ==> 2\n"
          ],
          "name": "stdout"
        }
      ]
    },
    {
      "cell_type": "code",
      "metadata": {
        "id": "O3VZVikmKT6n",
        "colab_type": "code",
        "colab": {
          "base_uri": "https://localhost:8080/",
          "height": 537
        },
        "outputId": "3e485aa0-24d9-432e-da37-d32a2e41400c"
      },
      "source": [
        "print(\"Predicting...\")\n",
        "image = x_test[65, :].reshape((28, 28))\n",
        "plt.imshow(image, cmap=\"Greys\")\n",
        "plt.show()\n",
        "\n",
        "\n",
        "pred1 = model1.predict(x_test[65, :].reshape(1,28, 28,1))\n",
        "pred2 = model2.predict(x_test[65, :].reshape(1,28, 28,1))\n",
        "pred3 = model3.predict(x_test[65, :].reshape(1,28, 28,1))\n",
        "\n",
        "labels_data = \"\"\"\n",
        "0 T-shirt/top\n",
        "1 Trouser\n",
        "2 Pullover\n",
        "3 Dress\n",
        "4 Coat\n",
        "5 Sandal\n",
        "6 Shirt\n",
        "7 Sneaker\n",
        "8 Bag\n",
        "9 Ankle boot\n",
        "\"\"\"\n",
        "\n",
        "print(labels_data)\n",
        "\n",
        "print(\"Prediction from model 1 ==>\", pred1.argmax())\n",
        "print(\"Prediction from model 2 ==>\", pred2.argmax())\n",
        "print(\"Prediction from model 3 ==>\", pred3.argmax())"
      ],
      "execution_count": 89,
      "outputs": [
        {
          "output_type": "stream",
          "text": [
            "Predicting...\n"
          ],
          "name": "stdout"
        },
        {
          "output_type": "display_data",
          "data": {
            "image/png": "[encoded data removed]",
            "text/plain": [
              "<Figure size 432x288 with 1 Axes>"
            ]
          },
          "metadata": {
            "tags": []
          }
        },
        {
          "output_type": "stream",
          "text": [
            "\n",
            "0 T-shirt/top\n",
            "1 Trouser\n",
            "2 Pullover\n",
            "3 Dress\n",
            "4 Coat\n",
            "5 Sandal\n",
            "6 Shirt\n",
            "7 Sneaker\n",
            "8 Bag\n",
            "9 Ankle boot\n",
            "\n",
            "Prediction from model 1 ==> 1\n",
            "Prediction from model 2 ==> 1\n",
            "Prediction from model 3 ==> 1\n"
          ],
          "name": "stdout"
        }
      ]
    },
    {
      "cell_type": "code",
      "metadata": {
        "id": "rBtBq96hKwKt",
        "colab_type": "code",
        "colab": {
          "base_uri": "https://localhost:8080/",
          "height": 51
        },
        "outputId": "27cb0e06-fb35-47a4-fdf8-ced0895fb218"
      },
      "source": [
        "score = model1.evaluate(x_test, y_test, verbose=0)\n",
        "\n",
        "print('model 1 test loss: {:.4f}'.format(score[0]))\n",
        "print(' model 1 test acc: {:.4f}'.format(score[1]))"
      ],
      "execution_count": 85,
      "outputs": [
        {
          "output_type": "stream",
          "text": [
            "model 1 test loss: 0.2415\n",
            " model 1 test acc: 0.9173\n"
          ],
          "name": "stdout"
        }
      ]
    },
    {
      "cell_type": "code",
      "metadata": {
        "id": "Q3h0lZ6xK6cg",
        "colab_type": "code",
        "colab": {
          "base_uri": "https://localhost:8080/",
          "height": 51
        },
        "outputId": "968c2107-bb84-44d3-f59d-6531b2973a86"
      },
      "source": [
        "score = model2.evaluate(x_test, y_test, verbose=0)\n",
        "\n",
        "print('model 2 test loss: {:.4f}'.format(score[0]))\n",
        "print(' model 2 test acc: {:.4f}'.format(score[1]))"
      ],
      "execution_count": 86,
      "outputs": [
        {
          "output_type": "stream",
          "text": [
            "model 2 test loss: 0.2385\n",
            " model 2 test acc: 0.9271\n"
          ],
          "name": "stdout"
        }
      ]
    },
    {
      "cell_type": "code",
      "metadata": {
        "id": "a3_J-ZRMLEr6",
        "colab_type": "code",
        "colab": {
          "base_uri": "https://localhost:8080/",
          "height": 51
        },
        "outputId": "7483fa92-a901-4bda-dee7-ff210998aba3"
      },
      "source": [
        "score = model3.evaluate(x_test, y_test, verbose=0)\n",
        "\n",
        "print('model 3 test loss: {:.4f}'.format(score[0]))\n",
        "print(' model 3 test acc: {:.4f}'.format(score[1]))"
      ],
      "execution_count": 87,
      "outputs": [
        {
          "output_type": "stream",
          "text": [
            "model 3 test loss: 0.2168\n",
            " model 3 test acc: 0.9370\n"
          ],
          "name": "stdout"
        }
      ]
    },
    {
      "cell_type": "code",
      "metadata": {
        "id": "hnFksTioS94A",
        "colab_type": "code",
        "colab": {
          "base_uri": "https://localhost:8080/",
          "height": 34
        },
        "outputId": "c649c7a0-6d81-4fbc-f43e-d07f61fd2f9b"
      },
      "source": [
        "# tensorboard setting\n",
        "\n",
        "log_dir=r'logs\\{}'.format('cnn_1layer')\n",
        "tensorboard_callback = tf.keras.callbacks.TensorBoard(\n",
        "    log_dir=log_dir, \n",
        "    histogram_freq=1,\n",
        "    write_graph=True,\n",
        "    write_grads=True,\n",
        "    write_images=True,\n",
        ")\n"
      ],
      "execution_count": 18,
      "outputs": [
        {
          "output_type": "stream",
          "text": [
            "WARNING:tensorflow:`write_grads` will be ignored in TensorFlow 2.0 for the `TensorBoard` Callback.\n"
          ],
          "name": "stdout"
        }
      ]
    },
    {
      "cell_type": "code",
      "metadata": {
        "id": "kMZF0xewTII7",
        "colab_type": "code",
        "colab": {}
      },
      "source": [
        "# compiling the model\n",
        "\n",
        "model.compile(\n",
        "    loss='sparse_categorical_crossentropy',\n",
        "    optimizer=Adam(lr=0.001),\n",
        "    metrics=['accuracy']\n",
        ")"
      ],
      "execution_count": 0,
      "outputs": []
    },
    {
      "cell_type": "code",
      "metadata": {
        "id": "KgV5kq_aUdnN",
        "colab_type": "code",
        "colab": {
          "base_uri": "https://localhost:8080/",
          "height": 374
        },
        "outputId": "078753e8-84b3-419f-a1a9-efe9461249a6"
      },
      "source": [
        "## fitting the model\n",
        "\n",
        "model.fit(\n",
        "    x_train, y_train, batch_size=batch_size,\n",
        "    epochs=10, verbose=1,\n",
        "    validation_data=(x_validate, y_validate),\n",
        "    callbacks=[tensorboard_callback]\n",
        ")"
      ],
      "execution_count": 79,
      "outputs": [
        {
          "output_type": "stream",
          "text": [
            "Epoch 1/10\n",
            "94/94 [==============================] - 84s 892ms/step - loss: 0.1138 - accuracy: 0.9570 - val_loss: 0.2183 - val_accuracy: 0.9317\n",
            "Epoch 2/10\n",
            "94/94 [==============================] - 84s 895ms/step - loss: 0.1083 - accuracy: 0.9584 - val_loss: 0.2254 - val_accuracy: 0.9317\n",
            "Epoch 3/10\n",
            "94/94 [==============================] - 84s 892ms/step - loss: 0.1087 - accuracy: 0.9585 - val_loss: 0.2185 - val_accuracy: 0.9333\n",
            "Epoch 4/10\n",
            "94/94 [==============================] - 84s 892ms/step - loss: 0.1019 - accuracy: 0.9610 - val_loss: 0.2193 - val_accuracy: 0.9324\n",
            "Epoch 5/10\n",
            "94/94 [==============================] - 84s 893ms/step - loss: 0.1052 - accuracy: 0.9602 - val_loss: 0.2170 - val_accuracy: 0.9308\n",
            "Epoch 6/10\n",
            "94/94 [==============================] - 84s 892ms/step - loss: 0.1046 - accuracy: 0.9604 - val_loss: 0.2240 - val_accuracy: 0.9297\n",
            "Epoch 7/10\n",
            "94/94 [==============================] - 84s 889ms/step - loss: 0.1000 - accuracy: 0.9619 - val_loss: 0.2286 - val_accuracy: 0.9313\n",
            "Epoch 8/10\n",
            "94/94 [==============================] - 84s 891ms/step - loss: 0.0997 - accuracy: 0.9616 - val_loss: 0.2234 - val_accuracy: 0.9321\n",
            "Epoch 9/10\n",
            "94/94 [==============================] - 84s 891ms/step - loss: 0.1004 - accuracy: 0.9611 - val_loss: 0.2304 - val_accuracy: 0.9292\n",
            "Epoch 10/10\n",
            "94/94 [==============================] - 84s 890ms/step - loss: 0.1034 - accuracy: 0.9613 - val_loss: 0.2231 - val_accuracy: 0.9340\n"
          ],
          "name": "stdout"
        },
        {
          "output_type": "execute_result",
          "data": {
            "text/plain": [
              "<tensorflow.python.keras.callbacks.History at 0x7f836d1d15f8>"
            ]
          },
          "metadata": {
            "tags": []
          },
          "execution_count": 79
        }
      ]
    },
    {
      "cell_type": "code",
      "metadata": {
        "id": "b6VDtHxdU5T0",
        "colab_type": "code",
        "colab": {
          "base_uri": "https://localhost:8080/",
          "height": 34
        },
        "outputId": "76443713-fc22-4120-e9a2-6759c633876d"
      },
      "source": [
        "!ls 'logs\\cnn_1layer'"
      ],
      "execution_count": 74,
      "outputs": [
        {
          "output_type": "stream",
          "text": [
            "train  validation\n"
          ],
          "name": "stdout"
        }
      ]
    },
    {
      "cell_type": "code",
      "metadata": {
        "id": "SYfZb4J4Vroq",
        "colab_type": "code",
        "colab": {
          "base_uri": "https://localhost:8080/",
          "height": 51
        },
        "outputId": "916b79ce-e444-4c84-bfd8-eb2bc6109b1a"
      },
      "source": [
        "score = model.evaluate(x_test, y_test, verbose=0)\n",
        "\n",
        "print('test loss: {:.4f}'.format(score[0]))\n",
        "print(' test acc: {:.4f}'.format(score[1]))"
      ],
      "execution_count": 66,
      "outputs": [
        {
          "output_type": "stream",
          "text": [
            "test loss: 0.3027\n",
            " test acc: 0.8966\n"
          ],
          "name": "stdout"
        }
      ]
    },
    {
      "cell_type": "code",
      "metadata": {
        "id": "5rvt4gyvWomK",
        "colab_type": "code",
        "colab": {}
      },
      "source": [
        "%load_ext tensorboard"
      ],
      "execution_count": 0,
      "outputs": []
    },
    {
      "cell_type": "code",
      "metadata": {
        "id": "d55cRPoyey7p",
        "colab_type": "code",
        "colab": {}
      },
      "source": [
        "# %tensorboard --logdir 'logs\\cnn_1layer'"
      ],
      "execution_count": 0,
      "outputs": []
    },
    {
      "cell_type": "markdown",
      "metadata": {
        "id": "_kXVCkL6Ybzy",
        "colab_type": "text"
      },
      "source": [
        "Projection"
      ]
    },
    {
      "cell_type": "code",
      "metadata": {
        "id": "1yOAsg56WfO1",
        "colab_type": "code",
        "colab": {}
      },
      "source": [
        "from tensorboard.plugins import projector\n"
      ],
      "execution_count": 0,
      "outputs": []
    },
    {
      "cell_type": "code",
      "metadata": {
        "id": "F_SX0dYIXSCu",
        "colab_type": "code",
        "colab": {}
      },
      "source": [
        "# %reload_ext tensorboard"
      ],
      "execution_count": 0,
      "outputs": []
    },
    {
      "cell_type": "code",
      "metadata": {
        "id": "2btYTpXWhFh1",
        "colab_type": "code",
        "colab": {}
      },
      "source": [
        ""
      ],
      "execution_count": 0,
      "outputs": []
    },
    {
      "cell_type": "code",
      "metadata": {
        "id": "hK7WBf7qgme3",
        "colab_type": "code",
        "colab": {}
      },
      "source": [
        "# import the data and split into X and Y\n",
        "\n",
        "pro_test_data = np.array(train_df, dtype='float32')\n",
        "\n",
        "embed_count = 1600\n",
        "pro_x_test = pro_test_data[:embed_count, 1:] / 255\n",
        "pro_y_test = pro_test_data[:embed_count, 0]\n",
        "\n",
        "pro_logdir = './logs' "
      ],
      "execution_count": 0,
      "outputs": []
    },
    {
      "cell_type": "code",
      "metadata": {
        "id": "NMigPL82hPHG",
        "colab_type": "code",
        "colab": {}
      },
      "source": [
        "!mkdir logs"
      ],
      "execution_count": 0,
      "outputs": []
    },
    {
      "cell_type": "code",
      "metadata": {
        "id": "fIsQRbGVhy_j",
        "colab_type": "code",
        "colab": {
          "base_uri": "https://localhost:8080/",
          "height": 85
        },
        "outputId": "56649f5c-d46c-42a4-c757-752282aadb82"
      },
      "source": [
        "!ls "
      ],
      "execution_count": 77,
      "outputs": [
        {
          "output_type": "stream",
          "text": [
            "'{'\t\t\t  'logs\\cnn_1layer'\t    train-images-idx3-ubyte\n",
            " fashion-mnist_test.csv    sample_data\t\t    train-labels-idx1-ubyte\n",
            " fashion-mnist_train.csv   t10k-images-idx3-ubyte\n",
            " logs\t\t\t   t10k-labels-idx1-ubyte\n"
          ],
          "name": "stdout"
        }
      ]
    },
    {
      "cell_type": "code",
      "metadata": {
        "id": "tm7HdOaZfQO6",
        "colab_type": "code",
        "colab": {}
      },
      "source": [
        "embedding_var = tf.Variable(pro_x_test, name='fmnist_embedding')\n",
        "\n",
        "config = projector.ProjectorConfig()\n",
        "embedding = config.embeddings.add()\n",
        "embedding.tensor_name = embedding_var.name\n",
        "\n",
        "embedding.metadata_path = os.path.join(pro_logdir, 'metadata.tsv')\n",
        "embedding.sprite.image_path = os.path.join(pro_logdir, 'sprite.png')\n",
        "embedding.sprite.single_image_dim.extend([28, 28])\n",
        "\n",
        "projector.visualize_embeddings(pro_logdir, config)\n"
      ],
      "execution_count": 0,
      "outputs": []
    },
    {
      "cell_type": "code",
      "metadata": {
        "id": "pmN8-vn9gTP2",
        "colab_type": "code",
        "colab": {
          "base_uri": "https://localhost:8080/",
          "height": 34
        },
        "outputId": "56eede24-39cd-4576-bf17-d64f663b227c"
      },
      "source": [
        "embedding"
      ],
      "execution_count": 24,
      "outputs": [
        {
          "output_type": "execute_result",
          "data": {
            "text/plain": [
              "tensor_name: \"fmnist_embedding:0\""
            ]
          },
          "metadata": {
            "tags": []
          },
          "execution_count": 24
        }
      ]
    },
    {
      "cell_type": "code",
      "metadata": {
        "id": "iHGyqIwFihKF",
        "colab_type": "code",
        "colab": {}
      },
      "source": [
        "# # run the sesion to create the model check point\n",
        "\n",
        "# g_1 = tf.Graph()\n",
        "# with g_1.as_default():\n",
        "#   with tf.compat.v1.Session(g_1) as sesh:\n",
        "#       sesh.run(tf.compat.v1.global_variables_initializer())\n",
        "#       saver = tf.compat.v1.train.Saver([sesh, os.path.join(pro_logdir, 'model.ckpt')])\n",
        "#       # saver.save()"
      ],
      "execution_count": 0,
      "outputs": []
    },
    {
      "cell_type": "code",
      "metadata": {
        "id": "ljzVawMLZFG-",
        "colab_type": "code",
        "colab": {
          "base_uri": "https://localhost:8080/",
          "height": 269
        },
        "outputId": "65606c82-c365-439d-e635-121e0a424efc"
      },
      "source": [
        "# create the sprite image and the metadata file\n",
        "\n",
        "rows = 28\n",
        "cols = 28\n",
        "\n",
        "label = ['t_shirt', 'trouser', 'pullover', 'dress', 'coat',\n",
        "          'sandal', 'shirt', 'sneaker', 'bag', 'ankle_boot']\n",
        "\n",
        "sprite_dim = int(np.sqrt(pro_x_test.shape[0]))\n",
        "\n",
        "sprite_image = np.ones((cols * sprite_dim, rows * sprite_dim))\n",
        "\n",
        "index = 0\n",
        "labels = []\n",
        "for i in range(sprite_dim):\n",
        "    for j in range(sprite_dim):\n",
        "        \n",
        "        labels.append(label[int(pro_y_test[index])])\n",
        "        \n",
        "        sprite_image[\n",
        "            i * cols: (i + 1) * cols,\n",
        "            j * rows: (j + 1) * rows\n",
        "        ] = pro_x_test[index].reshape(28, 28) * -1 + 1\n",
        "        \n",
        "        index += 1\n",
        "        \n",
        "with open(embedding.metadata_path, 'w') as meta:\n",
        "    meta.write('Index\\tLabel\\n')\n",
        "    for index, label in enumerate(labels):\n",
        "        meta.write('{}\\t{}\\n'.format(index, label))\n",
        "        \n",
        "plt.imsave(embedding.sprite.image_path, sprite_image, cmap='gray')\n",
        "plt.imshow(sprite_image, cmap='gray')\n",
        "plt.show()"
      ],
      "execution_count": 55,
      "outputs": [
        {
          "output_type": "display_data",
          "data": {
            "image/png": "[encoded data removed]",
            "text/plain": [
              "<Figure size 432x288 with 1 Axes>"
            ]
          },
          "metadata": {
            "tags": []
          }
        }
      ]
    },
    {
      "cell_type": "code",
      "metadata": {
        "id": "RenX4ZDjlWjI",
        "colab_type": "code",
        "colab": {
          "base_uri": "https://localhost:8080/",
          "height": 34
        },
        "outputId": "bead66ac-6ac2-4598-9fb0-f70ecac52cac"
      },
      "source": [
        "!ls 'logs'"
      ],
      "execution_count": 62,
      "outputs": [
        {
          "output_type": "stream",
          "text": [
            "metadata.tsv  projector_config.pbtxt  sprite.png\n"
          ],
          "name": "stdout"
        }
      ]
    },
    {
      "cell_type": "code",
      "metadata": {
        "id": "bdUq1h0mE6YZ",
        "colab_type": "code",
        "colab": {}
      },
      "source": [
        "%tensorboard --logdir '/content/logs'"
      ],
      "execution_count": 0,
      "outputs": []
    },
    {
      "cell_type": "code",
      "metadata": {
        "id": "jjdXDu91lnvD",
        "colab_type": "code",
        "colab": {}
      },
      "source": [
        "# import tensorflow as tf\n",
        "# tf.reset_default_graph()"
      ],
      "execution_count": 0,
      "outputs": []
    },
    {
      "cell_type": "code",
      "metadata": {
        "id": "EDAeIAy_loIj",
        "colab_type": "code",
        "colab": {}
      },
      "source": [
        ""
      ],
      "execution_count": 0,
      "outputs": []
    }
  ]
}
